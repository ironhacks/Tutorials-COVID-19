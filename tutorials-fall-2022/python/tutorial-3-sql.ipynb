{
 "cells": [
  {
   "cell_type": "markdown",
   "metadata": {},
   "source": [
    "<h1 style = \"text-align: center\"> SQL Tutorial </h1>"
   ]
  },
  {
   "cell_type": "markdown",
   "metadata": {},
   "source": [
    "In this tutorial, we'll learn how to leverage SQL to query the data that we need from Big Query. It will introduce to the following basic sql commands: \n",
    "\n",
    "1. SELECT FROM\n",
    "2. WHERE\n",
    "3. GROUP BY and JOIN\n",
    "\n",
    "You will be working with two different tables in the project `ironhacks-data`: `ironhacks-data.ironhacks_training.weather_data` and `ironhacks-data.ironhacks_training.covid19_cases`\n",
    "\n",
    "You can find out more about the schema in those tables [here](https://docs.google.com/spreadsheets/d/1IowaQ8bDQA7xvc92TzpJ252KsHPDL6zbi2mdXNr3irs/edit?usp=drive_web&ouid=111649936971597408311). Indeed, it is important that you make yourself familiar with this schema before you start with this tutorial.\n",
    "\n",
    "In this tutorial we will use two different libaries. Namely, the `bigquery` library, and the `pandas` library. The later will be used to display the tables as a dataframe. \n"
   ]
  },
  {
   "cell_type": "markdown",
   "metadata": {},
   "source": [
    "## Step 1: Setting up the connection\n",
    "As a first step you have to set up your connection (see tutorial #2)"
   ]
  },
  {
   "cell_type": "code",
   "execution_count": 9,
   "metadata": {},
   "outputs": [],
   "source": [
    "import os\n",
    "import pandas\n",
    "from google.cloud import bigquery\n",
    "from google.oauth2 import service_account\n",
    "from google.cloud.bigquery import magics"
   ]
  },
  {
   "cell_type": "code",
   "execution_count": 10,
   "metadata": {},
   "outputs": [],
   "source": [
    "BIGQUERY_PROJECT = 'ironhacks-data'\n",
    "\n",
    "bigquery_client = bigquery.Client(project=BIGQUERY_PROJECT)"
   ]
  },
  {
   "cell_type": "markdown",
   "metadata": {},
   "source": [
    "## Step 2: `SELECT FROM` command\n",
    "Now, we will use the SELECT FROM command to query the table with the weather data in our training dataset. \n"
   ]
  },
  {
   "cell_type": "code",
   "execution_count": 11,
   "metadata": {},
   "outputs": [
    {
     "data": {
      "text/html": [
       "<div>\n",
       "<style scoped>\n",
       "    .dataframe tbody tr th:only-of-type {\n",
       "        vertical-align: middle;\n",
       "    }\n",
       "\n",
       "    .dataframe tbody tr th {\n",
       "        vertical-align: top;\n",
       "    }\n",
       "\n",
       "    .dataframe thead th {\n",
       "        text-align: right;\n",
       "    }\n",
       "</style>\n",
       "<table border=\"1\" class=\"dataframe\">\n",
       "  <thead>\n",
       "    <tr style=\"text-align: right;\">\n",
       "      <th></th>\n",
       "      <th>date</th>\n",
       "      <th>max_rel_humidity</th>\n",
       "      <th>max_temperature</th>\n",
       "      <th>mean_temperature</th>\n",
       "      <th>min_rel_humidity</th>\n",
       "      <th>min_temperature</th>\n",
       "      <th>potential_water_deficit</th>\n",
       "      <th>precipitation_data</th>\n",
       "      <th>wind_speed</th>\n",
       "    </tr>\n",
       "  </thead>\n",
       "  <tbody>\n",
       "    <tr>\n",
       "      <th>0</th>\n",
       "      <td>2019-10-12</td>\n",
       "      <td>69.2646</td>\n",
       "      <td>13.5804</td>\n",
       "      <td>7.6987</td>\n",
       "      <td>28.2524</td>\n",
       "      <td>1.8170</td>\n",
       "      <td>-3.0055</td>\n",
       "      <td>0.0</td>\n",
       "      <td>5.1240</td>\n",
       "    </tr>\n",
       "    <tr>\n",
       "      <th>1</th>\n",
       "      <td>2019-12-22</td>\n",
       "      <td>93.9565</td>\n",
       "      <td>11.8324</td>\n",
       "      <td>4.6358</td>\n",
       "      <td>34.5712</td>\n",
       "      <td>-2.5607</td>\n",
       "      <td>-1.2796</td>\n",
       "      <td>0.0</td>\n",
       "      <td>2.8557</td>\n",
       "    </tr>\n",
       "    <tr>\n",
       "      <th>2</th>\n",
       "      <td>2019-08-24</td>\n",
       "      <td>91.3571</td>\n",
       "      <td>24.6652</td>\n",
       "      <td>18.6607</td>\n",
       "      <td>44.4712</td>\n",
       "      <td>12.6562</td>\n",
       "      <td>-4.7381</td>\n",
       "      <td>0.0</td>\n",
       "      <td>4.4706</td>\n",
       "    </tr>\n",
       "    <tr>\n",
       "      <th>3</th>\n",
       "      <td>2020-07-14</td>\n",
       "      <td>90.5395</td>\n",
       "      <td>29.7732</td>\n",
       "      <td>23.1580</td>\n",
       "      <td>43.2159</td>\n",
       "      <td>16.5427</td>\n",
       "      <td>-5.8112</td>\n",
       "      <td>0.0</td>\n",
       "      <td>2.3504</td>\n",
       "    </tr>\n",
       "    <tr>\n",
       "      <th>4</th>\n",
       "      <td>2019-12-07</td>\n",
       "      <td>98.1103</td>\n",
       "      <td>6.4609</td>\n",
       "      <td>0.5011</td>\n",
       "      <td>42.7690</td>\n",
       "      <td>-5.4587</td>\n",
       "      <td>-0.9686</td>\n",
       "      <td>0.0</td>\n",
       "      <td>3.2087</td>\n",
       "    </tr>\n",
       "  </tbody>\n",
       "</table>\n",
       "</div>"
      ],
      "text/plain": [
       "         date  max_rel_humidity  max_temperature  mean_temperature  \\\n",
       "0  2019-10-12           69.2646          13.5804            7.6987   \n",
       "1  2019-12-22           93.9565          11.8324            4.6358   \n",
       "2  2019-08-24           91.3571          24.6652           18.6607   \n",
       "3  2020-07-14           90.5395          29.7732           23.1580   \n",
       "4  2019-12-07           98.1103           6.4609            0.5011   \n",
       "\n",
       "   min_rel_humidity  min_temperature  potential_water_deficit  \\\n",
       "0           28.2524           1.8170                  -3.0055   \n",
       "1           34.5712          -2.5607                  -1.2796   \n",
       "2           44.4712          12.6562                  -4.7381   \n",
       "3           43.2159          16.5427                  -5.8112   \n",
       "4           42.7690          -5.4587                  -0.9686   \n",
       "\n",
       "   precipitation_data  wind_speed  \n",
       "0                 0.0      5.1240  \n",
       "1                 0.0      2.8557  \n",
       "2                 0.0      4.4706  \n",
       "3                 0.0      2.3504  \n",
       "4                 0.0      3.2087  "
      ]
     },
     "execution_count": 11,
     "metadata": {},
     "output_type": "execute_result"
    }
   ],
   "source": [
    "query = \"\"\"\n",
    "SELECT * FROM `ironhacks-data.ironhacks_training.weather_data`\n",
    "\"\"\"\n",
    "\n",
    "query_job = bigquery_client.query(query)\n",
    "data = query_job.to_dataframe()\n",
    "data.head()"
   ]
  },
  {
   "cell_type": "markdown",
   "metadata": {},
   "source": [
    "## Step 3: `WHERE` COMMAND\n",
    "Next, we wish to extract the date and relative humidity from the table when the date is 2020-06-16. \n",
    "This is where are using the WHERE command. \n",
    "We combine this with a pandas sytax to display the results (the first few lines of the table). "
   ]
  },
  {
   "cell_type": "code",
   "execution_count": 12,
   "metadata": {},
   "outputs": [
    {
     "name": "stdout",
     "output_type": "stream",
     "text": [
      "Requirement already satisfied: pandas in /opt/conda/lib/python3.7/site-packages (1.0.5)\n",
      "Requirement already satisfied: numpy>=1.13.3 in /opt/conda/lib/python3.7/site-packages (from pandas) (1.18.5)\n",
      "Requirement already satisfied: python-dateutil>=2.6.1 in /opt/conda/lib/python3.7/site-packages (from pandas) (2.8.1)\n",
      "Requirement already satisfied: pytz>=2017.2 in /opt/conda/lib/python3.7/site-packages (from pandas) (2020.1)\n",
      "Requirement already satisfied: six>=1.5 in /opt/conda/lib/python3.7/site-packages (from python-dateutil>=2.6.1->pandas) (1.15.0)\n"
     ]
    },
    {
     "data": {
      "text/html": [
       "<div>\n",
       "<style scoped>\n",
       "    .dataframe tbody tr th:only-of-type {\n",
       "        vertical-align: middle;\n",
       "    }\n",
       "\n",
       "    .dataframe tbody tr th {\n",
       "        vertical-align: top;\n",
       "    }\n",
       "\n",
       "    .dataframe thead th {\n",
       "        text-align: right;\n",
       "    }\n",
       "</style>\n",
       "<table border=\"1\" class=\"dataframe\">\n",
       "  <thead>\n",
       "    <tr style=\"text-align: right;\">\n",
       "      <th></th>\n",
       "      <th>date</th>\n",
       "      <th>max_rel_humidity</th>\n",
       "    </tr>\n",
       "  </thead>\n",
       "  <tbody>\n",
       "    <tr>\n",
       "      <th>0</th>\n",
       "      <td>2020-06-16</td>\n",
       "      <td>82.2795</td>\n",
       "    </tr>\n",
       "  </tbody>\n",
       "</table>\n",
       "</div>"
      ],
      "text/plain": [
       "         date  max_rel_humidity\n",
       "0  2020-06-16           82.2795"
      ]
     },
     "execution_count": 12,
     "metadata": {},
     "output_type": "execute_result"
    }
   ],
   "source": [
    "query = \"\"\"\n",
    "\n",
    "SELECT date, max_rel_humidity\n",
    "FROM ironhacks-data.ironhacks_training.weather_data\n",
    "WHERE date='2020-06-16'\n",
    "\n",
    "\n",
    "\n",
    "\n",
    "\"\"\"\n",
    "\n",
    "query_job = bigquery_client.query(query)\n",
    "!python3 -m pip install pandas\n",
    "import pandas\n",
    "data = query_job.to_dataframe()\n",
    "data.head()"
   ]
  },
  {
   "cell_type": "markdown",
   "metadata": {},
   "source": [
    "##  STEP 3: `GROUP BY` and `JOIN` command. \n",
    "\n",
    "Now, you want to build a single table that contains information about COVID19 cases and also weather information! This information is in two different tables namely `ironhacks-data.ironhacks_training.weather_data` and `ironhacks-data.ironhacks_training.covid19_cases`! Specifically, you want to build a table with the following parameters. `mean_temperature`, `wind_speed`, and `cases`.  \n",
    "\n",
    "To do so, we have to first bring the data to the same level of granularity. So the steps are: \n",
    "\n",
    "1. Aggregagate the `weather_data` so that you are reporting weekly using the `GROUP BY` command. \n",
    "2. Join the newly created temporary table with the `covid19_cases` using the `join` command.\n",
    "3. ordering the results by week_number using the `order by` command. \n",
    "3. Displaying the results with pandas. "
   ]
  },
  {
   "cell_type": "code",
   "execution_count": 13,
   "metadata": {},
   "outputs": [
    {
     "name": "stdout",
     "output_type": "stream",
     "text": [
      "Requirement already satisfied: pandas in /opt/conda/lib/python3.7/site-packages (1.0.5)\n",
      "Requirement already satisfied: numpy>=1.13.3 in /opt/conda/lib/python3.7/site-packages (from pandas) (1.18.5)\n",
      "Requirement already satisfied: python-dateutil>=2.6.1 in /opt/conda/lib/python3.7/site-packages (from pandas) (2.8.1)\n",
      "Requirement already satisfied: pytz>=2017.2 in /opt/conda/lib/python3.7/site-packages (from pandas) (2020.1)\n",
      "Requirement already satisfied: six>=1.5 in /opt/conda/lib/python3.7/site-packages (from python-dateutil>=2.6.1->pandas) (1.15.0)\n"
     ]
    },
    {
     "data": {
      "text/html": [
       "<div>\n",
       "<style scoped>\n",
       "    .dataframe tbody tr th:only-of-type {\n",
       "        vertical-align: middle;\n",
       "    }\n",
       "\n",
       "    .dataframe tbody tr th {\n",
       "        vertical-align: top;\n",
       "    }\n",
       "\n",
       "    .dataframe thead th {\n",
       "        text-align: right;\n",
       "    }\n",
       "</style>\n",
       "<table border=\"1\" class=\"dataframe\">\n",
       "  <thead>\n",
       "    <tr style=\"text-align: right;\">\n",
       "      <th></th>\n",
       "      <th>week_number</th>\n",
       "      <th>mean_temperature_week</th>\n",
       "      <th>start_date</th>\n",
       "      <th>mean_wind_speed_week</th>\n",
       "      <th>cases</th>\n",
       "    </tr>\n",
       "  </thead>\n",
       "  <tbody>\n",
       "    <tr>\n",
       "      <th>0</th>\n",
       "      <td>1</td>\n",
       "      <td>8.5567</td>\n",
       "      <td>2020-01-06</td>\n",
       "      <td>2.8754</td>\n",
       "      <td>5289</td>\n",
       "    </tr>\n",
       "    <tr>\n",
       "      <th>1</th>\n",
       "      <td>1</td>\n",
       "      <td>13.4670</td>\n",
       "      <td>2020-01-07</td>\n",
       "      <td>4.0858</td>\n",
       "      <td>5289</td>\n",
       "    </tr>\n",
       "    <tr>\n",
       "      <th>2</th>\n",
       "      <td>1</td>\n",
       "      <td>8.4360</td>\n",
       "      <td>2020-01-08</td>\n",
       "      <td>4.1800</td>\n",
       "      <td>5289</td>\n",
       "    </tr>\n",
       "    <tr>\n",
       "      <th>3</th>\n",
       "      <td>1</td>\n",
       "      <td>-1.1626</td>\n",
       "      <td>2020-01-09</td>\n",
       "      <td>7.8843</td>\n",
       "      <td>5289</td>\n",
       "    </tr>\n",
       "    <tr>\n",
       "      <th>4</th>\n",
       "      <td>1</td>\n",
       "      <td>1.2549</td>\n",
       "      <td>2020-01-11</td>\n",
       "      <td>7.3401</td>\n",
       "      <td>5289</td>\n",
       "    </tr>\n",
       "  </tbody>\n",
       "</table>\n",
       "</div>"
      ],
      "text/plain": [
       "   week_number  mean_temperature_week  start_date  mean_wind_speed_week  cases\n",
       "0            1                 8.5567  2020-01-06                2.8754   5289\n",
       "1            1                13.4670  2020-01-07                4.0858   5289\n",
       "2            1                 8.4360  2020-01-08                4.1800   5289\n",
       "3            1                -1.1626  2020-01-09                7.8843   5289\n",
       "4            1                 1.2549  2020-01-11                7.3401   5289"
      ]
     },
     "execution_count": 13,
     "metadata": {},
     "output_type": "execute_result"
    }
   ],
   "source": [
    "query = \"\"\"\n",
    "\n",
    "Select \n",
    "a.*,\n",
    "b.cases \n",
    "\n",
    "FROM \n",
    "\n",
    "(SELECT \n",
    "extract(week(Monday) from date) as week_number,\n",
    "AVG(mean_temperature) as mean_temperature_week,\n",
    "date as start_date,\n",
    "AVG(wind_speed) as mean_wind_speed_week\n",
    "FROM `ironhacks_training.weather_data`\n",
    "group by week_number,start_date) a\n",
    "\n",
    "JOIN `ironhacks-data.ironhacks_training.covid19_cases` b \n",
    "ON a.week_number=b.week_number\n",
    "order by week_number\n",
    "\n",
    "\n",
    "\n",
    "\"\"\"\n",
    "\n",
    "query_job = bigquery_client.query(query)\n",
    "!python3 -m pip install pandas\n",
    "import pandas\n",
    "data = query_job.to_dataframe()\n",
    "data.head()"
   ]
  },
  {
   "cell_type": "markdown",
   "metadata": {},
   "source": [
    "> We are at the end. This was a very simple introduction into SQL using the `bigquery` library. If you want a more advanced tutorial please let the IronHacks team know. "
   ]
  }
 ],
 "metadata": {
  "kernelspec": {
   "display_name": "Python 3.9.13 64-bit",
   "language": "python",
   "name": "python3"
  },
  "language_info": {
   "codemirror_mode": {
    "name": "ipython",
    "version": 3
   },
   "file_extension": ".py",
   "mimetype": "text/x-python",
   "name": "python",
   "nbconvert_exporter": "python",
   "pygments_lexer": "ipython3",
   "version": "3.9.13"
  },
  "vscode": {
   "interpreter": {
    "hash": "b0fa6594d8f4cbf19f97940f81e996739fb7646882a419484c72d19e05852a7e"
   }
  }
 },
 "nbformat": 4,
 "nbformat_minor": 4
}
