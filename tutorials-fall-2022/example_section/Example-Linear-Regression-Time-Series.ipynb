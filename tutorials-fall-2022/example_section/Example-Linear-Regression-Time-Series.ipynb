{
 "cells": [
  {
   "cell_type": "markdown",
   "id": "51cc5b6b",
   "metadata": {},
   "source": [
    "## Import all the necessary libraries"
   ]
  },
  {
   "cell_type": "code",
   "execution_count": 1,
   "id": "ddf160ef",
   "metadata": {},
   "outputs": [],
   "source": [
    "import csv\n",
    "import pandas as pd\n",
    "import numpy as np\n",
    "from google.cloud import bigquery\n",
    "from google.oauth2 import service_account\n",
    "from google.cloud.bigquery import magics\n",
    "import matplotlib.pyplot as plt  \n",
    "import seaborn as sns\n",
    "from sklearn.model_selection import train_test_split \n",
    "from sklearn.linear_model import LinearRegression\n",
    "from sklearn import metrics\n",
    "import statsmodels.api as sm \n",
    "from sklearn.preprocessing import FunctionTransformer\n",
    "import itertools    \n",
    "from sklearn.metrics import mean_absolute_percentage_error\n",
    "from sklearn.metrics import mean_squared_error"
   ]
  },
  {
   "cell_type": "markdown",
   "id": "8bf85408",
   "metadata": {},
   "source": [
    "## Load the keys to query the data. This step is omitted for Fall 2022 Hack "
   ]
  },
  {
   "cell_type": "code",
   "execution_count": 2,
   "id": "510188f7",
   "metadata": {},
   "outputs": [],
   "source": [
    "import os\n",
    "BIGQUERY_PROJECT = 'cloud-test-ironhacks'\n",
    "BIGQUERY_KEYPATH = 'cloud-test-ironhacks-c1010c49a602.json'\n",
    "\n",
    "os.environ['GOOGLE_APPLICATION_CREDENTIALS'] = BIGQUERY_KEYPATH\n",
    "bigquery_client = bigquery.Client(project=BIGQUERY_PROJECT)"
   ]
  },
  {
   "cell_type": "markdown",
   "id": "42d94887",
   "metadata": {},
   "source": [
    "## Query the data and see how they look like"
   ]
  },
  {
   "cell_type": "code",
   "execution_count": 3,
   "id": "9190e7d1",
   "metadata": {},
   "outputs": [
    {
     "data": {
      "text/html": [
       "<div>\n",
       "<style scoped>\n",
       "    .dataframe tbody tr th:only-of-type {\n",
       "        vertical-align: middle;\n",
       "    }\n",
       "\n",
       "    .dataframe tbody tr th {\n",
       "        vertical-align: top;\n",
       "    }\n",
       "\n",
       "    .dataframe thead th {\n",
       "        text-align: right;\n",
       "    }\n",
       "</style>\n",
       "<table border=\"1\" class=\"dataframe\">\n",
       "  <thead>\n",
       "    <tr style=\"text-align: right;\">\n",
       "      <th></th>\n",
       "      <th>uu_id</th>\n",
       "      <th>timeperiod</th>\n",
       "      <th>week_number</th>\n",
       "      <th>countyfips</th>\n",
       "      <th>tract</th>\n",
       "      <th>tract_name</th>\n",
       "      <th>total_claims</th>\n",
       "      <th>edu_8th_or_less</th>\n",
       "      <th>edu_grades_9_11</th>\n",
       "      <th>edu_hs_grad_equiv</th>\n",
       "      <th>...</th>\n",
       "      <th>gender_female</th>\n",
       "      <th>gender_male</th>\n",
       "      <th>gender_na</th>\n",
       "      <th>race_amerindian</th>\n",
       "      <th>race_asian</th>\n",
       "      <th>race_black</th>\n",
       "      <th>race_noanswer</th>\n",
       "      <th>race_hawaiiannative</th>\n",
       "      <th>race_other</th>\n",
       "      <th>race_white</th>\n",
       "    </tr>\n",
       "  </thead>\n",
       "  <tbody>\n",
       "    <tr>\n",
       "      <th>5</th>\n",
       "      <td>9bee42b55f891413ae7fac2d9d89280a</td>\n",
       "      <td>20220212</td>\n",
       "      <td>7</td>\n",
       "      <td>18003</td>\n",
       "      <td>100</td>\n",
       "      <td>Census Tract 1, Allen County, Indiana</td>\n",
       "      <td>10.0</td>\n",
       "      <td>0.0</td>\n",
       "      <td>0.0</td>\n",
       "      <td>NaN</td>\n",
       "      <td>...</td>\n",
       "      <td>NaN</td>\n",
       "      <td>NaN</td>\n",
       "      <td>0.0</td>\n",
       "      <td>0.0</td>\n",
       "      <td>0.0</td>\n",
       "      <td>NaN</td>\n",
       "      <td>0.0</td>\n",
       "      <td>0.0</td>\n",
       "      <td>0.0</td>\n",
       "      <td>NaN</td>\n",
       "    </tr>\n",
       "    <tr>\n",
       "      <th>7</th>\n",
       "      <td>9bee42b55f891413ae7fac2d9d89280a</td>\n",
       "      <td>20220226</td>\n",
       "      <td>9</td>\n",
       "      <td>18003</td>\n",
       "      <td>100</td>\n",
       "      <td>Census Tract 1, Allen County, Indiana</td>\n",
       "      <td>10.0</td>\n",
       "      <td>0.0</td>\n",
       "      <td>0.0</td>\n",
       "      <td>NaN</td>\n",
       "      <td>...</td>\n",
       "      <td>NaN</td>\n",
       "      <td>NaN</td>\n",
       "      <td>0.0</td>\n",
       "      <td>0.0</td>\n",
       "      <td>NaN</td>\n",
       "      <td>NaN</td>\n",
       "      <td>0.0</td>\n",
       "      <td>0.0</td>\n",
       "      <td>NaN</td>\n",
       "      <td>NaN</td>\n",
       "    </tr>\n",
       "    <tr>\n",
       "      <th>11</th>\n",
       "      <td>9bee42b55f891413ae7fac2d9d89280a</td>\n",
       "      <td>20220326</td>\n",
       "      <td>13</td>\n",
       "      <td>18003</td>\n",
       "      <td>100</td>\n",
       "      <td>Census Tract 1, Allen County, Indiana</td>\n",
       "      <td>13.0</td>\n",
       "      <td>0.0</td>\n",
       "      <td>NaN</td>\n",
       "      <td>NaN</td>\n",
       "      <td>...</td>\n",
       "      <td>0.0</td>\n",
       "      <td>13.0</td>\n",
       "      <td>0.0</td>\n",
       "      <td>0.0</td>\n",
       "      <td>0.0</td>\n",
       "      <td>0.0</td>\n",
       "      <td>0.0</td>\n",
       "      <td>0.0</td>\n",
       "      <td>0.0</td>\n",
       "      <td>13.0</td>\n",
       "    </tr>\n",
       "    <tr>\n",
       "      <th>14</th>\n",
       "      <td>9bee42b55f891413ae7fac2d9d89280a</td>\n",
       "      <td>20220416</td>\n",
       "      <td>16</td>\n",
       "      <td>18003</td>\n",
       "      <td>100</td>\n",
       "      <td>Census Tract 1, Allen County, Indiana</td>\n",
       "      <td>15.0</td>\n",
       "      <td>0.0</td>\n",
       "      <td>0.0</td>\n",
       "      <td>NaN</td>\n",
       "      <td>...</td>\n",
       "      <td>NaN</td>\n",
       "      <td>NaN</td>\n",
       "      <td>0.0</td>\n",
       "      <td>0.0</td>\n",
       "      <td>0.0</td>\n",
       "      <td>NaN</td>\n",
       "      <td>0.0</td>\n",
       "      <td>0.0</td>\n",
       "      <td>NaN</td>\n",
       "      <td>12.0</td>\n",
       "    </tr>\n",
       "    <tr>\n",
       "      <th>15</th>\n",
       "      <td>9bee42b55f891413ae7fac2d9d89280a</td>\n",
       "      <td>20220423</td>\n",
       "      <td>17</td>\n",
       "      <td>18003</td>\n",
       "      <td>100</td>\n",
       "      <td>Census Tract 1, Allen County, Indiana</td>\n",
       "      <td>23.0</td>\n",
       "      <td>0.0</td>\n",
       "      <td>0.0</td>\n",
       "      <td>NaN</td>\n",
       "      <td>...</td>\n",
       "      <td>NaN</td>\n",
       "      <td>NaN</td>\n",
       "      <td>0.0</td>\n",
       "      <td>0.0</td>\n",
       "      <td>0.0</td>\n",
       "      <td>NaN</td>\n",
       "      <td>0.0</td>\n",
       "      <td>0.0</td>\n",
       "      <td>NaN</td>\n",
       "      <td>20.0</td>\n",
       "    </tr>\n",
       "    <tr>\n",
       "      <th>...</th>\n",
       "      <td>...</td>\n",
       "      <td>...</td>\n",
       "      <td>...</td>\n",
       "      <td>...</td>\n",
       "      <td>...</td>\n",
       "      <td>...</td>\n",
       "      <td>...</td>\n",
       "      <td>...</td>\n",
       "      <td>...</td>\n",
       "      <td>...</td>\n",
       "      <td>...</td>\n",
       "      <td>...</td>\n",
       "      <td>...</td>\n",
       "      <td>...</td>\n",
       "      <td>...</td>\n",
       "      <td>...</td>\n",
       "      <td>...</td>\n",
       "      <td>...</td>\n",
       "      <td>...</td>\n",
       "      <td>...</td>\n",
       "      <td>...</td>\n",
       "    </tr>\n",
       "    <tr>\n",
       "      <th>72119</th>\n",
       "      <td>22804b1ddf209d3876385dd3ffa8392d</td>\n",
       "      <td>20220226</td>\n",
       "      <td>9</td>\n",
       "      <td>18065</td>\n",
       "      <td>976800</td>\n",
       "      <td>Census Tract 9768, Henry County, Indiana</td>\n",
       "      <td>13.0</td>\n",
       "      <td>NaN</td>\n",
       "      <td>0.0</td>\n",
       "      <td>NaN</td>\n",
       "      <td>...</td>\n",
       "      <td>NaN</td>\n",
       "      <td>NaN</td>\n",
       "      <td>0.0</td>\n",
       "      <td>0.0</td>\n",
       "      <td>0.0</td>\n",
       "      <td>0.0</td>\n",
       "      <td>0.0</td>\n",
       "      <td>0.0</td>\n",
       "      <td>0.0</td>\n",
       "      <td>13.0</td>\n",
       "    </tr>\n",
       "    <tr>\n",
       "      <th>72123</th>\n",
       "      <td>22804b1ddf209d3876385dd3ffa8392d</td>\n",
       "      <td>20220326</td>\n",
       "      <td>13</td>\n",
       "      <td>18065</td>\n",
       "      <td>976800</td>\n",
       "      <td>Census Tract 9768, Henry County, Indiana</td>\n",
       "      <td>11.0</td>\n",
       "      <td>NaN</td>\n",
       "      <td>NaN</td>\n",
       "      <td>NaN</td>\n",
       "      <td>...</td>\n",
       "      <td>NaN</td>\n",
       "      <td>NaN</td>\n",
       "      <td>0.0</td>\n",
       "      <td>0.0</td>\n",
       "      <td>0.0</td>\n",
       "      <td>0.0</td>\n",
       "      <td>0.0</td>\n",
       "      <td>0.0</td>\n",
       "      <td>0.0</td>\n",
       "      <td>11.0</td>\n",
       "    </tr>\n",
       "    <tr>\n",
       "      <th>72147</th>\n",
       "      <td>22804b1ddf209d3876385dd3ffa8392d</td>\n",
       "      <td>20220903</td>\n",
       "      <td>36</td>\n",
       "      <td>18065</td>\n",
       "      <td>976800</td>\n",
       "      <td>Census Tract 9768, Henry County, Indiana</td>\n",
       "      <td>29.0</td>\n",
       "      <td>0.0</td>\n",
       "      <td>0.0</td>\n",
       "      <td>NaN</td>\n",
       "      <td>...</td>\n",
       "      <td>NaN</td>\n",
       "      <td>NaN</td>\n",
       "      <td>0.0</td>\n",
       "      <td>0.0</td>\n",
       "      <td>0.0</td>\n",
       "      <td>0.0</td>\n",
       "      <td>0.0</td>\n",
       "      <td>0.0</td>\n",
       "      <td>0.0</td>\n",
       "      <td>29.0</td>\n",
       "    </tr>\n",
       "    <tr>\n",
       "      <th>72148</th>\n",
       "      <td>22804b1ddf209d3876385dd3ffa8392d</td>\n",
       "      <td>20220903</td>\n",
       "      <td>36</td>\n",
       "      <td>18065</td>\n",
       "      <td>976800</td>\n",
       "      <td>Census Tract 9768, Henry County, Indiana</td>\n",
       "      <td>29.0</td>\n",
       "      <td>0.0</td>\n",
       "      <td>0.0</td>\n",
       "      <td>NaN</td>\n",
       "      <td>...</td>\n",
       "      <td>NaN</td>\n",
       "      <td>NaN</td>\n",
       "      <td>0.0</td>\n",
       "      <td>0.0</td>\n",
       "      <td>0.0</td>\n",
       "      <td>0.0</td>\n",
       "      <td>0.0</td>\n",
       "      <td>0.0</td>\n",
       "      <td>0.0</td>\n",
       "      <td>29.0</td>\n",
       "    </tr>\n",
       "    <tr>\n",
       "      <th>72158</th>\n",
       "      <td>a3e1bd7fcc477f6239399ee6bcab1006</td>\n",
       "      <td>20220108</td>\n",
       "      <td>2</td>\n",
       "      <td>18003</td>\n",
       "      <td>980002</td>\n",
       "      <td>Census Tract 9800.02, Allen County, Indiana</td>\n",
       "      <td>13.0</td>\n",
       "      <td>0.0</td>\n",
       "      <td>0.0</td>\n",
       "      <td>13.0</td>\n",
       "      <td>...</td>\n",
       "      <td>0.0</td>\n",
       "      <td>13.0</td>\n",
       "      <td>0.0</td>\n",
       "      <td>0.0</td>\n",
       "      <td>0.0</td>\n",
       "      <td>0.0</td>\n",
       "      <td>0.0</td>\n",
       "      <td>0.0</td>\n",
       "      <td>0.0</td>\n",
       "      <td>13.0</td>\n",
       "    </tr>\n",
       "  </tbody>\n",
       "</table>\n",
       "<p>34228 rows × 25 columns</p>\n",
       "</div>"
      ],
      "text/plain": [
       "                                  uu_id  timeperiod  week_number  countyfips  \\\n",
       "5      9bee42b55f891413ae7fac2d9d89280a    20220212            7       18003   \n",
       "7      9bee42b55f891413ae7fac2d9d89280a    20220226            9       18003   \n",
       "11     9bee42b55f891413ae7fac2d9d89280a    20220326           13       18003   \n",
       "14     9bee42b55f891413ae7fac2d9d89280a    20220416           16       18003   \n",
       "15     9bee42b55f891413ae7fac2d9d89280a    20220423           17       18003   \n",
       "...                                 ...         ...          ...         ...   \n",
       "72119  22804b1ddf209d3876385dd3ffa8392d    20220226            9       18065   \n",
       "72123  22804b1ddf209d3876385dd3ffa8392d    20220326           13       18065   \n",
       "72147  22804b1ddf209d3876385dd3ffa8392d    20220903           36       18065   \n",
       "72148  22804b1ddf209d3876385dd3ffa8392d    20220903           36       18065   \n",
       "72158  a3e1bd7fcc477f6239399ee6bcab1006    20220108            2       18003   \n",
       "\n",
       "        tract                                   tract_name  total_claims  \\\n",
       "5         100        Census Tract 1, Allen County, Indiana          10.0   \n",
       "7         100        Census Tract 1, Allen County, Indiana          10.0   \n",
       "11        100        Census Tract 1, Allen County, Indiana          13.0   \n",
       "14        100        Census Tract 1, Allen County, Indiana          15.0   \n",
       "15        100        Census Tract 1, Allen County, Indiana          23.0   \n",
       "...       ...                                          ...           ...   \n",
       "72119  976800     Census Tract 9768, Henry County, Indiana          13.0   \n",
       "72123  976800     Census Tract 9768, Henry County, Indiana          11.0   \n",
       "72147  976800     Census Tract 9768, Henry County, Indiana          29.0   \n",
       "72148  976800     Census Tract 9768, Henry County, Indiana          29.0   \n",
       "72158  980002  Census Tract 9800.02, Allen County, Indiana          13.0   \n",
       "\n",
       "       edu_8th_or_less  edu_grades_9_11  edu_hs_grad_equiv  ...  \\\n",
       "5                  0.0              0.0                NaN  ...   \n",
       "7                  0.0              0.0                NaN  ...   \n",
       "11                 0.0              NaN                NaN  ...   \n",
       "14                 0.0              0.0                NaN  ...   \n",
       "15                 0.0              0.0                NaN  ...   \n",
       "...                ...              ...                ...  ...   \n",
       "72119              NaN              0.0                NaN  ...   \n",
       "72123              NaN              NaN                NaN  ...   \n",
       "72147              0.0              0.0                NaN  ...   \n",
       "72148              0.0              0.0                NaN  ...   \n",
       "72158              0.0              0.0               13.0  ...   \n",
       "\n",
       "       gender_female  gender_male gender_na race_amerindian race_asian  \\\n",
       "5                NaN          NaN       0.0             0.0        0.0   \n",
       "7                NaN          NaN       0.0             0.0        NaN   \n",
       "11               0.0         13.0       0.0             0.0        0.0   \n",
       "14               NaN          NaN       0.0             0.0        0.0   \n",
       "15               NaN          NaN       0.0             0.0        0.0   \n",
       "...              ...          ...       ...             ...        ...   \n",
       "72119            NaN          NaN       0.0             0.0        0.0   \n",
       "72123            NaN          NaN       0.0             0.0        0.0   \n",
       "72147            NaN          NaN       0.0             0.0        0.0   \n",
       "72148            NaN          NaN       0.0             0.0        0.0   \n",
       "72158            0.0         13.0       0.0             0.0        0.0   \n",
       "\n",
       "       race_black  race_noanswer  race_hawaiiannative  race_other  race_white  \n",
       "5             NaN            0.0                  0.0         0.0         NaN  \n",
       "7             NaN            0.0                  0.0         NaN         NaN  \n",
       "11            0.0            0.0                  0.0         0.0        13.0  \n",
       "14            NaN            0.0                  0.0         NaN        12.0  \n",
       "15            NaN            0.0                  0.0         NaN        20.0  \n",
       "...           ...            ...                  ...         ...         ...  \n",
       "72119         0.0            0.0                  0.0         0.0        13.0  \n",
       "72123         0.0            0.0                  0.0         0.0        11.0  \n",
       "72147         0.0            0.0                  0.0         0.0        29.0  \n",
       "72148         0.0            0.0                  0.0         0.0        29.0  \n",
       "72158         0.0            0.0                  0.0         0.0        13.0  \n",
       "\n",
       "[34228 rows x 25 columns]"
      ]
     },
     "execution_count": 3,
     "metadata": {},
     "output_type": "execute_result"
    }
   ],
   "source": [
    "query = \"\"\"\n",
    "SELECT * FROM `cloud-test-ironhacks.dwd_data.suppression_remove`\n",
    "\n",
    "\"\"\"\n",
    "\n",
    "query_job = bigquery_client.query(query)\n",
    "data = query_job.to_dataframe()\n",
    "data = data[data['uu_id'].notnull() & data['total_claims'].notnull()]\n",
    "data "
   ]
  },
  {
   "cell_type": "code",
   "execution_count": 4,
   "id": "b76e3001",
   "metadata": {},
   "outputs": [
    {
     "data": {
      "text/html": [
       "<div>\n",
       "<style scoped>\n",
       "    .dataframe tbody tr th:only-of-type {\n",
       "        vertical-align: middle;\n",
       "    }\n",
       "\n",
       "    .dataframe tbody tr th {\n",
       "        vertical-align: top;\n",
       "    }\n",
       "\n",
       "    .dataframe thead th {\n",
       "        text-align: right;\n",
       "    }\n",
       "</style>\n",
       "<table border=\"1\" class=\"dataframe\">\n",
       "  <thead>\n",
       "    <tr style=\"text-align: right;\">\n",
       "      <th></th>\n",
       "      <th>uu_id</th>\n",
       "      <th>timeperiod</th>\n",
       "      <th>week_number</th>\n",
       "      <th>countyfips</th>\n",
       "      <th>tract</th>\n",
       "      <th>tract_name</th>\n",
       "      <th>total_claims</th>\n",
       "      <th>edu_8th_or_less</th>\n",
       "      <th>edu_grades_9_11</th>\n",
       "      <th>edu_hs_grad_equiv</th>\n",
       "      <th>...</th>\n",
       "      <th>gender_female</th>\n",
       "      <th>gender_male</th>\n",
       "      <th>gender_na</th>\n",
       "      <th>race_amerindian</th>\n",
       "      <th>race_asian</th>\n",
       "      <th>race_black</th>\n",
       "      <th>race_noanswer</th>\n",
       "      <th>race_hawaiiannative</th>\n",
       "      <th>race_other</th>\n",
       "      <th>race_white</th>\n",
       "    </tr>\n",
       "  </thead>\n",
       "  <tbody>\n",
       "    <tr>\n",
       "      <th>39313</th>\n",
       "      <td>6239669cbfe444abd0a46536a670d150</td>\n",
       "      <td>20220101</td>\n",
       "      <td>1</td>\n",
       "      <td>18039</td>\n",
       "      <td>400</td>\n",
       "      <td>Census Tract 4, Elkhart County, Indiana</td>\n",
       "      <td>16.0</td>\n",
       "      <td>0.0</td>\n",
       "      <td>NaN</td>\n",
       "      <td>NaN</td>\n",
       "      <td>...</td>\n",
       "      <td>NaN</td>\n",
       "      <td>NaN</td>\n",
       "      <td>0.0</td>\n",
       "      <td>0.0</td>\n",
       "      <td>NaN</td>\n",
       "      <td>0.0</td>\n",
       "      <td>0.0</td>\n",
       "      <td>0.0</td>\n",
       "      <td>NaN</td>\n",
       "      <td>13.0</td>\n",
       "    </tr>\n",
       "    <tr>\n",
       "      <th>34963</th>\n",
       "      <td>57bc30b16bd1a7875fc59a57c0363cd3</td>\n",
       "      <td>20220101</td>\n",
       "      <td>1</td>\n",
       "      <td>18097</td>\n",
       "      <td>356400</td>\n",
       "      <td>Census Tract 3564, Marion County, Indiana</td>\n",
       "      <td>11.0</td>\n",
       "      <td>NaN</td>\n",
       "      <td>NaN</td>\n",
       "      <td>NaN</td>\n",
       "      <td>...</td>\n",
       "      <td>NaN</td>\n",
       "      <td>NaN</td>\n",
       "      <td>0.0</td>\n",
       "      <td>0.0</td>\n",
       "      <td>0.0</td>\n",
       "      <td>NaN</td>\n",
       "      <td>0.0</td>\n",
       "      <td>0.0</td>\n",
       "      <td>NaN</td>\n",
       "      <td>NaN</td>\n",
       "    </tr>\n",
       "    <tr>\n",
       "      <th>34819</th>\n",
       "      <td>8cb479dc5fba577ea3013a189045ff7b</td>\n",
       "      <td>20220101</td>\n",
       "      <td>1</td>\n",
       "      <td>18097</td>\n",
       "      <td>355700</td>\n",
       "      <td>Census Tract 3557, Marion County, Indiana</td>\n",
       "      <td>16.0</td>\n",
       "      <td>0.0</td>\n",
       "      <td>NaN</td>\n",
       "      <td>12.0</td>\n",
       "      <td>...</td>\n",
       "      <td>NaN</td>\n",
       "      <td>NaN</td>\n",
       "      <td>0.0</td>\n",
       "      <td>0.0</td>\n",
       "      <td>0.0</td>\n",
       "      <td>NaN</td>\n",
       "      <td>NaN</td>\n",
       "      <td>0.0</td>\n",
       "      <td>NaN</td>\n",
       "      <td>NaN</td>\n",
       "    </tr>\n",
       "    <tr>\n",
       "      <th>7974</th>\n",
       "      <td>601ff2c0fd709298f6644ad0e766b2d6</td>\n",
       "      <td>20220101</td>\n",
       "      <td>1</td>\n",
       "      <td>18141</td>\n",
       "      <td>1100</td>\n",
       "      <td>Census Tract 11, St. Joseph County, Indiana</td>\n",
       "      <td>13.0</td>\n",
       "      <td>0.0</td>\n",
       "      <td>NaN</td>\n",
       "      <td>NaN</td>\n",
       "      <td>...</td>\n",
       "      <td>NaN</td>\n",
       "      <td>NaN</td>\n",
       "      <td>0.0</td>\n",
       "      <td>0.0</td>\n",
       "      <td>0.0</td>\n",
       "      <td>NaN</td>\n",
       "      <td>NaN</td>\n",
       "      <td>0.0</td>\n",
       "      <td>NaN</td>\n",
       "      <td>NaN</td>\n",
       "    </tr>\n",
       "    <tr>\n",
       "      <th>34770</th>\n",
       "      <td>4fe5a3188b15f262431ed884f3619d8b</td>\n",
       "      <td>20220101</td>\n",
       "      <td>1</td>\n",
       "      <td>18097</td>\n",
       "      <td>355600</td>\n",
       "      <td>Census Tract 3556, Marion County, Indiana</td>\n",
       "      <td>19.0</td>\n",
       "      <td>NaN</td>\n",
       "      <td>NaN</td>\n",
       "      <td>10.0</td>\n",
       "      <td>...</td>\n",
       "      <td>NaN</td>\n",
       "      <td>NaN</td>\n",
       "      <td>0.0</td>\n",
       "      <td>0.0</td>\n",
       "      <td>0.0</td>\n",
       "      <td>NaN</td>\n",
       "      <td>NaN</td>\n",
       "      <td>0.0</td>\n",
       "      <td>0.0</td>\n",
       "      <td>12.0</td>\n",
       "    </tr>\n",
       "    <tr>\n",
       "      <th>...</th>\n",
       "      <td>...</td>\n",
       "      <td>...</td>\n",
       "      <td>...</td>\n",
       "      <td>...</td>\n",
       "      <td>...</td>\n",
       "      <td>...</td>\n",
       "      <td>...</td>\n",
       "      <td>...</td>\n",
       "      <td>...</td>\n",
       "      <td>...</td>\n",
       "      <td>...</td>\n",
       "      <td>...</td>\n",
       "      <td>...</td>\n",
       "      <td>...</td>\n",
       "      <td>...</td>\n",
       "      <td>...</td>\n",
       "      <td>...</td>\n",
       "      <td>...</td>\n",
       "      <td>...</td>\n",
       "      <td>...</td>\n",
       "      <td>...</td>\n",
       "    </tr>\n",
       "    <tr>\n",
       "      <th>3008</th>\n",
       "      <td>bbcb018f0e5e49e13636f6e78ce9f60f</td>\n",
       "      <td>20221008</td>\n",
       "      <td>41</td>\n",
       "      <td>18163</td>\n",
       "      <td>10203</td>\n",
       "      <td>Census Tract 102.03, Vanderburgh County, Indiana</td>\n",
       "      <td>22.0</td>\n",
       "      <td>0.0</td>\n",
       "      <td>NaN</td>\n",
       "      <td>NaN</td>\n",
       "      <td>...</td>\n",
       "      <td>NaN</td>\n",
       "      <td>NaN</td>\n",
       "      <td>0.0</td>\n",
       "      <td>0.0</td>\n",
       "      <td>0.0</td>\n",
       "      <td>NaN</td>\n",
       "      <td>NaN</td>\n",
       "      <td>0.0</td>\n",
       "      <td>NaN</td>\n",
       "      <td>18.0</td>\n",
       "    </tr>\n",
       "    <tr>\n",
       "      <th>14637</th>\n",
       "      <td>e24fca963ee2f4a4593900385e64051c</td>\n",
       "      <td>20221008</td>\n",
       "      <td>41</td>\n",
       "      <td>18095</td>\n",
       "      <td>12000</td>\n",
       "      <td>Census Tract 120, Madison County, Indiana</td>\n",
       "      <td>11.0</td>\n",
       "      <td>0.0</td>\n",
       "      <td>NaN</td>\n",
       "      <td>NaN</td>\n",
       "      <td>...</td>\n",
       "      <td>NaN</td>\n",
       "      <td>NaN</td>\n",
       "      <td>0.0</td>\n",
       "      <td>0.0</td>\n",
       "      <td>0.0</td>\n",
       "      <td>NaN</td>\n",
       "      <td>0.0</td>\n",
       "      <td>0.0</td>\n",
       "      <td>NaN</td>\n",
       "      <td>NaN</td>\n",
       "    </tr>\n",
       "    <tr>\n",
       "      <th>54325</th>\n",
       "      <td>6e34d7b45dd1daecd65ac963cd344e2d</td>\n",
       "      <td>20221008</td>\n",
       "      <td>41</td>\n",
       "      <td>18145</td>\n",
       "      <td>710500</td>\n",
       "      <td>Census Tract 7105, Shelby County, Indiana</td>\n",
       "      <td>11.0</td>\n",
       "      <td>NaN</td>\n",
       "      <td>NaN</td>\n",
       "      <td>NaN</td>\n",
       "      <td>...</td>\n",
       "      <td>NaN</td>\n",
       "      <td>NaN</td>\n",
       "      <td>NaN</td>\n",
       "      <td>0.0</td>\n",
       "      <td>0.0</td>\n",
       "      <td>0.0</td>\n",
       "      <td>NaN</td>\n",
       "      <td>0.0</td>\n",
       "      <td>NaN</td>\n",
       "      <td>NaN</td>\n",
       "    </tr>\n",
       "    <tr>\n",
       "      <th>44100</th>\n",
       "      <td>9d137c34d4598e4f67aac16df77037e0</td>\n",
       "      <td>20221008</td>\n",
       "      <td>41</td>\n",
       "      <td>18089</td>\n",
       "      <td>42501</td>\n",
       "      <td>Census Tract 425.01, Lake County, Indiana</td>\n",
       "      <td>30.0</td>\n",
       "      <td>0.0</td>\n",
       "      <td>NaN</td>\n",
       "      <td>17.0</td>\n",
       "      <td>...</td>\n",
       "      <td>12.0</td>\n",
       "      <td>18.0</td>\n",
       "      <td>0.0</td>\n",
       "      <td>0.0</td>\n",
       "      <td>0.0</td>\n",
       "      <td>18.0</td>\n",
       "      <td>NaN</td>\n",
       "      <td>NaN</td>\n",
       "      <td>NaN</td>\n",
       "      <td>NaN</td>\n",
       "    </tr>\n",
       "    <tr>\n",
       "      <th>24772</th>\n",
       "      <td>25a57fe39e03c632125308737a7d3769</td>\n",
       "      <td>20221008</td>\n",
       "      <td>41</td>\n",
       "      <td>18067</td>\n",
       "      <td>300</td>\n",
       "      <td>Census Tract 3, Howard County, Indiana</td>\n",
       "      <td>13.0</td>\n",
       "      <td>0.0</td>\n",
       "      <td>NaN</td>\n",
       "      <td>NaN</td>\n",
       "      <td>...</td>\n",
       "      <td>NaN</td>\n",
       "      <td>NaN</td>\n",
       "      <td>0.0</td>\n",
       "      <td>0.0</td>\n",
       "      <td>0.0</td>\n",
       "      <td>0.0</td>\n",
       "      <td>0.0</td>\n",
       "      <td>0.0</td>\n",
       "      <td>0.0</td>\n",
       "      <td>13.0</td>\n",
       "    </tr>\n",
       "  </tbody>\n",
       "</table>\n",
       "<p>34228 rows × 25 columns</p>\n",
       "</div>"
      ],
      "text/plain": [
       "                                  uu_id  timeperiod  week_number  countyfips  \\\n",
       "39313  6239669cbfe444abd0a46536a670d150    20220101            1       18039   \n",
       "34963  57bc30b16bd1a7875fc59a57c0363cd3    20220101            1       18097   \n",
       "34819  8cb479dc5fba577ea3013a189045ff7b    20220101            1       18097   \n",
       "7974   601ff2c0fd709298f6644ad0e766b2d6    20220101            1       18141   \n",
       "34770  4fe5a3188b15f262431ed884f3619d8b    20220101            1       18097   \n",
       "...                                 ...         ...          ...         ...   \n",
       "3008   bbcb018f0e5e49e13636f6e78ce9f60f    20221008           41       18163   \n",
       "14637  e24fca963ee2f4a4593900385e64051c    20221008           41       18095   \n",
       "54325  6e34d7b45dd1daecd65ac963cd344e2d    20221008           41       18145   \n",
       "44100  9d137c34d4598e4f67aac16df77037e0    20221008           41       18089   \n",
       "24772  25a57fe39e03c632125308737a7d3769    20221008           41       18067   \n",
       "\n",
       "        tract                                        tract_name  total_claims  \\\n",
       "39313     400           Census Tract 4, Elkhart County, Indiana          16.0   \n",
       "34963  356400         Census Tract 3564, Marion County, Indiana          11.0   \n",
       "34819  355700         Census Tract 3557, Marion County, Indiana          16.0   \n",
       "7974     1100       Census Tract 11, St. Joseph County, Indiana          13.0   \n",
       "34770  355600         Census Tract 3556, Marion County, Indiana          19.0   \n",
       "...       ...                                               ...           ...   \n",
       "3008    10203  Census Tract 102.03, Vanderburgh County, Indiana          22.0   \n",
       "14637   12000         Census Tract 120, Madison County, Indiana          11.0   \n",
       "54325  710500         Census Tract 7105, Shelby County, Indiana          11.0   \n",
       "44100   42501         Census Tract 425.01, Lake County, Indiana          30.0   \n",
       "24772     300            Census Tract 3, Howard County, Indiana          13.0   \n",
       "\n",
       "       edu_8th_or_less  edu_grades_9_11  edu_hs_grad_equiv  ...  \\\n",
       "39313              0.0              NaN                NaN  ...   \n",
       "34963              NaN              NaN                NaN  ...   \n",
       "34819              0.0              NaN               12.0  ...   \n",
       "7974               0.0              NaN                NaN  ...   \n",
       "34770              NaN              NaN               10.0  ...   \n",
       "...                ...              ...                ...  ...   \n",
       "3008               0.0              NaN                NaN  ...   \n",
       "14637              0.0              NaN                NaN  ...   \n",
       "54325              NaN              NaN                NaN  ...   \n",
       "44100              0.0              NaN               17.0  ...   \n",
       "24772              0.0              NaN                NaN  ...   \n",
       "\n",
       "       gender_female  gender_male gender_na race_amerindian race_asian  \\\n",
       "39313            NaN          NaN       0.0             0.0        NaN   \n",
       "34963            NaN          NaN       0.0             0.0        0.0   \n",
       "34819            NaN          NaN       0.0             0.0        0.0   \n",
       "7974             NaN          NaN       0.0             0.0        0.0   \n",
       "34770            NaN          NaN       0.0             0.0        0.0   \n",
       "...              ...          ...       ...             ...        ...   \n",
       "3008             NaN          NaN       0.0             0.0        0.0   \n",
       "14637            NaN          NaN       0.0             0.0        0.0   \n",
       "54325            NaN          NaN       NaN             0.0        0.0   \n",
       "44100           12.0         18.0       0.0             0.0        0.0   \n",
       "24772            NaN          NaN       0.0             0.0        0.0   \n",
       "\n",
       "       race_black  race_noanswer  race_hawaiiannative  race_other  race_white  \n",
       "39313         0.0            0.0                  0.0         NaN        13.0  \n",
       "34963         NaN            0.0                  0.0         NaN         NaN  \n",
       "34819         NaN            NaN                  0.0         NaN         NaN  \n",
       "7974          NaN            NaN                  0.0         NaN         NaN  \n",
       "34770         NaN            NaN                  0.0         0.0        12.0  \n",
       "...           ...            ...                  ...         ...         ...  \n",
       "3008          NaN            NaN                  0.0         NaN        18.0  \n",
       "14637         NaN            0.0                  0.0         NaN         NaN  \n",
       "54325         0.0            NaN                  0.0         NaN         NaN  \n",
       "44100        18.0            NaN                  NaN         NaN         NaN  \n",
       "24772         0.0            0.0                  0.0         0.0        13.0  \n",
       "\n",
       "[34228 rows x 25 columns]"
      ]
     },
     "execution_count": 4,
     "metadata": {},
     "output_type": "execute_result"
    }
   ],
   "source": [
    "data = data.sort_values('week_number')\n",
    "data"
   ]
  },
  {
   "cell_type": "markdown",
   "id": "db2893af",
   "metadata": {},
   "source": [
    "## Cumulate the data according to the week_number. "
   ]
  },
  {
   "cell_type": "code",
   "execution_count": 5,
   "id": "d6e8d262",
   "metadata": {},
   "outputs": [],
   "source": [
    "# predict week 39 with week 1 - week 38\n",
    "\n",
    "df_week39_lag1 = data.groupby(['week_number']).total_claims.sum().groupby(level=0).cumsum().reset_index()\n",
    "df_week39_lag1 = df_week39_lag1[df_week39_lag1['week_number'] < 39]\n",
    "\n",
    "# predict week 40 with week 1 - week 39\n",
    "\n",
    "df_week40_lag1 = data.groupby(['week_number']).total_claims.sum().groupby(level=0).cumsum().reset_index()\n",
    "df_week40_lag1 = df_week40_lag1[df_week40_lag1['week_number'] < 40]\n",
    "\n",
    "# predict week 41 with week 1 - week 40\n",
    "\n",
    "df_week41_lag1 = data.groupby(['week_number']).total_claims.sum().groupby(level=0).cumsum().reset_index()\n",
    "df_week41_lag1 = df_week41_lag1[df_week41_lag1['week_number'] < 41]\n",
    "\n",
    "# predict week 39 with week 1 - week 36\n",
    "\n",
    "df_week39_lag2 = data.groupby(['week_number']).total_claims.sum().groupby(level=0).cumsum().reset_index()\n",
    "df_week39_lag2 = df_week39_lag2[df_week39_lag2['week_number'] < 37]\n",
    "\n",
    "# predict week 40 with week 1 - week 37\n",
    "\n",
    "df_week40_lag2 = data.groupby(['week_number']).total_claims.sum().groupby(level=0).cumsum().reset_index()\n",
    "df_week40_lag2 = df_week40_lag2[df_week40_lag2['week_number'] < 38]\n",
    "\n",
    "# predict week 41 with week 1 - week 40\n",
    "\n",
    "df_week41_lag2 = data.groupby(['week_number']).total_claims.sum().groupby(level=0).cumsum().reset_index()\n",
    "df_week41_lag2 = df_week41_lag2[df_week41_lag2['week_number'] < 39]"
   ]
  },
  {
   "cell_type": "markdown",
   "id": "73072ebf",
   "metadata": {},
   "source": [
    "## Plot the overall data to see how the trend looks like when lagging 1 week "
   ]
  },
  {
   "cell_type": "code",
   "execution_count": 6,
   "id": "9868cfff",
   "metadata": {},
   "outputs": [
    {
     "name": "stderr",
     "output_type": "stream",
     "text": [
      "/opt/anaconda3/lib/python3.9/site-packages/seaborn/_decorators.py:36: FutureWarning: Pass the following variables as keyword args: x, y. From version 0.12, the only valid positional argument will be `data`, and passing other arguments without an explicit keyword will result in an error or misinterpretation.\n",
      "  warnings.warn(\n"
     ]
    },
    {
     "data": {
      "text/plain": [
       "<AxesSubplot:xlabel='week_number', ylabel='total_claims'>"
      ]
     },
     "execution_count": 6,
     "metadata": {},
     "output_type": "execute_result"
    },
    {
     "data": {
      "image/png": "[encoded data removed]",
      "text/plain": [
       "<Figure size 432x288 with 1 Axes>"
      ]
     },
     "metadata": {
      "needs_background": "light"
     },
     "output_type": "display_data"
    }
   ],
   "source": [
    "sns.regplot(df_week39_lag1['week_number'], df_week39_lag1['total_claims'])"
   ]
  },
  {
   "cell_type": "code",
   "execution_count": 7,
   "id": "4d0b0957",
   "metadata": {},
   "outputs": [
    {
     "name": "stderr",
     "output_type": "stream",
     "text": [
      "/opt/anaconda3/lib/python3.9/site-packages/seaborn/_decorators.py:36: FutureWarning: Pass the following variables as keyword args: x, y. From version 0.12, the only valid positional argument will be `data`, and passing other arguments without an explicit keyword will result in an error or misinterpretation.\n",
      "  warnings.warn(\n"
     ]
    },
    {
     "data": {
      "text/plain": [
       "<AxesSubplot:xlabel='week_number', ylabel='total_claims'>"
      ]
     },
     "execution_count": 7,
     "metadata": {},
     "output_type": "execute_result"
    },
    {
     "data": {
      "image/png": "[encoded data removed]",
      "text/plain": [
       "<Figure size 432x288 with 1 Axes>"
      ]
     },
     "metadata": {
      "needs_background": "light"
     },
     "output_type": "display_data"
    }
   ],
   "source": [
    "sns.regplot(df_week40_lag1['week_number'], df_week40_lag1['total_claims'])"
   ]
  },
  {
   "cell_type": "code",
   "execution_count": 8,
   "id": "64e7c908",
   "metadata": {},
   "outputs": [
    {
     "name": "stderr",
     "output_type": "stream",
     "text": [
      "/opt/anaconda3/lib/python3.9/site-packages/seaborn/_decorators.py:36: FutureWarning: Pass the following variables as keyword args: x, y. From version 0.12, the only valid positional argument will be `data`, and passing other arguments without an explicit keyword will result in an error or misinterpretation.\n",
      "  warnings.warn(\n"
     ]
    },
    {
     "data": {
      "text/plain": [
       "<AxesSubplot:xlabel='week_number', ylabel='total_claims'>"
      ]
     },
     "execution_count": 8,
     "metadata": {},
     "output_type": "execute_result"
    },
    {
     "data": {
      "image/png": "[encoded data removed]",
      "text/plain": [
       "<Figure size 432x288 with 1 Axes>"
      ]
     },
     "metadata": {
      "needs_background": "light"
     },
     "output_type": "display_data"
    }
   ],
   "source": [
    "sns.regplot(df_week41_lag1['week_number'], df_week41_lag1['total_claims'])"
   ]
  },
  {
   "cell_type": "markdown",
   "id": "72fbbe5b",
   "metadata": {},
   "source": [
    "## Plot the overall data to see how the trend looks like when lagging 2 weeks"
   ]
  },
  {
   "cell_type": "code",
   "execution_count": 9,
   "id": "fde49256",
   "metadata": {},
   "outputs": [
    {
     "name": "stderr",
     "output_type": "stream",
     "text": [
      "/opt/anaconda3/lib/python3.9/site-packages/seaborn/_decorators.py:36: FutureWarning: Pass the following variables as keyword args: x, y. From version 0.12, the only valid positional argument will be `data`, and passing other arguments without an explicit keyword will result in an error or misinterpretation.\n",
      "  warnings.warn(\n"
     ]
    },
    {
     "data": {
      "text/plain": [
       "<AxesSubplot:xlabel='week_number', ylabel='total_claims'>"
      ]
     },
     "execution_count": 9,
     "metadata": {},
     "output_type": "execute_result"
    },
    {
     "data": {
      "image/png": "[encoded data removed]",
      "text/plain": [
       "<Figure size 432x288 with 1 Axes>"
      ]
     },
     "metadata": {
      "needs_background": "light"
     },
     "output_type": "display_data"
    }
   ],
   "source": [
    "sns.regplot(df_week39_lag2['week_number'], df_week39_lag2['total_claims'])"
   ]
  },
  {
   "cell_type": "code",
   "execution_count": 10,
   "id": "1a151249",
   "metadata": {},
   "outputs": [
    {
     "name": "stderr",
     "output_type": "stream",
     "text": [
      "/opt/anaconda3/lib/python3.9/site-packages/seaborn/_decorators.py:36: FutureWarning: Pass the following variables as keyword args: x, y. From version 0.12, the only valid positional argument will be `data`, and passing other arguments without an explicit keyword will result in an error or misinterpretation.\n",
      "  warnings.warn(\n"
     ]
    },
    {
     "data": {
      "text/plain": [
       "<AxesSubplot:xlabel='week_number', ylabel='total_claims'>"
      ]
     },
     "execution_count": 10,
     "metadata": {},
     "output_type": "execute_result"
    },
    {
     "data": {
      "image/png": "[encoded data removed]",
      "text/plain": [
       "<Figure size 432x288 with 1 Axes>"
      ]
     },
     "metadata": {
      "needs_background": "light"
     },
     "output_type": "display_data"
    }
   ],
   "source": [
    "sns.regplot(df_week40_lag2['week_number'], df_week40_lag2['total_claims'])"
   ]
  },
  {
   "cell_type": "code",
   "execution_count": 11,
   "id": "01fba583",
   "metadata": {},
   "outputs": [
    {
     "name": "stderr",
     "output_type": "stream",
     "text": [
      "/opt/anaconda3/lib/python3.9/site-packages/seaborn/_decorators.py:36: FutureWarning: Pass the following variables as keyword args: x, y. From version 0.12, the only valid positional argument will be `data`, and passing other arguments without an explicit keyword will result in an error or misinterpretation.\n",
      "  warnings.warn(\n"
     ]
    },
    {
     "data": {
      "text/plain": [
       "<AxesSubplot:xlabel='week_number', ylabel='total_claims'>"
      ]
     },
     "execution_count": 11,
     "metadata": {},
     "output_type": "execute_result"
    },
    {
     "data": {
      "image/png": "[encoded data removed]",
      "text/plain": [
       "<Figure size 432x288 with 1 Axes>"
      ]
     },
     "metadata": {
      "needs_background": "light"
     },
     "output_type": "display_data"
    }
   ],
   "source": [
    "sns.regplot(df_week41_lag2['week_number'], df_week41_lag2['total_claims'])"
   ]
  },
  {
   "cell_type": "markdown",
   "id": "20cb3192",
   "metadata": {},
   "source": [
    "## Start performing predictions on the overall data without the granularity from uu_id\n",
    "\n",
    "> We do this primarily to decide if we should go with Linear Regression or Lag Regression. Note there are many ways to forecast which model might work better. "
   ]
  },
  {
   "cell_type": "code",
   "execution_count": 12,
   "id": "ba88f725",
   "metadata": {},
   "outputs": [],
   "source": [
    "X = data['week_number'].values.reshape(-1,1)\n",
    "y = data['total_claims'].values.reshape(-1,1)"
   ]
  },
  {
   "cell_type": "code",
   "execution_count": 13,
   "id": "728b4cb0",
   "metadata": {},
   "outputs": [],
   "source": [
    "X_train, X_test, y_train, y_test = train_test_split(X, y, test_size=0.04, random_state = 0)"
   ]
  },
  {
   "cell_type": "code",
   "execution_count": 14,
   "id": "f9b682fd",
   "metadata": {},
   "outputs": [
    {
     "data": {
      "text/plain": [
       "LinearRegression()"
      ]
     },
     "execution_count": 14,
     "metadata": {},
     "output_type": "execute_result"
    }
   ],
   "source": [
    "regressor = LinearRegression()  \n",
    "regressor.fit(X_train, y_train) #training the algorithm"
   ]
  },
  {
   "cell_type": "code",
   "execution_count": 15,
   "id": "747352fe",
   "metadata": {},
   "outputs": [
    {
     "name": "stdout",
     "output_type": "stream",
     "text": [
      "[21.37430335]\n",
      "[[-0.04457384]]\n"
     ]
    }
   ],
   "source": [
    "#To retrieve the intercept:\n",
    "print(regressor.intercept_)\n",
    "\n",
    "#For retrieving the slope:\n",
    "print(regressor.coef_)"
   ]
  },
  {
   "cell_type": "code",
   "execution_count": 16,
   "id": "74670bd7",
   "metadata": {},
   "outputs": [],
   "source": [
    "y_pred = regressor.predict(X_test)"
   ]
  },
  {
   "cell_type": "code",
   "execution_count": 17,
   "id": "49dfb469",
   "metadata": {},
   "outputs": [
    {
     "data": {
      "text/html": [
       "<div>\n",
       "<style scoped>\n",
       "    .dataframe tbody tr th:only-of-type {\n",
       "        vertical-align: middle;\n",
       "    }\n",
       "\n",
       "    .dataframe tbody tr th {\n",
       "        vertical-align: top;\n",
       "    }\n",
       "\n",
       "    .dataframe thead th {\n",
       "        text-align: right;\n",
       "    }\n",
       "</style>\n",
       "<table border=\"1\" class=\"dataframe\">\n",
       "  <thead>\n",
       "    <tr style=\"text-align: right;\">\n",
       "      <th></th>\n",
       "      <th>Actual</th>\n",
       "      <th>Predicted</th>\n",
       "    </tr>\n",
       "  </thead>\n",
       "  <tbody>\n",
       "    <tr>\n",
       "      <th>0</th>\n",
       "      <td>30.0</td>\n",
       "      <td>19.947941</td>\n",
       "    </tr>\n",
       "    <tr>\n",
       "      <th>1</th>\n",
       "      <td>14.0</td>\n",
       "      <td>19.858793</td>\n",
       "    </tr>\n",
       "    <tr>\n",
       "      <th>2</th>\n",
       "      <td>14.0</td>\n",
       "      <td>20.928565</td>\n",
       "    </tr>\n",
       "    <tr>\n",
       "      <th>3</th>\n",
       "      <td>15.0</td>\n",
       "      <td>19.814219</td>\n",
       "    </tr>\n",
       "    <tr>\n",
       "      <th>4</th>\n",
       "      <td>28.0</td>\n",
       "      <td>21.062287</td>\n",
       "    </tr>\n",
       "    <tr>\n",
       "      <th>...</th>\n",
       "      <td>...</td>\n",
       "      <td>...</td>\n",
       "    </tr>\n",
       "    <tr>\n",
       "      <th>1365</th>\n",
       "      <td>18.0</td>\n",
       "      <td>21.285156</td>\n",
       "    </tr>\n",
       "    <tr>\n",
       "      <th>1366</th>\n",
       "      <td>49.0</td>\n",
       "      <td>19.769645</td>\n",
       "    </tr>\n",
       "    <tr>\n",
       "      <th>1367</th>\n",
       "      <td>11.0</td>\n",
       "      <td>21.062287</td>\n",
       "    </tr>\n",
       "    <tr>\n",
       "      <th>1368</th>\n",
       "      <td>10.0</td>\n",
       "      <td>20.393679</td>\n",
       "    </tr>\n",
       "    <tr>\n",
       "      <th>1369</th>\n",
       "      <td>44.0</td>\n",
       "      <td>21.017713</td>\n",
       "    </tr>\n",
       "  </tbody>\n",
       "</table>\n",
       "<p>1370 rows × 2 columns</p>\n",
       "</div>"
      ],
      "text/plain": [
       "      Actual  Predicted\n",
       "0       30.0  19.947941\n",
       "1       14.0  19.858793\n",
       "2       14.0  20.928565\n",
       "3       15.0  19.814219\n",
       "4       28.0  21.062287\n",
       "...      ...        ...\n",
       "1365    18.0  21.285156\n",
       "1366    49.0  19.769645\n",
       "1367    11.0  21.062287\n",
       "1368    10.0  20.393679\n",
       "1369    44.0  21.017713\n",
       "\n",
       "[1370 rows x 2 columns]"
      ]
     },
     "execution_count": 17,
     "metadata": {},
     "output_type": "execute_result"
    }
   ],
   "source": [
    "outcome = pd.DataFrame({'Actual': y_test.flatten(), 'Predicted': y_pred.flatten()})\n",
    "outcome"
   ]
  },
  {
   "cell_type": "code",
   "execution_count": 18,
   "id": "3085f7af",
   "metadata": {},
   "outputs": [
    {
     "data": {
      "image/png": "[encoded data removed]",
      "text/plain": [
       "<Figure size 1152x720 with 1 Axes>"
      ]
     },
     "metadata": {
      "needs_background": "light"
     },
     "output_type": "display_data"
    }
   ],
   "source": [
    "outcome = outcome.head(25)\n",
    "outcome.plot(kind='bar',figsize=(16,10))\n",
    "plt.grid(which='major', linestyle='-', linewidth='0.5', color='green')\n",
    "plt.grid(which='minor', linestyle=':', linewidth='0.5', color='black')\n",
    "plt.show()"
   ]
  },
  {
   "cell_type": "code",
   "execution_count": 19,
   "id": "8a4614d9",
   "metadata": {},
   "outputs": [
    {
     "name": "stdout",
     "output_type": "stream",
     "text": [
      "Mean Absolute Error: 9.321145477655888\n",
      "Mean Squared Error: 221.2404521232856\n",
      "Root Mean Squared Error: 14.874153828816132\n"
     ]
    }
   ],
   "source": [
    "print('Mean Absolute Error:', metrics.mean_absolute_error(y_test, y_pred))  \n",
    "print('Mean Squared Error:', metrics.mean_squared_error(y_test, y_pred))  \n",
    "print('Root Mean Squared Error:', np.sqrt(metrics.mean_squared_error(y_test, y_pred)))"
   ]
  },
  {
   "cell_type": "markdown",
   "id": "2a2a5c11",
   "metadata": {},
   "source": [
    "## Start modeling with Lag Regression "
   ]
  },
  {
   "cell_type": "code",
   "execution_count": 20,
   "id": "3528e279",
   "metadata": {},
   "outputs": [
    {
     "data": {
      "text/html": [
       "<div>\n",
       "<style scoped>\n",
       "    .dataframe tbody tr th:only-of-type {\n",
       "        vertical-align: middle;\n",
       "    }\n",
       "\n",
       "    .dataframe tbody tr th {\n",
       "        vertical-align: top;\n",
       "    }\n",
       "\n",
       "    .dataframe thead th {\n",
       "        text-align: right;\n",
       "    }\n",
       "</style>\n",
       "<table border=\"1\" class=\"dataframe\">\n",
       "  <thead>\n",
       "    <tr style=\"text-align: right;\">\n",
       "      <th></th>\n",
       "      <th>uu_id</th>\n",
       "      <th>timeperiod</th>\n",
       "      <th>week_number</th>\n",
       "      <th>countyfips</th>\n",
       "      <th>tract</th>\n",
       "      <th>tract_name</th>\n",
       "      <th>total_claims</th>\n",
       "      <th>edu_8th_or_less</th>\n",
       "      <th>edu_grades_9_11</th>\n",
       "      <th>edu_hs_grad_equiv</th>\n",
       "      <th>...</th>\n",
       "      <th>gender_male</th>\n",
       "      <th>gender_na</th>\n",
       "      <th>race_amerindian</th>\n",
       "      <th>race_asian</th>\n",
       "      <th>race_black</th>\n",
       "      <th>race_noanswer</th>\n",
       "      <th>race_hawaiiannative</th>\n",
       "      <th>race_other</th>\n",
       "      <th>race_white</th>\n",
       "      <th>lag</th>\n",
       "    </tr>\n",
       "  </thead>\n",
       "  <tbody>\n",
       "    <tr>\n",
       "      <th>39313</th>\n",
       "      <td>6239669cbfe444abd0a46536a670d150</td>\n",
       "      <td>20220101</td>\n",
       "      <td>1</td>\n",
       "      <td>18039</td>\n",
       "      <td>400</td>\n",
       "      <td>Census Tract 4, Elkhart County, Indiana</td>\n",
       "      <td>16.0</td>\n",
       "      <td>0.0</td>\n",
       "      <td>NaN</td>\n",
       "      <td>NaN</td>\n",
       "      <td>...</td>\n",
       "      <td>NaN</td>\n",
       "      <td>0.0</td>\n",
       "      <td>0.0</td>\n",
       "      <td>NaN</td>\n",
       "      <td>0.0</td>\n",
       "      <td>0.0</td>\n",
       "      <td>0.0</td>\n",
       "      <td>NaN</td>\n",
       "      <td>13.0</td>\n",
       "      <td>NaN</td>\n",
       "    </tr>\n",
       "    <tr>\n",
       "      <th>34963</th>\n",
       "      <td>57bc30b16bd1a7875fc59a57c0363cd3</td>\n",
       "      <td>20220101</td>\n",
       "      <td>1</td>\n",
       "      <td>18097</td>\n",
       "      <td>356400</td>\n",
       "      <td>Census Tract 3564, Marion County, Indiana</td>\n",
       "      <td>11.0</td>\n",
       "      <td>NaN</td>\n",
       "      <td>NaN</td>\n",
       "      <td>NaN</td>\n",
       "      <td>...</td>\n",
       "      <td>NaN</td>\n",
       "      <td>0.0</td>\n",
       "      <td>0.0</td>\n",
       "      <td>0.0</td>\n",
       "      <td>NaN</td>\n",
       "      <td>0.0</td>\n",
       "      <td>0.0</td>\n",
       "      <td>NaN</td>\n",
       "      <td>NaN</td>\n",
       "      <td>16.0</td>\n",
       "    </tr>\n",
       "    <tr>\n",
       "      <th>34819</th>\n",
       "      <td>8cb479dc5fba577ea3013a189045ff7b</td>\n",
       "      <td>20220101</td>\n",
       "      <td>1</td>\n",
       "      <td>18097</td>\n",
       "      <td>355700</td>\n",
       "      <td>Census Tract 3557, Marion County, Indiana</td>\n",
       "      <td>16.0</td>\n",
       "      <td>0.0</td>\n",
       "      <td>NaN</td>\n",
       "      <td>12.0</td>\n",
       "      <td>...</td>\n",
       "      <td>NaN</td>\n",
       "      <td>0.0</td>\n",
       "      <td>0.0</td>\n",
       "      <td>0.0</td>\n",
       "      <td>NaN</td>\n",
       "      <td>NaN</td>\n",
       "      <td>0.0</td>\n",
       "      <td>NaN</td>\n",
       "      <td>NaN</td>\n",
       "      <td>11.0</td>\n",
       "    </tr>\n",
       "    <tr>\n",
       "      <th>7974</th>\n",
       "      <td>601ff2c0fd709298f6644ad0e766b2d6</td>\n",
       "      <td>20220101</td>\n",
       "      <td>1</td>\n",
       "      <td>18141</td>\n",
       "      <td>1100</td>\n",
       "      <td>Census Tract 11, St. Joseph County, Indiana</td>\n",
       "      <td>13.0</td>\n",
       "      <td>0.0</td>\n",
       "      <td>NaN</td>\n",
       "      <td>NaN</td>\n",
       "      <td>...</td>\n",
       "      <td>NaN</td>\n",
       "      <td>0.0</td>\n",
       "      <td>0.0</td>\n",
       "      <td>0.0</td>\n",
       "      <td>NaN</td>\n",
       "      <td>NaN</td>\n",
       "      <td>0.0</td>\n",
       "      <td>NaN</td>\n",
       "      <td>NaN</td>\n",
       "      <td>16.0</td>\n",
       "    </tr>\n",
       "    <tr>\n",
       "      <th>34770</th>\n",
       "      <td>4fe5a3188b15f262431ed884f3619d8b</td>\n",
       "      <td>20220101</td>\n",
       "      <td>1</td>\n",
       "      <td>18097</td>\n",
       "      <td>355600</td>\n",
       "      <td>Census Tract 3556, Marion County, Indiana</td>\n",
       "      <td>19.0</td>\n",
       "      <td>NaN</td>\n",
       "      <td>NaN</td>\n",
       "      <td>10.0</td>\n",
       "      <td>...</td>\n",
       "      <td>NaN</td>\n",
       "      <td>0.0</td>\n",
       "      <td>0.0</td>\n",
       "      <td>0.0</td>\n",
       "      <td>NaN</td>\n",
       "      <td>NaN</td>\n",
       "      <td>0.0</td>\n",
       "      <td>0.0</td>\n",
       "      <td>12.0</td>\n",
       "      <td>13.0</td>\n",
       "    </tr>\n",
       "    <tr>\n",
       "      <th>...</th>\n",
       "      <td>...</td>\n",
       "      <td>...</td>\n",
       "      <td>...</td>\n",
       "      <td>...</td>\n",
       "      <td>...</td>\n",
       "      <td>...</td>\n",
       "      <td>...</td>\n",
       "      <td>...</td>\n",
       "      <td>...</td>\n",
       "      <td>...</td>\n",
       "      <td>...</td>\n",
       "      <td>...</td>\n",
       "      <td>...</td>\n",
       "      <td>...</td>\n",
       "      <td>...</td>\n",
       "      <td>...</td>\n",
       "      <td>...</td>\n",
       "      <td>...</td>\n",
       "      <td>...</td>\n",
       "      <td>...</td>\n",
       "      <td>...</td>\n",
       "    </tr>\n",
       "    <tr>\n",
       "      <th>3008</th>\n",
       "      <td>bbcb018f0e5e49e13636f6e78ce9f60f</td>\n",
       "      <td>20221008</td>\n",
       "      <td>41</td>\n",
       "      <td>18163</td>\n",
       "      <td>10203</td>\n",
       "      <td>Census Tract 102.03, Vanderburgh County, Indiana</td>\n",
       "      <td>22.0</td>\n",
       "      <td>0.0</td>\n",
       "      <td>NaN</td>\n",
       "      <td>NaN</td>\n",
       "      <td>...</td>\n",
       "      <td>NaN</td>\n",
       "      <td>0.0</td>\n",
       "      <td>0.0</td>\n",
       "      <td>0.0</td>\n",
       "      <td>NaN</td>\n",
       "      <td>NaN</td>\n",
       "      <td>0.0</td>\n",
       "      <td>NaN</td>\n",
       "      <td>18.0</td>\n",
       "      <td>12.0</td>\n",
       "    </tr>\n",
       "    <tr>\n",
       "      <th>14637</th>\n",
       "      <td>e24fca963ee2f4a4593900385e64051c</td>\n",
       "      <td>20221008</td>\n",
       "      <td>41</td>\n",
       "      <td>18095</td>\n",
       "      <td>12000</td>\n",
       "      <td>Census Tract 120, Madison County, Indiana</td>\n",
       "      <td>11.0</td>\n",
       "      <td>0.0</td>\n",
       "      <td>NaN</td>\n",
       "      <td>NaN</td>\n",
       "      <td>...</td>\n",
       "      <td>NaN</td>\n",
       "      <td>0.0</td>\n",
       "      <td>0.0</td>\n",
       "      <td>0.0</td>\n",
       "      <td>NaN</td>\n",
       "      <td>0.0</td>\n",
       "      <td>0.0</td>\n",
       "      <td>NaN</td>\n",
       "      <td>NaN</td>\n",
       "      <td>22.0</td>\n",
       "    </tr>\n",
       "    <tr>\n",
       "      <th>54325</th>\n",
       "      <td>6e34d7b45dd1daecd65ac963cd344e2d</td>\n",
       "      <td>20221008</td>\n",
       "      <td>41</td>\n",
       "      <td>18145</td>\n",
       "      <td>710500</td>\n",
       "      <td>Census Tract 7105, Shelby County, Indiana</td>\n",
       "      <td>11.0</td>\n",
       "      <td>NaN</td>\n",
       "      <td>NaN</td>\n",
       "      <td>NaN</td>\n",
       "      <td>...</td>\n",
       "      <td>NaN</td>\n",
       "      <td>NaN</td>\n",
       "      <td>0.0</td>\n",
       "      <td>0.0</td>\n",
       "      <td>0.0</td>\n",
       "      <td>NaN</td>\n",
       "      <td>0.0</td>\n",
       "      <td>NaN</td>\n",
       "      <td>NaN</td>\n",
       "      <td>11.0</td>\n",
       "    </tr>\n",
       "    <tr>\n",
       "      <th>44100</th>\n",
       "      <td>9d137c34d4598e4f67aac16df77037e0</td>\n",
       "      <td>20221008</td>\n",
       "      <td>41</td>\n",
       "      <td>18089</td>\n",
       "      <td>42501</td>\n",
       "      <td>Census Tract 425.01, Lake County, Indiana</td>\n",
       "      <td>30.0</td>\n",
       "      <td>0.0</td>\n",
       "      <td>NaN</td>\n",
       "      <td>17.0</td>\n",
       "      <td>...</td>\n",
       "      <td>18.0</td>\n",
       "      <td>0.0</td>\n",
       "      <td>0.0</td>\n",
       "      <td>0.0</td>\n",
       "      <td>18.0</td>\n",
       "      <td>NaN</td>\n",
       "      <td>NaN</td>\n",
       "      <td>NaN</td>\n",
       "      <td>NaN</td>\n",
       "      <td>11.0</td>\n",
       "    </tr>\n",
       "    <tr>\n",
       "      <th>24772</th>\n",
       "      <td>25a57fe39e03c632125308737a7d3769</td>\n",
       "      <td>20221008</td>\n",
       "      <td>41</td>\n",
       "      <td>18067</td>\n",
       "      <td>300</td>\n",
       "      <td>Census Tract 3, Howard County, Indiana</td>\n",
       "      <td>13.0</td>\n",
       "      <td>0.0</td>\n",
       "      <td>NaN</td>\n",
       "      <td>NaN</td>\n",
       "      <td>...</td>\n",
       "      <td>NaN</td>\n",
       "      <td>0.0</td>\n",
       "      <td>0.0</td>\n",
       "      <td>0.0</td>\n",
       "      <td>0.0</td>\n",
       "      <td>0.0</td>\n",
       "      <td>0.0</td>\n",
       "      <td>0.0</td>\n",
       "      <td>13.0</td>\n",
       "      <td>30.0</td>\n",
       "    </tr>\n",
       "  </tbody>\n",
       "</table>\n",
       "<p>34228 rows × 26 columns</p>\n",
       "</div>"
      ],
      "text/plain": [
       "                                  uu_id  timeperiod  week_number  countyfips  \\\n",
       "39313  6239669cbfe444abd0a46536a670d150    20220101            1       18039   \n",
       "34963  57bc30b16bd1a7875fc59a57c0363cd3    20220101            1       18097   \n",
       "34819  8cb479dc5fba577ea3013a189045ff7b    20220101            1       18097   \n",
       "7974   601ff2c0fd709298f6644ad0e766b2d6    20220101            1       18141   \n",
       "34770  4fe5a3188b15f262431ed884f3619d8b    20220101            1       18097   \n",
       "...                                 ...         ...          ...         ...   \n",
       "3008   bbcb018f0e5e49e13636f6e78ce9f60f    20221008           41       18163   \n",
       "14637  e24fca963ee2f4a4593900385e64051c    20221008           41       18095   \n",
       "54325  6e34d7b45dd1daecd65ac963cd344e2d    20221008           41       18145   \n",
       "44100  9d137c34d4598e4f67aac16df77037e0    20221008           41       18089   \n",
       "24772  25a57fe39e03c632125308737a7d3769    20221008           41       18067   \n",
       "\n",
       "        tract                                        tract_name  total_claims  \\\n",
       "39313     400           Census Tract 4, Elkhart County, Indiana          16.0   \n",
       "34963  356400         Census Tract 3564, Marion County, Indiana          11.0   \n",
       "34819  355700         Census Tract 3557, Marion County, Indiana          16.0   \n",
       "7974     1100       Census Tract 11, St. Joseph County, Indiana          13.0   \n",
       "34770  355600         Census Tract 3556, Marion County, Indiana          19.0   \n",
       "...       ...                                               ...           ...   \n",
       "3008    10203  Census Tract 102.03, Vanderburgh County, Indiana          22.0   \n",
       "14637   12000         Census Tract 120, Madison County, Indiana          11.0   \n",
       "54325  710500         Census Tract 7105, Shelby County, Indiana          11.0   \n",
       "44100   42501         Census Tract 425.01, Lake County, Indiana          30.0   \n",
       "24772     300            Census Tract 3, Howard County, Indiana          13.0   \n",
       "\n",
       "       edu_8th_or_less  edu_grades_9_11  edu_hs_grad_equiv  ...  gender_male  \\\n",
       "39313              0.0              NaN                NaN  ...          NaN   \n",
       "34963              NaN              NaN                NaN  ...          NaN   \n",
       "34819              0.0              NaN               12.0  ...          NaN   \n",
       "7974               0.0              NaN                NaN  ...          NaN   \n",
       "34770              NaN              NaN               10.0  ...          NaN   \n",
       "...                ...              ...                ...  ...          ...   \n",
       "3008               0.0              NaN                NaN  ...          NaN   \n",
       "14637              0.0              NaN                NaN  ...          NaN   \n",
       "54325              NaN              NaN                NaN  ...          NaN   \n",
       "44100              0.0              NaN               17.0  ...         18.0   \n",
       "24772              0.0              NaN                NaN  ...          NaN   \n",
       "\n",
       "       gender_na race_amerindian race_asian race_black  race_noanswer  \\\n",
       "39313        0.0             0.0        NaN        0.0            0.0   \n",
       "34963        0.0             0.0        0.0        NaN            0.0   \n",
       "34819        0.0             0.0        0.0        NaN            NaN   \n",
       "7974         0.0             0.0        0.0        NaN            NaN   \n",
       "34770        0.0             0.0        0.0        NaN            NaN   \n",
       "...          ...             ...        ...        ...            ...   \n",
       "3008         0.0             0.0        0.0        NaN            NaN   \n",
       "14637        0.0             0.0        0.0        NaN            0.0   \n",
       "54325        NaN             0.0        0.0        0.0            NaN   \n",
       "44100        0.0             0.0        0.0       18.0            NaN   \n",
       "24772        0.0             0.0        0.0        0.0            0.0   \n",
       "\n",
       "       race_hawaiiannative  race_other  race_white   lag  \n",
       "39313                  0.0         NaN        13.0   NaN  \n",
       "34963                  0.0         NaN         NaN  16.0  \n",
       "34819                  0.0         NaN         NaN  11.0  \n",
       "7974                   0.0         NaN         NaN  16.0  \n",
       "34770                  0.0         0.0        12.0  13.0  \n",
       "...                    ...         ...         ...   ...  \n",
       "3008                   0.0         NaN        18.0  12.0  \n",
       "14637                  0.0         NaN         NaN  22.0  \n",
       "54325                  0.0         NaN         NaN  11.0  \n",
       "44100                  NaN         NaN         NaN  11.0  \n",
       "24772                  0.0         0.0        13.0  30.0  \n",
       "\n",
       "[34228 rows x 26 columns]"
      ]
     },
     "execution_count": 20,
     "metadata": {},
     "output_type": "execute_result"
    }
   ],
   "source": [
    "data['lag'] = data['total_claims'].shift(1).dropna()\n",
    "data"
   ]
  },
  {
   "cell_type": "code",
   "execution_count": 21,
   "id": "c1bd5177",
   "metadata": {},
   "outputs": [
    {
     "data": {
      "text/plain": [
       "34963    16.0\n",
       "34819    11.0\n",
       "7974     16.0\n",
       "34770    13.0\n",
       "2375     19.0\n",
       "         ... \n",
       "3008     12.0\n",
       "14637    22.0\n",
       "54325    11.0\n",
       "44100    11.0\n",
       "24772    30.0\n",
       "Name: lag, Length: 34227, dtype: float64"
      ]
     },
     "execution_count": 21,
     "metadata": {},
     "output_type": "execute_result"
    }
   ],
   "source": [
    "X = data['lag'].dropna()\n",
    "y = data['total_claims']\n",
    "y, X = y.align(X, join='inner')  # drop corresponding values in target\n",
    "X"
   ]
  },
  {
   "cell_type": "code",
   "execution_count": 22,
   "id": "227cc9e3",
   "metadata": {},
   "outputs": [],
   "source": [
    "X = X.values.reshape(-1,1)\n",
    "y = y.values.reshape(-1,1)\n",
    "\n",
    "X_train, X_test, y_train, y_test = train_test_split(X, y, test_size=0.04, random_state = 0)\n",
    "\n",
    "regressor = LinearRegression().fit(X,y)"
   ]
  },
  {
   "cell_type": "code",
   "execution_count": 23,
   "id": "25e07bb4",
   "metadata": {},
   "outputs": [
    {
     "name": "stdout",
     "output_type": "stream",
     "text": [
      "[18.28352323]\n",
      "[[0.10418617]]\n"
     ]
    }
   ],
   "source": [
    "#To retrieve the intercept:\n",
    "print(regressor.intercept_)\n",
    "\n",
    "#For retrieving the slope:\n",
    "print(regressor.coef_)"
   ]
  },
  {
   "cell_type": "code",
   "execution_count": 24,
   "id": "741a4db4",
   "metadata": {},
   "outputs": [],
   "source": [
    "y_pred = regressor.predict(X_test)"
   ]
  },
  {
   "cell_type": "code",
   "execution_count": 25,
   "id": "af9530c3",
   "metadata": {},
   "outputs": [
    {
     "data": {
      "text/html": [
       "<div>\n",
       "<style scoped>\n",
       "    .dataframe tbody tr th:only-of-type {\n",
       "        vertical-align: middle;\n",
       "    }\n",
       "\n",
       "    .dataframe tbody tr th {\n",
       "        vertical-align: top;\n",
       "    }\n",
       "\n",
       "    .dataframe thead th {\n",
       "        text-align: right;\n",
       "    }\n",
       "</style>\n",
       "<table border=\"1\" class=\"dataframe\">\n",
       "  <thead>\n",
       "    <tr style=\"text-align: right;\">\n",
       "      <th></th>\n",
       "      <th>Actual</th>\n",
       "      <th>Predicted</th>\n",
       "    </tr>\n",
       "  </thead>\n",
       "  <tbody>\n",
       "    <tr>\n",
       "      <th>0</th>\n",
       "      <td>30.0</td>\n",
       "      <td>21.409108</td>\n",
       "    </tr>\n",
       "    <tr>\n",
       "      <th>1</th>\n",
       "      <td>14.0</td>\n",
       "      <td>19.742130</td>\n",
       "    </tr>\n",
       "    <tr>\n",
       "      <th>2</th>\n",
       "      <td>25.0</td>\n",
       "      <td>19.742130</td>\n",
       "    </tr>\n",
       "    <tr>\n",
       "      <th>3</th>\n",
       "      <td>21.0</td>\n",
       "      <td>19.846316</td>\n",
       "    </tr>\n",
       "    <tr>\n",
       "      <th>4</th>\n",
       "      <td>16.0</td>\n",
       "      <td>21.200736</td>\n",
       "    </tr>\n",
       "    <tr>\n",
       "      <th>...</th>\n",
       "      <td>...</td>\n",
       "      <td>...</td>\n",
       "    </tr>\n",
       "    <tr>\n",
       "      <th>1365</th>\n",
       "      <td>12.0</td>\n",
       "      <td>20.158874</td>\n",
       "    </tr>\n",
       "    <tr>\n",
       "      <th>1366</th>\n",
       "      <td>26.0</td>\n",
       "      <td>23.388645</td>\n",
       "    </tr>\n",
       "    <tr>\n",
       "      <th>1367</th>\n",
       "      <td>12.0</td>\n",
       "      <td>19.429571</td>\n",
       "    </tr>\n",
       "    <tr>\n",
       "      <th>1368</th>\n",
       "      <td>15.0</td>\n",
       "      <td>19.325385</td>\n",
       "    </tr>\n",
       "    <tr>\n",
       "      <th>1369</th>\n",
       "      <td>21.0</td>\n",
       "      <td>22.867714</td>\n",
       "    </tr>\n",
       "  </tbody>\n",
       "</table>\n",
       "<p>1370 rows × 2 columns</p>\n",
       "</div>"
      ],
      "text/plain": [
       "      Actual  Predicted\n",
       "0       30.0  21.409108\n",
       "1       14.0  19.742130\n",
       "2       25.0  19.742130\n",
       "3       21.0  19.846316\n",
       "4       16.0  21.200736\n",
       "...      ...        ...\n",
       "1365    12.0  20.158874\n",
       "1366    26.0  23.388645\n",
       "1367    12.0  19.429571\n",
       "1368    15.0  19.325385\n",
       "1369    21.0  22.867714\n",
       "\n",
       "[1370 rows x 2 columns]"
      ]
     },
     "execution_count": 25,
     "metadata": {},
     "output_type": "execute_result"
    }
   ],
   "source": [
    "df = pd.DataFrame({'Actual': y_test.flatten(), 'Predicted': y_pred.flatten()})\n",
    "df"
   ]
  },
  {
   "cell_type": "code",
   "execution_count": 26,
   "id": "b2ead586",
   "metadata": {},
   "outputs": [
    {
     "name": "stdout",
     "output_type": "stream",
     "text": [
      "Mean Absolute Error: 8.780414777354125\n",
      "Mean Squared Error: 173.62698389110147\n",
      "Root Mean Squared Error: 13.176759233252366\n"
     ]
    }
   ],
   "source": [
    "print('Mean Absolute Error:', metrics.mean_absolute_error(y_test, y_pred))  \n",
    "print('Mean Squared Error:', metrics.mean_squared_error(y_test, y_pred))  \n",
    "print('Root Mean Squared Error:', np.sqrt(metrics.mean_squared_error(y_test, y_pred)))"
   ]
  },
  {
   "cell_type": "markdown",
   "id": "5a880ced",
   "metadata": {},
   "source": [
    "## Now we decided we could use Linear Regression"
   ]
  },
  {
   "cell_type": "markdown",
   "id": "d6829315",
   "metadata": {},
   "source": [
    "## Sort the dataframe \n",
    "\n",
    "> Sort the dataframe according to week_number so that we can use test_train_split directly on the top portion of the dataframe as the training set by setting stratify = False and shuffle = False. There are many ways to doing this. "
   ]
  },
  {
   "cell_type": "code",
   "execution_count": 27,
   "id": "09640b5f",
   "metadata": {},
   "outputs": [
    {
     "data": {
      "text/html": [
       "<div>\n",
       "<style scoped>\n",
       "    .dataframe tbody tr th:only-of-type {\n",
       "        vertical-align: middle;\n",
       "    }\n",
       "\n",
       "    .dataframe tbody tr th {\n",
       "        vertical-align: top;\n",
       "    }\n",
       "\n",
       "    .dataframe thead th {\n",
       "        text-align: right;\n",
       "    }\n",
       "</style>\n",
       "<table border=\"1\" class=\"dataframe\">\n",
       "  <thead>\n",
       "    <tr style=\"text-align: right;\">\n",
       "      <th></th>\n",
       "      <th>uu_id</th>\n",
       "      <th>timeperiod</th>\n",
       "      <th>week_number</th>\n",
       "      <th>countyfips</th>\n",
       "      <th>tract</th>\n",
       "      <th>tract_name</th>\n",
       "      <th>total_claims</th>\n",
       "      <th>edu_8th_or_less</th>\n",
       "      <th>edu_grades_9_11</th>\n",
       "      <th>edu_hs_grad_equiv</th>\n",
       "      <th>...</th>\n",
       "      <th>gender_male</th>\n",
       "      <th>gender_na</th>\n",
       "      <th>race_amerindian</th>\n",
       "      <th>race_asian</th>\n",
       "      <th>race_black</th>\n",
       "      <th>race_noanswer</th>\n",
       "      <th>race_hawaiiannative</th>\n",
       "      <th>race_other</th>\n",
       "      <th>race_white</th>\n",
       "      <th>lag</th>\n",
       "    </tr>\n",
       "  </thead>\n",
       "  <tbody>\n",
       "    <tr>\n",
       "      <th>39313</th>\n",
       "      <td>6239669cbfe444abd0a46536a670d150</td>\n",
       "      <td>20220101</td>\n",
       "      <td>1</td>\n",
       "      <td>18039</td>\n",
       "      <td>400</td>\n",
       "      <td>Census Tract 4, Elkhart County, Indiana</td>\n",
       "      <td>16.0</td>\n",
       "      <td>0.0</td>\n",
       "      <td>NaN</td>\n",
       "      <td>NaN</td>\n",
       "      <td>...</td>\n",
       "      <td>NaN</td>\n",
       "      <td>0.0</td>\n",
       "      <td>0.0</td>\n",
       "      <td>NaN</td>\n",
       "      <td>0.0</td>\n",
       "      <td>0.0</td>\n",
       "      <td>0.0</td>\n",
       "      <td>NaN</td>\n",
       "      <td>13.0</td>\n",
       "      <td>NaN</td>\n",
       "    </tr>\n",
       "    <tr>\n",
       "      <th>69320</th>\n",
       "      <td>50b12b0d66623b613764bd10056a0807</td>\n",
       "      <td>20220101</td>\n",
       "      <td>1</td>\n",
       "      <td>18031</td>\n",
       "      <td>969300</td>\n",
       "      <td>Census Tract 9693, Decatur County, Indiana</td>\n",
       "      <td>13.0</td>\n",
       "      <td>0.0</td>\n",
       "      <td>NaN</td>\n",
       "      <td>NaN</td>\n",
       "      <td>...</td>\n",
       "      <td>NaN</td>\n",
       "      <td>0.0</td>\n",
       "      <td>0.0</td>\n",
       "      <td>0.0</td>\n",
       "      <td>0.0</td>\n",
       "      <td>0.0</td>\n",
       "      <td>0.0</td>\n",
       "      <td>0.0</td>\n",
       "      <td>13.0</td>\n",
       "      <td>15.0</td>\n",
       "    </tr>\n",
       "    <tr>\n",
       "      <th>15434</th>\n",
       "      <td>51a955afdcc0c4de1b57a881226925c0</td>\n",
       "      <td>20220101</td>\n",
       "      <td>1</td>\n",
       "      <td>18095</td>\n",
       "      <td>1300</td>\n",
       "      <td>Census Tract 13, Madison County, Indiana</td>\n",
       "      <td>24.0</td>\n",
       "      <td>0.0</td>\n",
       "      <td>NaN</td>\n",
       "      <td>11.0</td>\n",
       "      <td>...</td>\n",
       "      <td>NaN</td>\n",
       "      <td>0.0</td>\n",
       "      <td>0.0</td>\n",
       "      <td>0.0</td>\n",
       "      <td>NaN</td>\n",
       "      <td>0.0</td>\n",
       "      <td>0.0</td>\n",
       "      <td>0.0</td>\n",
       "      <td>NaN</td>\n",
       "      <td>13.0</td>\n",
       "    </tr>\n",
       "    <tr>\n",
       "      <th>23501</th>\n",
       "      <td>9200a2b83d869882f514fa76e6bcd05c</td>\n",
       "      <td>20220101</td>\n",
       "      <td>1</td>\n",
       "      <td>18035</td>\n",
       "      <td>2402</td>\n",
       "      <td>Census Tract 24.02, Delaware County, Indiana</td>\n",
       "      <td>22.0</td>\n",
       "      <td>0.0</td>\n",
       "      <td>NaN</td>\n",
       "      <td>13.0</td>\n",
       "      <td>...</td>\n",
       "      <td>NaN</td>\n",
       "      <td>0.0</td>\n",
       "      <td>0.0</td>\n",
       "      <td>0.0</td>\n",
       "      <td>NaN</td>\n",
       "      <td>0.0</td>\n",
       "      <td>0.0</td>\n",
       "      <td>NaN</td>\n",
       "      <td>16.0</td>\n",
       "      <td>24.0</td>\n",
       "    </tr>\n",
       "    <tr>\n",
       "      <th>17375</th>\n",
       "      <td>b98ffdcf812945f0f095c05722332358</td>\n",
       "      <td>20220101</td>\n",
       "      <td>1</td>\n",
       "      <td>18003</td>\n",
       "      <td>1700</td>\n",
       "      <td>Census Tract 17, Allen County, Indiana</td>\n",
       "      <td>14.0</td>\n",
       "      <td>0.0</td>\n",
       "      <td>NaN</td>\n",
       "      <td>NaN</td>\n",
       "      <td>...</td>\n",
       "      <td>NaN</td>\n",
       "      <td>0.0</td>\n",
       "      <td>0.0</td>\n",
       "      <td>0.0</td>\n",
       "      <td>NaN</td>\n",
       "      <td>0.0</td>\n",
       "      <td>0.0</td>\n",
       "      <td>NaN</td>\n",
       "      <td>NaN</td>\n",
       "      <td>22.0</td>\n",
       "    </tr>\n",
       "    <tr>\n",
       "      <th>...</th>\n",
       "      <td>...</td>\n",
       "      <td>...</td>\n",
       "      <td>...</td>\n",
       "      <td>...</td>\n",
       "      <td>...</td>\n",
       "      <td>...</td>\n",
       "      <td>...</td>\n",
       "      <td>...</td>\n",
       "      <td>...</td>\n",
       "      <td>...</td>\n",
       "      <td>...</td>\n",
       "      <td>...</td>\n",
       "      <td>...</td>\n",
       "      <td>...</td>\n",
       "      <td>...</td>\n",
       "      <td>...</td>\n",
       "      <td>...</td>\n",
       "      <td>...</td>\n",
       "      <td>...</td>\n",
       "      <td>...</td>\n",
       "      <td>...</td>\n",
       "    </tr>\n",
       "    <tr>\n",
       "      <th>19243</th>\n",
       "      <td>6e869e8356fa1fd6ba750b7c894ffc1c</td>\n",
       "      <td>20221008</td>\n",
       "      <td>41</td>\n",
       "      <td>18089</td>\n",
       "      <td>20100</td>\n",
       "      <td>Census Tract 201, Lake County, Indiana</td>\n",
       "      <td>10.0</td>\n",
       "      <td>0.0</td>\n",
       "      <td>0.0</td>\n",
       "      <td>NaN</td>\n",
       "      <td>...</td>\n",
       "      <td>NaN</td>\n",
       "      <td>0.0</td>\n",
       "      <td>0.0</td>\n",
       "      <td>0.0</td>\n",
       "      <td>NaN</td>\n",
       "      <td>NaN</td>\n",
       "      <td>0.0</td>\n",
       "      <td>0.0</td>\n",
       "      <td>NaN</td>\n",
       "      <td>12.0</td>\n",
       "    </tr>\n",
       "    <tr>\n",
       "      <th>58174</th>\n",
       "      <td>8267c703abd7db102110ec19c18ae372</td>\n",
       "      <td>20221008</td>\n",
       "      <td>41</td>\n",
       "      <td>18093</td>\n",
       "      <td>951200</td>\n",
       "      <td>Census Tract 9512, Lawrence County, Indiana</td>\n",
       "      <td>20.0</td>\n",
       "      <td>0.0</td>\n",
       "      <td>NaN</td>\n",
       "      <td>12.0</td>\n",
       "      <td>...</td>\n",
       "      <td>NaN</td>\n",
       "      <td>0.0</td>\n",
       "      <td>0.0</td>\n",
       "      <td>0.0</td>\n",
       "      <td>0.0</td>\n",
       "      <td>0.0</td>\n",
       "      <td>0.0</td>\n",
       "      <td>0.0</td>\n",
       "      <td>20.0</td>\n",
       "      <td>10.0</td>\n",
       "    </tr>\n",
       "    <tr>\n",
       "      <th>42840</th>\n",
       "      <td>7ee27423441d3bced123afcec6335da8</td>\n",
       "      <td>20221008</td>\n",
       "      <td>41</td>\n",
       "      <td>18089</td>\n",
       "      <td>41302</td>\n",
       "      <td>Census Tract 413.02, Lake County, Indiana</td>\n",
       "      <td>19.0</td>\n",
       "      <td>0.0</td>\n",
       "      <td>0.0</td>\n",
       "      <td>NaN</td>\n",
       "      <td>...</td>\n",
       "      <td>NaN</td>\n",
       "      <td>0.0</td>\n",
       "      <td>0.0</td>\n",
       "      <td>0.0</td>\n",
       "      <td>NaN</td>\n",
       "      <td>0.0</td>\n",
       "      <td>0.0</td>\n",
       "      <td>NaN</td>\n",
       "      <td>15.0</td>\n",
       "      <td>20.0</td>\n",
       "    </tr>\n",
       "    <tr>\n",
       "      <th>5626</th>\n",
       "      <td>f70960d492c2fd067680a14baa0f66e9</td>\n",
       "      <td>20221008</td>\n",
       "      <td>41</td>\n",
       "      <td>18167</td>\n",
       "      <td>10600</td>\n",
       "      <td>Census Tract 106, Vigo County, Indiana</td>\n",
       "      <td>16.0</td>\n",
       "      <td>0.0</td>\n",
       "      <td>NaN</td>\n",
       "      <td>NaN</td>\n",
       "      <td>...</td>\n",
       "      <td>NaN</td>\n",
       "      <td>0.0</td>\n",
       "      <td>0.0</td>\n",
       "      <td>0.0</td>\n",
       "      <td>0.0</td>\n",
       "      <td>NaN</td>\n",
       "      <td>0.0</td>\n",
       "      <td>NaN</td>\n",
       "      <td>NaN</td>\n",
       "      <td>11.0</td>\n",
       "    </tr>\n",
       "    <tr>\n",
       "      <th>24772</th>\n",
       "      <td>25a57fe39e03c632125308737a7d3769</td>\n",
       "      <td>20221008</td>\n",
       "      <td>41</td>\n",
       "      <td>18067</td>\n",
       "      <td>300</td>\n",
       "      <td>Census Tract 3, Howard County, Indiana</td>\n",
       "      <td>13.0</td>\n",
       "      <td>0.0</td>\n",
       "      <td>NaN</td>\n",
       "      <td>NaN</td>\n",
       "      <td>...</td>\n",
       "      <td>NaN</td>\n",
       "      <td>0.0</td>\n",
       "      <td>0.0</td>\n",
       "      <td>0.0</td>\n",
       "      <td>0.0</td>\n",
       "      <td>0.0</td>\n",
       "      <td>0.0</td>\n",
       "      <td>0.0</td>\n",
       "      <td>13.0</td>\n",
       "      <td>30.0</td>\n",
       "    </tr>\n",
       "  </tbody>\n",
       "</table>\n",
       "<p>34228 rows × 26 columns</p>\n",
       "</div>"
      ],
      "text/plain": [
       "                                  uu_id  timeperiod  week_number  countyfips  \\\n",
       "39313  6239669cbfe444abd0a46536a670d150    20220101            1       18039   \n",
       "69320  50b12b0d66623b613764bd10056a0807    20220101            1       18031   \n",
       "15434  51a955afdcc0c4de1b57a881226925c0    20220101            1       18095   \n",
       "23501  9200a2b83d869882f514fa76e6bcd05c    20220101            1       18035   \n",
       "17375  b98ffdcf812945f0f095c05722332358    20220101            1       18003   \n",
       "...                                 ...         ...          ...         ...   \n",
       "19243  6e869e8356fa1fd6ba750b7c894ffc1c    20221008           41       18089   \n",
       "58174  8267c703abd7db102110ec19c18ae372    20221008           41       18093   \n",
       "42840  7ee27423441d3bced123afcec6335da8    20221008           41       18089   \n",
       "5626   f70960d492c2fd067680a14baa0f66e9    20221008           41       18167   \n",
       "24772  25a57fe39e03c632125308737a7d3769    20221008           41       18067   \n",
       "\n",
       "        tract                                    tract_name  total_claims  \\\n",
       "39313     400       Census Tract 4, Elkhart County, Indiana          16.0   \n",
       "69320  969300    Census Tract 9693, Decatur County, Indiana          13.0   \n",
       "15434    1300      Census Tract 13, Madison County, Indiana          24.0   \n",
       "23501    2402  Census Tract 24.02, Delaware County, Indiana          22.0   \n",
       "17375    1700        Census Tract 17, Allen County, Indiana          14.0   \n",
       "...       ...                                           ...           ...   \n",
       "19243   20100        Census Tract 201, Lake County, Indiana          10.0   \n",
       "58174  951200   Census Tract 9512, Lawrence County, Indiana          20.0   \n",
       "42840   41302     Census Tract 413.02, Lake County, Indiana          19.0   \n",
       "5626    10600        Census Tract 106, Vigo County, Indiana          16.0   \n",
       "24772     300        Census Tract 3, Howard County, Indiana          13.0   \n",
       "\n",
       "       edu_8th_or_less  edu_grades_9_11  edu_hs_grad_equiv  ...  gender_male  \\\n",
       "39313              0.0              NaN                NaN  ...          NaN   \n",
       "69320              0.0              NaN                NaN  ...          NaN   \n",
       "15434              0.0              NaN               11.0  ...          NaN   \n",
       "23501              0.0              NaN               13.0  ...          NaN   \n",
       "17375              0.0              NaN                NaN  ...          NaN   \n",
       "...                ...              ...                ...  ...          ...   \n",
       "19243              0.0              0.0                NaN  ...          NaN   \n",
       "58174              0.0              NaN               12.0  ...          NaN   \n",
       "42840              0.0              0.0                NaN  ...          NaN   \n",
       "5626               0.0              NaN                NaN  ...          NaN   \n",
       "24772              0.0              NaN                NaN  ...          NaN   \n",
       "\n",
       "       gender_na race_amerindian race_asian race_black  race_noanswer  \\\n",
       "39313        0.0             0.0        NaN        0.0            0.0   \n",
       "69320        0.0             0.0        0.0        0.0            0.0   \n",
       "15434        0.0             0.0        0.0        NaN            0.0   \n",
       "23501        0.0             0.0        0.0        NaN            0.0   \n",
       "17375        0.0             0.0        0.0        NaN            0.0   \n",
       "...          ...             ...        ...        ...            ...   \n",
       "19243        0.0             0.0        0.0        NaN            NaN   \n",
       "58174        0.0             0.0        0.0        0.0            0.0   \n",
       "42840        0.0             0.0        0.0        NaN            0.0   \n",
       "5626         0.0             0.0        0.0        0.0            NaN   \n",
       "24772        0.0             0.0        0.0        0.0            0.0   \n",
       "\n",
       "       race_hawaiiannative  race_other  race_white   lag  \n",
       "39313                  0.0         NaN        13.0   NaN  \n",
       "69320                  0.0         0.0        13.0  15.0  \n",
       "15434                  0.0         0.0         NaN  13.0  \n",
       "23501                  0.0         NaN        16.0  24.0  \n",
       "17375                  0.0         NaN         NaN  22.0  \n",
       "...                    ...         ...         ...   ...  \n",
       "19243                  0.0         0.0         NaN  12.0  \n",
       "58174                  0.0         0.0        20.0  10.0  \n",
       "42840                  0.0         NaN        15.0  20.0  \n",
       "5626                   0.0         NaN         NaN  11.0  \n",
       "24772                  0.0         0.0        13.0  30.0  \n",
       "\n",
       "[34228 rows x 26 columns]"
      ]
     },
     "execution_count": 27,
     "metadata": {},
     "output_type": "execute_result"
    }
   ],
   "source": [
    "data = data.sort_values('week_number')\n",
    "data"
   ]
  },
  {
   "cell_type": "markdown",
   "id": "a3b9d0a1",
   "metadata": {},
   "source": [
    "## Function to print the dataframe according to the desired output format. "
   ]
  },
  {
   "cell_type": "code",
   "execution_count": 28,
   "id": "e8bd6842",
   "metadata": {},
   "outputs": [],
   "source": [
    "def printexcel(result, filename):\n",
    "    frame = pd.DataFrame(list(result.items()), columns=['uu_id','total_claims'])\n",
    "    frame['total_claims'] =  frame['total_claims'].apply(lambda x: str(x).replace('[','').replace(']',''))\n",
    "    frame['total_claims'] = frame['total_claims'].astype(float)\n",
    "    frame.to_csv(filename, index=False)"
   ]
  },
  {
   "cell_type": "markdown",
   "id": "7b807cc9",
   "metadata": {},
   "source": [
    "## Function to predict week 39 based on week 1 and week 38"
   ]
  },
  {
   "cell_type": "code",
   "execution_count": 29,
   "id": "ec24e3e5",
   "metadata": {},
   "outputs": [],
   "source": [
    "week39  = data[data['week_number'] == 39]"
   ]
  },
  {
   "cell_type": "code",
   "execution_count": 30,
   "id": "6f6007a4",
   "metadata": {},
   "outputs": [],
   "source": [
    "data_week_38 = data[data['week_number'] < 39]"
   ]
  },
  {
   "cell_type": "code",
   "execution_count": 31,
   "id": "5bf7b270",
   "metadata": {},
   "outputs": [],
   "source": [
    "common = set(week39['uu_id']).intersection(data_week_38['uu_id'])\n",
    "\n",
    "out = pd.concat([week39[week39['uu_id'].isin(common)], data_week_38[data_week_38['uu_id'].isin(common)]])\n",
    "out = out.sort_values('week_number')\n",
    "week_1_38 = out[out['week_number'] < 39]\n",
    "week_39 = out[out['week_number'] == 39]"
   ]
  },
  {
   "cell_type": "markdown",
   "id": "f510b068",
   "metadata": {},
   "source": [
    "## Get only week 39 data "
   ]
  },
  {
   "cell_type": "code",
   "execution_count": 32,
   "id": "31e1d01e",
   "metadata": {},
   "outputs": [
    {
     "name": "stdout",
     "output_type": "stream",
     "text": [
      "uu_id\n",
      "005be9532fd717dc36d4be318fd9ad25     [54.01802943581359]\n",
      "0068776d88cb6d1ab5c7059fbd3dd3cb     [77.86446568201565]\n",
      "00d85dff1c1f21f01f4f5f0bd683d32b    [28.336013261500213]\n",
      "00eefd4f45685ac82f7df022c30b3810     [32.84210526315789]\n",
      "00f962ce727b8dbbf20925abd5a253dd     [53.51033499643623]\n",
      "                                            ...         \n",
      "fd38d1859753f17df3c5f4df40197795    [23.082101870775027]\n",
      "fd536ceeba7fcbabdd0444b1eba6cab4    [28.882397003745318]\n",
      "fd613eba867c6ad7350a937f743b88f2     [29.11840600265362]\n",
      "fe355ff27aa8b2242a558d5e3ec99c18    [20.679226896215695]\n",
      "fec479d0202d6e1e3f051a9ee902ff5d    [41.506170986982795]\n",
      "Length: 574, dtype: object\n"
     ]
    }
   ],
   "source": [
    "def regressionsquare(data, yvar, xvars):\n",
    "    X_train, X_test, y_train, y_test = train_test_split(data[xvars], data[yvar], train_size=0.9999, random_state=42, shuffle=False, stratify=None)\n",
    "    result = sm.OLS(y_train, X_train).fit()\n",
    "    predictions = result.predict(39)\n",
    "    return predictions\n",
    "result = week_1_38.groupby('uu_id').apply(regressionsquare, 'total_claims', 'week_number')\n",
    "print(result)"
   ]
  },
  {
   "cell_type": "code",
   "execution_count": 33,
   "id": "3de35571",
   "metadata": {},
   "outputs": [],
   "source": [
    "result_dict1 = week_1_38.groupby('uu_id').apply(regressionsquare, 'total_claims', 'week_number').to_dict()\n",
    "printexcel(result_dict1, 'model-39-lag1.csv')"
   ]
  },
  {
   "cell_type": "markdown",
   "id": "283b0c63",
   "metadata": {},
   "source": [
    "## Read the output file to compare actual and predicted value in week 39"
   ]
  },
  {
   "cell_type": "code",
   "execution_count": 34,
   "id": "fa5f51e2",
   "metadata": {},
   "outputs": [
    {
     "data": {
      "text/html": [
       "<div>\n",
       "<style scoped>\n",
       "    .dataframe tbody tr th:only-of-type {\n",
       "        vertical-align: middle;\n",
       "    }\n",
       "\n",
       "    .dataframe tbody tr th {\n",
       "        vertical-align: top;\n",
       "    }\n",
       "\n",
       "    .dataframe thead th {\n",
       "        text-align: right;\n",
       "    }\n",
       "</style>\n",
       "<table border=\"1\" class=\"dataframe\">\n",
       "  <thead>\n",
       "    <tr style=\"text-align: right;\">\n",
       "      <th></th>\n",
       "      <th>uu_id</th>\n",
       "      <th>total_claims</th>\n",
       "    </tr>\n",
       "  </thead>\n",
       "  <tbody>\n",
       "    <tr>\n",
       "      <th>0</th>\n",
       "      <td>005be9532fd717dc36d4be318fd9ad25</td>\n",
       "      <td>54.018029</td>\n",
       "    </tr>\n",
       "    <tr>\n",
       "      <th>1</th>\n",
       "      <td>0068776d88cb6d1ab5c7059fbd3dd3cb</td>\n",
       "      <td>77.864466</td>\n",
       "    </tr>\n",
       "    <tr>\n",
       "      <th>2</th>\n",
       "      <td>00d85dff1c1f21f01f4f5f0bd683d32b</td>\n",
       "      <td>28.336013</td>\n",
       "    </tr>\n",
       "    <tr>\n",
       "      <th>3</th>\n",
       "      <td>00eefd4f45685ac82f7df022c30b3810</td>\n",
       "      <td>32.842105</td>\n",
       "    </tr>\n",
       "    <tr>\n",
       "      <th>4</th>\n",
       "      <td>00f962ce727b8dbbf20925abd5a253dd</td>\n",
       "      <td>53.510335</td>\n",
       "    </tr>\n",
       "    <tr>\n",
       "      <th>...</th>\n",
       "      <td>...</td>\n",
       "      <td>...</td>\n",
       "    </tr>\n",
       "    <tr>\n",
       "      <th>569</th>\n",
       "      <td>fd38d1859753f17df3c5f4df40197795</td>\n",
       "      <td>23.082102</td>\n",
       "    </tr>\n",
       "    <tr>\n",
       "      <th>570</th>\n",
       "      <td>fd536ceeba7fcbabdd0444b1eba6cab4</td>\n",
       "      <td>28.882397</td>\n",
       "    </tr>\n",
       "    <tr>\n",
       "      <th>571</th>\n",
       "      <td>fd613eba867c6ad7350a937f743b88f2</td>\n",
       "      <td>29.118406</td>\n",
       "    </tr>\n",
       "    <tr>\n",
       "      <th>572</th>\n",
       "      <td>fe355ff27aa8b2242a558d5e3ec99c18</td>\n",
       "      <td>20.679227</td>\n",
       "    </tr>\n",
       "    <tr>\n",
       "      <th>573</th>\n",
       "      <td>fec479d0202d6e1e3f051a9ee902ff5d</td>\n",
       "      <td>41.506171</td>\n",
       "    </tr>\n",
       "  </tbody>\n",
       "</table>\n",
       "<p>574 rows × 2 columns</p>\n",
       "</div>"
      ],
      "text/plain": [
       "                                uu_id  total_claims\n",
       "0    005be9532fd717dc36d4be318fd9ad25     54.018029\n",
       "1    0068776d88cb6d1ab5c7059fbd3dd3cb     77.864466\n",
       "2    00d85dff1c1f21f01f4f5f0bd683d32b     28.336013\n",
       "3    00eefd4f45685ac82f7df022c30b3810     32.842105\n",
       "4    00f962ce727b8dbbf20925abd5a253dd     53.510335\n",
       "..                                ...           ...\n",
       "569  fd38d1859753f17df3c5f4df40197795     23.082102\n",
       "570  fd536ceeba7fcbabdd0444b1eba6cab4     28.882397\n",
       "571  fd613eba867c6ad7350a937f743b88f2     29.118406\n",
       "572  fe355ff27aa8b2242a558d5e3ec99c18     20.679227\n",
       "573  fec479d0202d6e1e3f051a9ee902ff5d     41.506171\n",
       "\n",
       "[574 rows x 2 columns]"
      ]
     },
     "execution_count": 34,
     "metadata": {},
     "output_type": "execute_result"
    }
   ],
   "source": [
    "df = pd.read_csv('model-39-lag1.csv')\n",
    "df"
   ]
  },
  {
   "cell_type": "markdown",
   "id": "b02fe60b",
   "metadata": {},
   "source": [
    "## Predicted value for week 39 ( lag 1 )"
   ]
  },
  {
   "cell_type": "code",
   "execution_count": 35,
   "id": "c285fadf",
   "metadata": {},
   "outputs": [],
   "source": [
    "def mean_absolute_percentage_error(y_true, y_pred): \n",
    "    y_true, y_pred = np.array(y_true), np.array(y_pred)\n",
    "    return np.mean(np.abs((y_true - y_pred) / y_true)) * 100"
   ]
  },
  {
   "cell_type": "code",
   "execution_count": 36,
   "id": "c7f6632f",
   "metadata": {},
   "outputs": [],
   "source": [
    "matching_39= week_39.loc[week_39['uu_id'].isin(df['uu_id'])]\n",
    "matching_39 = matching_39.drop_duplicates('uu_id', keep='last')\n"
   ]
  },
  {
   "cell_type": "code",
   "execution_count": 37,
   "id": "b1c6c6df",
   "metadata": {},
   "outputs": [
    {
     "data": {
      "text/plain": [
       "107.71579916477023"
      ]
     },
     "execution_count": 37,
     "metadata": {},
     "output_type": "execute_result"
    }
   ],
   "source": [
    "mean_absolute_percentage_error(matching_39['total_claims'], df['total_claims'])"
   ]
  },
  {
   "cell_type": "code",
   "execution_count": 38,
   "id": "46459796",
   "metadata": {},
   "outputs": [
    {
     "data": {
      "text/plain": [
       "364.6717176909812"
      ]
     },
     "execution_count": 38,
     "metadata": {},
     "output_type": "execute_result"
    }
   ],
   "source": [
    "mean_squared_error(matching_39['total_claims'], df['total_claims'])"
   ]
  },
  {
   "cell_type": "markdown",
   "id": "7813c9c1",
   "metadata": {},
   "source": [
    "## Function to predict week 40 based on week 1 to week 39"
   ]
  },
  {
   "cell_type": "code",
   "execution_count": 39,
   "id": "f410c288",
   "metadata": {},
   "outputs": [],
   "source": [
    "week40  = data[data['week_number'] == 40]"
   ]
  },
  {
   "cell_type": "code",
   "execution_count": 40,
   "id": "44cdcea4",
   "metadata": {},
   "outputs": [],
   "source": [
    "data_week_39 = data[data['week_number'] < 40]"
   ]
  },
  {
   "cell_type": "code",
   "execution_count": 41,
   "id": "17a57e55",
   "metadata": {},
   "outputs": [],
   "source": [
    "common = set(week40['uu_id']).intersection(data_week_39['uu_id'])\n",
    "\n",
    "out = pd.concat([week40[week40['uu_id'].isin(common)], data_week_39[data_week_39['uu_id'].isin(common)]])\n",
    "out = out.sort_values('week_number')\n",
    "week_1_39 = out[out['week_number'] < 40]\n",
    "week_40 = out[out['week_number'] == 40]"
   ]
  },
  {
   "cell_type": "markdown",
   "id": "3e937403",
   "metadata": {},
   "source": [
    "## Get only week 40 data"
   ]
  },
  {
   "cell_type": "code",
   "execution_count": 42,
   "id": "1dd98e41",
   "metadata": {},
   "outputs": [
    {
     "name": "stdout",
     "output_type": "stream",
     "text": [
      "uu_id\n",
      "001cd9ae23064d7f0fd3cd327c873d8d     [17.04122657580919]\n",
      "005be9532fd717dc36d4be318fd9ad25    [53.272561531449405]\n",
      "007c1caccff1fbb3a0b8a10790f77141    [27.166219607164486]\n",
      "00d85dff1c1f21f01f4f5f0bd683d32b     [27.30097804022883]\n",
      "00f962ce727b8dbbf20925abd5a253dd    [55.231922219971636]\n",
      "                                            ...         \n",
      "fd613eba867c6ad7350a937f743b88f2    [28.097655305777145]\n",
      "fe15d3439cc1ece652d00c4650e919da    [54.678536102868414]\n",
      "fe355ff27aa8b2242a558d5e3ec99c18    [20.214592274678115]\n",
      "fec479d0202d6e1e3f051a9ee902ff5d    [40.956046181891836]\n",
      "ffbc87dc4bde6828daff6ad43e12db4a     [19.02553108555837]\n",
      "Length: 619, dtype: object\n"
     ]
    }
   ],
   "source": [
    "def regressionsquare(data, yvar, xvars):\n",
    "    X_train, X_test, y_train, y_test = train_test_split(data[xvars], data[yvar], train_size=0.9999, random_state=42, shuffle=False, stratify=None)\n",
    "    result = sm.OLS(y_train, X_train).fit()\n",
    "    predictions = result.predict(40)\n",
    "    return predictions\n",
    "result = week_1_39.groupby('uu_id').apply(regressionsquare, 'total_claims', 'week_number')\n",
    "print(result)"
   ]
  },
  {
   "cell_type": "code",
   "execution_count": 43,
   "id": "b2e469b6",
   "metadata": {},
   "outputs": [],
   "source": [
    "result_dict1 = week_1_39.groupby('uu_id').apply(regressionsquare, 'total_claims', 'week_number').to_dict()\n",
    "printexcel(result_dict1, 'model-40-lag1.csv')"
   ]
  },
  {
   "cell_type": "code",
   "execution_count": 44,
   "id": "5007d293",
   "metadata": {},
   "outputs": [
    {
     "data": {
      "text/html": [
       "<div>\n",
       "<style scoped>\n",
       "    .dataframe tbody tr th:only-of-type {\n",
       "        vertical-align: middle;\n",
       "    }\n",
       "\n",
       "    .dataframe tbody tr th {\n",
       "        vertical-align: top;\n",
       "    }\n",
       "\n",
       "    .dataframe thead th {\n",
       "        text-align: right;\n",
       "    }\n",
       "</style>\n",
       "<table border=\"1\" class=\"dataframe\">\n",
       "  <thead>\n",
       "    <tr style=\"text-align: right;\">\n",
       "      <th></th>\n",
       "      <th>uu_id</th>\n",
       "      <th>total_claims</th>\n",
       "    </tr>\n",
       "  </thead>\n",
       "  <tbody>\n",
       "    <tr>\n",
       "      <th>0</th>\n",
       "      <td>001cd9ae23064d7f0fd3cd327c873d8d</td>\n",
       "      <td>17.041227</td>\n",
       "    </tr>\n",
       "    <tr>\n",
       "      <th>1</th>\n",
       "      <td>005be9532fd717dc36d4be318fd9ad25</td>\n",
       "      <td>53.272562</td>\n",
       "    </tr>\n",
       "    <tr>\n",
       "      <th>2</th>\n",
       "      <td>007c1caccff1fbb3a0b8a10790f77141</td>\n",
       "      <td>27.166220</td>\n",
       "    </tr>\n",
       "    <tr>\n",
       "      <th>3</th>\n",
       "      <td>00d85dff1c1f21f01f4f5f0bd683d32b</td>\n",
       "      <td>27.300978</td>\n",
       "    </tr>\n",
       "    <tr>\n",
       "      <th>4</th>\n",
       "      <td>00f962ce727b8dbbf20925abd5a253dd</td>\n",
       "      <td>55.231922</td>\n",
       "    </tr>\n",
       "    <tr>\n",
       "      <th>...</th>\n",
       "      <td>...</td>\n",
       "      <td>...</td>\n",
       "    </tr>\n",
       "    <tr>\n",
       "      <th>614</th>\n",
       "      <td>fd613eba867c6ad7350a937f743b88f2</td>\n",
       "      <td>28.097655</td>\n",
       "    </tr>\n",
       "    <tr>\n",
       "      <th>615</th>\n",
       "      <td>fe15d3439cc1ece652d00c4650e919da</td>\n",
       "      <td>54.678536</td>\n",
       "    </tr>\n",
       "    <tr>\n",
       "      <th>616</th>\n",
       "      <td>fe355ff27aa8b2242a558d5e3ec99c18</td>\n",
       "      <td>20.214592</td>\n",
       "    </tr>\n",
       "    <tr>\n",
       "      <th>617</th>\n",
       "      <td>fec479d0202d6e1e3f051a9ee902ff5d</td>\n",
       "      <td>40.956046</td>\n",
       "    </tr>\n",
       "    <tr>\n",
       "      <th>618</th>\n",
       "      <td>ffbc87dc4bde6828daff6ad43e12db4a</td>\n",
       "      <td>19.025531</td>\n",
       "    </tr>\n",
       "  </tbody>\n",
       "</table>\n",
       "<p>619 rows × 2 columns</p>\n",
       "</div>"
      ],
      "text/plain": [
       "                                uu_id  total_claims\n",
       "0    001cd9ae23064d7f0fd3cd327c873d8d     17.041227\n",
       "1    005be9532fd717dc36d4be318fd9ad25     53.272562\n",
       "2    007c1caccff1fbb3a0b8a10790f77141     27.166220\n",
       "3    00d85dff1c1f21f01f4f5f0bd683d32b     27.300978\n",
       "4    00f962ce727b8dbbf20925abd5a253dd     55.231922\n",
       "..                                ...           ...\n",
       "614  fd613eba867c6ad7350a937f743b88f2     28.097655\n",
       "615  fe15d3439cc1ece652d00c4650e919da     54.678536\n",
       "616  fe355ff27aa8b2242a558d5e3ec99c18     20.214592\n",
       "617  fec479d0202d6e1e3f051a9ee902ff5d     40.956046\n",
       "618  ffbc87dc4bde6828daff6ad43e12db4a     19.025531\n",
       "\n",
       "[619 rows x 2 columns]"
      ]
     },
     "execution_count": 44,
     "metadata": {},
     "output_type": "execute_result"
    }
   ],
   "source": [
    "df = pd.read_csv('model-40-lag1.csv')\n",
    "df"
   ]
  },
  {
   "cell_type": "markdown",
   "id": "65f61784",
   "metadata": {},
   "source": [
    "## Predicted value for week 40 ( lag 1 )"
   ]
  },
  {
   "cell_type": "code",
   "execution_count": 45,
   "id": "887a5b31",
   "metadata": {},
   "outputs": [],
   "source": [
    "def mean_absolute_percentage_error(y_true, y_pred): \n",
    "    y_true, y_pred = np.array(y_true), np.array(y_pred)\n",
    "    return np.mean(np.abs((y_true - y_pred) / y_true)) * 100"
   ]
  },
  {
   "cell_type": "code",
   "execution_count": 46,
   "id": "00d1b107",
   "metadata": {},
   "outputs": [],
   "source": [
    "matching_40 = week_40.loc[week_40['uu_id'].isin(df['uu_id'])]\n",
    "matching_40 = matching_40.drop_duplicates('uu_id', keep='last')"
   ]
  },
  {
   "cell_type": "code",
   "execution_count": 47,
   "id": "d6b17c6a",
   "metadata": {},
   "outputs": [
    {
     "data": {
      "text/plain": [
       "102.67477348262881"
      ]
     },
     "execution_count": 47,
     "metadata": {},
     "output_type": "execute_result"
    }
   ],
   "source": [
    "mean_absolute_percentage_error(matching_40['total_claims'], df['total_claims'])"
   ]
  },
  {
   "cell_type": "code",
   "execution_count": 48,
   "id": "ee153313",
   "metadata": {},
   "outputs": [
    {
     "data": {
      "text/plain": [
       "481.4610021793134"
      ]
     },
     "execution_count": 48,
     "metadata": {},
     "output_type": "execute_result"
    }
   ],
   "source": [
    "mean_squared_error(matching_40['total_claims'], df['total_claims'])"
   ]
  },
  {
   "cell_type": "markdown",
   "id": "5df5b400",
   "metadata": {},
   "source": [
    "## Function to predict week 41 ( lag 1 ) based on week 1 and week 40 data"
   ]
  },
  {
   "cell_type": "code",
   "execution_count": 49,
   "id": "f63ecbcd",
   "metadata": {},
   "outputs": [],
   "source": [
    "week41  = data[data['week_number'] == 41]"
   ]
  },
  {
   "cell_type": "code",
   "execution_count": 50,
   "id": "c35decfb",
   "metadata": {},
   "outputs": [],
   "source": [
    "data_week_40 = data[data['week_number'] < 41]"
   ]
  },
  {
   "cell_type": "code",
   "execution_count": 51,
   "id": "4d6d7995",
   "metadata": {},
   "outputs": [],
   "source": [
    "common = set(week41['uu_id']).intersection(data_week_40['uu_id'])\n",
    "\n",
    "out = pd.concat([week41[week41['uu_id'].isin(common)], data_week_40[data_week_40['uu_id'].isin(common)]])\n",
    "out = out.sort_values('week_number')\n",
    "week_1_40 = out[out['week_number'] < 41]\n",
    "week_41 = out[out['week_number'] == 41]"
   ]
  },
  {
   "cell_type": "markdown",
   "id": "a6cb7c21",
   "metadata": {},
   "source": [
    "## Get only week 41 data ( lag 1 )"
   ]
  },
  {
   "cell_type": "code",
   "execution_count": 52,
   "id": "5fcb197c",
   "metadata": {},
   "outputs": [
    {
     "name": "stdout",
     "output_type": "stream",
     "text": [
      "uu_id\n",
      "001cd9ae23064d7f0fd3cd327c873d8d      [16.4472035667927]\n",
      "005be9532fd717dc36d4be318fd9ad25     [51.99963988738295]\n",
      "0068776d88cb6d1ab5c7059fbd3dd3cb    [51.718829811934086]\n",
      "007c1caccff1fbb3a0b8a10790f77141    [24.523974261399015]\n",
      "009683350b175edfc6414d664e4ba873     [26.23840650119248]\n",
      "                                            ...         \n",
      "fd38d1859753f17df3c5f4df40197795    [23.815889628924836]\n",
      "fd613eba867c6ad7350a937f743b88f2    [27.146011523458473]\n",
      "fe355ff27aa8b2242a558d5e3ec99c18    [20.669462882273894]\n",
      "fec22e0c67a77bb3d5be2949caddb035     [31.59440769693325]\n",
      "fec479d0202d6e1e3f051a9ee902ff5d      [41.0062608801881]\n",
      "Length: 590, dtype: object\n"
     ]
    }
   ],
   "source": [
    "def regressionsquare(data, yvar, xvars):\n",
    "    X_train, X_test, y_train, y_test = train_test_split(data[xvars], data[yvar], train_size=0.9999, random_state=42, shuffle=False, stratify=None)\n",
    "    result = sm.OLS(y_train, X_train).fit()\n",
    "    predictions = result.predict(41)\n",
    "    return predictions\n",
    "result = week_1_40.groupby('uu_id').apply(regressionsquare, 'total_claims', 'week_number')\n",
    "print(result)"
   ]
  },
  {
   "cell_type": "code",
   "execution_count": 53,
   "id": "09ee922c",
   "metadata": {},
   "outputs": [],
   "source": [
    "result_dict1 = week_1_40.groupby('uu_id').apply(regressionsquare, 'total_claims', 'week_number').to_dict()\n",
    "printexcel(result_dict1, 'model-41-lag1.csv')"
   ]
  },
  {
   "cell_type": "code",
   "execution_count": 54,
   "id": "aaa5f447",
   "metadata": {},
   "outputs": [
    {
     "data": {
      "text/html": [
       "<div>\n",
       "<style scoped>\n",
       "    .dataframe tbody tr th:only-of-type {\n",
       "        vertical-align: middle;\n",
       "    }\n",
       "\n",
       "    .dataframe tbody tr th {\n",
       "        vertical-align: top;\n",
       "    }\n",
       "\n",
       "    .dataframe thead th {\n",
       "        text-align: right;\n",
       "    }\n",
       "</style>\n",
       "<table border=\"1\" class=\"dataframe\">\n",
       "  <thead>\n",
       "    <tr style=\"text-align: right;\">\n",
       "      <th></th>\n",
       "      <th>uu_id</th>\n",
       "      <th>total_claims</th>\n",
       "    </tr>\n",
       "  </thead>\n",
       "  <tbody>\n",
       "    <tr>\n",
       "      <th>0</th>\n",
       "      <td>001cd9ae23064d7f0fd3cd327c873d8d</td>\n",
       "      <td>16.447204</td>\n",
       "    </tr>\n",
       "    <tr>\n",
       "      <th>1</th>\n",
       "      <td>005be9532fd717dc36d4be318fd9ad25</td>\n",
       "      <td>51.999640</td>\n",
       "    </tr>\n",
       "    <tr>\n",
       "      <th>2</th>\n",
       "      <td>0068776d88cb6d1ab5c7059fbd3dd3cb</td>\n",
       "      <td>51.718830</td>\n",
       "    </tr>\n",
       "    <tr>\n",
       "      <th>3</th>\n",
       "      <td>007c1caccff1fbb3a0b8a10790f77141</td>\n",
       "      <td>24.523974</td>\n",
       "    </tr>\n",
       "    <tr>\n",
       "      <th>4</th>\n",
       "      <td>009683350b175edfc6414d664e4ba873</td>\n",
       "      <td>26.238406</td>\n",
       "    </tr>\n",
       "    <tr>\n",
       "      <th>...</th>\n",
       "      <td>...</td>\n",
       "      <td>...</td>\n",
       "    </tr>\n",
       "    <tr>\n",
       "      <th>585</th>\n",
       "      <td>fd38d1859753f17df3c5f4df40197795</td>\n",
       "      <td>23.815890</td>\n",
       "    </tr>\n",
       "    <tr>\n",
       "      <th>586</th>\n",
       "      <td>fd613eba867c6ad7350a937f743b88f2</td>\n",
       "      <td>27.146012</td>\n",
       "    </tr>\n",
       "    <tr>\n",
       "      <th>587</th>\n",
       "      <td>fe355ff27aa8b2242a558d5e3ec99c18</td>\n",
       "      <td>20.669463</td>\n",
       "    </tr>\n",
       "    <tr>\n",
       "      <th>588</th>\n",
       "      <td>fec22e0c67a77bb3d5be2949caddb035</td>\n",
       "      <td>31.594408</td>\n",
       "    </tr>\n",
       "    <tr>\n",
       "      <th>589</th>\n",
       "      <td>fec479d0202d6e1e3f051a9ee902ff5d</td>\n",
       "      <td>41.006261</td>\n",
       "    </tr>\n",
       "  </tbody>\n",
       "</table>\n",
       "<p>590 rows × 2 columns</p>\n",
       "</div>"
      ],
      "text/plain": [
       "                                uu_id  total_claims\n",
       "0    001cd9ae23064d7f0fd3cd327c873d8d     16.447204\n",
       "1    005be9532fd717dc36d4be318fd9ad25     51.999640\n",
       "2    0068776d88cb6d1ab5c7059fbd3dd3cb     51.718830\n",
       "3    007c1caccff1fbb3a0b8a10790f77141     24.523974\n",
       "4    009683350b175edfc6414d664e4ba873     26.238406\n",
       "..                                ...           ...\n",
       "585  fd38d1859753f17df3c5f4df40197795     23.815890\n",
       "586  fd613eba867c6ad7350a937f743b88f2     27.146012\n",
       "587  fe355ff27aa8b2242a558d5e3ec99c18     20.669463\n",
       "588  fec22e0c67a77bb3d5be2949caddb035     31.594408\n",
       "589  fec479d0202d6e1e3f051a9ee902ff5d     41.006261\n",
       "\n",
       "[590 rows x 2 columns]"
      ]
     },
     "execution_count": 54,
     "metadata": {},
     "output_type": "execute_result"
    }
   ],
   "source": [
    "df = pd.read_csv('model-41-lag1.csv')\n",
    "df"
   ]
  },
  {
   "cell_type": "markdown",
   "id": "852588f7",
   "metadata": {},
   "source": [
    "## Predicted value for week 41 ( lag 1 )"
   ]
  },
  {
   "cell_type": "code",
   "execution_count": 55,
   "id": "476ba222",
   "metadata": {},
   "outputs": [],
   "source": [
    "def mean_absolute_percentage_error(y_true, y_pred): \n",
    "    y_true, y_pred = np.array(y_true), np.array(y_pred)\n",
    "    return np.mean(np.abs((y_true - y_pred) / y_true)) * 100"
   ]
  },
  {
   "cell_type": "code",
   "execution_count": 56,
   "id": "a4694bfd",
   "metadata": {},
   "outputs": [],
   "source": [
    "matching_41 = week_41.loc[week_41['uu_id'].isin(df['uu_id'])]\n",
    "matching_41 = matching_41.drop_duplicates('uu_id', keep='last')"
   ]
  },
  {
   "cell_type": "code",
   "execution_count": 57,
   "id": "944e54d9",
   "metadata": {},
   "outputs": [
    {
     "data": {
      "text/plain": [
       "102.01346026288667"
      ]
     },
     "execution_count": 57,
     "metadata": {},
     "output_type": "execute_result"
    }
   ],
   "source": [
    "mean_absolute_percentage_error(matching_41['total_claims'], df['total_claims'])"
   ]
  },
  {
   "cell_type": "code",
   "execution_count": 58,
   "id": "e232f2da",
   "metadata": {},
   "outputs": [
    {
     "data": {
      "text/plain": [
       "324.96731250611373"
      ]
     },
     "execution_count": 58,
     "metadata": {},
     "output_type": "execute_result"
    }
   ],
   "source": [
    "mean_squared_error(matching_41['total_claims'], df['total_claims'])"
   ]
  },
  {
   "cell_type": "markdown",
   "id": "7b08ab9f",
   "metadata": {},
   "source": [
    "> Comment: MAPE and MSPE are the lowest when we ask participants to predict week 41 with week 1 - week 40 data ( lag 1 week ). "
   ]
  },
  {
   "cell_type": "markdown",
   "id": "e3315fe3",
   "metadata": {},
   "source": [
    "## Two Lags"
   ]
  },
  {
   "cell_type": "markdown",
   "id": "79fb8eab",
   "metadata": {},
   "source": [
    "## Function to predict week 39 based on week 1 to week 36"
   ]
  },
  {
   "cell_type": "code",
   "execution_count": 59,
   "id": "d085bf5b",
   "metadata": {},
   "outputs": [],
   "source": [
    "week39  = data[data['week_number'] == 39]"
   ]
  },
  {
   "cell_type": "code",
   "execution_count": 60,
   "id": "a5ceff60",
   "metadata": {},
   "outputs": [],
   "source": [
    "data_week_36 = data[data['week_number'] < 37]"
   ]
  },
  {
   "cell_type": "code",
   "execution_count": 61,
   "id": "39a9154c",
   "metadata": {},
   "outputs": [],
   "source": [
    "common = set(week39['uu_id']).intersection(data_week_36['uu_id'])\n",
    "\n",
    "out = pd.concat([week39[week39['uu_id'].isin(common)], data_week_36[data_week_36['uu_id'].isin(common)]])\n",
    "out = out.sort_values('week_number')\n",
    "week_1_36 = out[out['week_number'] < 37]\n",
    "week_39 = out[out['week_number'] == 39]"
   ]
  },
  {
   "cell_type": "markdown",
   "id": "af926933",
   "metadata": {},
   "source": [
    "## Get only week 39 data"
   ]
  },
  {
   "cell_type": "code",
   "execution_count": 62,
   "id": "aa3125d6",
   "metadata": {},
   "outputs": [
    {
     "name": "stdout",
     "output_type": "stream",
     "text": [
      "uu_id\n",
      "005be9532fd717dc36d4be318fd9ad25     [45.91365504161836]\n",
      "0068776d88cb6d1ab5c7059fbd3dd3cb     [77.86446568201565]\n",
      "00d85dff1c1f21f01f4f5f0bd683d32b    [29.390092215312023]\n",
      "00f962ce727b8dbbf20925abd5a253dd    [55.410973133764585]\n",
      "02a7b845ab6b3fc2c09a50cdc486db2a     [26.25799890049478]\n",
      "                                            ...         \n",
      "fd38d1859753f17df3c5f4df40197795    [24.711459481117902]\n",
      "fd536ceeba7fcbabdd0444b1eba6cab4    [28.882397003745318]\n",
      "fd613eba867c6ad7350a937f743b88f2     [32.98058489529275]\n",
      "fe355ff27aa8b2242a558d5e3ec99c18    [20.730913482931776]\n",
      "fec479d0202d6e1e3f051a9ee902ff5d     [44.54091316870486]\n",
      "Length: 573, dtype: object\n"
     ]
    }
   ],
   "source": [
    "def regressionsquare(data, yvar, xvars):\n",
    "    X_train, X_test, y_train, y_test = train_test_split(data[xvars], data[yvar], train_size=0.9999, random_state=42, shuffle=False, stratify=None)\n",
    "    result = sm.OLS(y_train, X_train).fit()\n",
    "    predictions = result.predict(39)\n",
    "    return predictions\n",
    "result = week_1_36.groupby('uu_id').apply(regressionsquare, 'total_claims', 'week_number')\n",
    "print(result)"
   ]
  },
  {
   "cell_type": "code",
   "execution_count": 63,
   "id": "93d043bd",
   "metadata": {},
   "outputs": [],
   "source": [
    "result_dict1 = week_1_36.groupby('uu_id').apply(regressionsquare, 'total_claims', 'week_number').to_dict()\n",
    "printexcel(result_dict1, 'model-39-lag1.csv')"
   ]
  },
  {
   "cell_type": "code",
   "execution_count": 64,
   "id": "b996b1ac",
   "metadata": {},
   "outputs": [
    {
     "data": {
      "text/html": [
       "<div>\n",
       "<style scoped>\n",
       "    .dataframe tbody tr th:only-of-type {\n",
       "        vertical-align: middle;\n",
       "    }\n",
       "\n",
       "    .dataframe tbody tr th {\n",
       "        vertical-align: top;\n",
       "    }\n",
       "\n",
       "    .dataframe thead th {\n",
       "        text-align: right;\n",
       "    }\n",
       "</style>\n",
       "<table border=\"1\" class=\"dataframe\">\n",
       "  <thead>\n",
       "    <tr style=\"text-align: right;\">\n",
       "      <th></th>\n",
       "      <th>uu_id</th>\n",
       "      <th>total_claims</th>\n",
       "    </tr>\n",
       "  </thead>\n",
       "  <tbody>\n",
       "    <tr>\n",
       "      <th>0</th>\n",
       "      <td>005be9532fd717dc36d4be318fd9ad25</td>\n",
       "      <td>45.913655</td>\n",
       "    </tr>\n",
       "    <tr>\n",
       "      <th>1</th>\n",
       "      <td>0068776d88cb6d1ab5c7059fbd3dd3cb</td>\n",
       "      <td>77.864466</td>\n",
       "    </tr>\n",
       "    <tr>\n",
       "      <th>2</th>\n",
       "      <td>00d85dff1c1f21f01f4f5f0bd683d32b</td>\n",
       "      <td>29.390092</td>\n",
       "    </tr>\n",
       "    <tr>\n",
       "      <th>3</th>\n",
       "      <td>00f962ce727b8dbbf20925abd5a253dd</td>\n",
       "      <td>55.410973</td>\n",
       "    </tr>\n",
       "    <tr>\n",
       "      <th>4</th>\n",
       "      <td>02a7b845ab6b3fc2c09a50cdc486db2a</td>\n",
       "      <td>26.257999</td>\n",
       "    </tr>\n",
       "    <tr>\n",
       "      <th>...</th>\n",
       "      <td>...</td>\n",
       "      <td>...</td>\n",
       "    </tr>\n",
       "    <tr>\n",
       "      <th>568</th>\n",
       "      <td>fd38d1859753f17df3c5f4df40197795</td>\n",
       "      <td>24.711459</td>\n",
       "    </tr>\n",
       "    <tr>\n",
       "      <th>569</th>\n",
       "      <td>fd536ceeba7fcbabdd0444b1eba6cab4</td>\n",
       "      <td>28.882397</td>\n",
       "    </tr>\n",
       "    <tr>\n",
       "      <th>570</th>\n",
       "      <td>fd613eba867c6ad7350a937f743b88f2</td>\n",
       "      <td>32.980585</td>\n",
       "    </tr>\n",
       "    <tr>\n",
       "      <th>571</th>\n",
       "      <td>fe355ff27aa8b2242a558d5e3ec99c18</td>\n",
       "      <td>20.730913</td>\n",
       "    </tr>\n",
       "    <tr>\n",
       "      <th>572</th>\n",
       "      <td>fec479d0202d6e1e3f051a9ee902ff5d</td>\n",
       "      <td>44.540913</td>\n",
       "    </tr>\n",
       "  </tbody>\n",
       "</table>\n",
       "<p>573 rows × 2 columns</p>\n",
       "</div>"
      ],
      "text/plain": [
       "                                uu_id  total_claims\n",
       "0    005be9532fd717dc36d4be318fd9ad25     45.913655\n",
       "1    0068776d88cb6d1ab5c7059fbd3dd3cb     77.864466\n",
       "2    00d85dff1c1f21f01f4f5f0bd683d32b     29.390092\n",
       "3    00f962ce727b8dbbf20925abd5a253dd     55.410973\n",
       "4    02a7b845ab6b3fc2c09a50cdc486db2a     26.257999\n",
       "..                                ...           ...\n",
       "568  fd38d1859753f17df3c5f4df40197795     24.711459\n",
       "569  fd536ceeba7fcbabdd0444b1eba6cab4     28.882397\n",
       "570  fd613eba867c6ad7350a937f743b88f2     32.980585\n",
       "571  fe355ff27aa8b2242a558d5e3ec99c18     20.730913\n",
       "572  fec479d0202d6e1e3f051a9ee902ff5d     44.540913\n",
       "\n",
       "[573 rows x 2 columns]"
      ]
     },
     "execution_count": 64,
     "metadata": {},
     "output_type": "execute_result"
    }
   ],
   "source": [
    "df = pd.read_csv('model-39-lag1.csv')\n",
    "df"
   ]
  },
  {
   "cell_type": "markdown",
   "id": "e0c38d20",
   "metadata": {},
   "source": [
    "## Predicted value for week 39 ( lag 1 )"
   ]
  },
  {
   "cell_type": "code",
   "execution_count": 65,
   "id": "88186dc8",
   "metadata": {},
   "outputs": [],
   "source": [
    "def mean_absolute_percentage_error(y_true, y_pred): \n",
    "    y_true, y_pred = np.array(y_true), np.array(y_pred)\n",
    "    return np.mean(np.abs((y_true - y_pred) / y_true)) * 100"
   ]
  },
  {
   "cell_type": "code",
   "execution_count": 66,
   "id": "72e9c060",
   "metadata": {},
   "outputs": [],
   "source": [
    "matching_39 = week_39.loc[week_39['uu_id'].isin(df['uu_id'])]\n",
    "matching_39 = matching_39.drop_duplicates('uu_id', keep='last')"
   ]
  },
  {
   "cell_type": "code",
   "execution_count": 67,
   "id": "0bac386a",
   "metadata": {},
   "outputs": [
    {
     "data": {
      "text/plain": [
       "120.60579182177007"
      ]
     },
     "execution_count": 67,
     "metadata": {},
     "output_type": "execute_result"
    }
   ],
   "source": [
    "mean_absolute_percentage_error(matching_39['total_claims'], df['total_claims'])"
   ]
  },
  {
   "cell_type": "code",
   "execution_count": 68,
   "id": "ca76a210",
   "metadata": {},
   "outputs": [
    {
     "data": {
      "text/plain": [
       "437.060240060963"
      ]
     },
     "execution_count": 68,
     "metadata": {},
     "output_type": "execute_result"
    }
   ],
   "source": [
    "mean_squared_error(matching_39['total_claims'], df['total_claims'])"
   ]
  },
  {
   "cell_type": "markdown",
   "id": "da68558a",
   "metadata": {},
   "source": [
    "## Function to predict week 40 based on week 1 and week 37 "
   ]
  },
  {
   "cell_type": "code",
   "execution_count": 69,
   "id": "81449213",
   "metadata": {},
   "outputs": [],
   "source": [
    "week40  = data[data['week_number'] == 40]"
   ]
  },
  {
   "cell_type": "code",
   "execution_count": 70,
   "id": "90ef9060",
   "metadata": {},
   "outputs": [],
   "source": [
    "data_week_37 = data[data['week_number'] < 38]"
   ]
  },
  {
   "cell_type": "code",
   "execution_count": 71,
   "id": "2b27e792",
   "metadata": {},
   "outputs": [],
   "source": [
    "common = set(week40['uu_id']).intersection(data_week_37['uu_id'])\n",
    "\n",
    "out = pd.concat([week40[week40['uu_id'].isin(common)], data_week_37[data_week_37['uu_id'].isin(common)]])\n",
    "out = out.sort_values('week_number')\n",
    "week_1_37 = out[out['week_number'] < 38]\n",
    "week_40 = out[out['week_number'] == 40]"
   ]
  },
  {
   "cell_type": "markdown",
   "id": "96c0dc1e",
   "metadata": {},
   "source": [
    "> Comment: MAPE is lower when we do lag 2 weeks. "
   ]
  },
  {
   "cell_type": "code",
   "execution_count": null,
   "id": "df6cc817",
   "metadata": {},
   "outputs": [],
   "source": []
  },
  {
   "cell_type": "code",
   "execution_count": null,
   "id": "7ffb789d",
   "metadata": {},
   "outputs": [],
   "source": []
  }
 ],
 "metadata": {
  "kernelspec": {
   "display_name": "Python 3 (ipykernel)",
   "language": "python",
   "name": "python3"
  },
  "language_info": {
   "codemirror_mode": {
    "name": "ipython",
    "version": 3
   },
   "file_extension": ".py",
   "mimetype": "text/x-python",
   "name": "python",
   "nbconvert_exporter": "python",
   "pygments_lexer": "ipython3",
   "version": "3.9.7"
  }
 },
 "nbformat": 4,
 "nbformat_minor": 5
}
