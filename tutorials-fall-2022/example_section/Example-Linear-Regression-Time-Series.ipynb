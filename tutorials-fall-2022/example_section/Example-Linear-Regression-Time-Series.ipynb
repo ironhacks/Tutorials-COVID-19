{
 "cells": [
  {
   "cell_type": "markdown",
   "id": "6b158a09",
   "metadata": {},
   "source": [
    "## Import all the necessary libraries"
   ]
  },
  {
   "cell_type": "code",
   "execution_count": 89,
   "id": "aa3b0f97",
   "metadata": {},
   "outputs": [],
   "source": [
    "import csv\n",
    "import pandas as pd\n",
    "import numpy as np\n",
    "from google.cloud import bigquery\n",
    "from google.oauth2 import service_account\n",
    "from google.cloud.bigquery import magics\n",
    "import matplotlib.pyplot as plt  \n",
    "import seaborn as sns\n",
    "from sklearn.model_selection import train_test_split \n",
    "from sklearn.linear_model import LinearRegression\n",
    "from sklearn import metrics\n",
    "import statsmodels.api as sm \n",
    "from sklearn.preprocessing import FunctionTransformer\n",
    "import itertools    \n",
    "from sklearn.metrics import mean_absolute_percentage_error\n",
    "from sklearn.metrics import mean_squared_error"
   ]
  },
  {
   "cell_type": "markdown",
   "id": "8bf85408",
   "metadata": {},
   "source": [
    "## Load the keys to query the data. This step is omitted for Fall 2022 Hack "
   ]
  },
  {
   "cell_type": "code",
   "execution_count": 2,
   "id": "510188f7",
   "metadata": {},
   "outputs": [],
   "source": [
    "import os\n",
    "BIGQUERY_PROJECT = 'cloud-test-ironhacks'\n",
    "BIGQUERY_KEYPATH = 'cloud-test-ironhacks-c1010c49a602.json'\n",
    "\n",
    "os.environ['GOOGLE_APPLICATION_CREDENTIALS'] = BIGQUERY_KEYPATH\n",
    "bigquery_client = bigquery.Client(project=BIGQUERY_PROJECT)"
   ]
  },
  {
   "cell_type": "markdown",
   "id": "42d94887",
   "metadata": {},
   "source": [
    "## Query the data and see how they look like"
   ]
  },
  {
   "cell_type": "code",
   "execution_count": 3,
   "id": "9190e7d1",
   "metadata": {},
   "outputs": [
    {
     "data": {
      "text/html": [
       "<div>\n",
       "<style scoped>\n",
       "    .dataframe tbody tr th:only-of-type {\n",
       "        vertical-align: middle;\n",
       "    }\n",
       "\n",
       "    .dataframe tbody tr th {\n",
       "        vertical-align: top;\n",
       "    }\n",
       "\n",
       "    .dataframe thead th {\n",
       "        text-align: right;\n",
       "    }\n",
       "</style>\n",
       "<table border=\"1\" class=\"dataframe\">\n",
       "  <thead>\n",
       "    <tr style=\"text-align: right;\">\n",
       "      <th></th>\n",
       "      <th>uu_id</th>\n",
       "      <th>timeperiod</th>\n",
       "      <th>week_number</th>\n",
       "      <th>countyfips</th>\n",
       "      <th>tract</th>\n",
       "      <th>tract_name</th>\n",
       "      <th>total_claims</th>\n",
       "      <th>edu_8th_or_less</th>\n",
       "      <th>edu_grades_9_11</th>\n",
       "      <th>edu_hs_grad_equiv</th>\n",
       "      <th>...</th>\n",
       "      <th>gender_female</th>\n",
       "      <th>gender_male</th>\n",
       "      <th>gender_na</th>\n",
       "      <th>race_amerindian</th>\n",
       "      <th>race_asian</th>\n",
       "      <th>race_black</th>\n",
       "      <th>race_noanswer</th>\n",
       "      <th>race_hawaiiannative</th>\n",
       "      <th>race_other</th>\n",
       "      <th>race_white</th>\n",
       "    </tr>\n",
       "  </thead>\n",
       "  <tbody>\n",
       "    <tr>\n",
       "      <th>5</th>\n",
       "      <td>9bee42b55f891413ae7fac2d9d89280a</td>\n",
       "      <td>20220212</td>\n",
       "      <td>7</td>\n",
       "      <td>18003</td>\n",
       "      <td>100</td>\n",
       "      <td>Census Tract 1, Allen County, Indiana</td>\n",
       "      <td>10.0</td>\n",
       "      <td>0.0</td>\n",
       "      <td>0.0</td>\n",
       "      <td>NaN</td>\n",
       "      <td>...</td>\n",
       "      <td>NaN</td>\n",
       "      <td>NaN</td>\n",
       "      <td>0.0</td>\n",
       "      <td>0.0</td>\n",
       "      <td>0.0</td>\n",
       "      <td>NaN</td>\n",
       "      <td>0.0</td>\n",
       "      <td>0.0</td>\n",
       "      <td>0.0</td>\n",
       "      <td>NaN</td>\n",
       "    </tr>\n",
       "    <tr>\n",
       "      <th>7</th>\n",
       "      <td>9bee42b55f891413ae7fac2d9d89280a</td>\n",
       "      <td>20220226</td>\n",
       "      <td>9</td>\n",
       "      <td>18003</td>\n",
       "      <td>100</td>\n",
       "      <td>Census Tract 1, Allen County, Indiana</td>\n",
       "      <td>10.0</td>\n",
       "      <td>0.0</td>\n",
       "      <td>0.0</td>\n",
       "      <td>NaN</td>\n",
       "      <td>...</td>\n",
       "      <td>NaN</td>\n",
       "      <td>NaN</td>\n",
       "      <td>0.0</td>\n",
       "      <td>0.0</td>\n",
       "      <td>NaN</td>\n",
       "      <td>NaN</td>\n",
       "      <td>0.0</td>\n",
       "      <td>0.0</td>\n",
       "      <td>NaN</td>\n",
       "      <td>NaN</td>\n",
       "    </tr>\n",
       "    <tr>\n",
       "      <th>11</th>\n",
       "      <td>9bee42b55f891413ae7fac2d9d89280a</td>\n",
       "      <td>20220326</td>\n",
       "      <td>13</td>\n",
       "      <td>18003</td>\n",
       "      <td>100</td>\n",
       "      <td>Census Tract 1, Allen County, Indiana</td>\n",
       "      <td>13.0</td>\n",
       "      <td>0.0</td>\n",
       "      <td>NaN</td>\n",
       "      <td>NaN</td>\n",
       "      <td>...</td>\n",
       "      <td>0.0</td>\n",
       "      <td>13.0</td>\n",
       "      <td>0.0</td>\n",
       "      <td>0.0</td>\n",
       "      <td>0.0</td>\n",
       "      <td>0.0</td>\n",
       "      <td>0.0</td>\n",
       "      <td>0.0</td>\n",
       "      <td>0.0</td>\n",
       "      <td>13.0</td>\n",
       "    </tr>\n",
       "    <tr>\n",
       "      <th>14</th>\n",
       "      <td>9bee42b55f891413ae7fac2d9d89280a</td>\n",
       "      <td>20220416</td>\n",
       "      <td>16</td>\n",
       "      <td>18003</td>\n",
       "      <td>100</td>\n",
       "      <td>Census Tract 1, Allen County, Indiana</td>\n",
       "      <td>15.0</td>\n",
       "      <td>0.0</td>\n",
       "      <td>0.0</td>\n",
       "      <td>NaN</td>\n",
       "      <td>...</td>\n",
       "      <td>NaN</td>\n",
       "      <td>NaN</td>\n",
       "      <td>0.0</td>\n",
       "      <td>0.0</td>\n",
       "      <td>0.0</td>\n",
       "      <td>NaN</td>\n",
       "      <td>0.0</td>\n",
       "      <td>0.0</td>\n",
       "      <td>NaN</td>\n",
       "      <td>12.0</td>\n",
       "    </tr>\n",
       "    <tr>\n",
       "      <th>15</th>\n",
       "      <td>9bee42b55f891413ae7fac2d9d89280a</td>\n",
       "      <td>20220423</td>\n",
       "      <td>17</td>\n",
       "      <td>18003</td>\n",
       "      <td>100</td>\n",
       "      <td>Census Tract 1, Allen County, Indiana</td>\n",
       "      <td>23.0</td>\n",
       "      <td>0.0</td>\n",
       "      <td>0.0</td>\n",
       "      <td>NaN</td>\n",
       "      <td>...</td>\n",
       "      <td>NaN</td>\n",
       "      <td>NaN</td>\n",
       "      <td>0.0</td>\n",
       "      <td>0.0</td>\n",
       "      <td>0.0</td>\n",
       "      <td>NaN</td>\n",
       "      <td>0.0</td>\n",
       "      <td>0.0</td>\n",
       "      <td>NaN</td>\n",
       "      <td>20.0</td>\n",
       "    </tr>\n",
       "    <tr>\n",
       "      <th>...</th>\n",
       "      <td>...</td>\n",
       "      <td>...</td>\n",
       "      <td>...</td>\n",
       "      <td>...</td>\n",
       "      <td>...</td>\n",
       "      <td>...</td>\n",
       "      <td>...</td>\n",
       "      <td>...</td>\n",
       "      <td>...</td>\n",
       "      <td>...</td>\n",
       "      <td>...</td>\n",
       "      <td>...</td>\n",
       "      <td>...</td>\n",
       "      <td>...</td>\n",
       "      <td>...</td>\n",
       "      <td>...</td>\n",
       "      <td>...</td>\n",
       "      <td>...</td>\n",
       "      <td>...</td>\n",
       "      <td>...</td>\n",
       "      <td>...</td>\n",
       "    </tr>\n",
       "    <tr>\n",
       "      <th>72119</th>\n",
       "      <td>22804b1ddf209d3876385dd3ffa8392d</td>\n",
       "      <td>20220226</td>\n",
       "      <td>9</td>\n",
       "      <td>18065</td>\n",
       "      <td>976800</td>\n",
       "      <td>Census Tract 9768, Henry County, Indiana</td>\n",
       "      <td>13.0</td>\n",
       "      <td>NaN</td>\n",
       "      <td>0.0</td>\n",
       "      <td>NaN</td>\n",
       "      <td>...</td>\n",
       "      <td>NaN</td>\n",
       "      <td>NaN</td>\n",
       "      <td>0.0</td>\n",
       "      <td>0.0</td>\n",
       "      <td>0.0</td>\n",
       "      <td>0.0</td>\n",
       "      <td>0.0</td>\n",
       "      <td>0.0</td>\n",
       "      <td>0.0</td>\n",
       "      <td>13.0</td>\n",
       "    </tr>\n",
       "    <tr>\n",
       "      <th>72123</th>\n",
       "      <td>22804b1ddf209d3876385dd3ffa8392d</td>\n",
       "      <td>20220326</td>\n",
       "      <td>13</td>\n",
       "      <td>18065</td>\n",
       "      <td>976800</td>\n",
       "      <td>Census Tract 9768, Henry County, Indiana</td>\n",
       "      <td>11.0</td>\n",
       "      <td>NaN</td>\n",
       "      <td>NaN</td>\n",
       "      <td>NaN</td>\n",
       "      <td>...</td>\n",
       "      <td>NaN</td>\n",
       "      <td>NaN</td>\n",
       "      <td>0.0</td>\n",
       "      <td>0.0</td>\n",
       "      <td>0.0</td>\n",
       "      <td>0.0</td>\n",
       "      <td>0.0</td>\n",
       "      <td>0.0</td>\n",
       "      <td>0.0</td>\n",
       "      <td>11.0</td>\n",
       "    </tr>\n",
       "    <tr>\n",
       "      <th>72147</th>\n",
       "      <td>22804b1ddf209d3876385dd3ffa8392d</td>\n",
       "      <td>20220903</td>\n",
       "      <td>36</td>\n",
       "      <td>18065</td>\n",
       "      <td>976800</td>\n",
       "      <td>Census Tract 9768, Henry County, Indiana</td>\n",
       "      <td>29.0</td>\n",
       "      <td>0.0</td>\n",
       "      <td>0.0</td>\n",
       "      <td>NaN</td>\n",
       "      <td>...</td>\n",
       "      <td>NaN</td>\n",
       "      <td>NaN</td>\n",
       "      <td>0.0</td>\n",
       "      <td>0.0</td>\n",
       "      <td>0.0</td>\n",
       "      <td>0.0</td>\n",
       "      <td>0.0</td>\n",
       "      <td>0.0</td>\n",
       "      <td>0.0</td>\n",
       "      <td>29.0</td>\n",
       "    </tr>\n",
       "    <tr>\n",
       "      <th>72148</th>\n",
       "      <td>22804b1ddf209d3876385dd3ffa8392d</td>\n",
       "      <td>20220903</td>\n",
       "      <td>36</td>\n",
       "      <td>18065</td>\n",
       "      <td>976800</td>\n",
       "      <td>Census Tract 9768, Henry County, Indiana</td>\n",
       "      <td>29.0</td>\n",
       "      <td>0.0</td>\n",
       "      <td>0.0</td>\n",
       "      <td>NaN</td>\n",
       "      <td>...</td>\n",
       "      <td>NaN</td>\n",
       "      <td>NaN</td>\n",
       "      <td>0.0</td>\n",
       "      <td>0.0</td>\n",
       "      <td>0.0</td>\n",
       "      <td>0.0</td>\n",
       "      <td>0.0</td>\n",
       "      <td>0.0</td>\n",
       "      <td>0.0</td>\n",
       "      <td>29.0</td>\n",
       "    </tr>\n",
       "    <tr>\n",
       "      <th>72158</th>\n",
       "      <td>a3e1bd7fcc477f6239399ee6bcab1006</td>\n",
       "      <td>20220108</td>\n",
       "      <td>2</td>\n",
       "      <td>18003</td>\n",
       "      <td>980002</td>\n",
       "      <td>Census Tract 9800.02, Allen County, Indiana</td>\n",
       "      <td>13.0</td>\n",
       "      <td>0.0</td>\n",
       "      <td>0.0</td>\n",
       "      <td>13.0</td>\n",
       "      <td>...</td>\n",
       "      <td>0.0</td>\n",
       "      <td>13.0</td>\n",
       "      <td>0.0</td>\n",
       "      <td>0.0</td>\n",
       "      <td>0.0</td>\n",
       "      <td>0.0</td>\n",
       "      <td>0.0</td>\n",
       "      <td>0.0</td>\n",
       "      <td>0.0</td>\n",
       "      <td>13.0</td>\n",
       "    </tr>\n",
       "  </tbody>\n",
       "</table>\n",
       "<p>34228 rows × 25 columns</p>\n",
       "</div>"
      ],
      "text/plain": [
       "                                  uu_id  timeperiod  week_number  countyfips  \\\n",
       "5      9bee42b55f891413ae7fac2d9d89280a    20220212            7       18003   \n",
       "7      9bee42b55f891413ae7fac2d9d89280a    20220226            9       18003   \n",
       "11     9bee42b55f891413ae7fac2d9d89280a    20220326           13       18003   \n",
       "14     9bee42b55f891413ae7fac2d9d89280a    20220416           16       18003   \n",
       "15     9bee42b55f891413ae7fac2d9d89280a    20220423           17       18003   \n",
       "...                                 ...         ...          ...         ...   \n",
       "72119  22804b1ddf209d3876385dd3ffa8392d    20220226            9       18065   \n",
       "72123  22804b1ddf209d3876385dd3ffa8392d    20220326           13       18065   \n",
       "72147  22804b1ddf209d3876385dd3ffa8392d    20220903           36       18065   \n",
       "72148  22804b1ddf209d3876385dd3ffa8392d    20220903           36       18065   \n",
       "72158  a3e1bd7fcc477f6239399ee6bcab1006    20220108            2       18003   \n",
       "\n",
       "        tract                                   tract_name  total_claims  \\\n",
       "5         100        Census Tract 1, Allen County, Indiana          10.0   \n",
       "7         100        Census Tract 1, Allen County, Indiana          10.0   \n",
       "11        100        Census Tract 1, Allen County, Indiana          13.0   \n",
       "14        100        Census Tract 1, Allen County, Indiana          15.0   \n",
       "15        100        Census Tract 1, Allen County, Indiana          23.0   \n",
       "...       ...                                          ...           ...   \n",
       "72119  976800     Census Tract 9768, Henry County, Indiana          13.0   \n",
       "72123  976800     Census Tract 9768, Henry County, Indiana          11.0   \n",
       "72147  976800     Census Tract 9768, Henry County, Indiana          29.0   \n",
       "72148  976800     Census Tract 9768, Henry County, Indiana          29.0   \n",
       "72158  980002  Census Tract 9800.02, Allen County, Indiana          13.0   \n",
       "\n",
       "       edu_8th_or_less  edu_grades_9_11  edu_hs_grad_equiv  ...  \\\n",
       "5                  0.0              0.0                NaN  ...   \n",
       "7                  0.0              0.0                NaN  ...   \n",
       "11                 0.0              NaN                NaN  ...   \n",
       "14                 0.0              0.0                NaN  ...   \n",
       "15                 0.0              0.0                NaN  ...   \n",
       "...                ...              ...                ...  ...   \n",
       "72119              NaN              0.0                NaN  ...   \n",
       "72123              NaN              NaN                NaN  ...   \n",
       "72147              0.0              0.0                NaN  ...   \n",
       "72148              0.0              0.0                NaN  ...   \n",
       "72158              0.0              0.0               13.0  ...   \n",
       "\n",
       "       gender_female  gender_male gender_na race_amerindian race_asian  \\\n",
       "5                NaN          NaN       0.0             0.0        0.0   \n",
       "7                NaN          NaN       0.0             0.0        NaN   \n",
       "11               0.0         13.0       0.0             0.0        0.0   \n",
       "14               NaN          NaN       0.0             0.0        0.0   \n",
       "15               NaN          NaN       0.0             0.0        0.0   \n",
       "...              ...          ...       ...             ...        ...   \n",
       "72119            NaN          NaN       0.0             0.0        0.0   \n",
       "72123            NaN          NaN       0.0             0.0        0.0   \n",
       "72147            NaN          NaN       0.0             0.0        0.0   \n",
       "72148            NaN          NaN       0.0             0.0        0.0   \n",
       "72158            0.0         13.0       0.0             0.0        0.0   \n",
       "\n",
       "       race_black  race_noanswer  race_hawaiiannative  race_other  race_white  \n",
       "5             NaN            0.0                  0.0         0.0         NaN  \n",
       "7             NaN            0.0                  0.0         NaN         NaN  \n",
       "11            0.0            0.0                  0.0         0.0        13.0  \n",
       "14            NaN            0.0                  0.0         NaN        12.0  \n",
       "15            NaN            0.0                  0.0         NaN        20.0  \n",
       "...           ...            ...                  ...         ...         ...  \n",
       "72119         0.0            0.0                  0.0         0.0        13.0  \n",
       "72123         0.0            0.0                  0.0         0.0        11.0  \n",
       "72147         0.0            0.0                  0.0         0.0        29.0  \n",
       "72148         0.0            0.0                  0.0         0.0        29.0  \n",
       "72158         0.0            0.0                  0.0         0.0        13.0  \n",
       "\n",
       "[34228 rows x 25 columns]"
      ]
     },
     "execution_count": 3,
     "metadata": {},
     "output_type": "execute_result"
    }
   ],
   "source": [
    "query = \"\"\"\n",
    "SELECT * FROM `cloud-test-ironhacks.dwd_data.suppression_remove`\n",
    "\n",
    "\"\"\"\n",
    "\n",
    "query_job = bigquery_client.query(query)\n",
    "data = query_job.to_dataframe()\n",
    "data = data[data['uu_id'].notnull() & data['total_claims'].notnull()]\n",
    "data "
   ]
  },
  {
   "cell_type": "code",
   "execution_count": 4,
   "id": "b76e3001",
   "metadata": {},
   "outputs": [
    {
     "data": {
      "text/html": [
       "<div>\n",
       "<style scoped>\n",
       "    .dataframe tbody tr th:only-of-type {\n",
       "        vertical-align: middle;\n",
       "    }\n",
       "\n",
       "    .dataframe tbody tr th {\n",
       "        vertical-align: top;\n",
       "    }\n",
       "\n",
       "    .dataframe thead th {\n",
       "        text-align: right;\n",
       "    }\n",
       "</style>\n",
       "<table border=\"1\" class=\"dataframe\">\n",
       "  <thead>\n",
       "    <tr style=\"text-align: right;\">\n",
       "      <th></th>\n",
       "      <th>uu_id</th>\n",
       "      <th>timeperiod</th>\n",
       "      <th>week_number</th>\n",
       "      <th>countyfips</th>\n",
       "      <th>tract</th>\n",
       "      <th>tract_name</th>\n",
       "      <th>total_claims</th>\n",
       "      <th>edu_8th_or_less</th>\n",
       "      <th>edu_grades_9_11</th>\n",
       "      <th>edu_hs_grad_equiv</th>\n",
       "      <th>...</th>\n",
       "      <th>gender_female</th>\n",
       "      <th>gender_male</th>\n",
       "      <th>gender_na</th>\n",
       "      <th>race_amerindian</th>\n",
       "      <th>race_asian</th>\n",
       "      <th>race_black</th>\n",
       "      <th>race_noanswer</th>\n",
       "      <th>race_hawaiiannative</th>\n",
       "      <th>race_other</th>\n",
       "      <th>race_white</th>\n",
       "    </tr>\n",
       "  </thead>\n",
       "  <tbody>\n",
       "    <tr>\n",
       "      <th>39313</th>\n",
       "      <td>6239669cbfe444abd0a46536a670d150</td>\n",
       "      <td>20220101</td>\n",
       "      <td>1</td>\n",
       "      <td>18039</td>\n",
       "      <td>400</td>\n",
       "      <td>Census Tract 4, Elkhart County, Indiana</td>\n",
       "      <td>16.0</td>\n",
       "      <td>0.0</td>\n",
       "      <td>NaN</td>\n",
       "      <td>NaN</td>\n",
       "      <td>...</td>\n",
       "      <td>NaN</td>\n",
       "      <td>NaN</td>\n",
       "      <td>0.0</td>\n",
       "      <td>0.0</td>\n",
       "      <td>NaN</td>\n",
       "      <td>0.0</td>\n",
       "      <td>0.0</td>\n",
       "      <td>0.0</td>\n",
       "      <td>NaN</td>\n",
       "      <td>13.0</td>\n",
       "    </tr>\n",
       "    <tr>\n",
       "      <th>34963</th>\n",
       "      <td>57bc30b16bd1a7875fc59a57c0363cd3</td>\n",
       "      <td>20220101</td>\n",
       "      <td>1</td>\n",
       "      <td>18097</td>\n",
       "      <td>356400</td>\n",
       "      <td>Census Tract 3564, Marion County, Indiana</td>\n",
       "      <td>11.0</td>\n",
       "      <td>NaN</td>\n",
       "      <td>NaN</td>\n",
       "      <td>NaN</td>\n",
       "      <td>...</td>\n",
       "      <td>NaN</td>\n",
       "      <td>NaN</td>\n",
       "      <td>0.0</td>\n",
       "      <td>0.0</td>\n",
       "      <td>0.0</td>\n",
       "      <td>NaN</td>\n",
       "      <td>0.0</td>\n",
       "      <td>0.0</td>\n",
       "      <td>NaN</td>\n",
       "      <td>NaN</td>\n",
       "    </tr>\n",
       "    <tr>\n",
       "      <th>34819</th>\n",
       "      <td>8cb479dc5fba577ea3013a189045ff7b</td>\n",
       "      <td>20220101</td>\n",
       "      <td>1</td>\n",
       "      <td>18097</td>\n",
       "      <td>355700</td>\n",
       "      <td>Census Tract 3557, Marion County, Indiana</td>\n",
       "      <td>16.0</td>\n",
       "      <td>0.0</td>\n",
       "      <td>NaN</td>\n",
       "      <td>12.0</td>\n",
       "      <td>...</td>\n",
       "      <td>NaN</td>\n",
       "      <td>NaN</td>\n",
       "      <td>0.0</td>\n",
       "      <td>0.0</td>\n",
       "      <td>0.0</td>\n",
       "      <td>NaN</td>\n",
       "      <td>NaN</td>\n",
       "      <td>0.0</td>\n",
       "      <td>NaN</td>\n",
       "      <td>NaN</td>\n",
       "    </tr>\n",
       "    <tr>\n",
       "      <th>7974</th>\n",
       "      <td>601ff2c0fd709298f6644ad0e766b2d6</td>\n",
       "      <td>20220101</td>\n",
       "      <td>1</td>\n",
       "      <td>18141</td>\n",
       "      <td>1100</td>\n",
       "      <td>Census Tract 11, St. Joseph County, Indiana</td>\n",
       "      <td>13.0</td>\n",
       "      <td>0.0</td>\n",
       "      <td>NaN</td>\n",
       "      <td>NaN</td>\n",
       "      <td>...</td>\n",
       "      <td>NaN</td>\n",
       "      <td>NaN</td>\n",
       "      <td>0.0</td>\n",
       "      <td>0.0</td>\n",
       "      <td>0.0</td>\n",
       "      <td>NaN</td>\n",
       "      <td>NaN</td>\n",
       "      <td>0.0</td>\n",
       "      <td>NaN</td>\n",
       "      <td>NaN</td>\n",
       "    </tr>\n",
       "    <tr>\n",
       "      <th>34770</th>\n",
       "      <td>4fe5a3188b15f262431ed884f3619d8b</td>\n",
       "      <td>20220101</td>\n",
       "      <td>1</td>\n",
       "      <td>18097</td>\n",
       "      <td>355600</td>\n",
       "      <td>Census Tract 3556, Marion County, Indiana</td>\n",
       "      <td>19.0</td>\n",
       "      <td>NaN</td>\n",
       "      <td>NaN</td>\n",
       "      <td>10.0</td>\n",
       "      <td>...</td>\n",
       "      <td>NaN</td>\n",
       "      <td>NaN</td>\n",
       "      <td>0.0</td>\n",
       "      <td>0.0</td>\n",
       "      <td>0.0</td>\n",
       "      <td>NaN</td>\n",
       "      <td>NaN</td>\n",
       "      <td>0.0</td>\n",
       "      <td>0.0</td>\n",
       "      <td>12.0</td>\n",
       "    </tr>\n",
       "    <tr>\n",
       "      <th>...</th>\n",
       "      <td>...</td>\n",
       "      <td>...</td>\n",
       "      <td>...</td>\n",
       "      <td>...</td>\n",
       "      <td>...</td>\n",
       "      <td>...</td>\n",
       "      <td>...</td>\n",
       "      <td>...</td>\n",
       "      <td>...</td>\n",
       "      <td>...</td>\n",
       "      <td>...</td>\n",
       "      <td>...</td>\n",
       "      <td>...</td>\n",
       "      <td>...</td>\n",
       "      <td>...</td>\n",
       "      <td>...</td>\n",
       "      <td>...</td>\n",
       "      <td>...</td>\n",
       "      <td>...</td>\n",
       "      <td>...</td>\n",
       "      <td>...</td>\n",
       "    </tr>\n",
       "    <tr>\n",
       "      <th>3008</th>\n",
       "      <td>bbcb018f0e5e49e13636f6e78ce9f60f</td>\n",
       "      <td>20221008</td>\n",
       "      <td>41</td>\n",
       "      <td>18163</td>\n",
       "      <td>10203</td>\n",
       "      <td>Census Tract 102.03, Vanderburgh County, Indiana</td>\n",
       "      <td>22.0</td>\n",
       "      <td>0.0</td>\n",
       "      <td>NaN</td>\n",
       "      <td>NaN</td>\n",
       "      <td>...</td>\n",
       "      <td>NaN</td>\n",
       "      <td>NaN</td>\n",
       "      <td>0.0</td>\n",
       "      <td>0.0</td>\n",
       "      <td>0.0</td>\n",
       "      <td>NaN</td>\n",
       "      <td>NaN</td>\n",
       "      <td>0.0</td>\n",
       "      <td>NaN</td>\n",
       "      <td>18.0</td>\n",
       "    </tr>\n",
       "    <tr>\n",
       "      <th>14637</th>\n",
       "      <td>e24fca963ee2f4a4593900385e64051c</td>\n",
       "      <td>20221008</td>\n",
       "      <td>41</td>\n",
       "      <td>18095</td>\n",
       "      <td>12000</td>\n",
       "      <td>Census Tract 120, Madison County, Indiana</td>\n",
       "      <td>11.0</td>\n",
       "      <td>0.0</td>\n",
       "      <td>NaN</td>\n",
       "      <td>NaN</td>\n",
       "      <td>...</td>\n",
       "      <td>NaN</td>\n",
       "      <td>NaN</td>\n",
       "      <td>0.0</td>\n",
       "      <td>0.0</td>\n",
       "      <td>0.0</td>\n",
       "      <td>NaN</td>\n",
       "      <td>0.0</td>\n",
       "      <td>0.0</td>\n",
       "      <td>NaN</td>\n",
       "      <td>NaN</td>\n",
       "    </tr>\n",
       "    <tr>\n",
       "      <th>54325</th>\n",
       "      <td>6e34d7b45dd1daecd65ac963cd344e2d</td>\n",
       "      <td>20221008</td>\n",
       "      <td>41</td>\n",
       "      <td>18145</td>\n",
       "      <td>710500</td>\n",
       "      <td>Census Tract 7105, Shelby County, Indiana</td>\n",
       "      <td>11.0</td>\n",
       "      <td>NaN</td>\n",
       "      <td>NaN</td>\n",
       "      <td>NaN</td>\n",
       "      <td>...</td>\n",
       "      <td>NaN</td>\n",
       "      <td>NaN</td>\n",
       "      <td>NaN</td>\n",
       "      <td>0.0</td>\n",
       "      <td>0.0</td>\n",
       "      <td>0.0</td>\n",
       "      <td>NaN</td>\n",
       "      <td>0.0</td>\n",
       "      <td>NaN</td>\n",
       "      <td>NaN</td>\n",
       "    </tr>\n",
       "    <tr>\n",
       "      <th>44100</th>\n",
       "      <td>9d137c34d4598e4f67aac16df77037e0</td>\n",
       "      <td>20221008</td>\n",
       "      <td>41</td>\n",
       "      <td>18089</td>\n",
       "      <td>42501</td>\n",
       "      <td>Census Tract 425.01, Lake County, Indiana</td>\n",
       "      <td>30.0</td>\n",
       "      <td>0.0</td>\n",
       "      <td>NaN</td>\n",
       "      <td>17.0</td>\n",
       "      <td>...</td>\n",
       "      <td>12.0</td>\n",
       "      <td>18.0</td>\n",
       "      <td>0.0</td>\n",
       "      <td>0.0</td>\n",
       "      <td>0.0</td>\n",
       "      <td>18.0</td>\n",
       "      <td>NaN</td>\n",
       "      <td>NaN</td>\n",
       "      <td>NaN</td>\n",
       "      <td>NaN</td>\n",
       "    </tr>\n",
       "    <tr>\n",
       "      <th>24772</th>\n",
       "      <td>25a57fe39e03c632125308737a7d3769</td>\n",
       "      <td>20221008</td>\n",
       "      <td>41</td>\n",
       "      <td>18067</td>\n",
       "      <td>300</td>\n",
       "      <td>Census Tract 3, Howard County, Indiana</td>\n",
       "      <td>13.0</td>\n",
       "      <td>0.0</td>\n",
       "      <td>NaN</td>\n",
       "      <td>NaN</td>\n",
       "      <td>...</td>\n",
       "      <td>NaN</td>\n",
       "      <td>NaN</td>\n",
       "      <td>0.0</td>\n",
       "      <td>0.0</td>\n",
       "      <td>0.0</td>\n",
       "      <td>0.0</td>\n",
       "      <td>0.0</td>\n",
       "      <td>0.0</td>\n",
       "      <td>0.0</td>\n",
       "      <td>13.0</td>\n",
       "    </tr>\n",
       "  </tbody>\n",
       "</table>\n",
       "<p>34228 rows × 25 columns</p>\n",
       "</div>"
      ],
      "text/plain": [
       "                                  uu_id  timeperiod  week_number  countyfips  \\\n",
       "39313  6239669cbfe444abd0a46536a670d150    20220101            1       18039   \n",
       "34963  57bc30b16bd1a7875fc59a57c0363cd3    20220101            1       18097   \n",
       "34819  8cb479dc5fba577ea3013a189045ff7b    20220101            1       18097   \n",
       "7974   601ff2c0fd709298f6644ad0e766b2d6    20220101            1       18141   \n",
       "34770  4fe5a3188b15f262431ed884f3619d8b    20220101            1       18097   \n",
       "...                                 ...         ...          ...         ...   \n",
       "3008   bbcb018f0e5e49e13636f6e78ce9f60f    20221008           41       18163   \n",
       "14637  e24fca963ee2f4a4593900385e64051c    20221008           41       18095   \n",
       "54325  6e34d7b45dd1daecd65ac963cd344e2d    20221008           41       18145   \n",
       "44100  9d137c34d4598e4f67aac16df77037e0    20221008           41       18089   \n",
       "24772  25a57fe39e03c632125308737a7d3769    20221008           41       18067   \n",
       "\n",
       "        tract                                        tract_name  total_claims  \\\n",
       "39313     400           Census Tract 4, Elkhart County, Indiana          16.0   \n",
       "34963  356400         Census Tract 3564, Marion County, Indiana          11.0   \n",
       "34819  355700         Census Tract 3557, Marion County, Indiana          16.0   \n",
       "7974     1100       Census Tract 11, St. Joseph County, Indiana          13.0   \n",
       "34770  355600         Census Tract 3556, Marion County, Indiana          19.0   \n",
       "...       ...                                               ...           ...   \n",
       "3008    10203  Census Tract 102.03, Vanderburgh County, Indiana          22.0   \n",
       "14637   12000         Census Tract 120, Madison County, Indiana          11.0   \n",
       "54325  710500         Census Tract 7105, Shelby County, Indiana          11.0   \n",
       "44100   42501         Census Tract 425.01, Lake County, Indiana          30.0   \n",
       "24772     300            Census Tract 3, Howard County, Indiana          13.0   \n",
       "\n",
       "       edu_8th_or_less  edu_grades_9_11  edu_hs_grad_equiv  ...  \\\n",
       "39313              0.0              NaN                NaN  ...   \n",
       "34963              NaN              NaN                NaN  ...   \n",
       "34819              0.0              NaN               12.0  ...   \n",
       "7974               0.0              NaN                NaN  ...   \n",
       "34770              NaN              NaN               10.0  ...   \n",
       "...                ...              ...                ...  ...   \n",
       "3008               0.0              NaN                NaN  ...   \n",
       "14637              0.0              NaN                NaN  ...   \n",
       "54325              NaN              NaN                NaN  ...   \n",
       "44100              0.0              NaN               17.0  ...   \n",
       "24772              0.0              NaN                NaN  ...   \n",
       "\n",
       "       gender_female  gender_male gender_na race_amerindian race_asian  \\\n",
       "39313            NaN          NaN       0.0             0.0        NaN   \n",
       "34963            NaN          NaN       0.0             0.0        0.0   \n",
       "34819            NaN          NaN       0.0             0.0        0.0   \n",
       "7974             NaN          NaN       0.0             0.0        0.0   \n",
       "34770            NaN          NaN       0.0             0.0        0.0   \n",
       "...              ...          ...       ...             ...        ...   \n",
       "3008             NaN          NaN       0.0             0.0        0.0   \n",
       "14637            NaN          NaN       0.0             0.0        0.0   \n",
       "54325            NaN          NaN       NaN             0.0        0.0   \n",
       "44100           12.0         18.0       0.0             0.0        0.0   \n",
       "24772            NaN          NaN       0.0             0.0        0.0   \n",
       "\n",
       "       race_black  race_noanswer  race_hawaiiannative  race_other  race_white  \n",
       "39313         0.0            0.0                  0.0         NaN        13.0  \n",
       "34963         NaN            0.0                  0.0         NaN         NaN  \n",
       "34819         NaN            NaN                  0.0         NaN         NaN  \n",
       "7974          NaN            NaN                  0.0         NaN         NaN  \n",
       "34770         NaN            NaN                  0.0         0.0        12.0  \n",
       "...           ...            ...                  ...         ...         ...  \n",
       "3008          NaN            NaN                  0.0         NaN        18.0  \n",
       "14637         NaN            0.0                  0.0         NaN         NaN  \n",
       "54325         0.0            NaN                  0.0         NaN         NaN  \n",
       "44100        18.0            NaN                  NaN         NaN         NaN  \n",
       "24772         0.0            0.0                  0.0         0.0        13.0  \n",
       "\n",
       "[34228 rows x 25 columns]"
      ]
     },
     "execution_count": 4,
     "metadata": {},
     "output_type": "execute_result"
    }
   ],
   "source": [
    "data = data.sort_values('week_number')\n",
    "data"
   ]
  },
  {
   "cell_type": "markdown",
   "id": "db2893af",
   "metadata": {},
   "source": [
    "## Cumulate the data according to the week_number. "
   ]
  },
  {
   "cell_type": "code",
   "execution_count": 5,
   "id": "d6e8d262",
   "metadata": {},
   "outputs": [],
   "source": [
    "# predict week 39 with week 1 - week 38\n",
    "\n",
    "df_week39_lag1 = data.groupby(['week_number']).total_claims.sum().groupby(level=0).cumsum().reset_index()\n",
    "df_week39_lag1 = df_week39_lag1[df_week39_lag1['week_number'] < 39]\n",
    "\n",
    "# predict week 40 with week 1 - week 39\n",
    "\n",
    "df_week40_lag1 = data.groupby(['week_number']).total_claims.sum().groupby(level=0).cumsum().reset_index()\n",
    "df_week40_lag1 = df_week40_lag1[df_week40_lag1['week_number'] < 40]\n",
    "\n",
    "# predict week 41 with week 1 - week 40\n",
    "\n",
    "df_week41_lag1 = data.groupby(['week_number']).total_claims.sum().groupby(level=0).cumsum().reset_index()\n",
    "df_week41_lag1 = df_week41_lag1[df_week41_lag1['week_number'] < 41]\n",
    "\n",
    "# predict week 39 with week 1 - week 36\n",
    "\n",
    "df_week39_lag2 = data.groupby(['week_number']).total_claims.sum().groupby(level=0).cumsum().reset_index()\n",
    "df_week39_lag2 = df_week39_lag2[df_week39_lag2['week_number'] < 37]\n",
    "\n",
    "# predict week 40 with week 1 - week 37\n",
    "\n",
    "df_week40_lag2 = data.groupby(['week_number']).total_claims.sum().groupby(level=0).cumsum().reset_index()\n",
    "df_week40_lag2 = df_week40_lag2[df_week40_lag2['week_number'] < 38]\n",
    "\n",
    "# predict week 41 with week 1 - week 40\n",
    "\n",
    "df_week41_lag2 = data.groupby(['week_number']).total_claims.sum().groupby(level=0).cumsum().reset_index()\n",
    "df_week41_lag2 = df_week41_lag2[df_week41_lag2['week_number'] < 39]"
   ]
  },
  {
   "cell_type": "markdown",
   "id": "73072ebf",
   "metadata": {},
   "source": [
    "## Plot the overall data to see how the trend looks like when lagging 1 week "
   ]
  },
  {
   "cell_type": "code",
   "execution_count": 6,
   "id": "9868cfff",
   "metadata": {},
   "outputs": [
    {
     "name": "stderr",
     "output_type": "stream",
     "text": [
      "/opt/anaconda3/lib/python3.9/site-packages/seaborn/_decorators.py:36: FutureWarning: Pass the following variables as keyword args: x, y. From version 0.12, the only valid positional argument will be `data`, and passing other arguments without an explicit keyword will result in an error or misinterpretation.\n",
      "  warnings.warn(\n"
     ]
    },
    {
     "data": {
      "text/plain": [
       "<AxesSubplot:xlabel='week_number', ylabel='total_claims'>"
      ]
     },
     "execution_count": 6,
     "metadata": {},
     "output_type": "execute_result"
    },
    {
     "data": {
      "image/png": "[encoded data removed]",
      "text/plain": [
       "<Figure size 432x288 with 1 Axes>"
      ]
     },
     "metadata": {
      "needs_background": "light"
     },
     "output_type": "display_data"
    }
   ],
   "source": [
    "sns.regplot(df_week39_lag1['week_number'], df_week39_lag1['total_claims'])"
   ]
  },
  {
   "cell_type": "code",
   "execution_count": 7,
   "id": "4d0b0957",
   "metadata": {},
   "outputs": [
    {
     "name": "stderr",
     "output_type": "stream",
     "text": [
      "/opt/anaconda3/lib/python3.9/site-packages/seaborn/_decorators.py:36: FutureWarning: Pass the following variables as keyword args: x, y. From version 0.12, the only valid positional argument will be `data`, and passing other arguments without an explicit keyword will result in an error or misinterpretation.\n",
      "  warnings.warn(\n"
     ]
    },
    {
     "data": {
      "text/plain": [
       "<AxesSubplot:xlabel='week_number', ylabel='total_claims'>"
      ]
     },
     "execution_count": 7,
     "metadata": {},
     "output_type": "execute_result"
    },
    {
     "data": {
      "image/png": "[encoded data removed]",
      "text/plain": [
       "<Figure size 432x288 with 1 Axes>"
      ]
     },
     "metadata": {
      "needs_background": "light"
     },
     "output_type": "display_data"
    }
   ],
   "source": [
    "sns.regplot(df_week40_lag1['week_number'], df_week40_lag1['total_claims'])"
   ]
  },
  {
   "cell_type": "code",
   "execution_count": 8,
   "id": "64e7c908",
   "metadata": {},
   "outputs": [
    {
     "name": "stderr",
     "output_type": "stream",
     "text": [
      "/opt/anaconda3/lib/python3.9/site-packages/seaborn/_decorators.py:36: FutureWarning: Pass the following variables as keyword args: x, y. From version 0.12, the only valid positional argument will be `data`, and passing other arguments without an explicit keyword will result in an error or misinterpretation.\n",
      "  warnings.warn(\n"
     ]
    },
    {
     "data": {
      "text/plain": [
       "<AxesSubplot:xlabel='week_number', ylabel='total_claims'>"
      ]
     },
     "execution_count": 8,
     "metadata": {},
     "output_type": "execute_result"
    },
    {
     "data": {
      "image/png": "[encoded data removed]",
      "text/plain": [
       "<Figure size 432x288 with 1 Axes>"
      ]
     },
     "metadata": {
      "needs_background": "light"
     },
     "output_type": "display_data"
    }
   ],
   "source": [
    "sns.regplot(df_week41_lag1['week_number'], df_week41_lag1['total_claims'])"
   ]
  },
  {
   "cell_type": "markdown",
   "id": "72fbbe5b",
   "metadata": {},
   "source": [
    "## Plot the overall data to see how the trend looks like when lagging 2 weeks"
   ]
  },
  {
   "cell_type": "code",
   "execution_count": 9,
   "id": "fde49256",
   "metadata": {},
   "outputs": [
    {
     "name": "stderr",
     "output_type": "stream",
     "text": [
      "/opt/anaconda3/lib/python3.9/site-packages/seaborn/_decorators.py:36: FutureWarning: Pass the following variables as keyword args: x, y. From version 0.12, the only valid positional argument will be `data`, and passing other arguments without an explicit keyword will result in an error or misinterpretation.\n",
      "  warnings.warn(\n"
     ]
    },
    {
     "data": {
      "text/plain": [
       "<AxesSubplot:xlabel='week_number', ylabel='total_claims'>"
      ]
     },
     "execution_count": 9,
     "metadata": {},
     "output_type": "execute_result"
    },
    {
     "data": {
      "image/png": "[encoded data removed]",
      "text/plain": [
       "<Figure size 432x288 with 1 Axes>"
      ]
     },
     "metadata": {
      "needs_background": "light"
     },
     "output_type": "display_data"
    }
   ],
   "source": [
    "sns.regplot(df_week39_lag2['week_number'], df_week39_lag2['total_claims'])"
   ]
  },
  {
   "cell_type": "code",
   "execution_count": 10,
   "id": "1a151249",
   "metadata": {},
   "outputs": [
    {
     "name": "stderr",
     "output_type": "stream",
     "text": [
      "/opt/anaconda3/lib/python3.9/site-packages/seaborn/_decorators.py:36: FutureWarning: Pass the following variables as keyword args: x, y. From version 0.12, the only valid positional argument will be `data`, and passing other arguments without an explicit keyword will result in an error or misinterpretation.\n",
      "  warnings.warn(\n"
     ]
    },
    {
     "data": {
      "text/plain": [
       "<AxesSubplot:xlabel='week_number', ylabel='total_claims'>"
      ]
     },
     "execution_count": 10,
     "metadata": {},
     "output_type": "execute_result"
    },
    {
     "data": {
      "image/png": "[encoded data removed]",
      "text/plain": [
       "<Figure size 432x288 with 1 Axes>"
      ]
     },
     "metadata": {
      "needs_background": "light"
     },
     "output_type": "display_data"
    }
   ],
   "source": [
    "sns.regplot(df_week40_lag2['week_number'], df_week40_lag2['total_claims'])"
   ]
  },
  {
   "cell_type": "code",
   "execution_count": 11,
   "id": "01fba583",
   "metadata": {},
   "outputs": [
    {
     "name": "stderr",
     "output_type": "stream",
     "text": [
      "/opt/anaconda3/lib/python3.9/site-packages/seaborn/_decorators.py:36: FutureWarning: Pass the following variables as keyword args: x, y. From version 0.12, the only valid positional argument will be `data`, and passing other arguments without an explicit keyword will result in an error or misinterpretation.\n",
      "  warnings.warn(\n"
     ]
    },
    {
     "data": {
      "text/plain": [
       "<AxesSubplot:xlabel='week_number', ylabel='total_claims'>"
      ]
     },
     "execution_count": 11,
     "metadata": {},
     "output_type": "execute_result"
    },
    {
     "data": {
      "image/png": "[encoded data removed]",
      "text/plain": [
       "<Figure size 432x288 with 1 Axes>"
      ]
     },
     "metadata": {
      "needs_background": "light"
     },
     "output_type": "display_data"
    }
   ],
   "source": [
    "sns.regplot(df_week41_lag2['week_number'], df_week41_lag2['total_claims'])"
   ]
  },
  {
   "cell_type": "markdown",
   "id": "20cb3192",
   "metadata": {},
   "source": [
    "## Start performing predictions on the overall data without the granularity from uu_id\n",
    "\n",
    "> We do this primarily to decide if we should go with Linear Regression or Lag Regression. Note there are many ways to forecast which model might work better. "
   ]
  },
  {
   "cell_type": "code",
   "execution_count": 12,
   "id": "ba88f725",
   "metadata": {},
   "outputs": [
    {
     "ename": "NameError",
     "evalue": "name 'df' is not defined",
     "output_type": "error",
     "traceback": [
      "\u001b[0;31m---------------------------------------------------------------------------\u001b[0m",
      "\u001b[0;31mNameError\u001b[0m                                 Traceback (most recent call last)",
      "\u001b[0;32m/var/folders/gf/pvtbdsj96cz1tv7vmn1gq7j40000gn/T/ipykernel_4405/459923759.py\u001b[0m in \u001b[0;36m<module>\u001b[0;34m\u001b[0m\n\u001b[0;32m----> 1\u001b[0;31m \u001b[0mX\u001b[0m \u001b[0;34m=\u001b[0m \u001b[0mdf\u001b[0m\u001b[0;34m[\u001b[0m\u001b[0;34m'week_number'\u001b[0m\u001b[0;34m]\u001b[0m\u001b[0;34m.\u001b[0m\u001b[0mvalues\u001b[0m\u001b[0;34m.\u001b[0m\u001b[0mreshape\u001b[0m\u001b[0;34m(\u001b[0m\u001b[0;34m-\u001b[0m\u001b[0;36m1\u001b[0m\u001b[0;34m,\u001b[0m\u001b[0;36m1\u001b[0m\u001b[0;34m)\u001b[0m\u001b[0;34m\u001b[0m\u001b[0;34m\u001b[0m\u001b[0m\n\u001b[0m\u001b[1;32m      2\u001b[0m \u001b[0my\u001b[0m \u001b[0;34m=\u001b[0m \u001b[0mdf\u001b[0m\u001b[0;34m[\u001b[0m\u001b[0;34m'total_claims'\u001b[0m\u001b[0;34m]\u001b[0m\u001b[0;34m.\u001b[0m\u001b[0mvalues\u001b[0m\u001b[0;34m.\u001b[0m\u001b[0mreshape\u001b[0m\u001b[0;34m(\u001b[0m\u001b[0;34m-\u001b[0m\u001b[0;36m1\u001b[0m\u001b[0;34m,\u001b[0m\u001b[0;36m1\u001b[0m\u001b[0;34m)\u001b[0m\u001b[0;34m\u001b[0m\u001b[0;34m\u001b[0m\u001b[0m\n",
      "\u001b[0;31mNameError\u001b[0m: name 'df' is not defined"
     ]
    }
   ],
   "source": [
    "\n",
    "X = df['week_number'].values.reshape(-1,1)\n",
    "y = df['total_claims'].values.reshape(-1,1)"
   ]
  },
  {
   "cell_type": "code",
   "execution_count": null,
   "id": "728b4cb0",
   "metadata": {},
   "outputs": [],
   "source": [
    "X_train, X_test, y_train, y_test = train_test_split(X, y, test_size=0.04, random_state = 0)"
   ]
  },
  {
   "cell_type": "code",
   "execution_count": null,
   "id": "f9b682fd",
   "metadata": {},
   "outputs": [],
   "source": [
    "regressor = LinearRegression()  \n",
    "regressor.fit(X_train, y_train) #training the algorithm"
   ]
  },
  {
   "cell_type": "code",
   "execution_count": null,
   "id": "747352fe",
   "metadata": {},
   "outputs": [],
   "source": [
    "#To retrieve the intercept:\n",
    "print(regressor.intercept_)\n",
    "\n",
    "#For retrieving the slope:\n",
    "print(regressor.coef_)"
   ]
  },
  {
   "cell_type": "code",
   "execution_count": null,
   "id": "74670bd7",
   "metadata": {},
   "outputs": [],
   "source": [
    "y_pred = regressor.predict(X_test)"
   ]
  },
  {
   "cell_type": "code",
   "execution_count": null,
   "id": "49dfb469",
   "metadata": {},
   "outputs": [],
   "source": [
    "outcome = pd.DataFrame({'Actual': y_test.flatten(), 'Predicted': y_pred.flatten()})\n",
    "outcome"
   ]
  },
  {
   "cell_type": "code",
   "execution_count": null,
   "id": "3085f7af",
   "metadata": {},
   "outputs": [],
   "source": [
    "outcome = outcome.head(25)\n",
    "outcome.plot(kind='bar',figsize=(16,10))\n",
    "plt.grid(which='major', linestyle='-', linewidth='0.5', color='green')\n",
    "plt.grid(which='minor', linestyle=':', linewidth='0.5', color='black')\n",
    "plt.show()"
   ]
  },
  {
   "cell_type": "code",
   "execution_count": null,
   "id": "8a4614d9",
   "metadata": {},
   "outputs": [],
   "source": [
    "print('Mean Absolute Error:', metrics.mean_absolute_error(y_test, y_pred))  \n",
    "print('Mean Squared Error:', metrics.mean_squared_error(y_test, y_pred))  \n",
    "print('Root Mean Squared Error:', np.sqrt(metrics.mean_squared_error(y_test, y_pred)))"
   ]
  },
  {
   "cell_type": "markdown",
   "id": "2a2a5c11",
   "metadata": {},
   "source": [
    "## Start modeling with Lag Regression "
   ]
  },
  {
   "cell_type": "code",
   "execution_count": null,
   "id": "3528e279",
   "metadata": {},
   "outputs": [],
   "source": [
    "df['lag'] = df['total_claims'].shift(1).dropna()\n",
    "df"
   ]
  },
  {
   "cell_type": "code",
   "execution_count": null,
   "id": "c1bd5177",
   "metadata": {},
   "outputs": [],
   "source": [
    "X = df['lag'].dropna()\n",
    "y = df['total_claims']\n",
    "y, X = y.align(X, join='inner')  # drop corresponding values in target\n",
    "X"
   ]
  },
  {
   "cell_type": "code",
   "execution_count": null,
   "id": "227cc9e3",
   "metadata": {},
   "outputs": [],
   "source": [
    "X = X.values.reshape(-1,1)\n",
    "y = y.values.reshape(-1,1)\n",
    "\n",
    "X_train, X_test, y_train, y_test = train_test_split(X, y, test_size=0.04, random_state = 0)\n",
    "\n",
    "regressor = LinearRegression().fit(X,y)"
   ]
  },
  {
   "cell_type": "code",
   "execution_count": null,
   "id": "25e07bb4",
   "metadata": {},
   "outputs": [],
   "source": [
    "#To retrieve the intercept:\n",
    "print(regressor.intercept_)\n",
    "\n",
    "#For retrieving the slope:\n",
    "print(regressor.coef_)"
   ]
  },
  {
   "cell_type": "code",
   "execution_count": null,
   "id": "741a4db4",
   "metadata": {},
   "outputs": [],
   "source": [
    "y_pred = regressor.predict(X_test)"
   ]
  },
  {
   "cell_type": "code",
   "execution_count": null,
   "id": "af9530c3",
   "metadata": {},
   "outputs": [],
   "source": [
    "df = pd.DataFrame({'Actual': y_test.flatten(), 'Predicted': y_pred.flatten()})\n",
    "df"
   ]
  },
  {
   "cell_type": "code",
   "execution_count": null,
   "id": "b2ead586",
   "metadata": {},
   "outputs": [],
   "source": [
    "print('Mean Absolute Error:', metrics.mean_absolute_error(y_test, y_pred))  \n",
    "print('Mean Squared Error:', metrics.mean_squared_error(y_test, y_pred))  \n",
    "print('Root Mean Squared Error:', np.sqrt(metrics.mean_squared_error(y_test, y_pred)))"
   ]
  },
  {
   "cell_type": "markdown",
   "id": "5a880ced",
   "metadata": {},
   "source": [
    "## Now we decided we should use Linear Regression due to the better RMSE value. "
   ]
  },
  {
   "cell_type": "markdown",
   "id": "d6829315",
   "metadata": {},
   "source": [
    "## Sort the dataframe \n",
    "\n",
    "> Sort the dataframe according to week_number so that we can use test_train_split directly on the top portion of the dataframe as the training set by setting stratify = False and shuffle = False. There are many ways to doing this. "
   ]
  },
  {
   "cell_type": "code",
   "execution_count": null,
   "id": "09640b5f",
   "metadata": {},
   "outputs": [],
   "source": [
    "data = data.sort_values('week_number')\n",
    "data"
   ]
  },
  {
   "cell_type": "markdown",
   "id": "a3b9d0a1",
   "metadata": {},
   "source": [
    "## Function to print the dataframe according to the desired output format. "
   ]
  },
  {
   "cell_type": "code",
   "execution_count": 13,
   "id": "e8bd6842",
   "metadata": {},
   "outputs": [],
   "source": [
    "def printexcel(result, filename):\n",
    "    frame = pd.DataFrame(list(result.items()), columns=['uu_id','total_claims'])\n",
    "    frame['total_claims'] =  frame['total_claims'].apply(lambda x: str(x).replace('[','').replace(']',''))\n",
    "    frame['total_claims'] = frame['total_claims'].astype(float)\n",
    "    frame.to_csv(filename, index=False)"
   ]
  },
  {
   "cell_type": "markdown",
   "id": "7b807cc9",
   "metadata": {},
   "source": [
    "## Function to predict week 52. "
   ]
  },
  {
   "cell_type": "code",
   "execution_count": 92,
   "id": "ec24e3e5",
   "metadata": {},
   "outputs": [],
   "source": [
    "week39  = data[data['week_number'] == 39]"
   ]
  },
  {
   "cell_type": "code",
   "execution_count": 93,
   "id": "6f6007a4",
   "metadata": {},
   "outputs": [],
   "source": [
    "data_week_38 = data[data['week_number'] < 39]"
   ]
  },
  {
   "cell_type": "code",
   "execution_count": 65,
   "id": "5bf7b270",
   "metadata": {},
   "outputs": [],
   "source": [
    "common = set(week39['uu_id']).intersection(data_week_38['uu_id'])\n",
    "\n",
    "out = pd.concat([week39[week39['uu_id'].isin(common)], data_week_38[data_week_38['uu_id'].isin(common)]])\n",
    "out = out.sort_values('week_number')\n",
    "week_1_38 = out[out['week_number'] < 39]\n",
    "week_39 = out[out['week_number'] == 39]"
   ]
  },
  {
   "cell_type": "markdown",
   "id": "f510b068",
   "metadata": {},
   "source": [
    "## Get only week 52 data "
   ]
  },
  {
   "cell_type": "code",
   "execution_count": 70,
   "id": "31e1d01e",
   "metadata": {},
   "outputs": [
    {
     "name": "stdout",
     "output_type": "stream",
     "text": [
      "uu_id\n",
      "005be9532fd717dc36d4be318fd9ad25     [54.01802943581359]\n",
      "0068776d88cb6d1ab5c7059fbd3dd3cb     [77.86446568201565]\n",
      "00d85dff1c1f21f01f4f5f0bd683d32b    [28.336013261500213]\n",
      "00eefd4f45685ac82f7df022c30b3810     [32.84210526315789]\n",
      "00f962ce727b8dbbf20925abd5a253dd     [53.51033499643623]\n",
      "                                            ...         \n",
      "fd38d1859753f17df3c5f4df40197795    [23.082101870775027]\n",
      "fd536ceeba7fcbabdd0444b1eba6cab4    [28.882397003745318]\n",
      "fd613eba867c6ad7350a937f743b88f2     [29.11840600265362]\n",
      "fe355ff27aa8b2242a558d5e3ec99c18    [20.679226896215695]\n",
      "fec479d0202d6e1e3f051a9ee902ff5d    [41.506170986982795]\n",
      "Length: 574, dtype: object\n"
     ]
    }
   ],
   "source": [
    "def regressionsquare(data, yvar, xvars):\n",
    "    X_train, X_test, y_train, y_test = train_test_split(data[xvars], data[yvar], train_size=0.9999, random_state=42, shuffle=False, stratify=None)\n",
    "    result = sm.OLS(y_train, X_train).fit()\n",
    "    predictions = result.predict(39)\n",
    "    return predictions\n",
    "result = week_1_38.groupby('uu_id').apply(regressionsquare, 'total_claims', 'week_number')\n",
    "print(result)"
   ]
  },
  {
   "cell_type": "code",
   "execution_count": 71,
   "id": "3de35571",
   "metadata": {},
   "outputs": [],
   "source": [
    "result_dict1 = out.groupby('uu_id').apply(regressionsquare, 'total_claims', 'week_number').to_dict()\n",
    "printexcel(result_dict1, 'model-39-lag1.csv')"
   ]
  },
  {
   "cell_type": "markdown",
   "id": "283b0c63",
   "metadata": {},
   "source": [
    "## Read the output file to compare actual and predicted value in week 52"
   ]
  },
  {
   "cell_type": "code",
   "execution_count": 72,
   "id": "fa5f51e2",
   "metadata": {},
   "outputs": [
    {
     "data": {
      "text/html": [
       "<div>\n",
       "<style scoped>\n",
       "    .dataframe tbody tr th:only-of-type {\n",
       "        vertical-align: middle;\n",
       "    }\n",
       "\n",
       "    .dataframe tbody tr th {\n",
       "        vertical-align: top;\n",
       "    }\n",
       "\n",
       "    .dataframe thead th {\n",
       "        text-align: right;\n",
       "    }\n",
       "</style>\n",
       "<table border=\"1\" class=\"dataframe\">\n",
       "  <thead>\n",
       "    <tr style=\"text-align: right;\">\n",
       "      <th></th>\n",
       "      <th>uu_id</th>\n",
       "      <th>total_claims</th>\n",
       "    </tr>\n",
       "  </thead>\n",
       "  <tbody>\n",
       "    <tr>\n",
       "      <th>0</th>\n",
       "      <td>005be9532fd717dc36d4be318fd9ad25</td>\n",
       "      <td>51.940747</td>\n",
       "    </tr>\n",
       "    <tr>\n",
       "      <th>1</th>\n",
       "      <td>0068776d88cb6d1ab5c7059fbd3dd3cb</td>\n",
       "      <td>49.195960</td>\n",
       "    </tr>\n",
       "    <tr>\n",
       "      <th>2</th>\n",
       "      <td>00d85dff1c1f21f01f4f5f0bd683d32b</td>\n",
       "      <td>26.618454</td>\n",
       "    </tr>\n",
       "    <tr>\n",
       "      <th>3</th>\n",
       "      <td>00eefd4f45685ac82f7df022c30b3810</td>\n",
       "      <td>36.691313</td>\n",
       "    </tr>\n",
       "    <tr>\n",
       "      <th>4</th>\n",
       "      <td>00f962ce727b8dbbf20925abd5a253dd</td>\n",
       "      <td>53.851124</td>\n",
       "    </tr>\n",
       "    <tr>\n",
       "      <th>...</th>\n",
       "      <td>...</td>\n",
       "      <td>...</td>\n",
       "    </tr>\n",
       "    <tr>\n",
       "      <th>569</th>\n",
       "      <td>fd38d1859753f17df3c5f4df40197795</td>\n",
       "      <td>22.362984</td>\n",
       "    </tr>\n",
       "    <tr>\n",
       "      <th>570</th>\n",
       "      <td>fd536ceeba7fcbabdd0444b1eba6cab4</td>\n",
       "      <td>22.961089</td>\n",
       "    </tr>\n",
       "    <tr>\n",
       "      <th>571</th>\n",
       "      <td>fd613eba867c6ad7350a937f743b88f2</td>\n",
       "      <td>27.395214</td>\n",
       "    </tr>\n",
       "    <tr>\n",
       "      <th>572</th>\n",
       "      <td>fe355ff27aa8b2242a558d5e3ec99c18</td>\n",
       "      <td>19.709227</td>\n",
       "    </tr>\n",
       "    <tr>\n",
       "      <th>573</th>\n",
       "      <td>fec479d0202d6e1e3f051a9ee902ff5d</td>\n",
       "      <td>39.932145</td>\n",
       "    </tr>\n",
       "  </tbody>\n",
       "</table>\n",
       "<p>574 rows × 2 columns</p>\n",
       "</div>"
      ],
      "text/plain": [
       "                                uu_id  total_claims\n",
       "0    005be9532fd717dc36d4be318fd9ad25     51.940747\n",
       "1    0068776d88cb6d1ab5c7059fbd3dd3cb     49.195960\n",
       "2    00d85dff1c1f21f01f4f5f0bd683d32b     26.618454\n",
       "3    00eefd4f45685ac82f7df022c30b3810     36.691313\n",
       "4    00f962ce727b8dbbf20925abd5a253dd     53.851124\n",
       "..                                ...           ...\n",
       "569  fd38d1859753f17df3c5f4df40197795     22.362984\n",
       "570  fd536ceeba7fcbabdd0444b1eba6cab4     22.961089\n",
       "571  fd613eba867c6ad7350a937f743b88f2     27.395214\n",
       "572  fe355ff27aa8b2242a558d5e3ec99c18     19.709227\n",
       "573  fec479d0202d6e1e3f051a9ee902ff5d     39.932145\n",
       "\n",
       "[574 rows x 2 columns]"
      ]
     },
     "execution_count": 72,
     "metadata": {},
     "output_type": "execute_result"
    }
   ],
   "source": [
    "df = pd.read_csv('model-39-lag1.csv')\n",
    "df"
   ]
  },
  {
   "cell_type": "markdown",
   "id": "b02fe60b",
   "metadata": {},
   "source": [
    "## Predicted value for week 39 ( lag 1 )"
   ]
  },
  {
   "cell_type": "code",
   "execution_count": 73,
   "id": "c285fadf",
   "metadata": {},
   "outputs": [],
   "source": [
    "def mean_absolute_percentage_error(y_true, y_pred): \n",
    "    y_true, y_pred = np.array(y_true), np.array(y_pred)\n",
    "    return np.mean(np.abs((y_true - y_pred) / y_true)) * 100"
   ]
  },
  {
   "cell_type": "code",
   "execution_count": 87,
   "id": "c7f6632f",
   "metadata": {},
   "outputs": [],
   "source": [
    "matching_39= week_39.loc[week_39['uu_id'].isin(df['uu_id'])]\n",
    "matching_39 = matching_39.drop_duplicates('uu_id', keep='last')\n"
   ]
  },
  {
   "cell_type": "code",
   "execution_count": 86,
   "id": "b1c6c6df",
   "metadata": {},
   "outputs": [
    {
     "data": {
      "text/plain": [
       "93.50752909362788"
      ]
     },
     "execution_count": 86,
     "metadata": {},
     "output_type": "execute_result"
    }
   ],
   "source": [
    "mean_absolute_percentage_error(matching_39['total_claims'], df['total_claims'])"
   ]
  },
  {
   "cell_type": "code",
   "execution_count": 90,
   "id": "46459796",
   "metadata": {},
   "outputs": [
    {
     "data": {
      "text/plain": [
       "273.80165278148087"
      ]
     },
     "execution_count": 90,
     "metadata": {},
     "output_type": "execute_result"
    }
   ],
   "source": [
    "mean_squared_error(matching_39['total_claims'], df['total_claims'])"
   ]
  },
  {
   "cell_type": "markdown",
   "id": "6d0b677f",
   "metadata": {},
   "source": [
    "> Week 52 prediction not too bad"
   ]
  },
  {
   "cell_type": "markdown",
   "id": "7813c9c1",
   "metadata": {},
   "source": [
    "## Function to predict week 51"
   ]
  },
  {
   "cell_type": "code",
   "execution_count": null,
   "id": "1dd98e41",
   "metadata": {},
   "outputs": [],
   "source": [
    "def regressionsquare(data, yvar, xvars):\n",
    "    X_train, X_test, y_train, y_test = train_test_split(data[xvars], data[yvar], train_size=0.9991, random_state=42, shuffle=False, stratify=None)\n",
    "    result = sm.OLS(y_train, X_train).fit()\n",
    "    predictions = result.predict(51)\n",
    "    return predictions\n",
    "result = data.groupby('uu_id').apply(regressionsquare, 'total_claims', 'week_number')\n",
    "print(result)"
   ]
  },
  {
   "cell_type": "code",
   "execution_count": null,
   "id": "b2e469b6",
   "metadata": {},
   "outputs": [],
   "source": [
    "result_dict1 = data.groupby('uu_id').apply(regressionsquare, 'total_claims', 'week_number').to_dict()\n",
    "printexcel(result_dict1, 'model-51.csv')"
   ]
  },
  {
   "cell_type": "code",
   "execution_count": null,
   "id": "5007d293",
   "metadata": {},
   "outputs": [],
   "source": [
    "df = pd.read_csv('model-51.csv')\n",
    "df"
   ]
  },
  {
   "cell_type": "markdown",
   "id": "cbe386cf",
   "metadata": {},
   "source": [
    "## Actual value for week 51. Note, there is only one uu_id that has week 51 data. "
   ]
  },
  {
   "cell_type": "code",
   "execution_count": null,
   "id": "2e4ccfa3",
   "metadata": {},
   "outputs": [],
   "source": [
    "result = data[data['week_number']== 51]['total_claims']\n",
    "result"
   ]
  },
  {
   "cell_type": "markdown",
   "id": "65f61784",
   "metadata": {},
   "source": [
    "## Predicted value for week 51. Note, there is only one uu_id that has week 51 data"
   ]
  },
  {
   "cell_type": "code",
   "execution_count": null,
   "id": "8233c39d",
   "metadata": {},
   "outputs": [],
   "source": [
    "result = df[df['uu_id']== 'e3e95cb95a379d758a44832a471c5350']['total_claims']\n",
    "result"
   ]
  },
  {
   "cell_type": "markdown",
   "id": "fc667cce",
   "metadata": {},
   "source": [
    "> Week 51 prediction a bit off, but not too bad either. "
   ]
  },
  {
   "cell_type": "markdown",
   "id": "a6cb7c21",
   "metadata": {},
   "source": [
    "## Function to predict week 49 "
   ]
  },
  {
   "cell_type": "code",
   "execution_count": null,
   "id": "5fcb197c",
   "metadata": {},
   "outputs": [],
   "source": [
    "def regressionsquare(data, yvar, xvars):\n",
    "    X_train, X_test, y_train, y_test = train_test_split(data[xvars], data[yvar], train_size=0.9991, random_state=42, shuffle=False, stratify=None)\n",
    "    result = sm.OLS(y_train, X_train).fit()\n",
    "    predictions = result.predict(49)\n",
    "    return predictions\n",
    "result = data.groupby('uu_id').apply(regressionsquare, 'total_claims', 'week_number')\n",
    "print(result)"
   ]
  },
  {
   "cell_type": "code",
   "execution_count": null,
   "id": "09ee922c",
   "metadata": {},
   "outputs": [],
   "source": [
    "result_dict1 = data.groupby('uu_id').apply(regressionsquare, 'total_claims', 'week_number').to_dict()\n",
    "printexcel(result_dict1, 'model-49.csv')"
   ]
  },
  {
   "cell_type": "code",
   "execution_count": null,
   "id": "aaa5f447",
   "metadata": {},
   "outputs": [],
   "source": [
    "df = pd.read_csv('model-49.csv')\n",
    "df"
   ]
  },
  {
   "cell_type": "markdown",
   "id": "3531bd52",
   "metadata": {},
   "source": [
    "## Actual value for week 49. Note, there is only two uu_id that has week 49 data. "
   ]
  },
  {
   "cell_type": "code",
   "execution_count": null,
   "id": "52860d54",
   "metadata": {},
   "outputs": [],
   "source": [
    "result = data[data['week_number'] == 49]['total_claims']\n",
    "result"
   ]
  },
  {
   "cell_type": "markdown",
   "id": "852588f7",
   "metadata": {},
   "source": [
    "## Predicted value for week 49. Note, there is only two uu_id that has week 49 data. "
   ]
  },
  {
   "cell_type": "code",
   "execution_count": null,
   "id": "2ebe532a",
   "metadata": {},
   "outputs": [],
   "source": [
    "result = df[df['uu_id'] == 'a0875049afbd1cb4735e07c03fb8baae']['total_claims']\n",
    "result"
   ]
  },
  {
   "cell_type": "code",
   "execution_count": null,
   "id": "65bbd6f8",
   "metadata": {},
   "outputs": [],
   "source": [
    "result = df[df['uu_id'] == '7dd5fff353cd08adc694aa74d7fa31af']['total_claims']\n",
    "result"
   ]
  },
  {
   "cell_type": "markdown",
   "id": "dd45267c",
   "metadata": {},
   "source": [
    "> Model not too bad in predicting week 49 "
   ]
  },
  {
   "cell_type": "raw",
   "id": "9dcfc58f",
   "metadata": {},
   "source": []
  }
 ],
 "metadata": {
  "kernelspec": {
   "display_name": "Python 3 (ipykernel)",
   "language": "python",
   "name": "python3"
  },
  "language_info": {
   "codemirror_mode": {
    "name": "ipython",
    "version": 3
   },
   "file_extension": ".py",
   "mimetype": "text/x-python",
   "name": "python",
   "nbconvert_exporter": "python",
   "pygments_lexer": "ipython3",
   "version": "3.9.7"
  }
 },
 "nbformat": 4,
 "nbformat_minor": 5
}
