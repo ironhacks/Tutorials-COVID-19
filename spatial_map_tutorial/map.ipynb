{
 "cells": [
  {
   "cell_type": "code",
   "execution_count": 26,
   "metadata": {},
   "outputs": [],
   "source": [
    "import folium\n",
    "import pandas as pd\n",
    "import json\n",
    "from folium import plugins"
   ]
  },
  {
   "cell_type": "code",
   "execution_count": 27,
   "metadata": {},
   "outputs": [],
   "source": [
    "df = pd.read_csv('poi-info.csv')"
   ]
  },
  {
   "cell_type": "code",
   "execution_count": 28,
   "metadata": {},
   "outputs": [],
   "source": [
    "with open('tippecanoe-county-census-blocks.geojson') as f:\n",
    "    laArea = json.load(f)"
   ]
  },
  {
   "cell_type": "markdown",
   "metadata": {},
   "source": [
    "# Basic Point Map"
   ]
  },
  {
   "cell_type": "code",
   "execution_count": 29,
   "metadata": {},
   "outputs": [],
   "source": [
    "laMap = folium.Map(location=[40.3470,-86.8220], tiles='Stamen Toner', zoom_start=15)\n",
    "folium.GeoJson(laArea).add_to(laMap)\n",
    "for i,row in df.iterrows():\n",
    "    folium.CircleMarker((row.latitude,row.longitude), radius=3, weight=2, color='red', fill_color='red', fill_opacity=.5).add_to(laMap)"
   ]
  },
  {
   "cell_type": "code",
   "execution_count": 30,
   "metadata": {
    "scrolled": true
   },
   "outputs": [],
   "source": [
    "laMap.save('laPointMap.html')"
   ]
  },
  {
   "cell_type": "markdown",
   "metadata": {},
   "source": [
    "# Choropleth Map"
   ]
  },
  {
   "cell_type": "code",
   "execution_count": 63,
   "metadata": {
    "collapsed": true
   },
   "outputs": [],
   "source": [
    "numStoresSeries = df.groupby('zip').count().id\n",
    "numStoresByZip = pd.DataFrame()\n",
    "numStoresByZip['zipcode'] = [str(i) for i in numStoresSeries.index]\n",
    "numStoresByZip['numStores'] = numStoresSeries.values"
   ]
  },
  {
   "cell_type": "code",
   "execution_count": 64,
   "metadata": {},
   "outputs": [],
   "source": [
    "laMap = folium.Map(location=[34.0522,-118.2437], tiles='Stamen Toner', zoom_start=9)\n",
    "\n",
    "laMap.choropleth(geo_path='laZips.geojson', data=numStoresByZip, columns=['zipcode', 'numStores'], \\\n",
    "                 key_on='feature.properties.zipcode', fill_color='YlGn', fill_opacity=1)\n",
    "\n",
    "laMap.save('laChoropleth.html')"
   ]
  },
  {
   "cell_type": "markdown",
   "metadata": {},
   "source": [
    "# Heatmap "
   ]
  },
  {
   "cell_type": "code",
   "execution_count": 65,
   "metadata": {},
   "outputs": [
    {
     "name": "stderr",
     "output_type": "stream",
     "text": [
      "C:\\Users\\Ritvik\\Anaconda2\\lib\\site-packages\\ipykernel\\__main__.py:8: FutureWarning: Method `add_children` is deprecated. Please use `add_child` instead.\n"
     ]
    }
   ],
   "source": [
    "laMap = folium.Map(location=[34.0522,-118.2437], tiles='Stamen Toner', zoom_start=9)\n",
    "\n",
    "folium.GeoJson(laArea).add_to(laMap)\n",
    "\n",
    "for i,row in df.iterrows():\n",
    "    folium.CircleMarker((row.latitude,row.longitude), radius=3, weight=2, color='red', fill_color='red', fill_opacity=.5).add_to(laMap)\n",
    "    \n",
    "laMap.add_children(plugins.HeatMap(df[['latitude', 'longitude']].as_matrix(), radius=25))\n",
    "\n",
    "laMap.save('laHeatmap.html')"
   ]
  },
  {
   "cell_type": "code",
   "execution_count": null,
   "metadata": {
    "collapsed": true
   },
   "outputs": [],
   "source": []
  },
  {
   "cell_type": "code",
   "execution_count": null,
   "metadata": {
    "collapsed": true
   },
   "outputs": [],
   "source": []
  }
 ],
 "metadata": {
  "kernelspec": {
   "display_name": "Python 3",
   "language": "python",
   "name": "python3"
  },
  "language_info": {
   "codemirror_mode": {
    "name": "ipython",
    "version": 3
   },
   "file_extension": ".py",
   "mimetype": "text/x-python",
   "name": "python",
   "nbconvert_exporter": "python",
   "pygments_lexer": "ipython3",
   "version": "3.9.1"
  }
 },
 "nbformat": 4,
 "nbformat_minor": 1
}
