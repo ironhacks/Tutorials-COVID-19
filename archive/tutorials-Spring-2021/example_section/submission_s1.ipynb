{
 "metadata": {
  "language_info": {
   "codemirror_mode": {
    "name": "ipython",
    "version": 3
   },
   "file_extension": ".py",
   "mimetype": "text/x-python",
   "name": "python",
   "nbconvert_exporter": "python",
   "pygments_lexer": "ipython3",
   "version": 3
  },
  "orig_nbformat": 2
 },
 "nbformat": 4,
 "nbformat_minor": 2,
 "cells": [
  {
   "source": [
    "## Summary of Submission 1\n",
    "\n",
    "I use linear regression to predict the visit counts. I first extract the week number, POI, and raw visit counts. For each poi, I create a record of the counts for the 23 weeks. Sorr, running out of time. So I paste the following sentence for linear regression: In statistics, linear regression is a linear approach to modelling the relationship between a scalar response and one or more explanatory variables (also known as dependent and independent variables). The case of one explanatory variable is called simple linear regression; for more than one, the process is called multiple linear regression. This term is distinct from multivariate linear regression, where multiple correlated dependent variables are predicted, rather than a single scalar variable."
   ],
   "cell_type": "markdown",
   "metadata": {}
  }
 ]
}