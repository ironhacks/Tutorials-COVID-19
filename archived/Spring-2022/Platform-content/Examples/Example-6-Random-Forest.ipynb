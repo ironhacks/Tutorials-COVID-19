{
 "cells": [
  {
   "cell_type": "code",
   "execution_count": 1,
   "id": "a5e2648a-3754-42df-805a-f1992a51872d",
   "metadata": {},
   "outputs": [
    {
     "name": "stdout",
     "output_type": "stream",
     "text": [
      "Collecting google-cloud-bigquery\n",
      "  Using cached google_cloud_bigquery-3.0.1-py2.py3-none-any.whl (210 kB)\n",
      "Collecting google-cloud-bigquery-storage<3.0.0dev,>=2.0.0\n",
      "  Using cached google_cloud_bigquery_storage-2.13.0-py2.py3-none-any.whl (179 kB)\n",
      "Requirement already satisfied: python-dateutil<3.0dev,>=2.7.2 in /opt/conda/lib/python3.9/site-packages (from google-cloud-bigquery) (2.8.2)\n",
      "Collecting grpcio<2.0dev,>=1.38.1\n",
      "  Using cached grpcio-1.44.0-cp39-cp39-manylinux_2_17_x86_64.manylinux2014_x86_64.whl (4.3 MB)\n",
      "Requirement already satisfied: packaging>=14.3 in /opt/conda/lib/python3.9/site-packages (from google-cloud-bigquery) (21.3)\n",
      "Requirement already satisfied: requests<3.0.0dev,>=2.18.0 in /opt/conda/lib/python3.9/site-packages (from google-cloud-bigquery) (2.27.1)\n",
      "Collecting google-cloud-core<3.0.0dev,>=1.4.1\n",
      "  Using cached google_cloud_core-2.2.3-py2.py3-none-any.whl (29 kB)\n",
      "Collecting google-api-core[grpc]!=2.0.*,!=2.1.*,!=2.2.*,!=2.3.0,<3.0.0dev,>=1.31.5\n",
      "  Using cached google_api_core-2.7.1-py3-none-any.whl (114 kB)\n",
      "Requirement already satisfied: protobuf>=3.12.0 in /opt/conda/lib/python3.9/site-packages (from google-cloud-bigquery) (3.20.0rc2)\n",
      "Collecting google-resumable-media<3.0dev,>=0.6.0\n",
      "  Using cached google_resumable_media-2.3.2-py2.py3-none-any.whl (76 kB)\n",
      "Collecting proto-plus>=1.15.0\n",
      "  Using cached proto_plus-1.20.3-py3-none-any.whl (46 kB)\n",
      "Collecting pyarrow<8.0dev,>=3.0.0\n",
      "  Using cached pyarrow-7.0.0-cp39-cp39-manylinux_2_17_x86_64.manylinux2014_x86_64.whl (26.7 MB)\n",
      "Collecting googleapis-common-protos<2.0dev,>=1.52.0\n",
      "  Using cached googleapis_common_protos-1.56.0-py2.py3-none-any.whl (241 kB)\n",
      "Collecting google-auth<3.0dev,>=1.25.0\n",
      "  Using cached google_auth-2.6.2-py2.py3-none-any.whl (156 kB)\n",
      "Collecting grpcio-status<2.0dev,>=1.33.2\n",
      "  Using cached grpcio_status-1.45.0-py3-none-any.whl (10.0 kB)\n",
      "Collecting google-crc32c<2.0dev,>=1.0\n",
      "  Using cached google_crc32c-1.3.0-cp39-cp39-manylinux_2_12_x86_64.manylinux2010_x86_64.whl (36 kB)\n",
      "Requirement already satisfied: six>=1.5.2 in /opt/conda/lib/python3.9/site-packages (from grpcio<2.0dev,>=1.38.1->google-cloud-bigquery) (1.16.0)\n",
      "Requirement already satisfied: pyparsing!=3.0.5,>=2.0.2 in /opt/conda/lib/python3.9/site-packages (from packaging>=14.3->google-cloud-bigquery) (3.0.7)\n",
      "Requirement already satisfied: numpy>=1.16.6 in /opt/conda/lib/python3.9/site-packages (from pyarrow<8.0dev,>=3.0.0->google-cloud-bigquery) (1.21.5)\n",
      "Requirement already satisfied: charset-normalizer~=2.0.0 in /opt/conda/lib/python3.9/site-packages (from requests<3.0.0dev,>=2.18.0->google-cloud-bigquery) (2.0.12)\n",
      "Requirement already satisfied: idna<4,>=2.5 in /opt/conda/lib/python3.9/site-packages (from requests<3.0.0dev,>=2.18.0->google-cloud-bigquery) (3.3)\n",
      "Requirement already satisfied: certifi>=2017.4.17 in /opt/conda/lib/python3.9/site-packages (from requests<3.0.0dev,>=2.18.0->google-cloud-bigquery) (2021.10.8)\n",
      "Requirement already satisfied: urllib3<1.27,>=1.21.1 in /opt/conda/lib/python3.9/site-packages (from requests<3.0.0dev,>=2.18.0->google-cloud-bigquery) (1.26.9)\n",
      "Collecting pyasn1-modules>=0.2.1\n",
      "  Using cached pyasn1_modules-0.2.8-py2.py3-none-any.whl (155 kB)\n",
      "Collecting rsa<5,>=3.1.4\n",
      "  Using cached rsa-4.8-py3-none-any.whl (39 kB)\n",
      "Collecting cachetools<6.0,>=2.0.0\n",
      "  Using cached cachetools-5.0.0-py3-none-any.whl (9.1 kB)\n",
      "Collecting grpcio-status<2.0dev,>=1.33.2\n",
      "  Using cached grpcio_status-1.44.0-py3-none-any.whl (10.0 kB)\n",
      "Collecting pyasn1<0.5.0,>=0.4.6\n",
      "  Using cached pyasn1-0.4.8-py2.py3-none-any.whl (77 kB)\n",
      "Installing collected packages: pyasn1, rsa, pyasn1-modules, pyarrow, proto-plus, grpcio, googleapis-common-protos, google-crc32c, cachetools, grpcio-status, google-resumable-media, google-auth, google-api-core, google-cloud-core, google-cloud-bigquery-storage, google-cloud-bigquery\n",
      "Successfully installed cachetools-5.0.0 google-api-core-2.7.1 google-auth-2.6.2 google-cloud-bigquery-3.0.1 google-cloud-bigquery-storage-2.13.0 google-cloud-core-2.2.3 google-crc32c-1.3.0 google-resumable-media-2.3.2 googleapis-common-protos-1.56.0 grpcio-1.44.0 grpcio-status-1.44.0 proto-plus-1.20.3 pyarrow-7.0.0 pyasn1-0.4.8 pyasn1-modules-0.2.8 rsa-4.8\n",
      "Requirement already satisfied: google-cloud-bigquery[pandas] in /opt/conda/lib/python3.9/site-packages (3.0.1)\n",
      "Requirement already satisfied: protobuf>=3.12.0 in /opt/conda/lib/python3.9/site-packages (from google-cloud-bigquery[pandas]) (3.20.0rc2)\n",
      "Requirement already satisfied: pyarrow<8.0dev,>=3.0.0 in /opt/conda/lib/python3.9/site-packages (from google-cloud-bigquery[pandas]) (7.0.0)\n",
      "Requirement already satisfied: google-cloud-core<3.0.0dev,>=1.4.1 in /opt/conda/lib/python3.9/site-packages (from google-cloud-bigquery[pandas]) (2.2.3)\n",
      "Requirement already satisfied: google-resumable-media<3.0dev,>=0.6.0 in /opt/conda/lib/python3.9/site-packages (from google-cloud-bigquery[pandas]) (2.3.2)\n",
      "Requirement already satisfied: packaging>=14.3 in /opt/conda/lib/python3.9/site-packages (from google-cloud-bigquery[pandas]) (21.3)\n",
      "Requirement already satisfied: proto-plus>=1.15.0 in /opt/conda/lib/python3.9/site-packages (from google-cloud-bigquery[pandas]) (1.20.3)\n",
      "Requirement already satisfied: requests<3.0.0dev,>=2.18.0 in /opt/conda/lib/python3.9/site-packages (from google-cloud-bigquery[pandas]) (2.27.1)\n",
      "Requirement already satisfied: google-cloud-bigquery-storage<3.0.0dev,>=2.0.0 in /opt/conda/lib/python3.9/site-packages (from google-cloud-bigquery[pandas]) (2.13.0)\n",
      "Requirement already satisfied: python-dateutil<3.0dev,>=2.7.2 in /opt/conda/lib/python3.9/site-packages (from google-cloud-bigquery[pandas]) (2.8.2)\n",
      "Requirement already satisfied: google-api-core[grpc]!=2.0.*,!=2.1.*,!=2.2.*,!=2.3.0,<3.0.0dev,>=1.31.5 in /opt/conda/lib/python3.9/site-packages (from google-cloud-bigquery[pandas]) (2.7.1)\n",
      "Requirement already satisfied: grpcio<2.0dev,>=1.38.1 in /opt/conda/lib/python3.9/site-packages (from google-cloud-bigquery[pandas]) (1.44.0)\n",
      "Collecting db-dtypes<2.0.0dev,>=0.3.0\n",
      "  Using cached db_dtypes-1.0.0-py2.py3-none-any.whl (14 kB)\n",
      "Requirement already satisfied: pandas>=1.0.0 in /opt/conda/lib/python3.9/site-packages (from google-cloud-bigquery[pandas]) (1.4.1)\n",
      "Requirement already satisfied: numpy<2.0dev,>=1.16.6 in /opt/conda/lib/python3.9/site-packages (from db-dtypes<2.0.0dev,>=0.3.0->google-cloud-bigquery[pandas]) (1.21.5)\n",
      "Requirement already satisfied: google-auth<3.0dev,>=1.25.0 in /opt/conda/lib/python3.9/site-packages (from google-api-core[grpc]!=2.0.*,!=2.1.*,!=2.2.*,!=2.3.0,<3.0.0dev,>=1.31.5->google-cloud-bigquery[pandas]) (2.6.2)\n",
      "Requirement already satisfied: googleapis-common-protos<2.0dev,>=1.52.0 in /opt/conda/lib/python3.9/site-packages (from google-api-core[grpc]!=2.0.*,!=2.1.*,!=2.2.*,!=2.3.0,<3.0.0dev,>=1.31.5->google-cloud-bigquery[pandas]) (1.56.0)\n",
      "Requirement already satisfied: grpcio-status<2.0dev,>=1.33.2 in /opt/conda/lib/python3.9/site-packages (from google-api-core[grpc]!=2.0.*,!=2.1.*,!=2.2.*,!=2.3.0,<3.0.0dev,>=1.31.5->google-cloud-bigquery[pandas]) (1.44.0)\n",
      "Requirement already satisfied: google-crc32c<2.0dev,>=1.0 in /opt/conda/lib/python3.9/site-packages (from google-resumable-media<3.0dev,>=0.6.0->google-cloud-bigquery[pandas]) (1.3.0)\n",
      "Requirement already satisfied: six>=1.5.2 in /opt/conda/lib/python3.9/site-packages (from grpcio<2.0dev,>=1.38.1->google-cloud-bigquery[pandas]) (1.16.0)\n",
      "Requirement already satisfied: pyparsing!=3.0.5,>=2.0.2 in /opt/conda/lib/python3.9/site-packages (from packaging>=14.3->google-cloud-bigquery[pandas]) (3.0.7)\n",
      "Requirement already satisfied: pytz>=2020.1 in /opt/conda/lib/python3.9/site-packages (from pandas>=1.0.0->google-cloud-bigquery[pandas]) (2022.1)\n",
      "Requirement already satisfied: charset-normalizer~=2.0.0 in /opt/conda/lib/python3.9/site-packages (from requests<3.0.0dev,>=2.18.0->google-cloud-bigquery[pandas]) (2.0.12)\n",
      "Requirement already satisfied: certifi>=2017.4.17 in /opt/conda/lib/python3.9/site-packages (from requests<3.0.0dev,>=2.18.0->google-cloud-bigquery[pandas]) (2021.10.8)\n",
      "Requirement already satisfied: idna<4,>=2.5 in /opt/conda/lib/python3.9/site-packages (from requests<3.0.0dev,>=2.18.0->google-cloud-bigquery[pandas]) (3.3)\n",
      "Requirement already satisfied: urllib3<1.27,>=1.21.1 in /opt/conda/lib/python3.9/site-packages (from requests<3.0.0dev,>=2.18.0->google-cloud-bigquery[pandas]) (1.26.9)\n",
      "Requirement already satisfied: rsa<5,>=3.1.4 in /opt/conda/lib/python3.9/site-packages (from google-auth<3.0dev,>=1.25.0->google-api-core[grpc]!=2.0.*,!=2.1.*,!=2.2.*,!=2.3.0,<3.0.0dev,>=1.31.5->google-cloud-bigquery[pandas]) (4.8)\n",
      "Requirement already satisfied: pyasn1-modules>=0.2.1 in /opt/conda/lib/python3.9/site-packages (from google-auth<3.0dev,>=1.25.0->google-api-core[grpc]!=2.0.*,!=2.1.*,!=2.2.*,!=2.3.0,<3.0.0dev,>=1.31.5->google-cloud-bigquery[pandas]) (0.2.8)\n",
      "Requirement already satisfied: cachetools<6.0,>=2.0.0 in /opt/conda/lib/python3.9/site-packages (from google-auth<3.0dev,>=1.25.0->google-api-core[grpc]!=2.0.*,!=2.1.*,!=2.2.*,!=2.3.0,<3.0.0dev,>=1.31.5->google-cloud-bigquery[pandas]) (5.0.0)\n",
      "Requirement already satisfied: pyasn1<0.5.0,>=0.4.6 in /opt/conda/lib/python3.9/site-packages (from pyasn1-modules>=0.2.1->google-auth<3.0dev,>=1.25.0->google-api-core[grpc]!=2.0.*,!=2.1.*,!=2.2.*,!=2.3.0,<3.0.0dev,>=1.31.5->google-cloud-bigquery[pandas]) (0.4.8)\n",
      "Installing collected packages: db-dtypes\n",
      "Successfully installed db-dtypes-1.0.0\n"
     ]
    }
   ],
   "source": [
    "!pip install google-cloud-bigquery\n",
    "!pip install google-cloud-bigquery[pandas]"
   ]
  },
  {
   "cell_type": "markdown",
   "id": "a44edb44-f03c-44d9-a7d6-7797d24529cf",
   "metadata": {},
   "source": [
    "# Importing all the libraries"
   ]
  },
  {
   "cell_type": "code",
   "execution_count": 2,
   "id": "3d3cdc52-0ccf-48b7-bb6f-3eaa3207cdde",
   "metadata": {},
   "outputs": [],
   "source": [
    "import csv\n",
    "import os\n",
    "import pandas as pd\n",
    "import numpy as np\n",
    "from google.cloud import bigquery\n",
    "from google.oauth2 import service_account\n",
    "from google.cloud.bigquery import magics\n",
    "from sklearn.model_selection import train_test_split \n",
    "from sklearn.linear_model import LinearRegression\n",
    "from sklearn import metrics\n",
    "import matplotlib.pyplot as plt  \n",
    "import statsmodels.api as sm\n",
    "import itertools"
   ]
  },
  {
   "cell_type": "markdown",
   "id": "1391f527-5eb4-4d01-a54a-d152382047f4",
   "metadata": {},
   "source": [
    "# CONFIGURE THE BIGQUERY SETTINGS"
   ]
  },
  {
   "cell_type": "code",
   "execution_count": 6,
   "id": "2481f795-7056-4e1d-9ceb-aa579319ffdb",
   "metadata": {},
   "outputs": [],
   "source": [
    "BIGQUERY_PROJECT = 'ironhacks-covid19-data'\n",
    "BIGQUERY_KEYPATH = 'service-account.json'\n",
    "\n",
    "os.environ['GOOGLE_APPLICATION_CREDENTIALS'] = BIGQUERY_KEYPATH\n",
    "bigquery_client = bigquery.Client(project=BIGQUERY_PROJECT)"
   ]
  },
  {
   "cell_type": "code",
   "execution_count": 7,
   "id": "e22d167b-fc0c-408e-b1b2-528a306360a9",
   "metadata": {},
   "outputs": [
    {
     "data": {
      "text/html": [
       "<div>\n",
       "<style scoped>\n",
       "    .dataframe tbody tr th:only-of-type {\n",
       "        vertical-align: middle;\n",
       "    }\n",
       "\n",
       "    .dataframe tbody tr th {\n",
       "        vertical-align: top;\n",
       "    }\n",
       "\n",
       "    .dataframe thead th {\n",
       "        text-align: right;\n",
       "    }\n",
       "</style>\n",
       "<table border=\"1\" class=\"dataframe\">\n",
       "  <thead>\n",
       "    <tr style=\"text-align: right;\">\n",
       "      <th></th>\n",
       "      <th>date</th>\n",
       "      <th>max_rel_humidity</th>\n",
       "      <th>max_temperature</th>\n",
       "      <th>mean_temperature</th>\n",
       "      <th>min_rel_humidity</th>\n",
       "      <th>min_temperature</th>\n",
       "      <th>potential_water_deficit</th>\n",
       "      <th>precipitation_data</th>\n",
       "      <th>wind_speed</th>\n",
       "    </tr>\n",
       "  </thead>\n",
       "  <tbody>\n",
       "    <tr>\n",
       "      <th>0</th>\n",
       "      <td>2019-10-12</td>\n",
       "      <td>69.2646</td>\n",
       "      <td>13.5804</td>\n",
       "      <td>7.6987</td>\n",
       "      <td>28.2524</td>\n",
       "      <td>1.8170</td>\n",
       "      <td>-3.0055</td>\n",
       "      <td>0.0</td>\n",
       "      <td>5.1240</td>\n",
       "    </tr>\n",
       "    <tr>\n",
       "      <th>1</th>\n",
       "      <td>2019-12-22</td>\n",
       "      <td>93.9565</td>\n",
       "      <td>11.8324</td>\n",
       "      <td>4.6358</td>\n",
       "      <td>34.5712</td>\n",
       "      <td>-2.5607</td>\n",
       "      <td>-1.2796</td>\n",
       "      <td>0.0</td>\n",
       "      <td>2.8557</td>\n",
       "    </tr>\n",
       "    <tr>\n",
       "      <th>2</th>\n",
       "      <td>2019-08-24</td>\n",
       "      <td>91.3571</td>\n",
       "      <td>24.6652</td>\n",
       "      <td>18.6607</td>\n",
       "      <td>44.4712</td>\n",
       "      <td>12.6562</td>\n",
       "      <td>-4.7381</td>\n",
       "      <td>0.0</td>\n",
       "      <td>4.4706</td>\n",
       "    </tr>\n",
       "    <tr>\n",
       "      <th>3</th>\n",
       "      <td>2020-07-14</td>\n",
       "      <td>90.5395</td>\n",
       "      <td>29.7732</td>\n",
       "      <td>23.1580</td>\n",
       "      <td>43.2159</td>\n",
       "      <td>16.5427</td>\n",
       "      <td>-5.8112</td>\n",
       "      <td>0.0</td>\n",
       "      <td>2.3504</td>\n",
       "    </tr>\n",
       "    <tr>\n",
       "      <th>4</th>\n",
       "      <td>2019-12-07</td>\n",
       "      <td>98.1103</td>\n",
       "      <td>6.4609</td>\n",
       "      <td>0.5011</td>\n",
       "      <td>42.7690</td>\n",
       "      <td>-5.4587</td>\n",
       "      <td>-0.9686</td>\n",
       "      <td>0.0</td>\n",
       "      <td>3.2087</td>\n",
       "    </tr>\n",
       "  </tbody>\n",
       "</table>\n",
       "</div>"
      ],
      "text/plain": [
       "        date  max_rel_humidity  max_temperature  mean_temperature  \\\n",
       "0 2019-10-12           69.2646          13.5804            7.6987   \n",
       "1 2019-12-22           93.9565          11.8324            4.6358   \n",
       "2 2019-08-24           91.3571          24.6652           18.6607   \n",
       "3 2020-07-14           90.5395          29.7732           23.1580   \n",
       "4 2019-12-07           98.1103           6.4609            0.5011   \n",
       "\n",
       "   min_rel_humidity  min_temperature  potential_water_deficit  \\\n",
       "0           28.2524           1.8170                  -3.0055   \n",
       "1           34.5712          -2.5607                  -1.2796   \n",
       "2           44.4712          12.6562                  -4.7381   \n",
       "3           43.2159          16.5427                  -5.8112   \n",
       "4           42.7690          -5.4587                  -0.9686   \n",
       "\n",
       "   precipitation_data  wind_speed  \n",
       "0                 0.0      5.1240  \n",
       "1                 0.0      2.8557  \n",
       "2                 0.0      4.4706  \n",
       "3                 0.0      2.3504  \n",
       "4                 0.0      3.2087  "
      ]
     },
     "execution_count": 7,
     "metadata": {},
     "output_type": "execute_result"
    }
   ],
   "source": [
    "query = \"\"\"\n",
    "SELECT *\n",
    "FROM `ironhacks-covid19-data.ironhacks_covid19_training.weather_data`\n",
    "\"\"\"\n",
    "\n",
    "# QUERY THE DATA ONCE\n",
    "query_job = bigquery_client.query(query)\n",
    "data = query_job.to_dataframe()\n",
    "data['date']= pd.to_datetime(data['date'])\n",
    "data.head()"
   ]
  },
  {
   "cell_type": "markdown",
   "id": "a99fafd3-c6bd-4ce9-8c91-0fc201ac294d",
   "metadata": {},
   "source": [
    "### We will predict max_temprature in this example and convert them to data arrays"
   ]
  },
  {
   "cell_type": "code",
   "execution_count": 8,
   "id": "f30ccb1d-a708-445c-9665-d2b177bcbf29",
   "metadata": {},
   "outputs": [],
   "source": [
    "labels = np.array(data['max_temperature'])\n",
    "features=data.drop(['max_temperature','date'], axis=1)\n",
    "feature_list = list(features.columns)\n",
    "features = np.array(features)"
   ]
  },
  {
   "cell_type": "markdown",
   "id": "ddeab40d-5e3f-4357-b5ef-5a1743d2337f",
   "metadata": {},
   "source": [
    "### Train test split with 25% of testing data."
   ]
  },
  {
   "cell_type": "code",
   "execution_count": 9,
   "id": "24f69141-2707-4380-9f76-a4417c4aadaa",
   "metadata": {},
   "outputs": [],
   "source": [
    "train_features, test_features, train_labels, test_labels = train_test_split(features, labels, test_size = 0.25, random_state = 42)"
   ]
  },
  {
   "cell_type": "code",
   "execution_count": 10,
   "id": "6f848663-9fe3-46a6-a9c8-92caa80d98a3",
   "metadata": {},
   "outputs": [
    {
     "name": "stdout",
     "output_type": "stream",
     "text": [
      "Training Features Shape: (273, 7)\n",
      "Testing Features Shape: (92, 7)\n",
      "Training Labels Shape: (273,)\n",
      "Testing Labels Shape: (92,)\n"
     ]
    }
   ],
   "source": [
    "print(f'Training Features Shape: {train_features.shape}')\n",
    "print(f'Testing Features Shape: {test_features.shape}')\n",
    "print(f'Training Labels Shape: {train_labels.shape}')\n",
    "print(f'Testing Labels Shape: {test_labels.shape}')"
   ]
  },
  {
   "cell_type": "markdown",
   "id": "19409b07-fa73-44e7-a3db-768f63937372",
   "metadata": {},
   "source": [
    "### Importing the random forest model from sklearn"
   ]
  },
  {
   "cell_type": "code",
   "execution_count": 11,
   "id": "0e5bdabe-e634-46f2-ba7e-b6f6bf807d06",
   "metadata": {},
   "outputs": [
    {
     "data": {
      "text/plain": [
       "RandomForestRegressor(n_estimators=1000, random_state=42)"
      ]
     },
     "execution_count": 11,
     "metadata": {},
     "output_type": "execute_result"
    }
   ],
   "source": [
    "from sklearn.ensemble import RandomForestRegressor\n",
    "rf = RandomForestRegressor(n_estimators=1000, random_state=42)\n",
    "rf.fit(train_features, train_labels)"
   ]
  },
  {
   "cell_type": "code",
   "execution_count": 13,
   "id": "67c5422a-d418-4708-bbd9-6fe6adeee27f",
   "metadata": {},
   "outputs": [],
   "source": [
    "predictions = rf.predict(test_features)"
   ]
  },
  {
   "cell_type": "code",
   "execution_count": 14,
   "id": "291b30d1-a4da-4129-9db1-b12b092ad0ed",
   "metadata": {},
   "outputs": [],
   "source": [
    "errors = abs(test_labels - predictions)"
   ]
  },
  {
   "cell_type": "code",
   "execution_count": 15,
   "id": "b98a3664-fbef-44e4-ba07-40886688dcad",
   "metadata": {},
   "outputs": [
    {
     "name": "stdout",
     "output_type": "stream",
     "text": [
      "Mean Absolute Error: 0.87\n"
     ]
    }
   ],
   "source": [
    "print(f'Mean Absolute Error: {round(np.mean(errors), 2)}')"
   ]
  },
  {
   "cell_type": "code",
   "execution_count": 16,
   "id": "c9421680-4056-483a-b945-2fb80c89eef9",
   "metadata": {},
   "outputs": [
    {
     "name": "stdout",
     "output_type": "stream",
     "text": [
      "Accuracy: 93.33%.\n"
     ]
    }
   ],
   "source": [
    "# Calculate mean absolute percentage error (MAPE)\n",
    "mape = 100 * (errors/test_labels)\n",
    "# Calcualte and display accuracy\n",
    "accuracy = 100 - np.mean(mape)\n",
    "print(f'Accuracy: {round(accuracy, 2)}%.')"
   ]
  },
  {
   "cell_type": "code",
   "execution_count": null,
   "id": "301b78f9-4e36-469c-87d2-1e2e80b62213",
   "metadata": {},
   "outputs": [],
   "source": []
  }
 ],
 "metadata": {
  "kernelspec": {
   "display_name": "Python 3 (ipykernel)",
   "language": "python",
   "name": "python3"
  },
  "language_info": {
   "codemirror_mode": {
    "name": "ipython",
    "version": 3
   },
   "file_extension": ".py",
   "mimetype": "text/x-python",
   "name": "python",
   "nbconvert_exporter": "python",
   "pygments_lexer": "ipython3",
   "version": "3.9.10"
  }
 },
 "nbformat": 4,
 "nbformat_minor": 5
}
