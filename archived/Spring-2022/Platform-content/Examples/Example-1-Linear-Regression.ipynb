{
 "cells": [
  {
   "cell_type": "code",
   "execution_count": 27,
   "id": "aa3b0f97",
   "metadata": {},
   "outputs": [],
   "source": [
    "import csv\n",
    "import pandas as pd\n",
    "import numpy as np\n",
    "from google.cloud import bigquery\n",
    "from google.oauth2 import service_account\n",
    "from google.cloud.bigquery import magics\n",
    "from sklearn.model_selection import train_test_split \n",
    "from sklearn.linear_model import LinearRegression\n",
    "from sklearn import metrics\n",
    "import matplotlib.pyplot as plt  "
   ]
  },
  {
   "cell_type": "code",
   "execution_count": 11,
   "id": "510188f7",
   "metadata": {},
   "outputs": [],
   "source": [
    "import os\n",
    "BIGQUERY_PROJECT = 'cloud-test-ironhacks'\n",
    "BIGQUERY_KEYPATH = '../../../cloud-test-ironhacks-65dd0613ac9e.json'\n",
    "\n",
    "os.environ['GOOGLE_APPLICATION_CREDENTIALS'] = BIGQUERY_KEYPATH\n",
    "bigquery_client = bigquery.Client(project=BIGQUERY_PROJECT)"
   ]
  },
  {
   "cell_type": "code",
   "execution_count": 12,
   "id": "9190e7d1",
   "metadata": {},
   "outputs": [
    {
     "data": {
      "text/html": [
       "<div>\n",
       "<style scoped>\n",
       "    .dataframe tbody tr th:only-of-type {\n",
       "        vertical-align: middle;\n",
       "    }\n",
       "\n",
       "    .dataframe tbody tr th {\n",
       "        vertical-align: top;\n",
       "    }\n",
       "\n",
       "    .dataframe thead th {\n",
       "        text-align: right;\n",
       "    }\n",
       "</style>\n",
       "<table border=\"1\" class=\"dataframe\">\n",
       "  <thead>\n",
       "    <tr style=\"text-align: right;\">\n",
       "      <th></th>\n",
       "      <th>date</th>\n",
       "      <th>max_rel_humidity</th>\n",
       "      <th>max_temperature</th>\n",
       "      <th>mean_temperature</th>\n",
       "      <th>min_rel_humidity</th>\n",
       "      <th>min_temperature</th>\n",
       "      <th>potential_water_deficit</th>\n",
       "      <th>precipitation_data</th>\n",
       "      <th>wind_speed</th>\n",
       "    </tr>\n",
       "  </thead>\n",
       "  <tbody>\n",
       "    <tr>\n",
       "      <th>0</th>\n",
       "      <td>2019-08-10</td>\n",
       "      <td>90.5813</td>\n",
       "      <td>28.3985</td>\n",
       "      <td>21.5126</td>\n",
       "      <td>39.8397</td>\n",
       "      <td>14.6268</td>\n",
       "      <td>-4.8887</td>\n",
       "      <td>0.0</td>\n",
       "      <td>2.1004</td>\n",
       "    </tr>\n",
       "    <tr>\n",
       "      <th>1</th>\n",
       "      <td>2019-08-24</td>\n",
       "      <td>91.3571</td>\n",
       "      <td>24.6652</td>\n",
       "      <td>18.6607</td>\n",
       "      <td>44.4712</td>\n",
       "      <td>12.6562</td>\n",
       "      <td>-4.7381</td>\n",
       "      <td>0.0</td>\n",
       "      <td>4.4706</td>\n",
       "    </tr>\n",
       "    <tr>\n",
       "      <th>2</th>\n",
       "      <td>2019-08-28</td>\n",
       "      <td>93.9562</td>\n",
       "      <td>25.3146</td>\n",
       "      <td>18.8246</td>\n",
       "      <td>43.4746</td>\n",
       "      <td>12.3346</td>\n",
       "      <td>-4.7147</td>\n",
       "      <td>0.0</td>\n",
       "      <td>4.3852</td>\n",
       "    </tr>\n",
       "    <tr>\n",
       "      <th>3</th>\n",
       "      <td>2019-09-04</td>\n",
       "      <td>99.9498</td>\n",
       "      <td>25.4570</td>\n",
       "      <td>18.6242</td>\n",
       "      <td>56.4720</td>\n",
       "      <td>11.7913</td>\n",
       "      <td>-3.6142</td>\n",
       "      <td>0.0</td>\n",
       "      <td>3.6461</td>\n",
       "    </tr>\n",
       "    <tr>\n",
       "      <th>4</th>\n",
       "      <td>2019-09-17</td>\n",
       "      <td>96.1398</td>\n",
       "      <td>26.9347</td>\n",
       "      <td>20.6516</td>\n",
       "      <td>46.6763</td>\n",
       "      <td>14.3685</td>\n",
       "      <td>-4.1923</td>\n",
       "      <td>0.0</td>\n",
       "      <td>4.0712</td>\n",
       "    </tr>\n",
       "  </tbody>\n",
       "</table>\n",
       "</div>"
      ],
      "text/plain": [
       "         date  max_rel_humidity  max_temperature  mean_temperature  \\\n",
       "0  2019-08-10           90.5813          28.3985           21.5126   \n",
       "1  2019-08-24           91.3571          24.6652           18.6607   \n",
       "2  2019-08-28           93.9562          25.3146           18.8246   \n",
       "3  2019-09-04           99.9498          25.4570           18.6242   \n",
       "4  2019-09-17           96.1398          26.9347           20.6516   \n",
       "\n",
       "   min_rel_humidity  min_temperature  potential_water_deficit  \\\n",
       "0           39.8397          14.6268                  -4.8887   \n",
       "1           44.4712          12.6562                  -4.7381   \n",
       "2           43.4746          12.3346                  -4.7147   \n",
       "3           56.4720          11.7913                  -3.6142   \n",
       "4           46.6763          14.3685                  -4.1923   \n",
       "\n",
       "   precipitation_data  wind_speed  \n",
       "0                 0.0      2.1004  \n",
       "1                 0.0      4.4706  \n",
       "2                 0.0      4.3852  \n",
       "3                 0.0      3.6461  \n",
       "4                 0.0      4.0712  "
      ]
     },
     "execution_count": 12,
     "metadata": {},
     "output_type": "execute_result"
    }
   ],
   "source": [
    "query = \"\"\"\n",
    "SELECT * FROM `cloud-test-ironhacks.weather.combined_weather`\n",
    "\"\"\"\n",
    "\n",
    "query_job = bigquery_client.query(query)\n",
    "data = query_job.to_dataframe()\n",
    "data.head()"
   ]
  },
  {
   "cell_type": "markdown",
   "id": "7e38150a",
   "metadata": {},
   "source": [
    "We want to predict the max_temperature depending upon the min_temperature recorded. Therefore our attribute set will consist of the min_temperature column which is stored in the X variable, and the label will be the max_temperature column which is stored in y variable."
   ]
  },
  {
   "cell_type": "code",
   "execution_count": 13,
   "id": "20c92d84",
   "metadata": {},
   "outputs": [],
   "source": [
    "X = data['min_temperature'].values.reshape(-1,1)\n",
    "y = data['max_temperature'].values.reshape(-1,1)"
   ]
  },
  {
   "cell_type": "markdown",
   "id": "e67c1d11",
   "metadata": {},
   "source": [
    "## We split 80% of the data to the training set while 20% of the data to test set using below code"
   ]
  },
  {
   "cell_type": "code",
   "execution_count": 16,
   "id": "7d1e20e7",
   "metadata": {},
   "outputs": [],
   "source": [
    "X_train, X_test, y_train, y_test = train_test_split(X, y, test_size=0.2, random_state=0)"
   ]
  },
  {
   "cell_type": "markdown",
   "id": "4b40a580",
   "metadata": {},
   "source": [
    "## Time to train our algorithm with LinearRegression() class"
   ]
  },
  {
   "cell_type": "code",
   "execution_count": 17,
   "id": "2fb72b2e",
   "metadata": {},
   "outputs": [
    {
     "data": {
      "text/plain": [
       "LinearRegression()"
      ]
     },
     "execution_count": 17,
     "metadata": {},
     "output_type": "execute_result"
    }
   ],
   "source": [
    "regressor = LinearRegression()  \n",
    "regressor.fit(X_train, y_train) #training the algorithm"
   ]
  },
  {
   "cell_type": "markdown",
   "id": "dfa85b79",
   "metadata": {},
   "source": [
    "## Check the value of the intercept and slop calculated by the linear regression algorithm"
   ]
  },
  {
   "cell_type": "code",
   "execution_count": 18,
   "id": "2231d9b5",
   "metadata": {},
   "outputs": [
    {
     "name": "stdout",
     "output_type": "stream",
     "text": [
      "[10.37781564]\n",
      "[[1.07034603]]\n"
     ]
    }
   ],
   "source": [
    "#To retrieve the intercept:\n",
    "print(regressor.intercept_)\n",
    "\n",
    "#For retrieving the slope:\n",
    "print(regressor.coef_)"
   ]
  },
  {
   "cell_type": "markdown",
   "id": "2028335b",
   "metadata": {},
   "source": [
    "## See how accurately our algorithm predicts the percentage score with test data"
   ]
  },
  {
   "cell_type": "code",
   "execution_count": 21,
   "id": "9ef39063",
   "metadata": {},
   "outputs": [],
   "source": [
    "y_pred = regressor.predict(X_test)"
   ]
  },
  {
   "cell_type": "markdown",
   "id": "2e0391c0",
   "metadata": {},
   "source": [
    "## Compare the actual output values for X_test with the predicted values"
   ]
  },
  {
   "cell_type": "code",
   "execution_count": 24,
   "id": "fcfab79b",
   "metadata": {},
   "outputs": [
    {
     "data": {
      "text/html": [
       "<div>\n",
       "<style scoped>\n",
       "    .dataframe tbody tr th:only-of-type {\n",
       "        vertical-align: middle;\n",
       "    }\n",
       "\n",
       "    .dataframe tbody tr th {\n",
       "        vertical-align: top;\n",
       "    }\n",
       "\n",
       "    .dataframe thead th {\n",
       "        text-align: right;\n",
       "    }\n",
       "</style>\n",
       "<table border=\"1\" class=\"dataframe\">\n",
       "  <thead>\n",
       "    <tr style=\"text-align: right;\">\n",
       "      <th></th>\n",
       "      <th>Actual</th>\n",
       "      <th>Predicted</th>\n",
       "    </tr>\n",
       "  </thead>\n",
       "  <tbody>\n",
       "    <tr>\n",
       "      <th>0</th>\n",
       "      <td>-2.5306</td>\n",
       "      <td>-2.211059</td>\n",
       "    </tr>\n",
       "    <tr>\n",
       "      <th>1</th>\n",
       "      <td>19.9006</td>\n",
       "      <td>17.078182</td>\n",
       "    </tr>\n",
       "    <tr>\n",
       "      <th>2</th>\n",
       "      <td>29.8013</td>\n",
       "      <td>29.808984</td>\n",
       "    </tr>\n",
       "    <tr>\n",
       "      <th>3</th>\n",
       "      <td>5.2792</td>\n",
       "      <td>14.249364</td>\n",
       "    </tr>\n",
       "    <tr>\n",
       "      <th>4</th>\n",
       "      <td>9.1528</td>\n",
       "      <td>7.898787</td>\n",
       "    </tr>\n",
       "    <tr>\n",
       "      <th>...</th>\n",
       "      <td>...</td>\n",
       "      <td>...</td>\n",
       "    </tr>\n",
       "    <tr>\n",
       "      <th>68</th>\n",
       "      <td>10.5137</td>\n",
       "      <td>11.973487</td>\n",
       "    </tr>\n",
       "    <tr>\n",
       "      <th>69</th>\n",
       "      <td>17.4173</td>\n",
       "      <td>16.363833</td>\n",
       "    </tr>\n",
       "    <tr>\n",
       "      <th>70</th>\n",
       "      <td>27.7318</td>\n",
       "      <td>29.075904</td>\n",
       "    </tr>\n",
       "    <tr>\n",
       "      <th>71</th>\n",
       "      <td>30.2206</td>\n",
       "      <td>34.309789</td>\n",
       "    </tr>\n",
       "    <tr>\n",
       "      <th>72</th>\n",
       "      <td>19.7482</td>\n",
       "      <td>20.585492</td>\n",
       "    </tr>\n",
       "  </tbody>\n",
       "</table>\n",
       "<p>73 rows × 2 columns</p>\n",
       "</div>"
      ],
      "text/plain": [
       "     Actual  Predicted\n",
       "0   -2.5306  -2.211059\n",
       "1   19.9006  17.078182\n",
       "2   29.8013  29.808984\n",
       "3    5.2792  14.249364\n",
       "4    9.1528   7.898787\n",
       "..      ...        ...\n",
       "68  10.5137  11.973487\n",
       "69  17.4173  16.363833\n",
       "70  27.7318  29.075904\n",
       "71  30.2206  34.309789\n",
       "72  19.7482  20.585492\n",
       "\n",
       "[73 rows x 2 columns]"
      ]
     },
     "execution_count": 24,
     "metadata": {},
     "output_type": "execute_result"
    }
   ],
   "source": [
    "df = pd.DataFrame({'Actual': y_test.flatten(), 'Predicted': y_pred.flatten()})\n",
    "df"
   ]
  },
  {
   "cell_type": "markdown",
   "id": "cc96b95b",
   "metadata": {},
   "source": [
    "## Visualize comparison result as a bar graph with just 25 results"
   ]
  },
  {
   "cell_type": "code",
   "execution_count": 28,
   "id": "9756297f",
   "metadata": {},
   "outputs": [
    {
     "data": {
      "image/png": "[encoded data removed]",
      "text/plain": [
       "<Figure size 1152x720 with 1 Axes>"
      ]
     },
     "metadata": {
      "needs_background": "light"
     },
     "output_type": "display_data"
    }
   ],
   "source": [
    "df1 = df.head(25)\n",
    "df1.plot(kind='bar',figsize=(16,10))\n",
    "plt.grid(which='major', linestyle='-', linewidth='0.5', color='green')\n",
    "plt.grid(which='minor', linestyle=':', linewidth='0.5', color='black')\n",
    "plt.show()"
   ]
  },
  {
   "cell_type": "markdown",
   "id": "8a498a19",
   "metadata": {},
   "source": [
    "## Plot straight line with test data"
   ]
  },
  {
   "cell_type": "code",
   "execution_count": 29,
   "id": "257b0505",
   "metadata": {},
   "outputs": [
    {
     "data": {
      "image/png": "[encoded data removed]",
      "text/plain": [
       "<Figure size 432x288 with 1 Axes>"
      ]
     },
     "metadata": {
      "needs_background": "light"
     },
     "output_type": "display_data"
    }
   ],
   "source": [
    "plt.scatter(X_test, y_test,  color='gray')\n",
    "plt.plot(X_test, y_pred, color='red', linewidth=2)\n",
    "plt.show()"
   ]
  },
  {
   "cell_type": "markdown",
   "id": "d0091506",
   "metadata": {},
   "source": [
    "## Evaluate the performance of the algorithm"
   ]
  },
  {
   "cell_type": "code",
   "execution_count": 30,
   "id": "a8b5ebc8",
   "metadata": {},
   "outputs": [
    {
     "name": "stdout",
     "output_type": "stream",
     "text": [
      "Mean Absolute Error: 2.7232652651850984\n",
      "Mean Squared Error: 12.973994462130191\n",
      "Root Mean Squared Error: 3.6019431508742876\n"
     ]
    }
   ],
   "source": [
    "print('Mean Absolute Error:', metrics.mean_absolute_error(y_test, y_pred))  \n",
    "print('Mean Squared Error:', metrics.mean_squared_error(y_test, y_pred))  \n",
    "print('Root Mean Squared Error:', np.sqrt(metrics.mean_squared_error(y_test, y_pred)))"
   ]
  },
  {
   "cell_type": "markdown",
   "id": "dab410b5",
   "metadata": {},
   "source": [
    "Root mean squared error is 3.6, which is more than 10% of the mean value of the percentages of all the temperature. This means that our algorithm was not very accurate but can still make reasonably good predictions."
   ]
  },
  {
   "cell_type": "code",
   "execution_count": null,
   "id": "a15452af",
   "metadata": {},
   "outputs": [],
   "source": []
  }
 ],
 "metadata": {
  "kernelspec": {
   "display_name": "Python 3 (ipykernel)",
   "language": "python",
   "name": "python3"
  },
  "language_info": {
   "codemirror_mode": {
    "name": "ipython",
    "version": 3
   },
   "file_extension": ".py",
   "mimetype": "text/x-python",
   "name": "python",
   "nbconvert_exporter": "python",
   "pygments_lexer": "ipython3",
   "version": "3.9.7"
  }
 },
 "nbformat": 4,
 "nbformat_minor": 5
}
