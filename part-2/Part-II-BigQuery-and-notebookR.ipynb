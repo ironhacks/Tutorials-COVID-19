{
 "cells": [
  {
   "cell_type": "markdown",
   "metadata": {},
   "source": [
    "# Tutorial #2: How to query data from BigQuery in a Notebook\n",
    "\n",
    "Welcome to part II of our tutorials designed for participants in the IronHacks. In this second notebook (part II), we will show you how you can access our training data stored in BigQuery using a key stored in your user profile.\n",
    "\n",
    "> Before you get started: This tutorial will not more 10 min and you should be able to work with our training data right after. \n",
    "\n",
    "**Our goal**: Help you getting started with the R packages `BigRQuery` or `DBI` or `dply` in order to access a training dataset stored in BigQuery! So if you have never used these libraries before this tutorial is key for you. \n",
    "\n",
    "**BigQuery - What's that?**: \n",
    "BigQuery is Google's flagship data warehousing system: \"Serverless, highly scalable, and cost-effective multi-cloud data warehouse designed for business agility\". It allows you to analyze large amount of data using ANSI SQL at blazing-fast speeds, with zero operational overhead. You can find out more [here](https://cloud.google.com/bigquery). \n",
    "\n",
    "\n",
    "**Why do we use BigQuery?**\n",
    "In the COVID-19 Data Science Challenges you will use BIG DATA from our data providers SafeGraph, the Management Performance Hub (MPH), and other partners (Department of Workforce Development). The first hack Summer 2020, will use preprocessed data so you will not need to use all the functionalities of BIG QUERY as we have sampled down more than 50 datasets with more than 1 TB and millions of raws into a small sets of cleaned tables without missing entries and clear identifiers. However, using BigQuery will still be very helpful as you can see for exploring data without having to use them in memory etc. It will also set you up for the future of data science since BigQuery is replacing other BIG DATA services (e.g. Spark). \n",
    "\n",
    "**How do we give you access to BigQuery?**\n",
    "In Big Query data are stored in projects. Inside a project there are multiple datasets. Each dataset can contain multiple tables. \n",
    "In this hack we give you access to a project called: `ironhacks-covid19-data`. In this project there are two datasets:`ironhacks-covid19-data:ironhacks_covid19_training` and `ironhacks-covid19-data:ironhacks_covid19_competition\n",
    "`. During the training period you will only find data in the first dataset. In this first tutorial we only use one first relatively simply structured table stored in this dataset. It is called `covid19_tests_cases_deaths_IN`\n",
    "\n",
    "> Keep in mind: In this tutorial you will learn how to get access to the `ironhacks-covid19-data` and the datset `ironhacks-covid19-data:ironhacks_covid19_training` stored inside this project.\n",
    "\n",
    "**What's BigRQuery**: \n",
    "`BigRQuery` package allows you to query data stored in BigQuery You can find the official documentation [here}(https://bigrquery.r-dbi.org/)\n",
    "\n",
    "**What's DBS**\n",
    "The `DBI` package helps connecting R to database management systems (DBMS). `DBI` separates the connectivity to the DBMS into a “front-end” and a “back-end”. It defines an interface that is implemented by the \"backend\". In our case the backend is BigRQuery (but it also uses other backends such as SQLlite etc.). You can find the official documentation [here](https://dbi.r-dbi.org/) \n",
    "\n",
    "**What's dplry**\n",
    "`dplry` is is a grammar of data manipulation, providing a consistent set of verbs that help you solve the most common data manipulation challenges. It is part of the `tidyverse` package. You can find the official documentation [here](https://dplyr.tidyverse.org/) The `dplyr` interface lets you treat BigQuery tables as if they are in-memory data frames. This is the most convenient layer if you don’t want to write SQL, but instead want dbplyr to write it for you.\n",
    "\n",
    "> the following tutorial is structured in four section! So let's get started"
   ]
  },
  {
   "cell_type": "markdown",
   "metadata": {},
   "source": [
    "## Section I: Loading the libraries"
   ]
  },
  {
   "cell_type": "markdown",
   "metadata": {},
   "source": [
    "In a first step, we will be loading the libraries we need. I load the complete tidyverse package in case I want to also plot later but you can also just load dplyr"
   ]
  },
  {
   "cell_type": "code",
   "execution_count": 182,
   "metadata": {},
   "outputs": [
    {
     "data": {
      "text/html": [
       "<ol>\n",
       "\t<li>TRUE</li>\n",
       "\t<li>TRUE</li>\n",
       "\t<li>TRUE</li>\n",
       "</ol>\n"
      ],
      "text/latex": [
       "\\begin{enumerate}\n",
       "\\item TRUE\n",
       "\\item TRUE\n",
       "\\item TRUE\n",
       "\\end{enumerate}\n"
      ],
      "text/markdown": [
       "1. TRUE\n",
       "2. TRUE\n",
       "3. TRUE\n",
       "\n",
       "\n"
      ],
      "text/plain": [
       "[[1]]\n",
       "[1] TRUE\n",
       "\n",
       "[[2]]\n",
       "[1] TRUE\n",
       "\n",
       "[[3]]\n",
       "[1] TRUE\n"
      ]
     },
     "metadata": {},
     "output_type": "display_data"
    }
   ],
   "source": [
    "lapply (c(\"bigrquery\",\"tidyverse\",\"DBI\"),require, character.only=TRUE) ###loading the libraries I need"
   ]
  },
  {
   "cell_type": "markdown",
   "metadata": {},
   "source": [
    "> As mentioned in part 1 of our tutorial, there is no installation required for you. So this should do the job very fast for you. "
   ]
  },
  {
   "cell_type": "markdown",
   "metadata": {},
   "source": [
    "## Section II: Authorizing your BigQuery Access\n",
    "\n",
    "1. Getting your key\n",
    "2. Setting up the autorization\n",
    "3. And finding out more what you can do with this key!"
   ]
  },
  {
   "cell_type": "markdown",
   "metadata": {},
   "source": [
    "So the next step now is to find the keys: 1) Go to your user profile, 2) click on *Download your hack dataset training key* and 3) Upload it to your Juptyer lab environment. Below you find a screenshot where you can find your key. \n",
    "\n",
    "![image](https://raw.githubusercontent.com/ironhacks/Tutorials-COVID-19/master/part-2/profile_image.jpg?token=AC7DAY5X2TFRU6J6IU7ZQ5S7FXKP2)\n",
    "\n",
    "> After you have added the key to your file structure in your lab environment you can authorize your access! "
   ]
  },
  {
   "cell_type": "code",
   "execution_count": 186,
   "metadata": {},
   "outputs": [],
   "source": [
    "bq_auth(path = \"/home/jovyan/Tutorials/service-account.json\") #authorizing the token! "
   ]
  },
  {
   "cell_type": "markdown",
   "metadata": {},
   "source": [
    "> **This is an important step***: please keep in mind that you need to put the path `/home/jovyan/` followed by your directory name and the name that you give to your json file! "
   ]
  },
  {
   "cell_type": "code",
   "execution_count": 187,
   "metadata": {},
   "outputs": [
    {
     "data": {
      "text/html": [
       "TRUE"
      ],
      "text/latex": [
       "TRUE"
      ],
      "text/markdown": [
       "TRUE"
      ],
      "text/plain": [
       "[1] TRUE"
      ]
     },
     "metadata": {},
     "output_type": "display_data"
    }
   ],
   "source": [
    "bq_has_token() #confirms that bq has token"
   ]
  },
  {
   "cell_type": "markdown",
   "metadata": {},
   "source": [
    "> **Yeah it is working!**"
   ]
  },
  {
   "cell_type": "code",
   "execution_count": 188,
   "metadata": {},
   "outputs": [
    {
     "data": {
      "text/html": [
       "'ironhacks-covid19-data'"
      ],
      "text/latex": [
       "'ironhacks-covid19-data'"
      ],
      "text/markdown": [
       "'ironhacks-covid19-data'"
      ],
      "text/plain": [
       "[1] \"ironhacks-covid19-data\""
      ]
     },
     "metadata": {},
     "output_type": "display_data"
    }
   ],
   "source": [
    "bq_projects(page_size = 10, max_pages = 1, warn = TRUE) # now I am getting the projects that are associated with that token! Yeah - it is the right one."
   ]
  },
  {
   "cell_type": "code",
   "execution_count": 189,
   "metadata": {},
   "outputs": [
    {
     "data": {
      "text/plain": [
       "[[1]]\n",
       "<bq_dataset> ironhacks-covid19-data.ironhacks_covid19_competition\n",
       "\n",
       "[[2]]\n",
       "<bq_dataset> ironhacks-covid19-data.ironhacks_covid19_training\n"
      ]
     },
     "metadata": {},
     "output_type": "display_data"
    }
   ],
   "source": [
    "bq_project_datasets('ironhacks-covid19-data', page_size = 10, max_pages = 1, warn = TRUE) # now you also see the datasets in the project "
   ]
  },
  {
   "cell_type": "markdown",
   "metadata": {},
   "source": [
    "**Next** we are establishing the database connection! "
   ]
  },
  {
   "cell_type": "code",
   "execution_count": 24,
   "metadata": {},
   "outputs": [],
   "source": [
    "projectid<-'ironhacks-covid19-data'\n",
    "datasetid<-'ironhacks_covid19_training'\n",
    "bq_conn <-  DBI::dbConnect(bigquery(), \n",
    "                            project = projectid,\n",
    "                            dataset = datasetid,\n",
    "                            use_legacy_sql = FALSE\n",
    "                      ) ## setting up the project and the database connection"
   ]
  },
  {
   "cell_type": "code",
   "execution_count": 25,
   "metadata": {},
   "outputs": [
    {
     "data": {
      "text/html": [
       "'covid19_tests_cases_deaths_IN'"
      ],
      "text/latex": [
       "'covid19\\_tests\\_cases\\_deaths\\_IN'"
      ],
      "text/markdown": [
       "'covid19_tests_cases_deaths_IN'"
      ],
      "text/plain": [
       "[1] \"covid19_tests_cases_deaths_IN\""
      ]
     },
     "metadata": {},
     "output_type": "display_data"
    }
   ],
   "source": [
    "DBI::dbListTables(bq_conn) ##checking the tables in there! "
   ]
  },
  {
   "cell_type": "markdown",
   "metadata": {},
   "source": [
    "> Yeah! Now we have what we need to move on! We have also prepared a sheet with the schema of the database so that it is easier for you to understand what is in there. It can be found [here](https://docs.google.com/spreadsheets/d/1s591Ajha7KJMM0syot0Nc3fRRgEaT8zIU4BCPKeyEzk/edit#gid=557548514). "
   ]
  },
  {
   "cell_type": "markdown",
   "metadata": {},
   "source": [
    "## Section III: Loading table and understanding it\n",
    "So what we do: \n",
    "* Using dplyr to load the table\n",
    "* Getting the column names etc. \n",
    "* Transforming it into a dataframe and understanding it further (number of rows, columns, DATE range, missing entries)\n",
    "* Using DBI library to send a query and fetch the table"
   ]
  },
  {
   "cell_type": "markdown",
   "metadata": {},
   "source": [
    "The table `covid19_tests_cases_deaths_IN` can be easily accessed by using the dplyr::tbl() function and passing the table name and BigQuery connection details as parameters. We will do this next"
   ]
  },
  {
   "cell_type": "code",
   "execution_count": 33,
   "metadata": {},
   "outputs": [],
   "source": [
    "table<-dplyr::tbl(bq_conn,'covid19_tests_cases_deaths_IN')"
   ]
  },
  {
   "cell_type": "markdown",
   "metadata": {},
   "source": [
    "Notice that the “table” is of class tbl_sql and not a tibble. This is because tbl() creates a direct reference to the table in BigQuery but does not bring the data in-memory."
   ]
  },
  {
   "cell_type": "code",
   "execution_count": null,
   "metadata": {},
   "outputs": [],
   "source": [
    "class(table)"
   ]
  },
  {
   "cell_type": "code",
   "execution_count": 32,
   "metadata": {},
   "outputs": [
    {
     "data": {
      "text/html": [
       "<style>\n",
       ".list-inline {list-style: none; margin:0; padding: 0}\n",
       ".list-inline>li {display: inline-block}\n",
       ".list-inline>li:not(:last-child)::after {content: \"\\00b7\"; padding: 0 .5ex}\n",
       "</style>\n",
       "<ol class=list-inline><li>'DATE'</li><li>'COVID_TEST'</li><li>'DAILY_DELTA_TESTS'</li><li>'DAILY_BASE_TESTS'</li><li>'COVID_DEATHS'</li><li>'DAILY_DELTA_DEATHS'</li><li>'DAILY_BASE_DEATHS'</li><li>'COVID_COUNT'</li><li>'DAILY_DELTA_CASES'</li><li>'DAILY_BASE_CASES'</li><li>'COVID_COUNT_CUMSUM'</li><li>'COVID_DEATHS_CUMSUM'</li><li>'COVID_TEST_CUMSUM'</li></ol>\n"
      ],
      "text/latex": [
       "\\begin{enumerate*}\n",
       "\\item 'DATE'\n",
       "\\item 'COVID\\_TEST'\n",
       "\\item 'DAILY\\_DELTA\\_TESTS'\n",
       "\\item 'DAILY\\_BASE\\_TESTS'\n",
       "\\item 'COVID\\_DEATHS'\n",
       "\\item 'DAILY\\_DELTA\\_DEATHS'\n",
       "\\item 'DAILY\\_BASE\\_DEATHS'\n",
       "\\item 'COVID\\_COUNT'\n",
       "\\item 'DAILY\\_DELTA\\_CASES'\n",
       "\\item 'DAILY\\_BASE\\_CASES'\n",
       "\\item 'COVID\\_COUNT\\_CUMSUM'\n",
       "\\item 'COVID\\_DEATHS\\_CUMSUM'\n",
       "\\item 'COVID\\_TEST\\_CUMSUM'\n",
       "\\end{enumerate*}\n"
      ],
      "text/markdown": [
       "1. 'DATE'\n",
       "2. 'COVID_TEST'\n",
       "3. 'DAILY_DELTA_TESTS'\n",
       "4. 'DAILY_BASE_TESTS'\n",
       "5. 'COVID_DEATHS'\n",
       "6. 'DAILY_DELTA_DEATHS'\n",
       "7. 'DAILY_BASE_DEATHS'\n",
       "8. 'COVID_COUNT'\n",
       "9. 'DAILY_DELTA_CASES'\n",
       "10. 'DAILY_BASE_CASES'\n",
       "11. 'COVID_COUNT_CUMSUM'\n",
       "12. 'COVID_DEATHS_CUMSUM'\n",
       "13. 'COVID_TEST_CUMSUM'\n",
       "\n",
       "\n"
      ],
      "text/plain": [
       " [1] \"DATE\"                \"COVID_TEST\"          \"DAILY_DELTA_TESTS\"  \n",
       " [4] \"DAILY_BASE_TESTS\"    \"COVID_DEATHS\"        \"DAILY_DELTA_DEATHS\" \n",
       " [7] \"DAILY_BASE_DEATHS\"   \"COVID_COUNT\"         \"DAILY_DELTA_CASES\"  \n",
       "[10] \"DAILY_BASE_CASES\"    \"COVID_COUNT_CUMSUM\"  \"COVID_DEATHS_CUMSUM\"\n",
       "[13] \"COVID_TEST_CUMSUM\"  "
      ]
     },
     "metadata": {},
     "output_type": "display_data"
    }
   ],
   "source": [
    "colnames(table)"
   ]
  },
  {
   "cell_type": "code",
   "execution_count": 191,
   "metadata": {},
   "outputs": [
    {
     "data": {
      "text/html": [
       "152"
      ],
      "text/latex": [
       "152"
      ],
      "text/markdown": [
       "152"
      ],
      "text/plain": [
       "[1] 152"
      ]
     },
     "metadata": {},
     "output_type": "display_data"
    },
    {
     "data": {
      "text/html": [
       "13"
      ],
      "text/latex": [
       "13"
      ],
      "text/markdown": [
       "13"
      ],
      "text/plain": [
       "[1] 13"
      ]
     },
     "metadata": {},
     "output_type": "display_data"
    },
    {
     "data": {
      "text/html": [
       "<style>\n",
       ".list-inline {list-style: none; margin:0; padding: 0}\n",
       ".list-inline>li {display: inline-block}\n",
       ".list-inline>li:not(:last-child)::after {content: \"\\00b7\"; padding: 0 .5ex}\n",
       "</style>\n",
       "<ol class=list-inline><li>152</li><li>13</li></ol>\n"
      ],
      "text/latex": [
       "\\begin{enumerate*}\n",
       "\\item 152\n",
       "\\item 13\n",
       "\\end{enumerate*}\n"
      ],
      "text/markdown": [
       "1. 152\n",
       "2. 13\n",
       "\n",
       "\n"
      ],
      "text/plain": [
       "[1] 152  13"
      ]
     },
     "metadata": {},
     "output_type": "display_data"
    }
   ],
   "source": [
    "nrow(as.data.frame(table))\n",
    "length(as.data.frame(table))\n",
    "dim(as.data.frame(table))"
   ]
  },
  {
   "cell_type": "code",
   "execution_count": 51,
   "metadata": {},
   "outputs": [
    {
     "data": {
      "text/html": [
       "<table>\n",
       "<caption>A tibble: 6 × 13</caption>\n",
       "<thead>\n",
       "\t<tr><th scope=col>DATE</th><th scope=col>COVID_TEST</th><th scope=col>DAILY_DELTA_TESTS</th><th scope=col>DAILY_BASE_TESTS</th><th scope=col>COVID_DEATHS</th><th scope=col>DAILY_DELTA_DEATHS</th><th scope=col>DAILY_BASE_DEATHS</th><th scope=col>COVID_COUNT</th><th scope=col>DAILY_DELTA_CASES</th><th scope=col>DAILY_BASE_CASES</th><th scope=col>COVID_COUNT_CUMSUM</th><th scope=col>COVID_DEATHS_CUMSUM</th><th scope=col>COVID_TEST_CUMSUM</th></tr>\n",
       "\t<tr><th scope=col>&lt;date&gt;</th><th scope=col>&lt;int&gt;</th><th scope=col>&lt;int&gt;</th><th scope=col>&lt;int&gt;</th><th scope=col>&lt;int&gt;</th><th scope=col>&lt;int&gt;</th><th scope=col>&lt;int&gt;</th><th scope=col>&lt;int&gt;</th><th scope=col>&lt;int&gt;</th><th scope=col>&lt;int&gt;</th><th scope=col>&lt;int&gt;</th><th scope=col>&lt;int&gt;</th><th scope=col>&lt;int&gt;</th></tr>\n",
       "</thead>\n",
       "<tbody>\n",
       "\t<tr><td>2020-02-26</td><td>1</td><td>0</td><td>1</td><td>0</td><td>0</td><td>0</td><td>0</td><td>0</td><td>0</td><td>0</td><td>0</td><td> 1</td></tr>\n",
       "\t<tr><td>2020-02-27</td><td>1</td><td>0</td><td>1</td><td>0</td><td>0</td><td>0</td><td>0</td><td>0</td><td>0</td><td>0</td><td>0</td><td> 2</td></tr>\n",
       "\t<tr><td>2020-02-29</td><td>1</td><td>0</td><td>1</td><td>0</td><td>0</td><td>0</td><td>0</td><td>0</td><td>0</td><td>0</td><td>0</td><td> 3</td></tr>\n",
       "\t<tr><td>2020-03-02</td><td>2</td><td>0</td><td>2</td><td>0</td><td>0</td><td>0</td><td>0</td><td>0</td><td>0</td><td>0</td><td>0</td><td> 5</td></tr>\n",
       "\t<tr><td>2020-03-03</td><td>4</td><td>0</td><td>4</td><td>0</td><td>0</td><td>0</td><td>0</td><td>0</td><td>0</td><td>0</td><td>0</td><td> 9</td></tr>\n",
       "\t<tr><td>2020-03-04</td><td>4</td><td>0</td><td>4</td><td>0</td><td>0</td><td>0</td><td>0</td><td>0</td><td>0</td><td>0</td><td>0</td><td>13</td></tr>\n",
       "</tbody>\n",
       "</table>\n"
      ],
      "text/latex": [
       "A tibble: 6 × 13\n",
       "\\begin{tabular}{lllllllllllll}\n",
       " DATE & COVID\\_TEST & DAILY\\_DELTA\\_TESTS & DAILY\\_BASE\\_TESTS & COVID\\_DEATHS & DAILY\\_DELTA\\_DEATHS & DAILY\\_BASE\\_DEATHS & COVID\\_COUNT & DAILY\\_DELTA\\_CASES & DAILY\\_BASE\\_CASES & COVID\\_COUNT\\_CUMSUM & COVID\\_DEATHS\\_CUMSUM & COVID\\_TEST\\_CUMSUM\\\\\n",
       " <date> & <int> & <int> & <int> & <int> & <int> & <int> & <int> & <int> & <int> & <int> & <int> & <int>\\\\\n",
       "\\hline\n",
       "\t 2020-02-26 & 1 & 0 & 1 & 0 & 0 & 0 & 0 & 0 & 0 & 0 & 0 &  1\\\\\n",
       "\t 2020-02-27 & 1 & 0 & 1 & 0 & 0 & 0 & 0 & 0 & 0 & 0 & 0 &  2\\\\\n",
       "\t 2020-02-29 & 1 & 0 & 1 & 0 & 0 & 0 & 0 & 0 & 0 & 0 & 0 &  3\\\\\n",
       "\t 2020-03-02 & 2 & 0 & 2 & 0 & 0 & 0 & 0 & 0 & 0 & 0 & 0 &  5\\\\\n",
       "\t 2020-03-03 & 4 & 0 & 4 & 0 & 0 & 0 & 0 & 0 & 0 & 0 & 0 &  9\\\\\n",
       "\t 2020-03-04 & 4 & 0 & 4 & 0 & 0 & 0 & 0 & 0 & 0 & 0 & 0 & 13\\\\\n",
       "\\end{tabular}\n"
      ],
      "text/markdown": [
       "\n",
       "A tibble: 6 × 13\n",
       "\n",
       "| DATE &lt;date&gt; | COVID_TEST &lt;int&gt; | DAILY_DELTA_TESTS &lt;int&gt; | DAILY_BASE_TESTS &lt;int&gt; | COVID_DEATHS &lt;int&gt; | DAILY_DELTA_DEATHS &lt;int&gt; | DAILY_BASE_DEATHS &lt;int&gt; | COVID_COUNT &lt;int&gt; | DAILY_DELTA_CASES &lt;int&gt; | DAILY_BASE_CASES &lt;int&gt; | COVID_COUNT_CUMSUM &lt;int&gt; | COVID_DEATHS_CUMSUM &lt;int&gt; | COVID_TEST_CUMSUM &lt;int&gt; |\n",
       "|---|---|---|---|---|---|---|---|---|---|---|---|---|\n",
       "| 2020-02-26 | 1 | 0 | 1 | 0 | 0 | 0 | 0 | 0 | 0 | 0 | 0 |  1 |\n",
       "| 2020-02-27 | 1 | 0 | 1 | 0 | 0 | 0 | 0 | 0 | 0 | 0 | 0 |  2 |\n",
       "| 2020-02-29 | 1 | 0 | 1 | 0 | 0 | 0 | 0 | 0 | 0 | 0 | 0 |  3 |\n",
       "| 2020-03-02 | 2 | 0 | 2 | 0 | 0 | 0 | 0 | 0 | 0 | 0 | 0 |  5 |\n",
       "| 2020-03-03 | 4 | 0 | 4 | 0 | 0 | 0 | 0 | 0 | 0 | 0 | 0 |  9 |\n",
       "| 2020-03-04 | 4 | 0 | 4 | 0 | 0 | 0 | 0 | 0 | 0 | 0 | 0 | 13 |\n",
       "\n"
      ],
      "text/plain": [
       "  DATE       COVID_TEST DAILY_DELTA_TESTS DAILY_BASE_TESTS COVID_DEATHS\n",
       "1 2020-02-26 1          0                 1                0           \n",
       "2 2020-02-27 1          0                 1                0           \n",
       "3 2020-02-29 1          0                 1                0           \n",
       "4 2020-03-02 2          0                 2                0           \n",
       "5 2020-03-03 4          0                 4                0           \n",
       "6 2020-03-04 4          0                 4                0           \n",
       "  DAILY_DELTA_DEATHS DAILY_BASE_DEATHS COVID_COUNT DAILY_DELTA_CASES\n",
       "1 0                  0                 0           0                \n",
       "2 0                  0                 0           0                \n",
       "3 0                  0                 0           0                \n",
       "4 0                  0                 0           0                \n",
       "5 0                  0                 0           0                \n",
       "6 0                  0                 0           0                \n",
       "  DAILY_BASE_CASES COVID_COUNT_CUMSUM COVID_DEATHS_CUMSUM COVID_TEST_CUMSUM\n",
       "1 0                0                  0                    1               \n",
       "2 0                0                  0                    2               \n",
       "3 0                0                  0                    3               \n",
       "4 0                0                  0                    5               \n",
       "5 0                0                  0                    9               \n",
       "6 0                0                  0                   13               "
      ]
     },
     "metadata": {},
     "output_type": "display_data"
    }
   ],
   "source": [
    "head(table)"
   ]
  },
  {
   "cell_type": "code",
   "execution_count": 133,
   "metadata": {},
   "outputs": [
    {
     "data": {
      "text/html": [
       "<style>\n",
       ".list-inline {list-style: none; margin:0; padding: 0}\n",
       ".list-inline>li {display: inline-block}\n",
       ".list-inline>li:not(:last-child)::after {content: \"\\00b7\"; padding: 0 .5ex}\n",
       "</style>\n",
       "<ol class=list-inline><li><time datetime=\"2020-02-26\">2020-02-26</time></li><li><time datetime=\"2020-07-28\">2020-07-28</time></li></ol>\n"
      ],
      "text/latex": [
       "\\begin{enumerate*}\n",
       "\\item 2020-02-26\n",
       "\\item 2020-07-28\n",
       "\\end{enumerate*}\n"
      ],
      "text/markdown": [
       "1. 2020-02-26\n",
       "2. 2020-07-28\n",
       "\n",
       "\n"
      ],
      "text/plain": [
       "[1] \"2020-02-26\" \"2020-07-28\""
      ]
     },
     "metadata": {},
     "output_type": "display_data"
    }
   ],
   "source": [
    "range(table$DATE) #what's the range of the time series"
   ]
  },
  {
   "cell_type": "code",
   "execution_count": 132,
   "metadata": {},
   "outputs": [
    {
     "data": {
      "text/html": [
       "0"
      ],
      "text/latex": [
       "0"
      ],
      "text/markdown": [
       "0"
      ],
      "text/plain": [
       "[1] 0"
      ]
     },
     "metadata": {},
     "output_type": "display_data"
    }
   ],
   "source": [
    "sum(is.na(table)) #are there missing entries? "
   ]
  },
  {
   "cell_type": "markdown",
   "metadata": {},
   "source": [
    "> Great work! So now you could get started with actually working with the data, and manipulating it (e.b. subsetting etc.) but before we do that I want to make sure you also learn how to do with this the `DBI` library and the `dbSendQuery` and the `dbFetch` command! "
   ]
  },
  {
   "cell_type": "code",
   "execution_count": 147,
   "metadata": {},
   "outputs": [
    {
     "data": {
      "text/html": [
       "<table>\n",
       "<caption>A tibble: 6 × 13</caption>\n",
       "<thead>\n",
       "\t<tr><th scope=col>DATE</th><th scope=col>COVID_TEST</th><th scope=col>DAILY_DELTA_TESTS</th><th scope=col>DAILY_BASE_TESTS</th><th scope=col>COVID_DEATHS</th><th scope=col>DAILY_DELTA_DEATHS</th><th scope=col>DAILY_BASE_DEATHS</th><th scope=col>COVID_COUNT</th><th scope=col>DAILY_DELTA_CASES</th><th scope=col>DAILY_BASE_CASES</th><th scope=col>COVID_COUNT_CUMSUM</th><th scope=col>COVID_DEATHS_CUMSUM</th><th scope=col>COVID_TEST_CUMSUM</th></tr>\n",
       "\t<tr><th scope=col>&lt;date&gt;</th><th scope=col>&lt;int&gt;</th><th scope=col>&lt;int&gt;</th><th scope=col>&lt;int&gt;</th><th scope=col>&lt;int&gt;</th><th scope=col>&lt;int&gt;</th><th scope=col>&lt;int&gt;</th><th scope=col>&lt;int&gt;</th><th scope=col>&lt;int&gt;</th><th scope=col>&lt;int&gt;</th><th scope=col>&lt;int&gt;</th><th scope=col>&lt;int&gt;</th><th scope=col>&lt;int&gt;</th></tr>\n",
       "</thead>\n",
       "<tbody>\n",
       "\t<tr><td>2020-02-26</td><td>1</td><td>0</td><td>1</td><td>0</td><td>0</td><td>0</td><td>0</td><td>0</td><td>0</td><td>0</td><td>0</td><td> 1</td></tr>\n",
       "\t<tr><td>2020-02-27</td><td>1</td><td>0</td><td>1</td><td>0</td><td>0</td><td>0</td><td>0</td><td>0</td><td>0</td><td>0</td><td>0</td><td> 2</td></tr>\n",
       "\t<tr><td>2020-02-29</td><td>1</td><td>0</td><td>1</td><td>0</td><td>0</td><td>0</td><td>0</td><td>0</td><td>0</td><td>0</td><td>0</td><td> 3</td></tr>\n",
       "\t<tr><td>2020-03-02</td><td>2</td><td>0</td><td>2</td><td>0</td><td>0</td><td>0</td><td>0</td><td>0</td><td>0</td><td>0</td><td>0</td><td> 5</td></tr>\n",
       "\t<tr><td>2020-03-03</td><td>4</td><td>0</td><td>4</td><td>0</td><td>0</td><td>0</td><td>0</td><td>0</td><td>0</td><td>0</td><td>0</td><td> 9</td></tr>\n",
       "\t<tr><td>2020-03-04</td><td>4</td><td>0</td><td>4</td><td>0</td><td>0</td><td>0</td><td>0</td><td>0</td><td>0</td><td>0</td><td>0</td><td>13</td></tr>\n",
       "</tbody>\n",
       "</table>\n"
      ],
      "text/latex": [
       "A tibble: 6 × 13\n",
       "\\begin{tabular}{lllllllllllll}\n",
       " DATE & COVID\\_TEST & DAILY\\_DELTA\\_TESTS & DAILY\\_BASE\\_TESTS & COVID\\_DEATHS & DAILY\\_DELTA\\_DEATHS & DAILY\\_BASE\\_DEATHS & COVID\\_COUNT & DAILY\\_DELTA\\_CASES & DAILY\\_BASE\\_CASES & COVID\\_COUNT\\_CUMSUM & COVID\\_DEATHS\\_CUMSUM & COVID\\_TEST\\_CUMSUM\\\\\n",
       " <date> & <int> & <int> & <int> & <int> & <int> & <int> & <int> & <int> & <int> & <int> & <int> & <int>\\\\\n",
       "\\hline\n",
       "\t 2020-02-26 & 1 & 0 & 1 & 0 & 0 & 0 & 0 & 0 & 0 & 0 & 0 &  1\\\\\n",
       "\t 2020-02-27 & 1 & 0 & 1 & 0 & 0 & 0 & 0 & 0 & 0 & 0 & 0 &  2\\\\\n",
       "\t 2020-02-29 & 1 & 0 & 1 & 0 & 0 & 0 & 0 & 0 & 0 & 0 & 0 &  3\\\\\n",
       "\t 2020-03-02 & 2 & 0 & 2 & 0 & 0 & 0 & 0 & 0 & 0 & 0 & 0 &  5\\\\\n",
       "\t 2020-03-03 & 4 & 0 & 4 & 0 & 0 & 0 & 0 & 0 & 0 & 0 & 0 &  9\\\\\n",
       "\t 2020-03-04 & 4 & 0 & 4 & 0 & 0 & 0 & 0 & 0 & 0 & 0 & 0 & 13\\\\\n",
       "\\end{tabular}\n"
      ],
      "text/markdown": [
       "\n",
       "A tibble: 6 × 13\n",
       "\n",
       "| DATE &lt;date&gt; | COVID_TEST &lt;int&gt; | DAILY_DELTA_TESTS &lt;int&gt; | DAILY_BASE_TESTS &lt;int&gt; | COVID_DEATHS &lt;int&gt; | DAILY_DELTA_DEATHS &lt;int&gt; | DAILY_BASE_DEATHS &lt;int&gt; | COVID_COUNT &lt;int&gt; | DAILY_DELTA_CASES &lt;int&gt; | DAILY_BASE_CASES &lt;int&gt; | COVID_COUNT_CUMSUM &lt;int&gt; | COVID_DEATHS_CUMSUM &lt;int&gt; | COVID_TEST_CUMSUM &lt;int&gt; |\n",
       "|---|---|---|---|---|---|---|---|---|---|---|---|---|\n",
       "| 2020-02-26 | 1 | 0 | 1 | 0 | 0 | 0 | 0 | 0 | 0 | 0 | 0 |  1 |\n",
       "| 2020-02-27 | 1 | 0 | 1 | 0 | 0 | 0 | 0 | 0 | 0 | 0 | 0 |  2 |\n",
       "| 2020-02-29 | 1 | 0 | 1 | 0 | 0 | 0 | 0 | 0 | 0 | 0 | 0 |  3 |\n",
       "| 2020-03-02 | 2 | 0 | 2 | 0 | 0 | 0 | 0 | 0 | 0 | 0 | 0 |  5 |\n",
       "| 2020-03-03 | 4 | 0 | 4 | 0 | 0 | 0 | 0 | 0 | 0 | 0 | 0 |  9 |\n",
       "| 2020-03-04 | 4 | 0 | 4 | 0 | 0 | 0 | 0 | 0 | 0 | 0 | 0 | 13 |\n",
       "\n"
      ],
      "text/plain": [
       "  DATE       COVID_TEST DAILY_DELTA_TESTS DAILY_BASE_TESTS COVID_DEATHS\n",
       "1 2020-02-26 1          0                 1                0           \n",
       "2 2020-02-27 1          0                 1                0           \n",
       "3 2020-02-29 1          0                 1                0           \n",
       "4 2020-03-02 2          0                 2                0           \n",
       "5 2020-03-03 4          0                 4                0           \n",
       "6 2020-03-04 4          0                 4                0           \n",
       "  DAILY_DELTA_DEATHS DAILY_BASE_DEATHS COVID_COUNT DAILY_DELTA_CASES\n",
       "1 0                  0                 0           0                \n",
       "2 0                  0                 0           0                \n",
       "3 0                  0                 0           0                \n",
       "4 0                  0                 0           0                \n",
       "5 0                  0                 0           0                \n",
       "6 0                  0                 0           0                \n",
       "  DAILY_BASE_CASES COVID_COUNT_CUMSUM COVID_DEATHS_CUMSUM COVID_TEST_CUMSUM\n",
       "1 0                0                  0                    1               \n",
       "2 0                0                  0                    2               \n",
       "3 0                0                  0                    3               \n",
       "4 0                0                  0                    5               \n",
       "5 0                0                  0                    9               \n",
       "6 0                0                  0                   13               "
      ]
     },
     "metadata": {},
     "output_type": "display_data"
    }
   ],
   "source": [
    "rs<-dbSendQuery(bq_conn,\"SELECT * FROM covid19_tests_cases_deaths_IN\")\n",
    "head(dbFetch(rs))"
   ]
  },
  {
   "cell_type": "code",
   "execution_count": 163,
   "metadata": {},
   "outputs": [
    {
     "data": {
      "text/html": [
       "'BigQueryResult'"
      ],
      "text/latex": [
       "'BigQueryResult'"
      ],
      "text/markdown": [
       "'BigQueryResult'"
      ],
      "text/plain": [
       "[1] \"BigQueryResult\"\n",
       "attr(,\"package\")\n",
       "[1] \"bigrquery\""
      ]
     },
     "metadata": {},
     "output_type": "display_data"
    }
   ],
   "source": [
    "class(rs)"
   ]
  },
  {
   "cell_type": "markdown",
   "metadata": {},
   "source": [
    "Notice that \"rs” is of class 'BigQueryResult' and not a tibble. This is because dbSendQuery() and dbFetch() create a direct reference to the table in BigQuery but does NOT bring the data in-memory. This is particularly useful if you work with big data! "
   ]
  },
  {
   "cell_type": "code",
   "execution_count": 170,
   "metadata": {},
   "outputs": [],
   "source": [
    "rs2<-dbReadTable(bq_conn,\"covid19_tests_cases_deaths_IN\")"
   ]
  },
  {
   "cell_type": "code",
   "execution_count": 175,
   "metadata": {},
   "outputs": [
    {
     "data": {
      "text/html": [
       "<table>\n",
       "<caption>A tibble: 6 × 13</caption>\n",
       "<thead>\n",
       "\t<tr><th scope=col>DATE</th><th scope=col>COVID_TEST</th><th scope=col>DAILY_DELTA_TESTS</th><th scope=col>DAILY_BASE_TESTS</th><th scope=col>COVID_DEATHS</th><th scope=col>DAILY_DELTA_DEATHS</th><th scope=col>DAILY_BASE_DEATHS</th><th scope=col>COVID_COUNT</th><th scope=col>DAILY_DELTA_CASES</th><th scope=col>DAILY_BASE_CASES</th><th scope=col>COVID_COUNT_CUMSUM</th><th scope=col>COVID_DEATHS_CUMSUM</th><th scope=col>COVID_TEST_CUMSUM</th></tr>\n",
       "\t<tr><th scope=col>&lt;date&gt;</th><th scope=col>&lt;int&gt;</th><th scope=col>&lt;int&gt;</th><th scope=col>&lt;int&gt;</th><th scope=col>&lt;int&gt;</th><th scope=col>&lt;int&gt;</th><th scope=col>&lt;int&gt;</th><th scope=col>&lt;int&gt;</th><th scope=col>&lt;int&gt;</th><th scope=col>&lt;int&gt;</th><th scope=col>&lt;int&gt;</th><th scope=col>&lt;int&gt;</th><th scope=col>&lt;int&gt;</th></tr>\n",
       "</thead>\n",
       "<tbody>\n",
       "\t<tr><td>2020-02-26</td><td>1</td><td>0</td><td>1</td><td>0</td><td>0</td><td>0</td><td>0</td><td>0</td><td>0</td><td>0</td><td>0</td><td> 1</td></tr>\n",
       "\t<tr><td>2020-02-27</td><td>1</td><td>0</td><td>1</td><td>0</td><td>0</td><td>0</td><td>0</td><td>0</td><td>0</td><td>0</td><td>0</td><td> 2</td></tr>\n",
       "\t<tr><td>2020-02-29</td><td>1</td><td>0</td><td>1</td><td>0</td><td>0</td><td>0</td><td>0</td><td>0</td><td>0</td><td>0</td><td>0</td><td> 3</td></tr>\n",
       "\t<tr><td>2020-03-02</td><td>2</td><td>0</td><td>2</td><td>0</td><td>0</td><td>0</td><td>0</td><td>0</td><td>0</td><td>0</td><td>0</td><td> 5</td></tr>\n",
       "\t<tr><td>2020-03-03</td><td>4</td><td>0</td><td>4</td><td>0</td><td>0</td><td>0</td><td>0</td><td>0</td><td>0</td><td>0</td><td>0</td><td> 9</td></tr>\n",
       "\t<tr><td>2020-03-04</td><td>4</td><td>0</td><td>4</td><td>0</td><td>0</td><td>0</td><td>0</td><td>0</td><td>0</td><td>0</td><td>0</td><td>13</td></tr>\n",
       "</tbody>\n",
       "</table>\n"
      ],
      "text/latex": [
       "A tibble: 6 × 13\n",
       "\\begin{tabular}{lllllllllllll}\n",
       " DATE & COVID\\_TEST & DAILY\\_DELTA\\_TESTS & DAILY\\_BASE\\_TESTS & COVID\\_DEATHS & DAILY\\_DELTA\\_DEATHS & DAILY\\_BASE\\_DEATHS & COVID\\_COUNT & DAILY\\_DELTA\\_CASES & DAILY\\_BASE\\_CASES & COVID\\_COUNT\\_CUMSUM & COVID\\_DEATHS\\_CUMSUM & COVID\\_TEST\\_CUMSUM\\\\\n",
       " <date> & <int> & <int> & <int> & <int> & <int> & <int> & <int> & <int> & <int> & <int> & <int> & <int>\\\\\n",
       "\\hline\n",
       "\t 2020-02-26 & 1 & 0 & 1 & 0 & 0 & 0 & 0 & 0 & 0 & 0 & 0 &  1\\\\\n",
       "\t 2020-02-27 & 1 & 0 & 1 & 0 & 0 & 0 & 0 & 0 & 0 & 0 & 0 &  2\\\\\n",
       "\t 2020-02-29 & 1 & 0 & 1 & 0 & 0 & 0 & 0 & 0 & 0 & 0 & 0 &  3\\\\\n",
       "\t 2020-03-02 & 2 & 0 & 2 & 0 & 0 & 0 & 0 & 0 & 0 & 0 & 0 &  5\\\\\n",
       "\t 2020-03-03 & 4 & 0 & 4 & 0 & 0 & 0 & 0 & 0 & 0 & 0 & 0 &  9\\\\\n",
       "\t 2020-03-04 & 4 & 0 & 4 & 0 & 0 & 0 & 0 & 0 & 0 & 0 & 0 & 13\\\\\n",
       "\\end{tabular}\n"
      ],
      "text/markdown": [
       "\n",
       "A tibble: 6 × 13\n",
       "\n",
       "| DATE &lt;date&gt; | COVID_TEST &lt;int&gt; | DAILY_DELTA_TESTS &lt;int&gt; | DAILY_BASE_TESTS &lt;int&gt; | COVID_DEATHS &lt;int&gt; | DAILY_DELTA_DEATHS &lt;int&gt; | DAILY_BASE_DEATHS &lt;int&gt; | COVID_COUNT &lt;int&gt; | DAILY_DELTA_CASES &lt;int&gt; | DAILY_BASE_CASES &lt;int&gt; | COVID_COUNT_CUMSUM &lt;int&gt; | COVID_DEATHS_CUMSUM &lt;int&gt; | COVID_TEST_CUMSUM &lt;int&gt; |\n",
       "|---|---|---|---|---|---|---|---|---|---|---|---|---|\n",
       "| 2020-02-26 | 1 | 0 | 1 | 0 | 0 | 0 | 0 | 0 | 0 | 0 | 0 |  1 |\n",
       "| 2020-02-27 | 1 | 0 | 1 | 0 | 0 | 0 | 0 | 0 | 0 | 0 | 0 |  2 |\n",
       "| 2020-02-29 | 1 | 0 | 1 | 0 | 0 | 0 | 0 | 0 | 0 | 0 | 0 |  3 |\n",
       "| 2020-03-02 | 2 | 0 | 2 | 0 | 0 | 0 | 0 | 0 | 0 | 0 | 0 |  5 |\n",
       "| 2020-03-03 | 4 | 0 | 4 | 0 | 0 | 0 | 0 | 0 | 0 | 0 | 0 |  9 |\n",
       "| 2020-03-04 | 4 | 0 | 4 | 0 | 0 | 0 | 0 | 0 | 0 | 0 | 0 | 13 |\n",
       "\n"
      ],
      "text/plain": [
       "  DATE       COVID_TEST DAILY_DELTA_TESTS DAILY_BASE_TESTS COVID_DEATHS\n",
       "1 2020-02-26 1          0                 1                0           \n",
       "2 2020-02-27 1          0                 1                0           \n",
       "3 2020-02-29 1          0                 1                0           \n",
       "4 2020-03-02 2          0                 2                0           \n",
       "5 2020-03-03 4          0                 4                0           \n",
       "6 2020-03-04 4          0                 4                0           \n",
       "  DAILY_DELTA_DEATHS DAILY_BASE_DEATHS COVID_COUNT DAILY_DELTA_CASES\n",
       "1 0                  0                 0           0                \n",
       "2 0                  0                 0           0                \n",
       "3 0                  0                 0           0                \n",
       "4 0                  0                 0           0                \n",
       "5 0                  0                 0           0                \n",
       "6 0                  0                 0           0                \n",
       "  DAILY_BASE_CASES COVID_COUNT_CUMSUM COVID_DEATHS_CUMSUM COVID_TEST_CUMSUM\n",
       "1 0                0                  0                    1               \n",
       "2 0                0                  0                    2               \n",
       "3 0                0                  0                    3               \n",
       "4 0                0                  0                    5               \n",
       "5 0                0                  0                    9               \n",
       "6 0                0                  0                   13               "
      ]
     },
     "metadata": {},
     "output_type": "display_data"
    },
    {
     "data": {
      "text/html": [
       "13"
      ],
      "text/latex": [
       "13"
      ],
      "text/markdown": [
       "13"
      ],
      "text/plain": [
       "[1] 13"
      ]
     },
     "metadata": {},
     "output_type": "display_data"
    }
   ],
   "source": [
    "head(rs2)"
   ]
  },
  {
   "cell_type": "code",
   "execution_count": 180,
   "metadata": {},
   "outputs": [
    {
     "data": {
      "text/html": [
       "152"
      ],
      "text/latex": [
       "152"
      ],
      "text/markdown": [
       "152"
      ],
      "text/plain": [
       "[1] 152"
      ]
     },
     "metadata": {},
     "output_type": "display_data"
    },
    {
     "data": {
      "text/html": [
       "13"
      ],
      "text/latex": [
       "13"
      ],
      "text/markdown": [
       "13"
      ],
      "text/plain": [
       "[1] 13"
      ]
     },
     "metadata": {},
     "output_type": "display_data"
    },
    {
     "data": {
      "text/html": [
       "<style>\n",
       ".list-inline {list-style: none; margin:0; padding: 0}\n",
       ".list-inline>li {display: inline-block}\n",
       ".list-inline>li:not(:last-child)::after {content: \"\\00b7\"; padding: 0 .5ex}\n",
       "</style>\n",
       "<ol class=list-inline><li>152</li><li>13</li></ol>\n"
      ],
      "text/latex": [
       "\\begin{enumerate*}\n",
       "\\item 152\n",
       "\\item 13\n",
       "\\end{enumerate*}\n"
      ],
      "text/markdown": [
       "1. 152\n",
       "2. 13\n",
       "\n",
       "\n"
      ],
      "text/plain": [
       "[1] 152  13"
      ]
     },
     "metadata": {},
     "output_type": "display_data"
    },
    {
     "data": {
      "text/html": [
       "0"
      ],
      "text/latex": [
       "0"
      ],
      "text/markdown": [
       "0"
      ],
      "text/plain": [
       "[1] 0"
      ]
     },
     "metadata": {},
     "output_type": "display_data"
    }
   ],
   "source": [
    "nrow(rs2)\n",
    "length(rs2)\n",
    "dim(rs2)\n",
    "sum(is.na(rs2))"
   ]
  },
  {
   "cell_type": "markdown",
   "metadata": {},
   "source": [
    "## Section IV: Manipulating/querying the table\n",
    "So what we will do: \n",
    "* Subsetting the table with dplr for DATE,COVID_TEST, COVID_COUNT and filtering for period 2020-04-01 to 2020-05-01\n",
    "* Calculating the mean cases for the period\n",
    "* Writing a sql query and executing it with the bigRquery bq_project_query() function and the bq_table_download() function\n"
   ]
  },
  {
   "cell_type": "markdown",
   "metadata": {},
   "source": [
    "We can easily query the table in BigQuery using the dplr() functions select() and filter(), so we will do this now!"
   ]
  },
  {
   "cell_type": "code",
   "execution_count": 195,
   "metadata": {},
   "outputs": [],
   "source": [
    "table2<-table %>% select(DATE,COVID_TEST,COVID_COUNT) %>% filter(DATE >=\"2020-04-01\" & DATE <=\"2020-05-01\")"
   ]
  },
  {
   "cell_type": "code",
   "execution_count": 196,
   "metadata": {},
   "outputs": [
    {
     "data": {
      "text/html": [
       "<table>\n",
       "<caption>A tibble: 6 × 3</caption>\n",
       "<thead>\n",
       "\t<tr><th scope=col>DATE</th><th scope=col>COVID_TEST</th><th scope=col>COVID_COUNT</th></tr>\n",
       "\t<tr><th scope=col>&lt;date&gt;</th><th scope=col>&lt;int&gt;</th><th scope=col>&lt;int&gt;</th></tr>\n",
       "</thead>\n",
       "<tbody>\n",
       "\t<tr><td>2020-04-11</td><td>1542</td><td>486</td></tr>\n",
       "\t<tr><td>2020-04-01</td><td>2543</td><td>468</td></tr>\n",
       "\t<tr><td>2020-04-02</td><td>2701</td><td>396</td></tr>\n",
       "\t<tr><td>2020-04-04</td><td>1636</td><td>461</td></tr>\n",
       "\t<tr><td>2020-04-06</td><td>2425</td><td>556</td></tr>\n",
       "\t<tr><td>2020-04-10</td><td>2727</td><td>514</td></tr>\n",
       "</tbody>\n",
       "</table>\n"
      ],
      "text/latex": [
       "A tibble: 6 × 3\n",
       "\\begin{tabular}{lll}\n",
       " DATE & COVID\\_TEST & COVID\\_COUNT\\\\\n",
       " <date> & <int> & <int>\\\\\n",
       "\\hline\n",
       "\t 2020-04-11 & 1542 & 486\\\\\n",
       "\t 2020-04-01 & 2543 & 468\\\\\n",
       "\t 2020-04-02 & 2701 & 396\\\\\n",
       "\t 2020-04-04 & 1636 & 461\\\\\n",
       "\t 2020-04-06 & 2425 & 556\\\\\n",
       "\t 2020-04-10 & 2727 & 514\\\\\n",
       "\\end{tabular}\n"
      ],
      "text/markdown": [
       "\n",
       "A tibble: 6 × 3\n",
       "\n",
       "| DATE &lt;date&gt; | COVID_TEST &lt;int&gt; | COVID_COUNT &lt;int&gt; |\n",
       "|---|---|---|\n",
       "| 2020-04-11 | 1542 | 486 |\n",
       "| 2020-04-01 | 2543 | 468 |\n",
       "| 2020-04-02 | 2701 | 396 |\n",
       "| 2020-04-04 | 1636 | 461 |\n",
       "| 2020-04-06 | 2425 | 556 |\n",
       "| 2020-04-10 | 2727 | 514 |\n",
       "\n"
      ],
      "text/plain": [
       "  DATE       COVID_TEST COVID_COUNT\n",
       "1 2020-04-11 1542       486        \n",
       "2 2020-04-01 2543       468        \n",
       "3 2020-04-02 2701       396        \n",
       "4 2020-04-04 1636       461        \n",
       "5 2020-04-06 2425       556        \n",
       "6 2020-04-10 2727       514        "
      ]
     },
     "metadata": {},
     "output_type": "display_data"
    },
    {
     "data": {
      "text/html": [
       "<style>\n",
       ".list-inline {list-style: none; margin:0; padding: 0}\n",
       ".list-inline>li {display: inline-block}\n",
       ".list-inline>li:not(:last-child)::after {content: \"\\00b7\"; padding: 0 .5ex}\n",
       "</style>\n",
       "<ol class=list-inline><li><time datetime=\"2020-04-01\">2020-04-01</time></li><li><time datetime=\"2020-05-01\">2020-05-01</time></li></ol>\n"
      ],
      "text/latex": [
       "\\begin{enumerate*}\n",
       "\\item 2020-04-01\n",
       "\\item 2020-05-01\n",
       "\\end{enumerate*}\n"
      ],
      "text/markdown": [
       "1. 2020-04-01\n",
       "2. 2020-05-01\n",
       "\n",
       "\n"
      ],
      "text/plain": [
       "[1] \"2020-04-01\" \"2020-05-01\""
      ]
     },
     "metadata": {},
     "output_type": "display_data"
    }
   ],
   "source": [
    "head(table2)\n",
    "range(table2$DATE)"
   ]
  },
  {
   "cell_type": "code",
   "execution_count": 197,
   "metadata": {},
   "outputs": [
    {
     "data": {
      "text/html": [
       "31"
      ],
      "text/latex": [
       "31"
      ],
      "text/markdown": [
       "31"
      ],
      "text/plain": [
       "[1] 31"
      ]
     },
     "metadata": {},
     "output_type": "display_data"
    }
   ],
   "source": [
    "nrow(table2)"
   ]
  },
  {
   "cell_type": "code",
   "execution_count": 198,
   "metadata": {},
   "outputs": [
    {
     "data": {
      "text/html": [
       "3243.54838709677"
      ],
      "text/latex": [
       "3243.54838709677"
      ],
      "text/markdown": [
       "3243.54838709677"
      ],
      "text/plain": [
       "[1] 3243.548"
      ]
     },
     "metadata": {},
     "output_type": "display_data"
    }
   ],
   "source": [
    "mean(table2$COVID_TEST)"
   ]
  },
  {
   "cell_type": "markdown",
   "metadata": {},
   "source": [
    "> Great. We got this sorted. Now, I wanted to also show you how to do the same thing by writing an sql query and using the `bq_project_query()` and `bq_table_download()` functionality (Note, we could also do the `DBI::dbSendQuery()` method that I described above but as a final step I am going to use `bq_project_query()`"
   ]
  },
  {
   "cell_type": "code",
   "execution_count": 106,
   "metadata": {},
   "outputs": [],
   "source": [
    "query <-\"SELECT DATE, COVID_TEST, COVID_COUNT FROM ironhacks_covid19_training.covid19_tests_cases_deaths_IN WHERE (DATE BETWEEN '2020-04-01' AND '2020-05-01')\n",
    "ORDER BY DATE\""
   ]
  },
  {
   "cell_type": "code",
   "execution_count": 107,
   "metadata": {},
   "outputs": [],
   "source": [
    "tb2<-bq_project_query(projectid,query)"
   ]
  },
  {
   "cell_type": "code",
   "execution_count": 108,
   "metadata": {},
   "outputs": [
    {
     "data": {
      "text/html": [
       "<table>\n",
       "<caption>A tibble: 31 × 3</caption>\n",
       "<thead>\n",
       "\t<tr><th scope=col>DATE</th><th scope=col>COVID_TEST</th><th scope=col>COVID_COUNT</th></tr>\n",
       "\t<tr><th scope=col>&lt;date&gt;</th><th scope=col>&lt;int&gt;</th><th scope=col>&lt;int&gt;</th></tr>\n",
       "</thead>\n",
       "<tbody>\n",
       "\t<tr><td>2020-04-01</td><td>2543</td><td>468</td></tr>\n",
       "\t<tr><td>2020-04-02</td><td>2701</td><td>396</td></tr>\n",
       "\t<tr><td>2020-04-03</td><td>2802</td><td>513</td></tr>\n",
       "\t<tr><td>2020-04-04</td><td>1636</td><td>461</td></tr>\n",
       "\t<tr><td>2020-04-05</td><td>1095</td><td>527</td></tr>\n",
       "\t<tr><td>2020-04-06</td><td>2425</td><td>556</td></tr>\n",
       "\t<tr><td>2020-04-07</td><td>2782</td><td>422</td></tr>\n",
       "\t<tr><td>2020-04-08</td><td>3073</td><td>422</td></tr>\n",
       "\t<tr><td>2020-04-09</td><td>2749</td><td>558</td></tr>\n",
       "\t<tr><td>2020-04-10</td><td>2727</td><td>514</td></tr>\n",
       "\t<tr><td>2020-04-11</td><td>1542</td><td>486</td></tr>\n",
       "\t<tr><td>2020-04-12</td><td> 699</td><td>319</td></tr>\n",
       "\t<tr><td>2020-04-13</td><td>3471</td><td>292</td></tr>\n",
       "\t<tr><td>2020-04-14</td><td>3628</td><td>417</td></tr>\n",
       "\t<tr><td>2020-04-15</td><td>3303</td><td>577</td></tr>\n",
       "\t<tr><td>2020-04-16</td><td>4003</td><td>599</td></tr>\n",
       "\t<tr><td>2020-04-17</td><td>4176</td><td>505</td></tr>\n",
       "\t<tr><td>2020-04-18</td><td>1770</td><td>556</td></tr>\n",
       "\t<tr><td>2020-04-19</td><td>1114</td><td>479</td></tr>\n",
       "\t<tr><td>2020-04-20</td><td>4381</td><td>382</td></tr>\n",
       "\t<tr><td>2020-04-21</td><td>3900</td><td>378</td></tr>\n",
       "\t<tr><td>2020-04-22</td><td>3918</td><td>604</td></tr>\n",
       "\t<tr><td>2020-04-23</td><td>4447</td><td>644</td></tr>\n",
       "\t<tr><td>2020-04-24</td><td>3635</td><td>698</td></tr>\n",
       "\t<tr><td>2020-04-25</td><td>2370</td><td>624</td></tr>\n",
       "\t<tr><td>2020-04-26</td><td>1852</td><td>946</td></tr>\n",
       "\t<tr><td>2020-04-27</td><td>4804</td><td>614</td></tr>\n",
       "\t<tr><td>2020-04-28</td><td>5057</td><td>594</td></tr>\n",
       "\t<tr><td>2020-04-29</td><td>5400</td><td>647</td></tr>\n",
       "\t<tr><td>2020-04-30</td><td>5828</td><td>789</td></tr>\n",
       "\t<tr><td>2020-05-01</td><td>6719</td><td>651</td></tr>\n",
       "</tbody>\n",
       "</table>\n"
      ],
      "text/latex": [
       "A tibble: 31 × 3\n",
       "\\begin{tabular}{lll}\n",
       " DATE & COVID\\_TEST & COVID\\_COUNT\\\\\n",
       " <date> & <int> & <int>\\\\\n",
       "\\hline\n",
       "\t 2020-04-01 & 2543 & 468\\\\\n",
       "\t 2020-04-02 & 2701 & 396\\\\\n",
       "\t 2020-04-03 & 2802 & 513\\\\\n",
       "\t 2020-04-04 & 1636 & 461\\\\\n",
       "\t 2020-04-05 & 1095 & 527\\\\\n",
       "\t 2020-04-06 & 2425 & 556\\\\\n",
       "\t 2020-04-07 & 2782 & 422\\\\\n",
       "\t 2020-04-08 & 3073 & 422\\\\\n",
       "\t 2020-04-09 & 2749 & 558\\\\\n",
       "\t 2020-04-10 & 2727 & 514\\\\\n",
       "\t 2020-04-11 & 1542 & 486\\\\\n",
       "\t 2020-04-12 &  699 & 319\\\\\n",
       "\t 2020-04-13 & 3471 & 292\\\\\n",
       "\t 2020-04-14 & 3628 & 417\\\\\n",
       "\t 2020-04-15 & 3303 & 577\\\\\n",
       "\t 2020-04-16 & 4003 & 599\\\\\n",
       "\t 2020-04-17 & 4176 & 505\\\\\n",
       "\t 2020-04-18 & 1770 & 556\\\\\n",
       "\t 2020-04-19 & 1114 & 479\\\\\n",
       "\t 2020-04-20 & 4381 & 382\\\\\n",
       "\t 2020-04-21 & 3900 & 378\\\\\n",
       "\t 2020-04-22 & 3918 & 604\\\\\n",
       "\t 2020-04-23 & 4447 & 644\\\\\n",
       "\t 2020-04-24 & 3635 & 698\\\\\n",
       "\t 2020-04-25 & 2370 & 624\\\\\n",
       "\t 2020-04-26 & 1852 & 946\\\\\n",
       "\t 2020-04-27 & 4804 & 614\\\\\n",
       "\t 2020-04-28 & 5057 & 594\\\\\n",
       "\t 2020-04-29 & 5400 & 647\\\\\n",
       "\t 2020-04-30 & 5828 & 789\\\\\n",
       "\t 2020-05-01 & 6719 & 651\\\\\n",
       "\\end{tabular}\n"
      ],
      "text/markdown": [
       "\n",
       "A tibble: 31 × 3\n",
       "\n",
       "| DATE &lt;date&gt; | COVID_TEST &lt;int&gt; | COVID_COUNT &lt;int&gt; |\n",
       "|---|---|---|\n",
       "| 2020-04-01 | 2543 | 468 |\n",
       "| 2020-04-02 | 2701 | 396 |\n",
       "| 2020-04-03 | 2802 | 513 |\n",
       "| 2020-04-04 | 1636 | 461 |\n",
       "| 2020-04-05 | 1095 | 527 |\n",
       "| 2020-04-06 | 2425 | 556 |\n",
       "| 2020-04-07 | 2782 | 422 |\n",
       "| 2020-04-08 | 3073 | 422 |\n",
       "| 2020-04-09 | 2749 | 558 |\n",
       "| 2020-04-10 | 2727 | 514 |\n",
       "| 2020-04-11 | 1542 | 486 |\n",
       "| 2020-04-12 |  699 | 319 |\n",
       "| 2020-04-13 | 3471 | 292 |\n",
       "| 2020-04-14 | 3628 | 417 |\n",
       "| 2020-04-15 | 3303 | 577 |\n",
       "| 2020-04-16 | 4003 | 599 |\n",
       "| 2020-04-17 | 4176 | 505 |\n",
       "| 2020-04-18 | 1770 | 556 |\n",
       "| 2020-04-19 | 1114 | 479 |\n",
       "| 2020-04-20 | 4381 | 382 |\n",
       "| 2020-04-21 | 3900 | 378 |\n",
       "| 2020-04-22 | 3918 | 604 |\n",
       "| 2020-04-23 | 4447 | 644 |\n",
       "| 2020-04-24 | 3635 | 698 |\n",
       "| 2020-04-25 | 2370 | 624 |\n",
       "| 2020-04-26 | 1852 | 946 |\n",
       "| 2020-04-27 | 4804 | 614 |\n",
       "| 2020-04-28 | 5057 | 594 |\n",
       "| 2020-04-29 | 5400 | 647 |\n",
       "| 2020-04-30 | 5828 | 789 |\n",
       "| 2020-05-01 | 6719 | 651 |\n",
       "\n"
      ],
      "text/plain": [
       "   DATE       COVID_TEST COVID_COUNT\n",
       "1  2020-04-01 2543       468        \n",
       "2  2020-04-02 2701       396        \n",
       "3  2020-04-03 2802       513        \n",
       "4  2020-04-04 1636       461        \n",
       "5  2020-04-05 1095       527        \n",
       "6  2020-04-06 2425       556        \n",
       "7  2020-04-07 2782       422        \n",
       "8  2020-04-08 3073       422        \n",
       "9  2020-04-09 2749       558        \n",
       "10 2020-04-10 2727       514        \n",
       "11 2020-04-11 1542       486        \n",
       "12 2020-04-12  699       319        \n",
       "13 2020-04-13 3471       292        \n",
       "14 2020-04-14 3628       417        \n",
       "15 2020-04-15 3303       577        \n",
       "16 2020-04-16 4003       599        \n",
       "17 2020-04-17 4176       505        \n",
       "18 2020-04-18 1770       556        \n",
       "19 2020-04-19 1114       479        \n",
       "20 2020-04-20 4381       382        \n",
       "21 2020-04-21 3900       378        \n",
       "22 2020-04-22 3918       604        \n",
       "23 2020-04-23 4447       644        \n",
       "24 2020-04-24 3635       698        \n",
       "25 2020-04-25 2370       624        \n",
       "26 2020-04-26 1852       946        \n",
       "27 2020-04-27 4804       614        \n",
       "28 2020-04-28 5057       594        \n",
       "29 2020-04-29 5400       647        \n",
       "30 2020-04-30 5828       789        \n",
       "31 2020-05-01 6719       651        "
      ]
     },
     "metadata": {},
     "output_type": "display_data"
    }
   ],
   "source": [
    "bq_table_download(tb2)"
   ]
  },
  {
   "cell_type": "code",
   "execution_count": 127,
   "metadata": {},
   "outputs": [],
   "source": [
    "query2 <-\"SELECT AVG(COVID_TEST) FROM (SELECT DATE, COVID_TEST, COVID_COUNT FROM ironhacks_covid19_training.covid19_tests_cases_deaths_IN WHERE (DATE BETWEEN '2020-04-01' AND '2020-05-01')\n",
    "ORDER BY DATE)\""
   ]
  },
  {
   "cell_type": "code",
   "execution_count": 128,
   "metadata": {},
   "outputs": [],
   "source": [
    "tb3<-bq_project_query(projectid,query2)"
   ]
  },
  {
   "cell_type": "code",
   "execution_count": 129,
   "metadata": {},
   "outputs": [
    {
     "data": {
      "text/plain": [
       "<bq_table> ironhacks-covid19-data._aa1a5f527e915a9f592ea8cd7cf170727d4c67ed.anon043318ec962478bc82ac41b5b32693654073cbd4"
      ]
     },
     "metadata": {},
     "output_type": "display_data"
    }
   ],
   "source": [
    "tb3"
   ]
  },
  {
   "cell_type": "code",
   "execution_count": 130,
   "metadata": {},
   "outputs": [
    {
     "data": {
      "text/html": [
       "'bq_table'"
      ],
      "text/latex": [
       "'bq\\_table'"
      ],
      "text/markdown": [
       "'bq_table'"
      ],
      "text/plain": [
       "[1] \"bq_table\""
      ]
     },
     "metadata": {},
     "output_type": "display_data"
    }
   ],
   "source": [
    "class(tb3)"
   ]
  },
  {
   "cell_type": "code",
   "execution_count": 131,
   "metadata": {},
   "outputs": [
    {
     "data": {
      "text/html": [
       "<table>\n",
       "<caption>A tibble: 1 × 1</caption>\n",
       "<thead>\n",
       "\t<tr><th scope=col>f0_</th></tr>\n",
       "\t<tr><th scope=col>&lt;dbl&gt;</th></tr>\n",
       "</thead>\n",
       "<tbody>\n",
       "\t<tr><td>3243.548</td></tr>\n",
       "</tbody>\n",
       "</table>\n"
      ],
      "text/latex": [
       "A tibble: 1 × 1\n",
       "\\begin{tabular}{l}\n",
       " f0\\_\\\\\n",
       " <dbl>\\\\\n",
       "\\hline\n",
       "\t 3243.548\\\\\n",
       "\\end{tabular}\n"
      ],
      "text/markdown": [
       "\n",
       "A tibble: 1 × 1\n",
       "\n",
       "| f0_ &lt;dbl&gt; |\n",
       "|---|\n",
       "| 3243.548 |\n",
       "\n"
      ],
      "text/plain": [
       "  f0_     \n",
       "1 3243.548"
      ]
     },
     "metadata": {},
     "output_type": "display_data"
    }
   ],
   "source": [
    "bq_table_download(tb3)"
   ]
  },
  {
   "cell_type": "markdown",
   "metadata": {},
   "source": [
    "> **THIS IS IS IT FOR NOW!** So now it is time to practice using the method you like most! Please put our questions into the forum!"
   ]
  },
  {
   "cell_type": "code",
   "execution_count": null,
   "metadata": {},
   "outputs": [],
   "source": []
  }
 ],
 "metadata": {
  "kernelspec": {
   "display_name": "R",
   "language": "R",
   "name": "ir"
  },
  "language_info": {
   "codemirror_mode": "r",
   "file_extension": ".r",
   "mimetype": "text/x-r-source",
   "name": "R",
   "pygments_lexer": "r",
   "version": "3.6.3"
  }
 },
 "nbformat": 4,
 "nbformat_minor": 4
}
