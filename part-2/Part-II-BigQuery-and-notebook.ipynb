{
 "cells": [
  {
   "cell_type": "markdown",
   "metadata": {},
   "source": [
    "# PART II: How to query data from BigQuery in a Notebook\n",
    "\n",
    "Welcome to part II of our tutorials designed for participants in the IronHacks. In this second notebook (part II), we will show you how you can access our training data stored in BigQuery using a key stored in your user profile.\n",
    "\n",
    "> Before you get started: This tutorial will not more 10 min and you should be able to work with our training data right after. \n",
    "\n",
    "**Our goal**: Help you getting started with the libraries `BigRQuery` or `DBS` or `dply` in order to access a first temporal dataset stored in BigQuery! So if you have never used these libraries before this tutorial is key for you. \n",
    "\n",
    "**BigQuery - What's that?**: \n",
    "\n",
    "TEXT JET TO COME\n",
    "\n",
    " * BigQuery is Google's flagship data warehousing system\n",
    " * It uses SQL language for its DBMS (database management system)\n",
    " \n",
    " **Why do we use BigQuery?**\n",
    "\n",
    "**What's BigRQuery**: \n",
    "\n",
    "**What's DBS**\n",
    "\n",
    "**What's dplry**\n",
    "\n",
    "> the following tutorial is structured in four section! So let's get started"
   ]
  },
  {
   "cell_type": "markdown",
   "metadata": {},
   "source": [
    "## Section I: Loading the libraries"
   ]
  },
  {
   "cell_type": "markdown",
   "metadata": {},
   "source": [
    "## Section II: Authorizing your BigQuery Access\n",
    "\n",
    "* Finding the key in user profile (screenshot to be added - see notebook part I)\n",
    "* Adding the key using the BigRquery functionality\n",
    "* Verificing that token is valid\n",
    "* Getting the project(s) names that the token is authorized for\n",
    "* Establishing the database connection\n",
    "* Listing the tables in the project\n",
    "\n"
   ]
  },
  {
   "cell_type": "markdown",
   "metadata": {},
   "source": [
    "## Section III: Exploring the table and loading the table\n",
    "\n",
    "* What is the schema\n",
    "* How many rows\n",
    "* How big is the table\n",
    "* Loding the table as dataframe and describing the table"
   ]
  },
  {
   "cell_type": "markdown",
   "metadata": {},
   "source": [
    "## Section IV: Querying the table\n",
    "* Querying a subset of the data (2020-04-01 to 2020-05-01) for tests and cases only\n",
    "* Calculating the mean cases for the period\n"
   ]
  },
  {
   "cell_type": "code",
   "execution_count": null,
   "metadata": {},
   "outputs": [],
   "source": []
  }
 ],
 "metadata": {
  "kernelspec": {
   "display_name": "R",
   "language": "R",
   "name": "ir"
  },
  "language_info": {
   "codemirror_mode": "r",
   "file_extension": ".r",
   "mimetype": "text/x-r-source",
   "name": "R",
   "pygments_lexer": "r",
   "version": "3.6.3"
  }
 },
 "nbformat": 4,
 "nbformat_minor": 4
}
