{
 "cells": [
  {
   "cell_type": "markdown",
   "metadata": {},
   "source": [
    "# Tutorial #1: \n",
    "\n",
    "Welcome to the IronHacks workspace and Juptyer lab. In this first notebook, we will explore the basics of Juptyer Notebooks. We assume you have never used Juptyer Notebooks before! \n",
    "\n",
    "> Before you get started: This tutorial will not more than 3 to 5 min and you should be able use the Notebook right after! \n",
    "\n",
    "**Our goal**: Help you getting started with .ipnb notebooks as this will be an important format to work with during the IronHacks competition 2020! So if you have never used a notebook before this might something you want try using!\n",
    "\n",
    "**Jupyter Notebooks**: \n",
    "The document you are currently looking at in your lab is a `.ipynb` Notebook or a Juptyer notebook. It is like document. You can write raw text it, but also code, and markdown. \n",
    "In addition, you can use it to query database, display charts etc. So it is truely amazing! We will start with a Juptyer Notebook to introduce to the Juptyer lab as this will be your dominant working mode, and we hope you will like it.\n",
    "\n",
    "> Hint: This text is formated in Markdown and written in Markdown language in a cell! \n",
    "\n",
    "Jupiter Notebooks in the IronHacks workspace support R, Python, and also Julia. However, for this competition, we only allow R and Python, simply because those are the languages were we have the most packages available to support statistical modeling like th eone needed for this IronHacks\n",
    "\n",
    "**Jupyter Lab**: \n",
    "We assume you have loaded this notebook in the IronHacks workspace. Our workspace is a so called Juptyer lab. JupyterLab 1.0: Jupyter’s Next-Generation Notebook interface! JupyterLab is a web-based interactive development environment for Jupyter notebooks, code, and data. It support a wide range of workflows in data science, scientific computing, and machine learning. The Notebook is a central part of it. In addition to it also offers a Console, a terminal, an editor. In addition, to notebooks is allows you to load a range of file types: Markdown (`.md`), text (`.txt`), json (`.json`), htlm (`.htlm`), or csv/tables (`.csv`) etc. In this hack you will primarily work with the notebook and query BigQuery to get access to data (this will follow in **Part II** of our tutorial sessions). \n",
    "\n",
    "Here you can find an official video about [Jupyterlab](https://www.youtube.com/watch?time_continue=260&v=A5YyoCKxEOU&feature=emb_logo)! \n"
   ]
  },
  {
   "cell_type": "markdown",
   "metadata": {},
   "source": [
    "## Section 1: Everthing is a cell! \n",
    "Jupyter Notebooks are organized as a set of **cell**. Each cell can contain different types of content: like Python code , images or even human readable text (markdown), like the one you're currently reading.\n",
    "We have created a few empty cells for you so that you can see them! "
   ]
  },
  {
   "cell_type": "code",
   "execution_count": null,
   "metadata": {},
   "outputs": [],
   "source": []
  },
  {
   "cell_type": "code",
   "execution_count": null,
   "metadata": {},
   "outputs": [],
   "source": []
  },
  {
   "cell_type": "code",
   "execution_count": null,
   "metadata": {},
   "outputs": [],
   "source": []
  },
  {
   "cell_type": "code",
   "execution_count": null,
   "metadata": {},
   "outputs": [],
   "source": []
  },
  {
   "cell_type": "markdown",
   "metadata": {},
   "source": [
    "> This is another cell but it is not empty and it contains Markdown language!"
   ]
  },
  {
   "cell_type": "raw",
   "metadata": {},
   "source": [
    "THIS IS A TEXT CELL! MARKDOWN"
   ]
  },
  {
   "cell_type": "markdown",
   "metadata": {},
   "source": [
    "> You can enter a cell by clicking on it with a mouse or by simply hitting `return`! So go ahead and click on the cells above! You see in the status bar that one is a markdown cell and the other one is a raw code file!"
   ]
  },
  {
   "cell_type": "markdown",
   "metadata": {},
   "source": [
    "<img src=\"https://raw.githubusercontent.com/ironhacks/Tutorials-COVID-19/master/tutorials-fall-2020/R/image1.png\"\n",
    "     alt=\" icon\"\n",
    "     style=\"float: left; margin-right: 10px;\" />"
   ]
  },
  {
   "cell_type": "markdown",
   "metadata": {},
   "source": [
    "> To execute a cell you simply press on the little play icon in the menu bar or run `shift` + `return`!"
   ]
  },
  {
   "cell_type": "markdown",
   "metadata": {},
   "source": [
    "<img src=\"https://raw.githubusercontent.com/ironhacks/Tutorials-COVID-19/master/part-1/image2.png?token=AC7DAY657O7GLMPOTCJBSIS7FTKT2\"\n",
    "     alt=\" icon\"\n",
    "     style=\"float: left; margin-right: 10px;\" />"
   ]
  },
  {
   "cell_type": "markdown",
   "metadata": {},
   "source": [
    "### Let's try this now\n",
    "Jupyter notebooks are optimized for an efficient workflow. There are many keyboard shortcuts that will let you interact with your documents, run code and make other changes; mastering these shortcuts will speed up your work. For example, there are two shortcuts to execute a cell:\n",
    "\n",
    "1. `shift + return`: Run cell and advance to the next one.\n",
    "2. `ctrl  + return`: Run the cell but don't change focus.\n",
    "\n",
    "\n",
    "Try them with the following cell:"
   ]
  },
  {
   "cell_type": "code",
   "execution_count": 1,
   "metadata": {},
   "outputs": [
    {
     "data": {
      "text/html": [
       "4"
      ],
      "text/latex": [
       "4"
      ],
      "text/markdown": [
       "4"
      ],
      "text/plain": [
       "[1] 4"
      ]
     },
     "metadata": {},
     "output_type": "display_data"
    }
   ],
   "source": [
    "2+2 #this is a code cell"
   ]
  },
  {
   "cell_type": "code",
   "execution_count": 2,
   "metadata": {},
   "outputs": [
    {
     "data": {
      "text/html": [
       "4"
      ],
      "text/latex": [
       "4"
      ],
      "text/markdown": [
       "4"
      ],
      "text/plain": [
       "[1] 4"
      ]
     },
     "metadata": {},
     "output_type": "display_data"
    }
   ],
   "source": [
    "2^2"
   ]
  },
  {
   "cell_type": "markdown",
   "metadata": {},
   "source": [
    "## And a few more for you\n",
    "3. `esc`: Enter command mode\n",
    "4. `return`: Enter edit mode\n",
    "5. `A`: Insert cell above\n",
    "6. `B`: Insert cell below\n",
    "\n",
    "You can access a cheatsheet for Juptyer Notebook [here](https://raw.githubusercontent.com/ironhacks/Tutorials-COVID-19/master/tutorials-fall-2020/R/Shortcuts.png)\n",
    "\n",
    "\n"
   ]
  },
  {
   "cell_type": "markdown",
   "metadata": {},
   "source": [
    "> So now it time to play around a little with it! "
   ]
  },
  {
   "cell_type": "markdown",
   "metadata": {},
   "source": [
    "# Section 2: Working with code in Jupypter Notebook"
   ]
  },
  {
   "cell_type": "markdown",
   "metadata": {},
   "source": [
    "Certainly, you can do more with code using your prior knowledge in R and Python in those notebooks! Next, we run a very simple code in R! We are running this without a package but just Rbase but you may want play with a range of libraries to do more! We have installed a range of libraries already for you. We can see those by running the command `installed.packages()[,\"Package\"]`"
   ]
  },
  {
   "cell_type": "code",
   "execution_count": 3,
   "metadata": {},
   "outputs": [
    {
     "data": {
      "text/html": [
       "<style>\n",
       ".dl-inline {width: auto; margin:0; padding: 0}\n",
       ".dl-inline>dt, .dl-inline>dd {float: none; width: auto; display: inline-block}\n",
       ".dl-inline>dt::after {content: \":\\0020\"; padding-right: .5ex}\n",
       ".dl-inline>dt:not(:first-of-type) {padding-left: .5ex}\n",
       "</style><dl class=dl-inline><dt>askpass</dt><dd>'askpass'</dd><dt>assertthat</dt><dd>'assertthat'</dd><dt>backports</dt><dd>'backports'</dd><dt>base</dt><dd>'base'</dd><dt>base64enc</dt><dd>'base64enc'</dd><dt>bigrquery</dt><dd>'bigrquery'</dd><dt>bit</dt><dd>'bit'</dd><dt>bit64</dt><dd>'bit64'</dd><dt>bitops</dt><dd>'bitops'</dd><dt>blob</dt><dd>'blob'</dd><dt>brew</dt><dd>'brew'</dd><dt>broom</dt><dd>'broom'</dd><dt>callr</dt><dd>'callr'</dd><dt>caret</dt><dd>'caret'</dd><dt>cellranger</dt><dd>'cellranger'</dd><dt>class</dt><dd>'class'</dd><dt>cli</dt><dd>'cli'</dd><dt>clipr</dt><dd>'clipr'</dd><dt>codetools</dt><dd>'codetools'</dd><dt>colorspace</dt><dd>'colorspace'</dd><dt>commonmark</dt><dd>'commonmark'</dd><dt>compiler</dt><dd>'compiler'</dd><dt>covr</dt><dd>'covr'</dd><dt>crayon</dt><dd>'crayon'</dd><dt>crosstalk</dt><dd>'crosstalk'</dd><dt>curl</dt><dd>'curl'</dd><dt>data.table</dt><dd>'data.table'</dd><dt>datasets</dt><dd>'datasets'</dd><dt>DBI</dt><dd>'DBI'</dd><dt>dbplyr</dt><dd>'dbplyr'</dd><dt>desc</dt><dd>'desc'</dd><dt>devtools</dt><dd>'devtools'</dd><dt>digest</dt><dd>'digest'</dd><dt>dplyr</dt><dd>'dplyr'</dd><dt>DT</dt><dd>'DT'</dd><dt>ellipsis</dt><dd>'ellipsis'</dd><dt>evaluate</dt><dd>'evaluate'</dd><dt>fansi</dt><dd>'fansi'</dd><dt>farver</dt><dd>'farver'</dd><dt>fastmap</dt><dd>'fastmap'</dd><dt>forcats</dt><dd>'forcats'</dd><dt>foreach</dt><dd>'foreach'</dd><dt>forecast</dt><dd>'forecast'</dd><dt>fracdiff</dt><dd>'fracdiff'</dd><dt>fs</dt><dd>'fs'</dd><dt>gargle</dt><dd>'gargle'</dd><dt>generics</dt><dd>'generics'</dd><dt>ggplot2</dt><dd>'ggplot2'</dd><dt>gh</dt><dd>'gh'</dd><dt>git2r</dt><dd>'git2r'</dd><dt>glue</dt><dd>'glue'</dd><dt>gower</dt><dd>'gower'</dd><dt>graphics</dt><dd>'graphics'</dd><dt>grDevices</dt><dd>'grDevices'</dd><dt>grid</dt><dd>'grid'</dd><dt>gtable</dt><dd>'gtable'</dd><dt>haven</dt><dd>'haven'</dd><dt>hexbin</dt><dd>'hexbin'</dd><dt>highr</dt><dd>'highr'</dd><dt>hms</dt><dd>'hms'</dd><dt>htmltools</dt><dd>'htmltools'</dd><dt>htmlwidgets</dt><dd>'htmlwidgets'</dd><dt>httpuv</dt><dd>'httpuv'</dd><dt>httr</dt><dd>'httr'</dd><dt>ini</dt><dd>'ini'</dd><dt>ipred</dt><dd>'ipred'</dd><dt>IRdisplay</dt><dd>'IRdisplay'</dd><dt>IRkernel</dt><dd>'IRkernel'</dd><dt>isoband</dt><dd>'isoband'</dd><dt>iterators</dt><dd>'iterators'</dd><dt>jsonlite</dt><dd>'jsonlite'</dd><dt>KernSmooth</dt><dd>'KernSmooth'</dd><dt>knitr</dt><dd>'knitr'</dd><dt>labeling</dt><dd>'labeling'</dd><dt>later</dt><dd>'later'</dd><dt>lattice</dt><dd>'lattice'</dd><dt>lava</dt><dd>'lava'</dd><dt>lazyeval</dt><dd>'lazyeval'</dd><dt>lifecycle</dt><dd>'lifecycle'</dd><dt>lmtest</dt><dd>'lmtest'</dd><dt>lubridate</dt><dd>'lubridate'</dd><dt>magrittr</dt><dd>'magrittr'</dd><dt>markdown</dt><dd>'markdown'</dd><dt>MASS</dt><dd>'MASS'</dd><dt>Matrix</dt><dd>'Matrix'</dd><dt>memoise</dt><dd>'memoise'</dd><dt>methods</dt><dd>'methods'</dd><dt>mgcv</dt><dd>'mgcv'</dd><dt>mime</dt><dd>'mime'</dd><dt>ModelMetrics</dt><dd>'ModelMetrics'</dd><dt>modelr</dt><dd>'modelr'</dd><dt>munsell</dt><dd>'munsell'</dd><dt>nlme</dt><dd>'nlme'</dd><dt>nnet</dt><dd>'nnet'</dd><dt>numDeriv</dt><dd>'numDeriv'</dd><dt>nycflights13</dt><dd>'nycflights13'</dd><dt>openssl</dt><dd>'openssl'</dd><dt>parallel</dt><dd>'parallel'</dd><dt>pbdZMQ</dt><dd>'pbdZMQ'</dd><dt>pillar</dt><dd>'pillar'</dd><dt>pkgbuild</dt><dd>'pkgbuild'</dd><dt>pkgconfig</dt><dd>'pkgconfig'</dd><dt>pkgload</dt><dd>'pkgload'</dd><dt>plogr</dt><dd>'plogr'</dd><dt>plyr</dt><dd>'plyr'</dd><dt>praise</dt><dd>'praise'</dd><dt>prettyunits</dt><dd>'prettyunits'</dd><dt>pROC</dt><dd>'pROC'</dd><dt>processx</dt><dd>'processx'</dd><dt>prodlim</dt><dd>'prodlim'</dd><dt>progress</dt><dd>'progress'</dd><dt>promises</dt><dd>'promises'</dd><dt>ps</dt><dd>'ps'</dd><dt>purrr</dt><dd>'purrr'</dd><dt>quadprog</dt><dd>'quadprog'</dd><dt>quantmod</dt><dd>'quantmod'</dd><dt>R6</dt><dd>'R6'</dd><dt>randomForest</dt><dd>'randomForest'</dd><dt>rapidjsonr</dt><dd>'rapidjsonr'</dd><dt>rcmdcheck</dt><dd>'rcmdcheck'</dd><dt>RColorBrewer</dt><dd>'RColorBrewer'</dd><dt>Rcpp</dt><dd>'Rcpp'</dd><dt>RcppArmadillo</dt><dd>'RcppArmadillo'</dd><dt>RCurl</dt><dd>'RCurl'</dd><dt>readr</dt><dd>'readr'</dd><dt>readxl</dt><dd>'readxl'</dd><dt>recipes</dt><dd>'recipes'</dd><dt>rematch</dt><dd>'rematch'</dd><dt>rematch2</dt><dd>'rematch2'</dd><dt>remotes</dt><dd>'remotes'</dd><dt>repr</dt><dd>'repr'</dd><dt>reprex</dt><dd>'reprex'</dd><dt>reshape2</dt><dd>'reshape2'</dd><dt>rex</dt><dd>'rex'</dd><dt>rlang</dt><dd>'rlang'</dd><dt>rmarkdown</dt><dd>'rmarkdown'</dd><dt>roxygen2</dt><dd>'roxygen2'</dd><dt>rpart</dt><dd>'rpart'</dd><dt>rprojroot</dt><dd>'rprojroot'</dd><dt>RSQLite</dt><dd>'RSQLite'</dd><dt>rstudioapi</dt><dd>'rstudioapi'</dd><dt>rversions</dt><dd>'rversions'</dd><dt>rvest</dt><dd>'rvest'</dd><dt>scales</dt><dd>'scales'</dd><dt>selectr</dt><dd>'selectr'</dd><dt>sessioninfo</dt><dd>'sessioninfo'</dd><dt>shiny</dt><dd>'shiny'</dd><dt>sourcetools</dt><dd>'sourcetools'</dd><dt>splines</dt><dd>'splines'</dd><dt>SQUAREM</dt><dd>'SQUAREM'</dd><dt>stats</dt><dd>'stats'</dd><dt>stats4</dt><dd>'stats4'</dd><dt>stringi</dt><dd>'stringi'</dd><dt>stringr</dt><dd>'stringr'</dd><dt>survival</dt><dd>'survival'</dd><dt>sys</dt><dd>'sys'</dd><dt>tcltk</dt><dd>'tcltk'</dd><dt>testthat</dt><dd>'testthat'</dd><dt>tibble</dt><dd>'tibble'</dd><dt>tidyr</dt><dd>'tidyr'</dd><dt>tidyselect</dt><dd>'tidyselect'</dd><dt>tidyverse</dt><dd>'tidyverse'</dd><dt>timeDate</dt><dd>'timeDate'</dd><dt>tinytex</dt><dd>'tinytex'</dd><dt>tools</dt><dd>'tools'</dd><dt>tseries</dt><dd>'tseries'</dd><dt>TTR</dt><dd>'TTR'</dd><dt>urca</dt><dd>'urca'</dd><dt>usethis</dt><dd>'usethis'</dd><dt>utf8</dt><dd>'utf8'</dd><dt>utils</dt><dd>'utils'</dd><dt>uuid</dt><dd>'uuid'</dd><dt>vctrs</dt><dd>'vctrs'</dd><dt>viridisLite</dt><dd>'viridisLite'</dd><dt>whisker</dt><dd>'whisker'</dd><dt>withr</dt><dd>'withr'</dd><dt>xfun</dt><dd>'xfun'</dd><dt>xml2</dt><dd>'xml2'</dd><dt>xopen</dt><dd>'xopen'</dd><dt>xtable</dt><dd>'xtable'</dd><dt>xts</dt><dd>'xts'</dd><dt>yaml</dt><dd>'yaml'</dd><dt>zeallot</dt><dd>'zeallot'</dd><dt>zoo</dt><dd>'zoo'</dd></dl>\n"
      ],
      "text/latex": [
       "\\begin{description*}\n",
       "\\item[askpass] 'askpass'\n",
       "\\item[assertthat] 'assertthat'\n",
       "\\item[backports] 'backports'\n",
       "\\item[base] 'base'\n",
       "\\item[base64enc] 'base64enc'\n",
       "\\item[bigrquery] 'bigrquery'\n",
       "\\item[bit] 'bit'\n",
       "\\item[bit64] 'bit64'\n",
       "\\item[bitops] 'bitops'\n",
       "\\item[blob] 'blob'\n",
       "\\item[brew] 'brew'\n",
       "\\item[broom] 'broom'\n",
       "\\item[callr] 'callr'\n",
       "\\item[caret] 'caret'\n",
       "\\item[cellranger] 'cellranger'\n",
       "\\item[class] 'class'\n",
       "\\item[cli] 'cli'\n",
       "\\item[clipr] 'clipr'\n",
       "\\item[codetools] 'codetools'\n",
       "\\item[colorspace] 'colorspace'\n",
       "\\item[commonmark] 'commonmark'\n",
       "\\item[compiler] 'compiler'\n",
       "\\item[covr] 'covr'\n",
       "\\item[crayon] 'crayon'\n",
       "\\item[crosstalk] 'crosstalk'\n",
       "\\item[curl] 'curl'\n",
       "\\item[data.table] 'data.table'\n",
       "\\item[datasets] 'datasets'\n",
       "\\item[DBI] 'DBI'\n",
       "\\item[dbplyr] 'dbplyr'\n",
       "\\item[desc] 'desc'\n",
       "\\item[devtools] 'devtools'\n",
       "\\item[digest] 'digest'\n",
       "\\item[dplyr] 'dplyr'\n",
       "\\item[DT] 'DT'\n",
       "\\item[ellipsis] 'ellipsis'\n",
       "\\item[evaluate] 'evaluate'\n",
       "\\item[fansi] 'fansi'\n",
       "\\item[farver] 'farver'\n",
       "\\item[fastmap] 'fastmap'\n",
       "\\item[forcats] 'forcats'\n",
       "\\item[foreach] 'foreach'\n",
       "\\item[forecast] 'forecast'\n",
       "\\item[fracdiff] 'fracdiff'\n",
       "\\item[fs] 'fs'\n",
       "\\item[gargle] 'gargle'\n",
       "\\item[generics] 'generics'\n",
       "\\item[ggplot2] 'ggplot2'\n",
       "\\item[gh] 'gh'\n",
       "\\item[git2r] 'git2r'\n",
       "\\item[glue] 'glue'\n",
       "\\item[gower] 'gower'\n",
       "\\item[graphics] 'graphics'\n",
       "\\item[grDevices] 'grDevices'\n",
       "\\item[grid] 'grid'\n",
       "\\item[gtable] 'gtable'\n",
       "\\item[haven] 'haven'\n",
       "\\item[hexbin] 'hexbin'\n",
       "\\item[highr] 'highr'\n",
       "\\item[hms] 'hms'\n",
       "\\item[htmltools] 'htmltools'\n",
       "\\item[htmlwidgets] 'htmlwidgets'\n",
       "\\item[httpuv] 'httpuv'\n",
       "\\item[httr] 'httr'\n",
       "\\item[ini] 'ini'\n",
       "\\item[ipred] 'ipred'\n",
       "\\item[IRdisplay] 'IRdisplay'\n",
       "\\item[IRkernel] 'IRkernel'\n",
       "\\item[isoband] 'isoband'\n",
       "\\item[iterators] 'iterators'\n",
       "\\item[jsonlite] 'jsonlite'\n",
       "\\item[KernSmooth] 'KernSmooth'\n",
       "\\item[knitr] 'knitr'\n",
       "\\item[labeling] 'labeling'\n",
       "\\item[later] 'later'\n",
       "\\item[lattice] 'lattice'\n",
       "\\item[lava] 'lava'\n",
       "\\item[lazyeval] 'lazyeval'\n",
       "\\item[lifecycle] 'lifecycle'\n",
       "\\item[lmtest] 'lmtest'\n",
       "\\item[lubridate] 'lubridate'\n",
       "\\item[magrittr] 'magrittr'\n",
       "\\item[markdown] 'markdown'\n",
       "\\item[MASS] 'MASS'\n",
       "\\item[Matrix] 'Matrix'\n",
       "\\item[memoise] 'memoise'\n",
       "\\item[methods] 'methods'\n",
       "\\item[mgcv] 'mgcv'\n",
       "\\item[mime] 'mime'\n",
       "\\item[ModelMetrics] 'ModelMetrics'\n",
       "\\item[modelr] 'modelr'\n",
       "\\item[munsell] 'munsell'\n",
       "\\item[nlme] 'nlme'\n",
       "\\item[nnet] 'nnet'\n",
       "\\item[numDeriv] 'numDeriv'\n",
       "\\item[nycflights13] 'nycflights13'\n",
       "\\item[openssl] 'openssl'\n",
       "\\item[parallel] 'parallel'\n",
       "\\item[pbdZMQ] 'pbdZMQ'\n",
       "\\item[pillar] 'pillar'\n",
       "\\item[pkgbuild] 'pkgbuild'\n",
       "\\item[pkgconfig] 'pkgconfig'\n",
       "\\item[pkgload] 'pkgload'\n",
       "\\item[plogr] 'plogr'\n",
       "\\item[plyr] 'plyr'\n",
       "\\item[praise] 'praise'\n",
       "\\item[prettyunits] 'prettyunits'\n",
       "\\item[pROC] 'pROC'\n",
       "\\item[processx] 'processx'\n",
       "\\item[prodlim] 'prodlim'\n",
       "\\item[progress] 'progress'\n",
       "\\item[promises] 'promises'\n",
       "\\item[ps] 'ps'\n",
       "\\item[purrr] 'purrr'\n",
       "\\item[quadprog] 'quadprog'\n",
       "\\item[quantmod] 'quantmod'\n",
       "\\item[R6] 'R6'\n",
       "\\item[randomForest] 'randomForest'\n",
       "\\item[rapidjsonr] 'rapidjsonr'\n",
       "\\item[rcmdcheck] 'rcmdcheck'\n",
       "\\item[RColorBrewer] 'RColorBrewer'\n",
       "\\item[Rcpp] 'Rcpp'\n",
       "\\item[RcppArmadillo] 'RcppArmadillo'\n",
       "\\item[RCurl] 'RCurl'\n",
       "\\item[readr] 'readr'\n",
       "\\item[readxl] 'readxl'\n",
       "\\item[recipes] 'recipes'\n",
       "\\item[rematch] 'rematch'\n",
       "\\item[rematch2] 'rematch2'\n",
       "\\item[remotes] 'remotes'\n",
       "\\item[repr] 'repr'\n",
       "\\item[reprex] 'reprex'\n",
       "\\item[reshape2] 'reshape2'\n",
       "\\item[rex] 'rex'\n",
       "\\item[rlang] 'rlang'\n",
       "\\item[rmarkdown] 'rmarkdown'\n",
       "\\item[roxygen2] 'roxygen2'\n",
       "\\item[rpart] 'rpart'\n",
       "\\item[rprojroot] 'rprojroot'\n",
       "\\item[RSQLite] 'RSQLite'\n",
       "\\item[rstudioapi] 'rstudioapi'\n",
       "\\item[rversions] 'rversions'\n",
       "\\item[rvest] 'rvest'\n",
       "\\item[scales] 'scales'\n",
       "\\item[selectr] 'selectr'\n",
       "\\item[sessioninfo] 'sessioninfo'\n",
       "\\item[shiny] 'shiny'\n",
       "\\item[sourcetools] 'sourcetools'\n",
       "\\item[splines] 'splines'\n",
       "\\item[SQUAREM] 'SQUAREM'\n",
       "\\item[stats] 'stats'\n",
       "\\item[stats4] 'stats4'\n",
       "\\item[stringi] 'stringi'\n",
       "\\item[stringr] 'stringr'\n",
       "\\item[survival] 'survival'\n",
       "\\item[sys] 'sys'\n",
       "\\item[tcltk] 'tcltk'\n",
       "\\item[testthat] 'testthat'\n",
       "\\item[tibble] 'tibble'\n",
       "\\item[tidyr] 'tidyr'\n",
       "\\item[tidyselect] 'tidyselect'\n",
       "\\item[tidyverse] 'tidyverse'\n",
       "\\item[timeDate] 'timeDate'\n",
       "\\item[tinytex] 'tinytex'\n",
       "\\item[tools] 'tools'\n",
       "\\item[tseries] 'tseries'\n",
       "\\item[TTR] 'TTR'\n",
       "\\item[urca] 'urca'\n",
       "\\item[usethis] 'usethis'\n",
       "\\item[utf8] 'utf8'\n",
       "\\item[utils] 'utils'\n",
       "\\item[uuid] 'uuid'\n",
       "\\item[vctrs] 'vctrs'\n",
       "\\item[viridisLite] 'viridisLite'\n",
       "\\item[whisker] 'whisker'\n",
       "\\item[withr] 'withr'\n",
       "\\item[xfun] 'xfun'\n",
       "\\item[xml2] 'xml2'\n",
       "\\item[xopen] 'xopen'\n",
       "\\item[xtable] 'xtable'\n",
       "\\item[xts] 'xts'\n",
       "\\item[yaml] 'yaml'\n",
       "\\item[zeallot] 'zeallot'\n",
       "\\item[zoo] 'zoo'\n",
       "\\end{description*}\n"
      ],
      "text/markdown": [
       "askpass\n",
       ":   'askpass'assertthat\n",
       ":   'assertthat'backports\n",
       ":   'backports'base\n",
       ":   'base'base64enc\n",
       ":   'base64enc'bigrquery\n",
       ":   'bigrquery'bit\n",
       ":   'bit'bit64\n",
       ":   'bit64'bitops\n",
       ":   'bitops'blob\n",
       ":   'blob'brew\n",
       ":   'brew'broom\n",
       ":   'broom'callr\n",
       ":   'callr'caret\n",
       ":   'caret'cellranger\n",
       ":   'cellranger'class\n",
       ":   'class'cli\n",
       ":   'cli'clipr\n",
       ":   'clipr'codetools\n",
       ":   'codetools'colorspace\n",
       ":   'colorspace'commonmark\n",
       ":   'commonmark'compiler\n",
       ":   'compiler'covr\n",
       ":   'covr'crayon\n",
       ":   'crayon'crosstalk\n",
       ":   'crosstalk'curl\n",
       ":   'curl'data.table\n",
       ":   'data.table'datasets\n",
       ":   'datasets'DBI\n",
       ":   'DBI'dbplyr\n",
       ":   'dbplyr'desc\n",
       ":   'desc'devtools\n",
       ":   'devtools'digest\n",
       ":   'digest'dplyr\n",
       ":   'dplyr'DT\n",
       ":   'DT'ellipsis\n",
       ":   'ellipsis'evaluate\n",
       ":   'evaluate'fansi\n",
       ":   'fansi'farver\n",
       ":   'farver'fastmap\n",
       ":   'fastmap'forcats\n",
       ":   'forcats'foreach\n",
       ":   'foreach'forecast\n",
       ":   'forecast'fracdiff\n",
       ":   'fracdiff'fs\n",
       ":   'fs'gargle\n",
       ":   'gargle'generics\n",
       ":   'generics'ggplot2\n",
       ":   'ggplot2'gh\n",
       ":   'gh'git2r\n",
       ":   'git2r'glue\n",
       ":   'glue'gower\n",
       ":   'gower'graphics\n",
       ":   'graphics'grDevices\n",
       ":   'grDevices'grid\n",
       ":   'grid'gtable\n",
       ":   'gtable'haven\n",
       ":   'haven'hexbin\n",
       ":   'hexbin'highr\n",
       ":   'highr'hms\n",
       ":   'hms'htmltools\n",
       ":   'htmltools'htmlwidgets\n",
       ":   'htmlwidgets'httpuv\n",
       ":   'httpuv'httr\n",
       ":   'httr'ini\n",
       ":   'ini'ipred\n",
       ":   'ipred'IRdisplay\n",
       ":   'IRdisplay'IRkernel\n",
       ":   'IRkernel'isoband\n",
       ":   'isoband'iterators\n",
       ":   'iterators'jsonlite\n",
       ":   'jsonlite'KernSmooth\n",
       ":   'KernSmooth'knitr\n",
       ":   'knitr'labeling\n",
       ":   'labeling'later\n",
       ":   'later'lattice\n",
       ":   'lattice'lava\n",
       ":   'lava'lazyeval\n",
       ":   'lazyeval'lifecycle\n",
       ":   'lifecycle'lmtest\n",
       ":   'lmtest'lubridate\n",
       ":   'lubridate'magrittr\n",
       ":   'magrittr'markdown\n",
       ":   'markdown'MASS\n",
       ":   'MASS'Matrix\n",
       ":   'Matrix'memoise\n",
       ":   'memoise'methods\n",
       ":   'methods'mgcv\n",
       ":   'mgcv'mime\n",
       ":   'mime'ModelMetrics\n",
       ":   'ModelMetrics'modelr\n",
       ":   'modelr'munsell\n",
       ":   'munsell'nlme\n",
       ":   'nlme'nnet\n",
       ":   'nnet'numDeriv\n",
       ":   'numDeriv'nycflights13\n",
       ":   'nycflights13'openssl\n",
       ":   'openssl'parallel\n",
       ":   'parallel'pbdZMQ\n",
       ":   'pbdZMQ'pillar\n",
       ":   'pillar'pkgbuild\n",
       ":   'pkgbuild'pkgconfig\n",
       ":   'pkgconfig'pkgload\n",
       ":   'pkgload'plogr\n",
       ":   'plogr'plyr\n",
       ":   'plyr'praise\n",
       ":   'praise'prettyunits\n",
       ":   'prettyunits'pROC\n",
       ":   'pROC'processx\n",
       ":   'processx'prodlim\n",
       ":   'prodlim'progress\n",
       ":   'progress'promises\n",
       ":   'promises'ps\n",
       ":   'ps'purrr\n",
       ":   'purrr'quadprog\n",
       ":   'quadprog'quantmod\n",
       ":   'quantmod'R6\n",
       ":   'R6'randomForest\n",
       ":   'randomForest'rapidjsonr\n",
       ":   'rapidjsonr'rcmdcheck\n",
       ":   'rcmdcheck'RColorBrewer\n",
       ":   'RColorBrewer'Rcpp\n",
       ":   'Rcpp'RcppArmadillo\n",
       ":   'RcppArmadillo'RCurl\n",
       ":   'RCurl'readr\n",
       ":   'readr'readxl\n",
       ":   'readxl'recipes\n",
       ":   'recipes'rematch\n",
       ":   'rematch'rematch2\n",
       ":   'rematch2'remotes\n",
       ":   'remotes'repr\n",
       ":   'repr'reprex\n",
       ":   'reprex'reshape2\n",
       ":   'reshape2'rex\n",
       ":   'rex'rlang\n",
       ":   'rlang'rmarkdown\n",
       ":   'rmarkdown'roxygen2\n",
       ":   'roxygen2'rpart\n",
       ":   'rpart'rprojroot\n",
       ":   'rprojroot'RSQLite\n",
       ":   'RSQLite'rstudioapi\n",
       ":   'rstudioapi'rversions\n",
       ":   'rversions'rvest\n",
       ":   'rvest'scales\n",
       ":   'scales'selectr\n",
       ":   'selectr'sessioninfo\n",
       ":   'sessioninfo'shiny\n",
       ":   'shiny'sourcetools\n",
       ":   'sourcetools'splines\n",
       ":   'splines'SQUAREM\n",
       ":   'SQUAREM'stats\n",
       ":   'stats'stats4\n",
       ":   'stats4'stringi\n",
       ":   'stringi'stringr\n",
       ":   'stringr'survival\n",
       ":   'survival'sys\n",
       ":   'sys'tcltk\n",
       ":   'tcltk'testthat\n",
       ":   'testthat'tibble\n",
       ":   'tibble'tidyr\n",
       ":   'tidyr'tidyselect\n",
       ":   'tidyselect'tidyverse\n",
       ":   'tidyverse'timeDate\n",
       ":   'timeDate'tinytex\n",
       ":   'tinytex'tools\n",
       ":   'tools'tseries\n",
       ":   'tseries'TTR\n",
       ":   'TTR'urca\n",
       ":   'urca'usethis\n",
       ":   'usethis'utf8\n",
       ":   'utf8'utils\n",
       ":   'utils'uuid\n",
       ":   'uuid'vctrs\n",
       ":   'vctrs'viridisLite\n",
       ":   'viridisLite'whisker\n",
       ":   'whisker'withr\n",
       ":   'withr'xfun\n",
       ":   'xfun'xml2\n",
       ":   'xml2'xopen\n",
       ":   'xopen'xtable\n",
       ":   'xtable'xts\n",
       ":   'xts'yaml\n",
       ":   'yaml'zeallot\n",
       ":   'zeallot'zoo\n",
       ":   'zoo'\n",
       "\n"
      ],
      "text/plain": [
       "        askpass      assertthat       backports            base       base64enc \n",
       "      \"askpass\"    \"assertthat\"     \"backports\"          \"base\"     \"base64enc\" \n",
       "      bigrquery             bit           bit64          bitops            blob \n",
       "    \"bigrquery\"           \"bit\"         \"bit64\"        \"bitops\"          \"blob\" \n",
       "           brew           broom           callr           caret      cellranger \n",
       "         \"brew\"         \"broom\"         \"callr\"         \"caret\"    \"cellranger\" \n",
       "          class             cli           clipr       codetools      colorspace \n",
       "        \"class\"           \"cli\"         \"clipr\"     \"codetools\"    \"colorspace\" \n",
       "     commonmark        compiler            covr          crayon       crosstalk \n",
       "   \"commonmark\"      \"compiler\"          \"covr\"        \"crayon\"     \"crosstalk\" \n",
       "           curl      data.table        datasets             DBI          dbplyr \n",
       "         \"curl\"    \"data.table\"      \"datasets\"           \"DBI\"        \"dbplyr\" \n",
       "           desc        devtools          digest           dplyr              DT \n",
       "         \"desc\"      \"devtools\"        \"digest\"         \"dplyr\"            \"DT\" \n",
       "       ellipsis        evaluate           fansi          farver         fastmap \n",
       "     \"ellipsis\"      \"evaluate\"         \"fansi\"        \"farver\"       \"fastmap\" \n",
       "        forcats         foreach        forecast        fracdiff              fs \n",
       "      \"forcats\"       \"foreach\"      \"forecast\"      \"fracdiff\"            \"fs\" \n",
       "         gargle        generics         ggplot2              gh           git2r \n",
       "       \"gargle\"      \"generics\"       \"ggplot2\"            \"gh\"         \"git2r\" \n",
       "           glue           gower        graphics       grDevices            grid \n",
       "         \"glue\"         \"gower\"      \"graphics\"     \"grDevices\"          \"grid\" \n",
       "         gtable           haven          hexbin           highr             hms \n",
       "       \"gtable\"         \"haven\"        \"hexbin\"         \"highr\"           \"hms\" \n",
       "      htmltools     htmlwidgets          httpuv            httr             ini \n",
       "    \"htmltools\"   \"htmlwidgets\"        \"httpuv\"          \"httr\"           \"ini\" \n",
       "          ipred       IRdisplay        IRkernel         isoband       iterators \n",
       "        \"ipred\"     \"IRdisplay\"      \"IRkernel\"       \"isoband\"     \"iterators\" \n",
       "       jsonlite      KernSmooth           knitr        labeling           later \n",
       "     \"jsonlite\"    \"KernSmooth\"         \"knitr\"      \"labeling\"         \"later\" \n",
       "        lattice            lava        lazyeval       lifecycle          lmtest \n",
       "      \"lattice\"          \"lava\"      \"lazyeval\"     \"lifecycle\"        \"lmtest\" \n",
       "      lubridate        magrittr        markdown            MASS          Matrix \n",
       "    \"lubridate\"      \"magrittr\"      \"markdown\"          \"MASS\"        \"Matrix\" \n",
       "        memoise         methods            mgcv            mime    ModelMetrics \n",
       "      \"memoise\"       \"methods\"          \"mgcv\"          \"mime\"  \"ModelMetrics\" \n",
       "         modelr         munsell            nlme            nnet        numDeriv \n",
       "       \"modelr\"       \"munsell\"          \"nlme\"          \"nnet\"      \"numDeriv\" \n",
       "   nycflights13         openssl        parallel          pbdZMQ          pillar \n",
       " \"nycflights13\"       \"openssl\"      \"parallel\"        \"pbdZMQ\"        \"pillar\" \n",
       "       pkgbuild       pkgconfig         pkgload           plogr            plyr \n",
       "     \"pkgbuild\"     \"pkgconfig\"       \"pkgload\"         \"plogr\"          \"plyr\" \n",
       "         praise     prettyunits            pROC        processx         prodlim \n",
       "       \"praise\"   \"prettyunits\"          \"pROC\"      \"processx\"       \"prodlim\" \n",
       "       progress        promises              ps           purrr        quadprog \n",
       "     \"progress\"      \"promises\"            \"ps\"         \"purrr\"      \"quadprog\" \n",
       "       quantmod              R6    randomForest      rapidjsonr       rcmdcheck \n",
       "     \"quantmod\"            \"R6\"  \"randomForest\"    \"rapidjsonr\"     \"rcmdcheck\" \n",
       "   RColorBrewer            Rcpp   RcppArmadillo           RCurl           readr \n",
       " \"RColorBrewer\"          \"Rcpp\" \"RcppArmadillo\"         \"RCurl\"         \"readr\" \n",
       "         readxl         recipes         rematch        rematch2         remotes \n",
       "       \"readxl\"       \"recipes\"       \"rematch\"      \"rematch2\"       \"remotes\" \n",
       "           repr          reprex        reshape2             rex           rlang \n",
       "         \"repr\"        \"reprex\"      \"reshape2\"           \"rex\"         \"rlang\" \n",
       "      rmarkdown        roxygen2           rpart       rprojroot         RSQLite \n",
       "    \"rmarkdown\"      \"roxygen2\"         \"rpart\"     \"rprojroot\"       \"RSQLite\" \n",
       "     rstudioapi       rversions           rvest          scales         selectr \n",
       "   \"rstudioapi\"     \"rversions\"         \"rvest\"        \"scales\"       \"selectr\" \n",
       "    sessioninfo           shiny     sourcetools         splines         SQUAREM \n",
       "  \"sessioninfo\"         \"shiny\"   \"sourcetools\"       \"splines\"       \"SQUAREM\" \n",
       "          stats          stats4         stringi         stringr        survival \n",
       "        \"stats\"        \"stats4\"       \"stringi\"       \"stringr\"      \"survival\" \n",
       "            sys           tcltk        testthat          tibble           tidyr \n",
       "          \"sys\"         \"tcltk\"      \"testthat\"        \"tibble\"         \"tidyr\" \n",
       "     tidyselect       tidyverse        timeDate         tinytex           tools \n",
       "   \"tidyselect\"     \"tidyverse\"      \"timeDate\"       \"tinytex\"         \"tools\" \n",
       "        tseries             TTR            urca         usethis            utf8 \n",
       "      \"tseries\"           \"TTR\"          \"urca\"       \"usethis\"          \"utf8\" \n",
       "          utils            uuid           vctrs     viridisLite         whisker \n",
       "        \"utils\"          \"uuid\"         \"vctrs\"   \"viridisLite\"       \"whisker\" \n",
       "          withr            xfun            xml2           xopen          xtable \n",
       "        \"withr\"          \"xfun\"          \"xml2\"         \"xopen\"        \"xtable\" \n",
       "            xts            yaml         zeallot             zoo \n",
       "          \"xts\"          \"yaml\"       \"zeallot\"           \"zoo\" "
      ]
     },
     "metadata": {},
     "output_type": "display_data"
    }
   ],
   "source": [
    "installed.packages()[,\"Package\"]"
   ]
  },
  {
   "cell_type": "code",
   "execution_count": 4,
   "metadata": {},
   "outputs": [],
   "source": [
    "x=seq(from = 0, to =10,length.out = 500) ## Generating a sequence of numbers; a generic function in R\n",
    "y=cumsum(rnorm(500,mean=5,sd=50)) ##generating a random normal distribution and cumulating it (mean 5, sd 50)"
   ]
  },
  {
   "cell_type": "code",
   "execution_count": 6,
   "metadata": {},
   "outputs": [
    {
     "data": {
      "image/png": "[encoded data removed]",
      "text/plain": [
       "plot without title"
      ]
     },
     "metadata": {
      "image/png": {
       "height": 420,
       "width": 420
      },
      "text/plain": {
       "height": 420,
       "width": 420
      }
     },
     "output_type": "display_data"
    }
   ],
   "source": [
    "plot(x,y) #plotting using the base functionality of R"
   ]
  },
  {
   "cell_type": "markdown",
   "metadata": {},
   "source": [
    "> **That's it for now!** We will continue with this notebook as we go and add more examples and features to play with! So stay tuned! The Ironhacks Team"
   ]
  },
  {
   "cell_type": "code",
   "execution_count": null,
   "metadata": {},
   "outputs": [],
   "source": []
  }
 ],
 "metadata": {
  "kernelspec": {
   "display_name": "R",
   "language": "R",
   "name": "ir"
  },
  "language_info": {
   "codemirror_mode": "r",
   "file_extension": ".r",
   "mimetype": "text/x-r-source",
   "name": "R",
   "pygments_lexer": "r",
   "version": "3.6.3"
  }
 },
 "nbformat": 4,
 "nbformat_minor": 4
}
