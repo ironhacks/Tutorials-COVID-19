{
 "metadata": {
  "language_info": {
   "codemirror_mode": {
    "name": "ipython",
    "version": 3
   },
   "file_extension": ".py",
   "mimetype": "text/x-python",
   "name": "python",
   "nbconvert_exporter": "python",
   "pygments_lexer": "ipython3",
   "version": 3
  },
  "orig_nbformat": 2
 },
 "nbformat": 4,
 "nbformat_minor": 2,
 "cells": [
  {
   "source": [
    "## Summary of Submmission 4\n",
    "First, I queried the tables 'weekly_patterns', 'prediction_list_poi', and 'covid19_cases' using the variables 'poi_id', 'location_name', 'week_number', 'visits_concentration', 'raw_visit_counts', 'distance_from_home', 'median_dwell', 'deaths', and 'cases'. \n",
    "\n",
    "I tried making a correlation map to see if any parameters ('distance_from_home', 'median_dwell','visits_concentration') might correspond with 'raw_visit_count' or 'week_number' to do a multiple regression but they did not. \n",
    "\n",
    "Next, I applied ordinary least squared linear regression to all different poi_id's. I then chopped off some older data and redid the regression analysis on data past week 33- This yielded slightly better results in the form of a higher average R^2 value. Then I counted, and pinpointed the models with bad R^2 values and tried doing exponential regression after graphing them to see their shape. As part of this, I log transformed the Y axis to do linear regression and find the best fit. I then did polynomial regression models for (d=2,3). I ran both of these models again with the data past week 33, which yielded better results. \n",
    "\n",
    "The libraries I used were 'statsmodels.api' and 'klearn.linear_model' and 'sklearn.preprocessing'. I used these to do data transformation, find linear regression model/R^2 values, and predict values given the created model. \n",
    "\n",
    "To compare models, Model 2 had (266) models with r^2 below .8, Model 3a had (241) after exponential models were applied, and Model 3b had (240) after polynomial (d=3).\\nOverall the average R^2 value went from (Model 1).808 -> (Model 2).895 -> (Model 3a).8972 ->(Model 3b).8973. I believe this should also translate well to lower my MSPE and MAPE which I plan to calculate myself in the future. \n",
    "\n",
    "In the future I plan to calculate MSPE and MAPE to optimize those values directly. I also would like to analyze the 104 models with R^2 values below .7 and see what is going on with them and how I can model them more accurately and creatively. I think I might be overfitting some models, so it may be worth exploring expanding the range of data backwards more than week 33. Looking at the tags needed to make this submission, gives me a lot of ideas for new models, and potentially ways to combine multiple models together."
   ],
   "cell_type": "markdown",
   "metadata": {}
  }
 ]
}