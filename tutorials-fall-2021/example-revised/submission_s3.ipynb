{
 "cells": [
  {
   "cell_type": "markdown",
   "id": "6b6b17a6",
   "metadata": {},
   "source": [
    "## Summary of Submission 3\n",
    "### The model type -\n",
    "\n",
    "Experimenting with Visualizations\n",
    "\n",
    "### The tables (sheet) and variables you used (also referred to as features) - \n",
    "\n",
    "I used week_number, uu_id, race_asian, race_black, race_white and total_claims. \n",
    "\n",
    "### Feature extraction/variable transformations performed - \n",
    "\n",
    "I attempt to plot a scatter plot to undertand the relationships between week_number and total_claims. I also plotted each races on the graph with the total_claims. \n",
    "\n",
    "### Key functions used (from existing libraries) or written (your own) - \n",
    "\n",
    "Used the pandas built-in visualization library \n",
    "\n",
    "### Approach for training and validating the model - \n",
    "\n",
    "None yet, only understanding the data at this moment. \n",
    "\n",
    "### Strengths and weaknesses of the model -\n",
    "\n",
    "Makes me understand the relationships of the data for further processing. \n",
    "\n",
    "### Modeling comparisons performed (if any) - \n",
    "\n",
    "None \n",
    "\n",
    "### Suggestions/ideas on how the model can be improved - \n",
    "\n",
    "Tried machine learning models such as ensemble methods for predictions. \n"
   ]
  },
  {
   "cell_type": "markdown",
   "id": "f9d3df8b",
   "metadata": {},
   "source": []
  }
 ],
 "metadata": {
  "kernelspec": {
   "display_name": "Python 3",
   "language": "python",
   "name": "python3"
  },
  "language_info": {
   "codemirror_mode": {
    "name": "ipython",
    "version": 3
   },
   "file_extension": ".py",
   "mimetype": "text/x-python",
   "name": "python",
   "nbconvert_exporter": "python",
   "pygments_lexer": "ipython3",
   "version": "3.8.8"
  }
 },
 "nbformat": 4,
 "nbformat_minor": 5
}
