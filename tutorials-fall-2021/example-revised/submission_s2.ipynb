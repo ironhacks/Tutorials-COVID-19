{
 "cells": [
  {
   "cell_type": "markdown",
   "id": "46fbb7ee",
   "metadata": {},
   "source": [
    "## Summary of Submission 5\n",
    "### The model type -\n",
    "\n",
    "The model type is Neural Network (NN) \n",
    "\n",
    "### The tables (sheet) and variables you used (also referred to as features) - \n",
    "\n",
    "I merged the data from two tablee. The first table I used the uu_id column, the total_claims column and the week_number column. The second table I used the average_wage column and the uu_id column. \n",
    "\n",
    "### Feature extraction/variable transformations performed - \n",
    "\n",
    "I changed the uu_id to be categorical data, then I use the simple method uu_id.cat.codes to change the data to be numerical.\n",
    "\n",
    "### Key functions used (from existing libraries) or written (your own) - \n",
    "\n",
    "I use the function to save the preprocessed data in .npz file format since I got some difficulty with the usual data type transformation, then I write a function to compile the model, then I predict the model using\n",
    "Tensorflow\n",
    "\n",
    "### Approach for training and validating the model - \n",
    "\n",
    "At the beginning of the round, I analyze the data provided and list some ways to predict the data, I go for the simplest without too much to consider, I only use uu_id for the location pointer, and I use average_wage to maybe add some variable to the model, but there is still so much to explore for this dataset.\n",
    "\n",
    "### Strengths and weaknesses of the model -\n",
    "\n",
    "For the strengths and weaknesses of the model, to be honest, this model is no good at all by now, cause it is only a simple neural network model with some basic features from the first table and the second table. This model has yet to model the time series and predict well enough to provide any result, but with some tinkering, the neural network could be a great tool to consider, maybe using RNN or something, in addition, will be good enough, the nearest improvement I'm planning is to make n-fold validation. \n",
    "\n",
    "### Modeling comparisons performed (if any) - \n",
    "\n",
    "None \n",
    "\n",
    "### Suggestions/ideas on how the model can be improved - \n",
    "\n",
    "Exploring another variable that could be used to make the prediction better (races, education, vaccination data). \n"
   ]
  },
  {
   "cell_type": "code",
   "execution_count": null,
   "id": "54a444c7",
   "metadata": {},
   "outputs": [],
   "source": []
  }
 ],
 "metadata": {
  "kernelspec": {
   "display_name": "Python 3",
   "language": "python",
   "name": "python3"
  },
  "language_info": {
   "codemirror_mode": {
    "name": "ipython",
    "version": 3
   },
   "file_extension": ".py",
   "mimetype": "text/x-python",
   "name": "python",
   "nbconvert_exporter": "python",
   "pygments_lexer": "ipython3",
   "version": "3.8.8"
  }
 },
 "nbformat": 4,
 "nbformat_minor": 5
}
