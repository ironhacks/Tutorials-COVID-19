{
 "cells": [
  {
   "cell_type": "code",
   "execution_count": 1,
   "id": "cabacc1a",
   "metadata": {},
   "outputs": [
    {
     "data": {
      "text/html": [
       "<style>.container { width:100% !important; }</style>"
      ],
      "text/plain": [
       "<IPython.core.display.HTML object>"
      ]
     },
     "metadata": {},
     "output_type": "display_data"
    }
   ],
   "source": [
    "import csv\n",
    "import pandas as pd\n",
    "import numpy as np\n",
    "from google.cloud import bigquery\n",
    "from google.oauth2 import service_account\n",
    "from google.cloud.bigquery import magics\n",
    "magics.context.use_bqstorage_api = True\n",
    "import pyarrow\n",
    "from sklearn.linear_model import LogisticRegression\n",
    "from matplotlib import pyplot as plt\n",
    "import random\n",
    "from IPython.core.display import display, HTML\n",
    "display(HTML(\"<style>.container { width:100% !important; }</style>\"))\n",
    "\n",
    "import numpy as np\n",
    "import pandas as pd\n",
    "import matplotlib.pyplot as plt\n",
    "np.set_printoptions(suppress=True, linewidth=200, edgeitems=100)\n",
    "\n",
    "from sklearn.ensemble import GradientBoostingRegressor\n",
    "from sklearn.model_selection import train_test_split"
   ]
  },
  {
   "cell_type": "code",
   "execution_count": 2,
   "id": "add7267a",
   "metadata": {},
   "outputs": [],
   "source": [
    "import os\n",
    "BIGQUERY_PROJECT = 'cloud-test-ironhacks'\n",
    "BIGQUERY_KEYPATH = 'cloud-test-ironhacks-052e1ced8b54.json'\n",
    "\n",
    "os.environ['GOOGLE_APPLICATION_CREDENTIALS'] = BIGQUERY_KEYPATH\n",
    "bigquery_client = bigquery.Client(project=BIGQUERY_PROJECT)"
   ]
  },
  {
   "cell_type": "code",
   "execution_count": 3,
   "id": "e1b08f1c",
   "metadata": {},
   "outputs": [
    {
     "data": {
      "text/html": [
       "<div>\n",
       "<style scoped>\n",
       "    .dataframe tbody tr th:only-of-type {\n",
       "        vertical-align: middle;\n",
       "    }\n",
       "\n",
       "    .dataframe tbody tr th {\n",
       "        vertical-align: top;\n",
       "    }\n",
       "\n",
       "    .dataframe thead th {\n",
       "        text-align: right;\n",
       "    }\n",
       "</style>\n",
       "<table border=\"1\" class=\"dataframe\">\n",
       "  <thead>\n",
       "    <tr style=\"text-align: right;\">\n",
       "      <th></th>\n",
       "      <th>uu_id</th>\n",
       "      <th>week_number</th>\n",
       "      <th>total_claims</th>\n",
       "      <th>edu_post_hs</th>\n",
       "    </tr>\n",
       "  </thead>\n",
       "  <tbody>\n",
       "    <tr>\n",
       "      <th>0</th>\n",
       "      <td>9bee42b55f891413ae7fac2d9d89280a</td>\n",
       "      <td>1</td>\n",
       "      <td>30.0</td>\n",
       "      <td>NaN</td>\n",
       "    </tr>\n",
       "    <tr>\n",
       "      <th>1</th>\n",
       "      <td>9bee42b55f891413ae7fac2d9d89280a</td>\n",
       "      <td>2</td>\n",
       "      <td>51.0</td>\n",
       "      <td>20.0</td>\n",
       "    </tr>\n",
       "    <tr>\n",
       "      <th>2</th>\n",
       "      <td>9bee42b55f891413ae7fac2d9d89280a</td>\n",
       "      <td>3</td>\n",
       "      <td>39.0</td>\n",
       "      <td>NaN</td>\n",
       "    </tr>\n",
       "    <tr>\n",
       "      <th>3</th>\n",
       "      <td>9bee42b55f891413ae7fac2d9d89280a</td>\n",
       "      <td>4</td>\n",
       "      <td>36.0</td>\n",
       "      <td>15.0</td>\n",
       "    </tr>\n",
       "    <tr>\n",
       "      <th>4</th>\n",
       "      <td>9bee42b55f891413ae7fac2d9d89280a</td>\n",
       "      <td>5</td>\n",
       "      <td>49.0</td>\n",
       "      <td>15.0</td>\n",
       "    </tr>\n",
       "  </tbody>\n",
       "</table>\n",
       "</div>"
      ],
      "text/plain": [
       "                              uu_id  week_number  total_claims  edu_post_hs\n",
       "0  9bee42b55f891413ae7fac2d9d89280a            1          30.0          NaN\n",
       "1  9bee42b55f891413ae7fac2d9d89280a            2          51.0         20.0\n",
       "2  9bee42b55f891413ae7fac2d9d89280a            3          39.0          NaN\n",
       "3  9bee42b55f891413ae7fac2d9d89280a            4          36.0         15.0\n",
       "4  9bee42b55f891413ae7fac2d9d89280a            5          49.0         15.0"
      ]
     },
     "execution_count": 3,
     "metadata": {},
     "output_type": "execute_result"
    }
   ],
   "source": [
    "query = \"\"\"\n",
    "SELECT uu_id, week_number, total_claims, edu_post_hs\n",
    "FROM cloud-test-ironhacks.dwd_data.suppression_remove\n",
    "\"\"\"\n",
    "query_job = bigquery_client.query(query)\n",
    "data = query_job.to_dataframe()\n",
    "data.head()"
   ]
  },
  {
   "cell_type": "code",
   "execution_count": 4,
   "id": "d75f1702",
   "metadata": {},
   "outputs": [
    {
     "data": {
      "text/plain": [
       "uu_id           False\n",
       "week_number     False\n",
       "total_claims     True\n",
       "edu_post_hs      True\n",
       "dtype: bool"
      ]
     },
     "execution_count": 4,
     "metadata": {},
     "output_type": "execute_result"
    }
   ],
   "source": [
    "data.isnull().any()"
   ]
  },
  {
   "cell_type": "code",
   "execution_count": 5,
   "id": "56ceb561",
   "metadata": {},
   "outputs": [],
   "source": [
    "data = data.fillna(lambda x: x.median())"
   ]
  },
  {
   "cell_type": "code",
   "execution_count": 10,
   "id": "57c0eaf5",
   "metadata": {},
   "outputs": [],
   "source": [
    "data['edu_post_hs'] = data['edu_post_hs'].fillna(data['edu_post_hs'].mean())\n",
    "data['total_claims'] = data['total_claims'].fillna(data['total_claims'].mean())\n",
    "data['total_claims'] = pd.to_numeric(data['total_claims'], errors='coerce')\n",
    "data['edu_post_hs'] = pd.to_numeric(data['edu_post_hs'], errors='coerce')"
   ]
  },
  {
   "cell_type": "code",
   "execution_count": 11,
   "id": "da4de7ea",
   "metadata": {},
   "outputs": [
    {
     "data": {
      "text/html": [
       "<div>\n",
       "<style scoped>\n",
       "    .dataframe tbody tr th:only-of-type {\n",
       "        vertical-align: middle;\n",
       "    }\n",
       "\n",
       "    .dataframe tbody tr th {\n",
       "        vertical-align: top;\n",
       "    }\n",
       "\n",
       "    .dataframe thead th {\n",
       "        text-align: right;\n",
       "    }\n",
       "</style>\n",
       "<table border=\"1\" class=\"dataframe\">\n",
       "  <thead>\n",
       "    <tr style=\"text-align: right;\">\n",
       "      <th></th>\n",
       "      <th>uu_id</th>\n",
       "      <th>week_number</th>\n",
       "      <th>total_claims</th>\n",
       "      <th>edu_post_hs</th>\n",
       "    </tr>\n",
       "  </thead>\n",
       "  <tbody>\n",
       "    <tr>\n",
       "      <th>0</th>\n",
       "      <td>9bee42b55f891413ae7fac2d9d89280a</td>\n",
       "      <td>1</td>\n",
       "      <td>30.0</td>\n",
       "      <td>18.662311</td>\n",
       "    </tr>\n",
       "    <tr>\n",
       "      <th>1</th>\n",
       "      <td>9bee42b55f891413ae7fac2d9d89280a</td>\n",
       "      <td>2</td>\n",
       "      <td>51.0</td>\n",
       "      <td>20.000000</td>\n",
       "    </tr>\n",
       "    <tr>\n",
       "      <th>2</th>\n",
       "      <td>9bee42b55f891413ae7fac2d9d89280a</td>\n",
       "      <td>3</td>\n",
       "      <td>39.0</td>\n",
       "      <td>18.662311</td>\n",
       "    </tr>\n",
       "    <tr>\n",
       "      <th>3</th>\n",
       "      <td>9bee42b55f891413ae7fac2d9d89280a</td>\n",
       "      <td>4</td>\n",
       "      <td>36.0</td>\n",
       "      <td>15.000000</td>\n",
       "    </tr>\n",
       "    <tr>\n",
       "      <th>4</th>\n",
       "      <td>9bee42b55f891413ae7fac2d9d89280a</td>\n",
       "      <td>5</td>\n",
       "      <td>49.0</td>\n",
       "      <td>15.000000</td>\n",
       "    </tr>\n",
       "    <tr>\n",
       "      <th>...</th>\n",
       "      <td>...</td>\n",
       "      <td>...</td>\n",
       "      <td>...</td>\n",
       "      <td>...</td>\n",
       "    </tr>\n",
       "    <tr>\n",
       "      <th>57367</th>\n",
       "      <td>20f6ad2e745b760f4d67491c4c9f2881</td>\n",
       "      <td>32</td>\n",
       "      <td>0.0</td>\n",
       "      <td>0.000000</td>\n",
       "    </tr>\n",
       "    <tr>\n",
       "      <th>57368</th>\n",
       "      <td>20f6ad2e745b760f4d67491c4c9f2881</td>\n",
       "      <td>33</td>\n",
       "      <td>0.0</td>\n",
       "      <td>0.000000</td>\n",
       "    </tr>\n",
       "    <tr>\n",
       "      <th>57369</th>\n",
       "      <td>20f6ad2e745b760f4d67491c4c9f2881</td>\n",
       "      <td>34</td>\n",
       "      <td>0.0</td>\n",
       "      <td>0.000000</td>\n",
       "    </tr>\n",
       "    <tr>\n",
       "      <th>57370</th>\n",
       "      <td>20f6ad2e745b760f4d67491c4c9f2881</td>\n",
       "      <td>35</td>\n",
       "      <td>0.0</td>\n",
       "      <td>0.000000</td>\n",
       "    </tr>\n",
       "    <tr>\n",
       "      <th>57371</th>\n",
       "      <td>20f6ad2e745b760f4d67491c4c9f2881</td>\n",
       "      <td>36</td>\n",
       "      <td>0.0</td>\n",
       "      <td>0.000000</td>\n",
       "    </tr>\n",
       "  </tbody>\n",
       "</table>\n",
       "<p>57372 rows × 4 columns</p>\n",
       "</div>"
      ],
      "text/plain": [
       "                                  uu_id  week_number  total_claims  \\\n",
       "0      9bee42b55f891413ae7fac2d9d89280a            1          30.0   \n",
       "1      9bee42b55f891413ae7fac2d9d89280a            2          51.0   \n",
       "2      9bee42b55f891413ae7fac2d9d89280a            3          39.0   \n",
       "3      9bee42b55f891413ae7fac2d9d89280a            4          36.0   \n",
       "4      9bee42b55f891413ae7fac2d9d89280a            5          49.0   \n",
       "...                                 ...          ...           ...   \n",
       "57367  20f6ad2e745b760f4d67491c4c9f2881           32           0.0   \n",
       "57368  20f6ad2e745b760f4d67491c4c9f2881           33           0.0   \n",
       "57369  20f6ad2e745b760f4d67491c4c9f2881           34           0.0   \n",
       "57370  20f6ad2e745b760f4d67491c4c9f2881           35           0.0   \n",
       "57371  20f6ad2e745b760f4d67491c4c9f2881           36           0.0   \n",
       "\n",
       "       edu_post_hs  \n",
       "0        18.662311  \n",
       "1        20.000000  \n",
       "2        18.662311  \n",
       "3        15.000000  \n",
       "4        15.000000  \n",
       "...            ...  \n",
       "57367     0.000000  \n",
       "57368     0.000000  \n",
       "57369     0.000000  \n",
       "57370     0.000000  \n",
       "57371     0.000000  \n",
       "\n",
       "[57372 rows x 4 columns]"
      ]
     },
     "execution_count": 11,
     "metadata": {},
     "output_type": "execute_result"
    }
   ],
   "source": [
    "data"
   ]
  },
  {
   "cell_type": "code",
   "execution_count": 12,
   "id": "30468ff9",
   "metadata": {},
   "outputs": [],
   "source": [
    "X = data[['week_number', 'edu_post_hs']]\n",
    "y = data['total_claims']\n",
    "X_train, X_test, y_train, y_test = train_test_split(X, y, train_size = 0.2)"
   ]
  },
  {
   "cell_type": "code",
   "execution_count": 15,
   "id": "808fef8a",
   "metadata": {},
   "outputs": [
    {
     "data": {
      "text/plain": [
       "GradientBoostingClassifier()"
      ]
     },
     "execution_count": 15,
     "metadata": {},
     "output_type": "execute_result"
    }
   ],
   "source": [
    "from sklearn.ensemble import GradientBoostingClassifier\n",
    "model = GradientBoostingClassifier()\n",
    "model.fit(X_train, y_train)"
   ]
  },
  {
   "cell_type": "code",
   "execution_count": 16,
   "id": "508a4311",
   "metadata": {},
   "outputs": [],
   "source": [
    "y_pred = model.predict(X_test)"
   ]
  },
  {
   "cell_type": "code",
   "execution_count": 20,
   "id": "e437b681",
   "metadata": {},
   "outputs": [
    {
     "data": {
      "text/plain": [
       "array([19.])"
      ]
     },
     "execution_count": 20,
     "metadata": {},
     "output_type": "execute_result"
    }
   ],
   "source": [
    "y_test = model.predict([[37, 10]])\n",
    "y_test"
   ]
  }
 ],
 "metadata": {
  "kernelspec": {
   "display_name": "Python 3",
   "language": "python",
   "name": "python3"
  },
  "language_info": {
   "codemirror_mode": {
    "name": "ipython",
    "version": 3
   },
   "file_extension": ".py",
   "mimetype": "text/x-python",
   "name": "python",
   "nbconvert_exporter": "python",
   "pygments_lexer": "ipython3",
   "version": "3.8.8"
  }
 },
 "nbformat": 4,
 "nbformat_minor": 5
}
