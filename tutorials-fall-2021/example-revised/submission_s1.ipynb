{
 "cells": [
  {
   "cell_type": "markdown",
   "id": "ccac7490",
   "metadata": {},
   "source": [
    "## Summary of Submission 1\n",
    "\n",
    "### The model type - \n",
    "\n",
    "I use linear regression to predict the total claims.\n",
    "\n",
    "### The tables (sheet) and variables you used (also referred to as features)\n",
    "\n",
    "I first extract the week)number, uu_id, and total_claims.\n",
    "\n",
    "### Feature extraction/variable transformations performed\n",
    "\n",
    "For each uu_id, I create a record of the counts for the 36 weeks.\n",
    "\n",
    "### Key functions used (from existing libraries) or written (your own)\n",
    "\n",
    "scikit-learn Linear Regression. \n",
    "\n",
    "### Approach for training and validating the model - \n",
    "\n",
    "Simple Linear Regression. No validation done yet. \n",
    "\n",
    "### Strengths and weaknesses of the model -\n",
    "\n",
    "In statistics, linear regression is a linear approach to modelling the relationship between a scalar response and one or more explanatory variables (also known as dependent and independent variables). The case of one explanatory variable is called simple linear regression; for more than one, the process is called multiple linear regression. This term is distinct from multivariate linear regression, where multiple correlated dependent variables are predicted, rather than a single scalar variable.\n",
    "\n",
    "### Modeling comparisons performed (if any) - \n",
    "\n",
    "None \n",
    "\n",
    "### Suggestions/ideas on how the model can be improved - \n",
    "\n",
    "Compare against other models or removing the outliers. "
   ]
  },
  {
   "cell_type": "code",
   "execution_count": null,
   "id": "e435062f",
   "metadata": {},
   "outputs": [],
   "source": []
  }
 ],
 "metadata": {
  "kernelspec": {
   "display_name": "Python 3",
   "language": "python",
   "name": "python3"
  },
  "language_info": {
   "codemirror_mode": {
    "name": "ipython",
    "version": 3
   },
   "file_extension": ".py",
   "mimetype": "text/x-python",
   "name": "python",
   "nbconvert_exporter": "python",
   "pygments_lexer": "ipython3",
   "version": "3.8.8"
  }
 },
 "nbformat": 4,
 "nbformat_minor": 5
}
