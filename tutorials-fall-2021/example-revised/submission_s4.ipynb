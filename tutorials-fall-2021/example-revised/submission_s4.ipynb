{
 "cells": [
  {
   "cell_type": "code",
   "execution_count": null,
   "id": "3c0efc99",
   "metadata": {},
   "outputs": [],
   "source": [
    "## Summary of Submission 4\n",
    "### The model type -\n",
    "\n",
    "Gradient Boosting Classifier \n",
    "\n",
    "### The tables (sheet) and variables you used (also referred to as features) - \n",
    "\n",
    "I used uu_id, week_number, total_claims, and edu_post_hs. \n",
    "\n",
    "### Feature extraction/variable transformations performed - \n",
    "\n",
    "I predict the total_claims with edu_post_hs as I believe education has a strong impact on unemployment claims. \n",
    "\n",
    "### Key functions used (from existing libraries) or written (your own) - \n",
    "\n",
    "Gradient Boosting Classifier from scikit-learn library. \n",
    "\n",
    "### Approach for training and validating the model - \n",
    "\n",
    "None, will need to calcuate the accuracy score. \n",
    "\n",
    "### Strengths and weaknesses of the model -\n",
    "\n",
    "I think Gradient Boosting Classifier is a strong model for this problem because ensemble methods is able to overcome the noise in the data. \n",
    "\n",
    "### Modeling comparisons performed (if any) - \n",
    "\n",
    "None \n",
    "\n",
    "### Suggestions/ideas on how the model can be improved - \n",
    "\n",
    "I want to also look into other education levels when doing the model predictions. \n"
   ]
  }
 ],
 "metadata": {
  "kernelspec": {
   "display_name": "Python 3",
   "language": "python",
   "name": "python3"
  },
  "language_info": {
   "codemirror_mode": {
    "name": "ipython",
    "version": 3
   },
   "file_extension": ".py",
   "mimetype": "text/x-python",
   "name": "python",
   "nbconvert_exporter": "python",
   "pygments_lexer": "ipython3",
   "version": "3.8.8"
  }
 },
 "nbformat": 4,
 "nbformat_minor": 5
}
