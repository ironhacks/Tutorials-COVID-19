{
 "cells": [
  {
   "cell_type": "markdown",
   "metadata": {},
   "source": [
    "<h1 style = \"text-align: center\"> SQL Tutorial </h1>"
   ]
  },
  {
   "cell_type": "markdown",
   "metadata": {},
   "source": [
    "#### In this tutorial, we'll learn how to leverage SQL to query the data that we need from Big Query. Below are some examples for your reference. Feel free to explore more from the links that we have provided. In the example below, we are querying the entire data frame to investigate it further. "
   ]
  },
  {
   "cell_type": "code",
   "execution_count": 1,
   "metadata": {},
   "outputs": [],
   "source": [
    "import os\n",
    "import pandas\n",
    "from google.cloud import bigquery\n",
    "from google.oauth2 import service_account\n",
    "from google.cloud.bigquery import magics"
   ]
  },
  {
   "cell_type": "code",
   "execution_count": 2,
   "metadata": {},
   "outputs": [],
   "source": [
    "BIGQUERY_PROJECT = 'ironhacks-covid19-data'\n",
    "BIGQUERY_KEYPATH = '/home/jovyan/keys/ironhacks-covid19-data-f5b44e38bce9.json'\n",
    "\n",
    "os.environ['GOOGLE_APPLICATION_CREDENTIALS'] = BIGQUERY_KEYPATH\n",
    "bigquery_client = bigquery.Client(project=BIGQUERY_PROJECT)"
   ]
  },
  {
   "cell_type": "code",
   "execution_count": 5,
   "metadata": {},
   "outputs": [
    {
     "data": {
      "text/html": [
       "<div>\n",
       "<style scoped>\n",
       "    .dataframe tbody tr th:only-of-type {\n",
       "        vertical-align: middle;\n",
       "    }\n",
       "\n",
       "    .dataframe tbody tr th {\n",
       "        vertical-align: top;\n",
       "    }\n",
       "\n",
       "    .dataframe thead th {\n",
       "        text-align: right;\n",
       "    }\n",
       "</style>\n",
       "<table border=\"1\" class=\"dataframe\">\n",
       "  <thead>\n",
       "    <tr style=\"text-align: right;\">\n",
       "      <th></th>\n",
       "      <th>date</th>\n",
       "      <th>max_rel_humidity</th>\n",
       "      <th>max_temperature</th>\n",
       "      <th>mean_temperature</th>\n",
       "      <th>min_rel_humidity</th>\n",
       "      <th>min_temperature</th>\n",
       "      <th>potential_water_deficit</th>\n",
       "      <th>precipitation_data</th>\n",
       "      <th>wind_speed</th>\n",
       "    </tr>\n",
       "  </thead>\n",
       "  <tbody>\n",
       "    <tr>\n",
       "      <th>0</th>\n",
       "      <td>2019-10-12</td>\n",
       "      <td>69.2646</td>\n",
       "      <td>13.5804</td>\n",
       "      <td>7.6987</td>\n",
       "      <td>28.2524</td>\n",
       "      <td>1.8170</td>\n",
       "      <td>-3.0055</td>\n",
       "      <td>0.0</td>\n",
       "      <td>5.1240</td>\n",
       "    </tr>\n",
       "    <tr>\n",
       "      <th>1</th>\n",
       "      <td>2019-12-22</td>\n",
       "      <td>93.9565</td>\n",
       "      <td>11.8324</td>\n",
       "      <td>4.6358</td>\n",
       "      <td>34.5712</td>\n",
       "      <td>-2.5607</td>\n",
       "      <td>-1.2796</td>\n",
       "      <td>0.0</td>\n",
       "      <td>2.8557</td>\n",
       "    </tr>\n",
       "    <tr>\n",
       "      <th>2</th>\n",
       "      <td>2019-08-24</td>\n",
       "      <td>91.3571</td>\n",
       "      <td>24.6652</td>\n",
       "      <td>18.6607</td>\n",
       "      <td>44.4712</td>\n",
       "      <td>12.6562</td>\n",
       "      <td>-4.7381</td>\n",
       "      <td>0.0</td>\n",
       "      <td>4.4706</td>\n",
       "    </tr>\n",
       "    <tr>\n",
       "      <th>3</th>\n",
       "      <td>2020-07-14</td>\n",
       "      <td>90.5395</td>\n",
       "      <td>29.7732</td>\n",
       "      <td>23.1580</td>\n",
       "      <td>43.2159</td>\n",
       "      <td>16.5427</td>\n",
       "      <td>-5.8112</td>\n",
       "      <td>0.0</td>\n",
       "      <td>2.3504</td>\n",
       "    </tr>\n",
       "    <tr>\n",
       "      <th>4</th>\n",
       "      <td>2019-12-07</td>\n",
       "      <td>98.1103</td>\n",
       "      <td>6.4609</td>\n",
       "      <td>0.5011</td>\n",
       "      <td>42.7690</td>\n",
       "      <td>-5.4587</td>\n",
       "      <td>-0.9686</td>\n",
       "      <td>0.0</td>\n",
       "      <td>3.2087</td>\n",
       "    </tr>\n",
       "  </tbody>\n",
       "</table>\n",
       "</div>"
      ],
      "text/plain": [
       "         date  max_rel_humidity  max_temperature  mean_temperature  \\\n",
       "0  2019-10-12           69.2646          13.5804            7.6987   \n",
       "1  2019-12-22           93.9565          11.8324            4.6358   \n",
       "2  2019-08-24           91.3571          24.6652           18.6607   \n",
       "3  2020-07-14           90.5395          29.7732           23.1580   \n",
       "4  2019-12-07           98.1103           6.4609            0.5011   \n",
       "\n",
       "   min_rel_humidity  min_temperature  potential_water_deficit  \\\n",
       "0           28.2524           1.8170                  -3.0055   \n",
       "1           34.5712          -2.5607                  -1.2796   \n",
       "2           44.4712          12.6562                  -4.7381   \n",
       "3           43.2159          16.5427                  -5.8112   \n",
       "4           42.7690          -5.4587                  -0.9686   \n",
       "\n",
       "   precipitation_data  wind_speed  \n",
       "0                 0.0      5.1240  \n",
       "1                 0.0      2.8557  \n",
       "2                 0.0      4.4706  \n",
       "3                 0.0      2.3504  \n",
       "4                 0.0      3.2087  "
      ]
     },
     "execution_count": 5,
     "metadata": {},
     "output_type": "execute_result"
    }
   ],
   "source": [
    "query = \"\"\"\n",
    "SELECT * FROM `ironhacks-covid19-data.ironhacks_covid19_training.weather_data`\n",
    "\"\"\"\n",
    "\n",
    "query_job = bigquery_client.query(query)\n",
    "data = query_job.to_dataframe()\n",
    "data.head()"
   ]
  },
  {
   "cell_type": "markdown",
   "metadata": {},
   "source": [
    "#### The command shown below gives us the names of the columns of the dataset called \"weather data\""
   ]
  },
  {
   "cell_type": "code",
   "execution_count": 6,
   "metadata": {},
   "outputs": [
    {
     "data": {
      "text/plain": [
       "['date',\n",
       " 'max_rel_humidity',\n",
       " 'max_temperature',\n",
       " 'mean_temperature',\n",
       " 'min_rel_humidity',\n",
       " 'min_temperature',\n",
       " 'potential_water_deficit',\n",
       " 'precipitation_data',\n",
       " 'wind_speed']"
      ]
     },
     "execution_count": 6,
     "metadata": {},
     "output_type": "execute_result"
    }
   ],
   "source": [
    "data.columns.tolist()"
   ]
  },
  {
   "cell_type": "markdown",
   "metadata": {},
   "source": [
    "#### Next, we wish to extract the date and relative humidity from the table when the date is 2020-06-16. \"WHERE\" command comes into play here; it is used when we want to get data with specific constraints, the constraint being the date here."
   ]
  },
  {
   "cell_type": "code",
   "execution_count": 7,
   "metadata": {},
   "outputs": [
    {
     "name": "stdout",
     "output_type": "stream",
     "text": [
      "Requirement already satisfied: pandas in /opt/conda/lib/python3.7/site-packages (1.0.5)\n",
      "Requirement already satisfied: python-dateutil>=2.6.1 in /opt/conda/lib/python3.7/site-packages (from pandas) (2.8.1)\n",
      "Requirement already satisfied: numpy>=1.13.3 in /opt/conda/lib/python3.7/site-packages (from pandas) (1.18.5)\n",
      "Requirement already satisfied: pytz>=2017.2 in /opt/conda/lib/python3.7/site-packages (from pandas) (2020.1)\n",
      "Requirement already satisfied: six>=1.5 in /opt/conda/lib/python3.7/site-packages (from python-dateutil>=2.6.1->pandas) (1.15.0)\n"
     ]
    },
    {
     "data": {
      "text/html": [
       "<div>\n",
       "<style scoped>\n",
       "    .dataframe tbody tr th:only-of-type {\n",
       "        vertical-align: middle;\n",
       "    }\n",
       "\n",
       "    .dataframe tbody tr th {\n",
       "        vertical-align: top;\n",
       "    }\n",
       "\n",
       "    .dataframe thead th {\n",
       "        text-align: right;\n",
       "    }\n",
       "</style>\n",
       "<table border=\"1\" class=\"dataframe\">\n",
       "  <thead>\n",
       "    <tr style=\"text-align: right;\">\n",
       "      <th></th>\n",
       "      <th>date</th>\n",
       "      <th>max_rel_humidity</th>\n",
       "    </tr>\n",
       "  </thead>\n",
       "  <tbody>\n",
       "    <tr>\n",
       "      <th>0</th>\n",
       "      <td>2020-06-16</td>\n",
       "      <td>82.2795</td>\n",
       "    </tr>\n",
       "  </tbody>\n",
       "</table>\n",
       "</div>"
      ],
      "text/plain": [
       "         date  max_rel_humidity\n",
       "0  2020-06-16           82.2795"
      ]
     },
     "execution_count": 7,
     "metadata": {},
     "output_type": "execute_result"
    }
   ],
   "source": [
    "query = \"\"\"\n",
    "\n",
    "SELECT date, max_rel_humidity\n",
    "FROM ironhacks-covid19-data.ironhacks_covid19_training.weather_data\n",
    "WHERE date='2020-06-16'\n",
    "\n",
    "\n",
    "\n",
    "\n",
    "\"\"\"\n",
    "\n",
    "query_job = bigquery_client.query(query)\n",
    "!python3 -m pip install pandas\n",
    "import pandas\n",
    "data = query_job.to_dataframe()\n",
    "data.head()"
   ]
  },
  {
   "cell_type": "markdown",
   "metadata": {},
   "source": [
    "#### Now, let's learn how to combine two tables from Google Big Query: \"weather_data\" and \"covid19_tests_cases_deaths_IN\". \"JOIN\" is used here; it combines covid tests from one table with the relative humidity from the other table, in accordance with the dates."
   ]
  },
  {
   "cell_type": "code",
   "execution_count": null,
   "metadata": {},
   "outputs": [],
   "source": [
    "QUERY = \"\"\"\n",
    "\n",
    "SELECT\n",
    "  t1.DATE,\n",
    "  t1.COVID_TEST,\n",
    "  t2.max_rel_humidity\n",
    "FROM ironhacks_covid19_training.covid19_tests_cases_deaths_IN t1\n",
    "JOIN ironhacks_covid19_training.weather_data t2 ON t1.DATE = t2.date\n",
    "\n",
    "\"\"\"\n",
    "\n",
    "query_job = bigquery_client.query(QUERY)\n",
    "!python3 -m pip install pandas\n",
    "import pandas\n",
    "data = query_job.to_dataframe()\n",
    "data.head()"
   ]
  },
  {
   "cell_type": "code",
   "execution_count": null,
   "metadata": {},
   "outputs": [],
   "source": []
  }
 ],
 "metadata": {
  "kernelspec": {
   "display_name": "Python 3",
   "language": "python",
   "name": "python3"
  },
  "language_info": {
   "codemirror_mode": {
    "name": "ipython",
    "version": 3
   },
   "file_extension": ".py",
   "mimetype": "text/x-python",
   "name": "python",
   "nbconvert_exporter": "python",
   "pygments_lexer": "ipython3",
   "version": "3.7.6"
  }
 },
 "nbformat": 4,
 "nbformat_minor": 4
}
