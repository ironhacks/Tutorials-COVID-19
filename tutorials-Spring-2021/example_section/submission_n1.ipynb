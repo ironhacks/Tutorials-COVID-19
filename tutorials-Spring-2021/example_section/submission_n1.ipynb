{
  "nbformat": 4,
  "nbformat_minor": 0,
  "metadata": {
    "kernelspec": {
      "display_name": "Python 3",
      "language": "python",
      "name": "python3"
    },
    "language_info": {
      "codemirror_mode": {
        "name": "ipython",
        "version": 3
      },
      "file_extension": ".py",
      "mimetype": "text/x-python",
      "name": "python",
      "nbconvert_exporter": "python",
      "pygments_lexer": "ipython3",
      "version": "3.7.6"
    },
    "colab": {
      "name": "submission_prediction_output.ipynb",
      "provenance": []
    }
  },
  "cells": [
    {
      "cell_type": "markdown",
      "metadata": {
        "id": "B7fho8kEsJSZ"
      },
      "source": [
        "# IronHacks Submission Notebook"
      ]
    },
    {
      "cell_type": "markdown",
      "metadata": {
        "id": "0Bp9-IrFsJSk"
      },
      "source": [
        "## Background\n",
        "---\n",
        "\n",
        "Write a brief summary about goal of this notebook and provide some insight to the reader about how read through your document."
      ]
    },
    {
      "cell_type": "markdown",
      "metadata": {
        "id": "FMcMlNansJSl"
      },
      "source": [
        "## Setup\n",
        "---"
      ]
    },
    {
      "cell_type": "code",
      "metadata": {
        "id": "cDJwDG5AsJSm"
      },
      "source": [
        "\n",
        "%logstop\n",
        "%logstart -t -r -q ipython_command_log.py global\n",
        "\n",
        "#- IRONHACKS RESEARCH TRACKING CODE\n",
        "#----------------------------------\n",
        "# The following code is used to help our research team understand how you \n",
        "# our notebook environment. We do not collect any personal information with\n",
        "# the following code, it is used to measure when and how often you work on\n",
        "# your submission files.\n",
        "\n",
        "import os\n",
        "from datetime import datetime\n",
        "import IPython.core.history as history\n",
        "\n",
        "ha = history.HistoryAccessor()\n",
        "ha_tail = ha.get_tail(1)\n",
        "ha_cmd = next(ha_tail)\n",
        "session_id = str(ha_cmd[0])\n",
        "command_id = str(ha_cmd[1])\n",
        "timestamp = datetime.utcnow().isoformat()\n",
        "history_line = ','.join([session_id, command_id, timestamp]) + '\\n'\n",
        "logfile = open(os.environ['HOME']+'/ipython_session_log.csv', 'a')\n",
        "logfile.write(history_line)\n",
        "logfile.close()"
      ],
      "execution_count": null,
      "outputs": []
    },
    {
      "cell_type": "code",
      "metadata": {
        "id": "v8MNp5dosJSn"
      },
      "source": [
        "\n",
        "\n",
        "#- INSTALL ADDITIONAL LIBRARIES IF REQUIRED\n",
        "#------------------------------------------\n",
        "# This is normally not required. The hub environment comes preinstaled with \n",
        "# many packages that you can already use without setup. In case there is some\n",
        "# other library you would like to use that isn't on the list you run this command\n",
        "# once to install them.  If it is already installed this command has no effect.\n",
        "\n",
        "!python3 -m pip install pandas"
      ],
      "execution_count": null,
      "outputs": []
    },
    {
      "cell_type": "markdown",
      "metadata": {
        "id": "3h7jV8I1sJSn"
      },
      "source": [
        "### Imports"
      ]
    },
    {
      "cell_type": "code",
      "metadata": {
        "id": "rpmcy25YsJSo"
      },
      "source": [
        "#- IMPORT THE LIBRARIES YOU WILL USE\n",
        "#------------------------------------------\n",
        "# You only need to import packages one time per notebook session. To keep your\n",
        "# notebook clean and organized you can handle all imports at the top of your file.\n",
        "# The following are included for example purposed, feel free to modify or delete \n",
        "# anything in this section.\n",
        "\n",
        "import csv\n",
        "import pandas as pd\n",
        "import numpy as np\n",
        "from google.cloud import bigquery\n",
        "from google.oauth2 import service_account\n",
        "from google.cloud.bigquery import magics"
      ],
      "execution_count": null,
      "outputs": []
    },
    {
      "cell_type": "markdown",
      "metadata": {
        "id": "oJZUeJ-ssJSo"
      },
      "source": [
        "## Classes and Functions\n",
        "---"
      ]
    },
    {
      "cell_type": "code",
      "metadata": {
        "id": "utqQtXlNsJSp"
      },
      "source": [
        "#- DEFINE YOUR CLASSES AND FUNCTIONS \n",
        "#-----------------------------------\n",
        "# This is not required, but is helpful in keeping your notebook organized. \n",
        "# You can use the following cell or several cells to define your functions\n",
        "# and classes to keep them separate from your analysis or results code.\n",
        "# In general it useful to define your methods in a separate cell from where\n",
        "# it is run.\n",
        "\n",
        "def example_function():\n",
        "    print('Hello World')"
      ],
      "execution_count": null,
      "outputs": []
    },
    {
      "cell_type": "code",
      "metadata": {
        "id": "F-OXNsO7sJSp"
      },
      "source": [
        "# CONFIGURE THE BIGQUERY SETTINGS\n",
        "\n",
        "BIGQUERY_PROJECT = 'ironhacks-covid19-data'\n",
        "BIGQUERY_KEYPATH = 'key.json'\n",
        "\n",
        "os.environ['GOOGLE_APPLICATION_CREDENTIALS'] = BIGQUERY_KEYPATH\n",
        "bigquery_client = bigquery.Client(project=BIGQUERY_PROJECT)"
      ],
      "execution_count": null,
      "outputs": []
    },
    {
      "cell_type": "code",
      "metadata": {
        "id": "Rb82YagksJSp",
        "outputId": "cf7e8cd2-15f2-477a-92b6-1c86474c756c"
      },
      "source": [
        "query = \"\"\"\n",
        "SELECT *\n",
        "FROM ironhacks-covid19-data.ironhacks_covid19_competition.weekly_patterns\n",
        "\"\"\"\n",
        "\n",
        "query_job = bigquery_client.query(query)\n",
        "data = query_job.to_dataframe()\n",
        "data.head()"
      ],
      "execution_count": null,
      "outputs": [
        {
          "output_type": "stream",
          "text": [
            "/opt/conda/lib/python3.7/site-packages/google/cloud/bigquery/client.py:441: UserWarning: Cannot create BigQuery Storage client, the dependency google-cloud-bigquery-storage is not installed.\n",
            "  \"Cannot create BigQuery Storage client, the dependency \"\n"
          ],
          "name": "stderr"
        },
        {
          "output_type": "execute_result",
          "data": {
            "text/html": [
              "<div>\n",
              "<style scoped>\n",
              "    .dataframe tbody tr th:only-of-type {\n",
              "        vertical-align: middle;\n",
              "    }\n",
              "\n",
              "    .dataframe tbody tr th {\n",
              "        vertical-align: top;\n",
              "    }\n",
              "\n",
              "    .dataframe thead th {\n",
              "        text-align: right;\n",
              "    }\n",
              "</style>\n",
              "<table border=\"1\" class=\"dataframe\">\n",
              "  <thead>\n",
              "    <tr style=\"text-align: right;\">\n",
              "      <th></th>\n",
              "      <th>poi_id</th>\n",
              "      <th>location_name</th>\n",
              "      <th>latitude</th>\n",
              "      <th>longitude</th>\n",
              "      <th>city</th>\n",
              "      <th>postal_code</th>\n",
              "      <th>brands</th>\n",
              "      <th>top_category</th>\n",
              "      <th>NAICS</th>\n",
              "      <th>week_number</th>\n",
              "      <th>date_start</th>\n",
              "      <th>raw_visit_counts</th>\n",
              "      <th>visits_concentration</th>\n",
              "      <th>poi_cbg</th>\n",
              "      <th>distance_from_home</th>\n",
              "      <th>median_dwell</th>\n",
              "    </tr>\n",
              "  </thead>\n",
              "  <tbody>\n",
              "    <tr>\n",
              "      <th>0</th>\n",
              "      <td>6a2d40f8-c477-49b6-a5d5-69c31f001afc</td>\n",
              "      <td>Auto Express</td>\n",
              "      <td>40.367561</td>\n",
              "      <td>-86.868565</td>\n",
              "      <td>Lafayette</td>\n",
              "      <td>47909</td>\n",
              "      <td>None</td>\n",
              "      <td>None</td>\n",
              "      <td>None</td>\n",
              "      <td>11</td>\n",
              "      <td>2020-03-16</td>\n",
              "      <td>23</td>\n",
              "      <td>510.40</td>\n",
              "      <td>181570016001</td>\n",
              "      <td>5834.0</td>\n",
              "      <td>109.0</td>\n",
              "    </tr>\n",
              "    <tr>\n",
              "      <th>1</th>\n",
              "      <td>49636347-5a9d-4bf3-9d9a-c21a4ba7d8f1</td>\n",
              "      <td>Del Real Auto Connection</td>\n",
              "      <td>40.438210</td>\n",
              "      <td>-86.859945</td>\n",
              "      <td>Lafayette</td>\n",
              "      <td>47904</td>\n",
              "      <td>None</td>\n",
              "      <td>None</td>\n",
              "      <td>None</td>\n",
              "      <td>11</td>\n",
              "      <td>2020-03-16</td>\n",
              "      <td>9</td>\n",
              "      <td>1111.11</td>\n",
              "      <td>181570003001</td>\n",
              "      <td>4914.0</td>\n",
              "      <td>21.0</td>\n",
              "    </tr>\n",
              "    <tr>\n",
              "      <th>2</th>\n",
              "      <td>d98b37cd-ed64-456c-b580-c2c299c9f6d6</td>\n",
              "      <td>Bear's Auto Sales</td>\n",
              "      <td>40.409919</td>\n",
              "      <td>-86.869882</td>\n",
              "      <td>Lafayette</td>\n",
              "      <td>47904</td>\n",
              "      <td>None</td>\n",
              "      <td>None</td>\n",
              "      <td>None</td>\n",
              "      <td>11</td>\n",
              "      <td>2020-03-16</td>\n",
              "      <td>11</td>\n",
              "      <td>1074.38</td>\n",
              "      <td>181570012001</td>\n",
              "      <td>2982.0</td>\n",
              "      <td>40.0</td>\n",
              "    </tr>\n",
              "    <tr>\n",
              "      <th>3</th>\n",
              "      <td>efb4f5e7-28c2-47be-9d47-254280b8458e</td>\n",
              "      <td>Gta Auto Sales</td>\n",
              "      <td>40.440608</td>\n",
              "      <td>-86.877960</td>\n",
              "      <td>Lafayette</td>\n",
              "      <td>47904</td>\n",
              "      <td>None</td>\n",
              "      <td>None</td>\n",
              "      <td>None</td>\n",
              "      <td>11</td>\n",
              "      <td>2020-03-16</td>\n",
              "      <td>2</td>\n",
              "      <td>5000.00</td>\n",
              "      <td>181570001002</td>\n",
              "      <td>0.0</td>\n",
              "      <td>171.0</td>\n",
              "    </tr>\n",
              "    <tr>\n",
              "      <th>4</th>\n",
              "      <td>16f4e696-2065-4854-8ba6-a8cab2b67bf7</td>\n",
              "      <td>Steve Firestone Auto Sales</td>\n",
              "      <td>40.439060</td>\n",
              "      <td>-86.880571</td>\n",
              "      <td>Lafayette</td>\n",
              "      <td>47904</td>\n",
              "      <td>None</td>\n",
              "      <td>None</td>\n",
              "      <td>None</td>\n",
              "      <td>11</td>\n",
              "      <td>2020-03-16</td>\n",
              "      <td>22</td>\n",
              "      <td>495.87</td>\n",
              "      <td>181570001002</td>\n",
              "      <td>2809.0</td>\n",
              "      <td>117.0</td>\n",
              "    </tr>\n",
              "  </tbody>\n",
              "</table>\n",
              "</div>"
            ],
            "text/plain": [
              "                                 poi_id               location_name  \\\n",
              "0  6a2d40f8-c477-49b6-a5d5-69c31f001afc                Auto Express   \n",
              "1  49636347-5a9d-4bf3-9d9a-c21a4ba7d8f1    Del Real Auto Connection   \n",
              "2  d98b37cd-ed64-456c-b580-c2c299c9f6d6           Bear's Auto Sales   \n",
              "3  efb4f5e7-28c2-47be-9d47-254280b8458e              Gta Auto Sales   \n",
              "4  16f4e696-2065-4854-8ba6-a8cab2b67bf7  Steve Firestone Auto Sales   \n",
              "\n",
              "    latitude  longitude       city  postal_code brands top_category NAICS  \\\n",
              "0  40.367561 -86.868565  Lafayette        47909   None         None  None   \n",
              "1  40.438210 -86.859945  Lafayette        47904   None         None  None   \n",
              "2  40.409919 -86.869882  Lafayette        47904   None         None  None   \n",
              "3  40.440608 -86.877960  Lafayette        47904   None         None  None   \n",
              "4  40.439060 -86.880571  Lafayette        47904   None         None  None   \n",
              "\n",
              "   week_number  date_start  raw_visit_counts  visits_concentration  \\\n",
              "0           11  2020-03-16                23                510.40   \n",
              "1           11  2020-03-16                 9               1111.11   \n",
              "2           11  2020-03-16                11               1074.38   \n",
              "3           11  2020-03-16                 2               5000.00   \n",
              "4           11  2020-03-16                22                495.87   \n",
              "\n",
              "        poi_cbg  distance_from_home  median_dwell  \n",
              "0  181570016001              5834.0         109.0  \n",
              "1  181570003001              4914.0          21.0  \n",
              "2  181570012001              2982.0          40.0  \n",
              "3  181570001002                 0.0         171.0  \n",
              "4  181570001002              2809.0         117.0  "
            ]
          },
          "metadata": {
            "tags": []
          },
          "execution_count": 52
        }
      ]
    },
    {
      "cell_type": "code",
      "metadata": {
        "id": "ykUnNjb4sJSr"
      },
      "source": [
        "poi_names = np.unique(data['poi_id'].to_numpy())\n",
        "raw_rows = data['poi_id'].to_numpy()\n",
        "poi_id = []\n",
        "for r in raw_rows:    \n",
        "    poi_id.append(np.where(poi_names==r)[0][0])"
      ],
      "execution_count": null,
      "outputs": []
    },
    {
      "cell_type": "code",
      "metadata": {
        "id": "aLRZNO0ZsJSr"
      },
      "source": [
        "raw_counts=data[['raw_visit_counts']].to_numpy()\n",
        "week_number=data[['week_number']].to_numpy()\n",
        "\n",
        "week_start = 11\n",
        "number_poi = len(poi_names)\n",
        "number_weeks = 44-week_start\n",
        "visit_mat = np.zeros((number_poi,number_weeks))\n",
        "for i in np.arange(len(raw_rows)):\n",
        "    visit_mat[poi_id[i],week_number[i]-week_start]=raw_counts[i]"
      ],
      "execution_count": null,
      "outputs": []
    },
    {
      "cell_type": "code",
      "metadata": {
        "id": "NvOIh4cosJSr"
      },
      "source": [
        "# linear regression\n",
        "window_size = 14\n",
        "X=np.ones((number_poi*(number_weeks-window_size),window_size+1))\n",
        "y=np.zeros((number_poi*(number_weeks-window_size),1))\n",
        "X_pred = np.ones((number_poi,window_size+1))\n",
        "i = 0\n",
        "i_poi = 0\n",
        "for visit_ in visit_mat:\n",
        "    for j in np.arange(44-week_start-window_size):\n",
        "        X[i,:-1]=visit_[j:(j+window_size)]\n",
        "        y[i] = visit_[(j+window_size)]\n",
        "        i = i + 1\n",
        "    j = j + 1\n",
        "    X_pred[i_poi,:-1] = visit_[j:(j+window_size)]\n",
        "    i_poi = i_poi + 1\n",
        "    "
      ],
      "execution_count": null,
      "outputs": []
    },
    {
      "cell_type": "code",
      "metadata": {
        "id": "5p62U2ThsJSs",
        "outputId": "aa3965d6-9cfe-4ffd-8167-74008cb4aa33"
      },
      "source": [
        "visit_[(j+window_size)]"
      ],
      "execution_count": null,
      "outputs": [
        {
          "output_type": "execute_result",
          "data": {
            "text/plain": [
              "24.0"
            ]
          },
          "metadata": {
            "tags": []
          },
          "execution_count": 86
        }
      ]
    },
    {
      "cell_type": "code",
      "metadata": {
        "id": "IRSr0_jmsJSs",
        "outputId": "e4b555a2-81c0-4d95-a17c-11934a9ff79e"
      },
      "source": [
        "visit_[j:(j+window_size)]"
      ],
      "execution_count": null,
      "outputs": [
        {
          "output_type": "execute_result",
          "data": {
            "text/plain": [
              "array([ 4., 10., 17., 18.,  9.,  9., 11., 14., 23., 10.,  7.,  9., 15.,\n",
              "       10.])"
            ]
          },
          "metadata": {
            "tags": []
          },
          "execution_count": 87
        }
      ]
    },
    {
      "cell_type": "code",
      "metadata": {
        "id": "yz9DOyUNsJSt",
        "outputId": "7036acf8-4ea7-44a9-b6f6-e2399f0fe4c1"
      },
      "source": [
        "visit_"
      ],
      "execution_count": null,
      "outputs": [
        {
          "output_type": "execute_result",
          "data": {
            "text/plain": [
              "array([20.,  8.,  9., 10.,  9.,  3.,  6.,  0.,  0., 14., 15., 11., 12.,\n",
              "       10., 12.,  8.,  9., 15.,  4., 10., 17., 18.,  9.,  9., 11., 14.,\n",
              "       23., 10.,  7.,  9., 15., 10., 24.])"
            ]
          },
          "metadata": {
            "tags": []
          },
          "execution_count": 89
        }
      ]
    },
    {
      "cell_type": "code",
      "metadata": {
        "id": "H9M9vGG5sJSt",
        "outputId": "77355597-90cd-4c9a-a396-acc39ee009de"
      },
      "source": [
        "X"
      ],
      "execution_count": null,
      "outputs": [
        {
          "output_type": "execute_result",
          "data": {
            "text/plain": [
              "array([[13., 11.,  5., ...,  1.,  0.,  1.],\n",
              "       [11.,  5.,  5., ...,  0.,  0.,  1.],\n",
              "       [ 5.,  5.,  5., ...,  0.,  2.,  1.],\n",
              "       ...,\n",
              "       [ 9., 15.,  4., ...,  7.,  9.,  1.],\n",
              "       [15.,  4., 10., ...,  9., 15.,  1.],\n",
              "       [ 4., 10., 17., ..., 15., 10.,  1.]])"
            ]
          },
          "metadata": {
            "tags": []
          },
          "execution_count": 88
        }
      ]
    },
    {
      "cell_type": "code",
      "metadata": {
        "id": "0tRiGF_vsJSt",
        "outputId": "413f9b81-8f18-470f-e88e-ec967f166f12"
      },
      "source": [
        "y"
      ],
      "execution_count": null,
      "outputs": [
        {
          "output_type": "execute_result",
          "data": {
            "text/plain": [
              "array([[ 0.],\n",
              "       [ 2.],\n",
              "       [10.],\n",
              "       ...,\n",
              "       [15.],\n",
              "       [10.],\n",
              "       [24.]])"
            ]
          },
          "metadata": {
            "tags": []
          },
          "execution_count": 90
        }
      ]
    },
    {
      "cell_type": "code",
      "metadata": {
        "id": "h6jroUNNsJSu",
        "outputId": "a333b0fb-0087-4289-9700-18bde2438537"
      },
      "source": [
        "X_pred"
      ],
      "execution_count": null,
      "outputs": [
        {
          "output_type": "execute_result",
          "data": {
            "text/plain": [
              "array([[  2.,  11.,  11., ...,   2.,   7.,   1.],\n",
              "       [ 23.,  13.,   7., ...,  37.,   8.,   1.],\n",
              "       [162., 181., 191., ..., 186., 199.,   1.],\n",
              "       ...,\n",
              "       [ 58., 125., 167., ..., 129., 144.,   1.],\n",
              "       [ 32.,  43.,  52., ...,   5.,   9.,   1.],\n",
              "       [ 10.,  17.,  18., ...,  10.,  24.,   1.]])"
            ]
          },
          "metadata": {
            "tags": []
          },
          "execution_count": 99
        }
      ]
    },
    {
      "cell_type": "code",
      "metadata": {
        "id": "D34uqm0DsJSv",
        "outputId": "debc5619-494e-4486-d6dd-a084806649f5"
      },
      "source": [
        "visit_[j:(j+window_size)]"
      ],
      "execution_count": null,
      "outputs": [
        {
          "output_type": "execute_result",
          "data": {
            "text/plain": [
              "array([15.,  4., 10., 17., 18.,  9.,  9., 11., 14., 23., 10.,  7.,  9.,\n",
              "       15.])"
            ]
          },
          "metadata": {
            "tags": []
          },
          "execution_count": 81
        }
      ]
    },
    {
      "cell_type": "code",
      "metadata": {
        "id": "MV01GGRSsJSx",
        "outputId": "3172c818-746b-458a-bcf8-44029fa91beb"
      },
      "source": [
        "coefs=np.matmul(np.linalg.inv(np.matmul(X.transpose(),X)),np.matmul(X.transpose(),y))\n",
        "coefs"
      ],
      "execution_count": null,
      "outputs": [
        {
          "output_type": "execute_result",
          "data": {
            "text/plain": [
              "array([[-0.06645172],\n",
              "       [ 0.02998943],\n",
              "       [-0.02052899],\n",
              "       [ 0.05837486],\n",
              "       [ 0.05167519],\n",
              "       [-0.04378785],\n",
              "       [ 0.12189246],\n",
              "       [-0.1263129 ],\n",
              "       [ 0.02157328],\n",
              "       [ 0.00343472],\n",
              "       [-0.02438314],\n",
              "       [ 0.08986623],\n",
              "       [-0.11252987],\n",
              "       [ 1.00099629],\n",
              "       [ 3.17919007]])"
            ]
          },
          "metadata": {
            "tags": []
          },
          "execution_count": 92
        }
      ]
    },
    {
      "cell_type": "code",
      "metadata": {
        "id": "GBp4MBvWsJSy",
        "outputId": "2a038f8e-0a66-44fd-9f12-638b34ac2b40"
      },
      "source": [
        "len(poi_names)"
      ],
      "execution_count": null,
      "outputs": [
        {
          "output_type": "execute_result",
          "data": {
            "text/plain": [
              "1804"
            ]
          },
          "metadata": {
            "tags": []
          },
          "execution_count": 15
        }
      ]
    },
    {
      "cell_type": "code",
      "metadata": {
        "id": "dIO0uVEWsJSy",
        "outputId": "c26f7744-e8b2-4586-875b-5d2ab8b75973"
      },
      "source": [
        "y_pred=np.matmul(X_pred,coefs)\n",
        "len(y_pred)"
      ],
      "execution_count": null,
      "outputs": [
        {
          "output_type": "execute_result",
          "data": {
            "text/plain": [
              "1804"
            ]
          },
          "metadata": {
            "tags": []
          },
          "execution_count": 102
        }
      ]
    },
    {
      "cell_type": "markdown",
      "metadata": {
        "id": "XCCXW6UWsJSz"
      },
      "source": [
        "## Analysis\n",
        "---"
      ]
    },
    {
      "cell_type": "code",
      "metadata": {
        "id": "Sk8G2T_dsJSz"
      },
      "source": [
        "example_function()"
      ],
      "execution_count": null,
      "outputs": []
    },
    {
      "cell_type": "markdown",
      "metadata": {
        "id": "s-lwmTF_sJS0"
      },
      "source": [
        "## Results\n",
        "---\n",
        "\n",
        "This section may not be necessary for you individual notebook, but if you've created nice charts or tables you can present them together with some explanation in section. In addition if you have any comments or thoughts about what you would like to do or items that are still in progress you can summarize them at the bottom of the page."
      ]
    },
    {
      "cell_type": "code",
      "metadata": {
        "id": "aEetVl7csJS0"
      },
      "source": [
        "## This can also be a good place for you to cleanup any input/output and export your results to a file."
      ],
      "execution_count": null,
      "outputs": []
    },
    {
      "cell_type": "code",
      "metadata": {
        "id": "X1vR4lY1sJS0"
      },
      "source": [
        "import pandas as pd \n",
        "df=pd.DataFrame(y_pred)\n",
        "df['poi_id']=poi_names\n",
        "df=df.rename(columns={0: \"raw_visit_counts\"})\n",
        "\n",
        "df=df[['poi_id','raw_visit_counts']]\n",
        "df.to_csv('submission_prediction_output.csv',index=False)"
      ],
      "execution_count": null,
      "outputs": []
    }
  ]
}