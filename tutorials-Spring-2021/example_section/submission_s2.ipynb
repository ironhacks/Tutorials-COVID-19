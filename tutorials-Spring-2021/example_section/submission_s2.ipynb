{
 "metadata": {
  "language_info": {
   "codemirror_mode": {
    "name": "ipython",
    "version": 3
   },
   "file_extension": ".py",
   "mimetype": "text/x-python",
   "name": "python",
   "nbconvert_exporter": "python",
   "pygments_lexer": "ipython3",
   "version": 3
  },
  "orig_nbformat": 2
 },
 "nbformat": 4,
 "nbformat_minor": 2,
 "cells": [
  {
   "source": [
    "## Summary of Submission 2\n",
    "After exploring the data, there are some POIs with no more than 5 weeks of data. Prediction for those POIs could be different than other POIs that have more data. As for the POIs with fewer data, linear models are selected to be compared. As a result, a KNN model is selected for prediction. The model only takes raw_visit_counts as the input and treat ween_number as X and the counts as Y. Train KNN models for each POI with n_neighbors=2. Calculate the prediction result for week 40-43 and the average MAE is less than 10.  Adopt the model to all POIs just for testing."
   ],
   "cell_type": "markdown",
   "metadata": {}
  }
 ]
}