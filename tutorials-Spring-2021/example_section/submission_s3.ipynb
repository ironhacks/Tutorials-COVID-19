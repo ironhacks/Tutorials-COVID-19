{
 "metadata": {
  "language_info": {
   "codemirror_mode": {
    "name": "ipython",
    "version": 3
   },
   "file_extension": ".py",
   "mimetype": "text/x-python",
   "name": "python",
   "nbconvert_exporter": "python",
   "pygments_lexer": "ipython3",
   "version": 3
  },
  "orig_nbformat": 2
 },
 "nbformat": 4,
 "nbformat_minor": 2,
 "cells": [
  {
   "source": [
    "## Summary of Submission 3\n",
    "For this submission, I used the decision tree model. For the variables, I used top_category and raw_visit_counts, I also added a new column counting down the days when school starts. In order to run the model, I turned the table into a format where I put every single category and location_id into their own column and each row has a different raw_visit_counts. Then I ran the ridge, lasso, decision tree, random forest, and gradient models and compared the testing score and cross-validation scores for each model and found that the decision tree has the highest score out of all of them. So I used the decision tree model to predict week 44's raw_visit_counts. For tomorrow, I will be trying to clean the data in executive_orders and covid19_cases and feed them into the decision tree to see if the prediction score would increase.\n"
   ],
   "cell_type": "markdown",
   "metadata": {}
  }
 ]
}