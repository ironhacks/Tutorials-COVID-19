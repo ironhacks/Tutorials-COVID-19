{
  "nbformat": 4,
  "nbformat_minor": 0,
  "metadata": {
    "kernelspec": {
      "display_name": "Python 3",
      "language": "python",
      "name": "python3"
    },
    "language_info": {
      "codemirror_mode": {
        "name": "ipython",
        "version": 3
      },
      "file_extension": ".py",
      "mimetype": "text/x-python",
      "name": "python",
      "nbconvert_exporter": "python",
      "pygments_lexer": "ipython3",
      "version": "3.8.5"
    },
    "colab": {
      "name": "submission_prediction_output.ipynb",
      "provenance": []
    }
  },
  "cells": [
    {
      "cell_type": "markdown",
      "metadata": {
        "id": "iW71I0EyrQ5P"
      },
      "source": [
        "# COVID-19 Data Science Challenge Protect Purdue: Predicting social crowding in Tippecanoe county"
      ]
    },
    {
      "cell_type": "markdown",
      "metadata": {
        "id": "aF7Q6q21rQ5V"
      },
      "source": [
        "# Background\n",
        "\n",
        "\n",
        "This information has been deleted by the IronHacks Team"
      ]
    },
    {
      "cell_type": "markdown",
      "metadata": {
        "id": "Xv0Ei3n1rQ5W"
      },
      "source": [
        "# Log, imports, and config file"
      ]
    },
    {
      "cell_type": "code",
      "metadata": {
        "id": "dhXK9WW3rQ5W"
      },
      "source": [
        "\n",
        "%logstop\n",
        "%logstart -t -r -q ipython_command_log.py global\n",
        "\n",
        "#- IRONHACKS RESEARCH TRACKING CODE\n",
        "#----------------------------------\n",
        "# The following code is used to help our research team understand how you \n",
        "# our notebook environment. We do not collect any personal information with\n",
        "# the following code, it is used to measure when and how often you work on\n",
        "# your submission files.\n",
        "\n",
        "import os\n",
        "from datetime import datetime\n",
        "import IPython.core.history as history\n",
        "\n",
        "ha = history.HistoryAccessor()\n",
        "ha_tail = ha.get_tail(1)\n",
        "ha_cmd = next(ha_tail)\n",
        "session_id = str(ha_cmd[0])\n",
        "command_id = str(ha_cmd[1])\n",
        "timestamp = datetime.utcnow().isoformat()\n",
        "history_line = ','.join([session_id, command_id, timestamp]) + '\\n'\n",
        "logfile = open(os.environ['HOME']+'/ipython_session_log.csv', 'a')\n",
        "logfile.write(history_line)\n",
        "logfile.close()"
      ],
      "execution_count": null,
      "outputs": []
    },
    {
      "cell_type": "code",
      "metadata": {
        "id": "Ij1Q5pHyrQ5X"
      },
      "source": [
        "import os\n",
        "import pandas as pd\n",
        "import numpy as np\n",
        "import matplotlib.pyplot as plt\n",
        "import warnings\n",
        "warnings.filterwarnings('ignore')\n",
        "\n",
        "from google.cloud import bigquery\n",
        "from google.oauth2 import service_account\n",
        "from google.cloud.bigquery import magics"
      ],
      "execution_count": null,
      "outputs": []
    },
    {
      "cell_type": "code",
      "metadata": {
        "id": "1KGQSGO4rQ5Y"
      },
      "source": [
        "os.environ['GOOGLE_APPLICATION_CREDENTIALS'] ='key.json'\n",
        "bigquery_client = bigquery.Client(project='ironhacks-covid19-data')"
      ],
      "execution_count": null,
      "outputs": []
    },
    {
      "cell_type": "markdown",
      "metadata": {
        "id": "LfdM9vvjrQ5Y"
      },
      "source": [
        "### Database tables:\n",
        "* ironhacks-covid19-data.ironhacks_covid19_competition.weekly_patterns\n",
        "* ironhacks-covid19-data.ironhacks_covid19_competition.mobility_graph\n",
        "* ironhacks-covid19-data.ironhacks_covid19_competition.cbg_social_distancing\n",
        "* ironhacks-covid19-data.ironhacks_covid19_competition.covid19_cases\n",
        "* ironhacks-covid19-data.ironhacks_covid19_competition.executive_orders\n",
        "* ironhacks-covid19-data.ironhacks_covid19_competition.prediction_list_poi"
      ]
    },
    {
      "cell_type": "markdown",
      "metadata": {
        "id": "YNCByaaYrQ5Y"
      },
      "source": [
        "# Data visualization"
      ]
    },
    {
      "cell_type": "markdown",
      "metadata": {
        "id": "fMBZn35wrQ5Y"
      },
      "source": [
        "### SQL table: weekly_patterns\n",
        "\n",
        "Query and plot the number of data entries for each week."
      ]
    },
    {
      "cell_type": "code",
      "metadata": {
        "id": "9CXjUTFprQ5Z",
        "outputId": "61318526-052e-43a6-be6b-d872c93bb448"
      },
      "source": [
        "QUERY = \"\"\"\n",
        "SELECT week_number, Count(*) as count\n",
        "FROM ironhacks-covid19-data.ironhacks_covid19_competition.weekly_patterns\n",
        "GROUP BY week_number\n",
        "ORDER BY week_number\n",
        "\"\"\"\n",
        "query_job = bigquery_client.query(QUERY)\n",
        "week_number_count = query_job.to_dataframe()\n",
        "week_number_count.head(10)"
      ],
      "execution_count": null,
      "outputs": [
        {
          "output_type": "execute_result",
          "data": {
            "text/html": [
              "<div>\n",
              "<style scoped>\n",
              "    .dataframe tbody tr th:only-of-type {\n",
              "        vertical-align: middle;\n",
              "    }\n",
              "\n",
              "    .dataframe tbody tr th {\n",
              "        vertical-align: top;\n",
              "    }\n",
              "\n",
              "    .dataframe thead th {\n",
              "        text-align: right;\n",
              "    }\n",
              "</style>\n",
              "<table border=\"1\" class=\"dataframe\">\n",
              "  <thead>\n",
              "    <tr style=\"text-align: right;\">\n",
              "      <th></th>\n",
              "      <th>week_number</th>\n",
              "      <th>count</th>\n",
              "    </tr>\n",
              "  </thead>\n",
              "  <tbody>\n",
              "    <tr>\n",
              "      <th>0</th>\n",
              "      <td>11</td>\n",
              "      <td>1612</td>\n",
              "    </tr>\n",
              "    <tr>\n",
              "      <th>1</th>\n",
              "      <td>12</td>\n",
              "      <td>1578</td>\n",
              "    </tr>\n",
              "    <tr>\n",
              "      <th>2</th>\n",
              "      <td>13</td>\n",
              "      <td>1564</td>\n",
              "    </tr>\n",
              "    <tr>\n",
              "      <th>3</th>\n",
              "      <td>14</td>\n",
              "      <td>1571</td>\n",
              "    </tr>\n",
              "    <tr>\n",
              "      <th>4</th>\n",
              "      <td>15</td>\n",
              "      <td>1548</td>\n",
              "    </tr>\n",
              "    <tr>\n",
              "      <th>5</th>\n",
              "      <td>16</td>\n",
              "      <td>1571</td>\n",
              "    </tr>\n",
              "    <tr>\n",
              "      <th>6</th>\n",
              "      <td>17</td>\n",
              "      <td>1585</td>\n",
              "    </tr>\n",
              "    <tr>\n",
              "      <th>7</th>\n",
              "      <td>20</td>\n",
              "      <td>1616</td>\n",
              "    </tr>\n",
              "    <tr>\n",
              "      <th>8</th>\n",
              "      <td>21</td>\n",
              "      <td>1612</td>\n",
              "    </tr>\n",
              "    <tr>\n",
              "      <th>9</th>\n",
              "      <td>22</td>\n",
              "      <td>1623</td>\n",
              "    </tr>\n",
              "  </tbody>\n",
              "</table>\n",
              "</div>"
            ],
            "text/plain": [
              "   week_number  count\n",
              "0           11   1612\n",
              "1           12   1578\n",
              "2           13   1564\n",
              "3           14   1571\n",
              "4           15   1548\n",
              "5           16   1571\n",
              "6           17   1585\n",
              "7           20   1616\n",
              "8           21   1612\n",
              "9           22   1623"
            ]
          },
          "metadata": {
            "tags": []
          },
          "execution_count": 4
        }
      ]
    },
    {
      "cell_type": "code",
      "metadata": {
        "id": "i0a_qIH8rQ5a",
        "outputId": "fb417a52-21c5-47f3-d7fa-cb639e7bc5fe"
      },
      "source": [
        "## fill the missing weeks' data with 0\n",
        "week_number_count_array = np.insert(week_number_count.to_numpy(), 7, np.array([[18, 0],[19,0]]), axis=0)\n",
        "# draw a bar plot\n",
        "week_number = week_number_count_array[:,0]\n",
        "week_count = week_number_count_array[:,1]\n",
        "plt.figure(figsize=(12,8))\n",
        "plt.barh(week_number, week_count)\n",
        "plt.yticks(week_number)\n",
        "plt.ylabel(\"Week number\")\n",
        "plt.xlabel(\"Number of Data Entries\")\n",
        "for i, v in enumerate(week_count):\n",
        "    plt.text(v + 15, i + 10.7, str(v))\n",
        "plt.show()"
      ],
      "execution_count": null,
      "outputs": [
        {
          "output_type": "display_data",
          "data": {
            "image/png": "[encoded data removed]",
            "text/plain": [
              "<Figure size 864x576 with 1 Axes>"
            ]
          },
          "metadata": {
            "tags": [],
            "needs_background": "light"
          }
        }
      ]
    },
    {
      "cell_type": "markdown",
      "metadata": {
        "id": "eMDCo-NgrQ5a"
      },
      "source": [
        "The query result shows that week 18, and week 19 data are missing. Week 40, 41, 42, 43 have 1804 entries, which are the most. Therefore, use the week 40 data to furture explore the data."
      ]
    },
    {
      "cell_type": "code",
      "metadata": {
        "id": "se4_IwQarQ5b",
        "outputId": "00439708-f973-40a8-e673-e3d9cc7f67f6"
      },
      "source": [
        "QUERY = \"\"\"\n",
        "SELECT Count(DISTINCT(poi_id)) as N_POI\n",
        "FROM ironhacks-covid19-data.ironhacks_covid19_competition.weekly_patterns\n",
        "WHERE week_number = 40\n",
        "\"\"\"\n",
        "query_job = bigquery_client.query(QUERY)\n",
        "week_40_count = query_job.to_dataframe()\n",
        "week_40_count"
      ],
      "execution_count": null,
      "outputs": [
        {
          "output_type": "execute_result",
          "data": {
            "text/html": [
              "<div>\n",
              "<style scoped>\n",
              "    .dataframe tbody tr th:only-of-type {\n",
              "        vertical-align: middle;\n",
              "    }\n",
              "\n",
              "    .dataframe tbody tr th {\n",
              "        vertical-align: top;\n",
              "    }\n",
              "\n",
              "    .dataframe thead th {\n",
              "        text-align: right;\n",
              "    }\n",
              "</style>\n",
              "<table border=\"1\" class=\"dataframe\">\n",
              "  <thead>\n",
              "    <tr style=\"text-align: right;\">\n",
              "      <th></th>\n",
              "      <th>N_POI</th>\n",
              "    </tr>\n",
              "  </thead>\n",
              "  <tbody>\n",
              "    <tr>\n",
              "      <th>0</th>\n",
              "      <td>1804</td>\n",
              "    </tr>\n",
              "  </tbody>\n",
              "</table>\n",
              "</div>"
            ],
            "text/plain": [
              "   N_POI\n",
              "0   1804"
            ]
          },
          "metadata": {
            "tags": []
          },
          "execution_count": 6
        }
      ]
    },
    {
      "cell_type": "markdown",
      "metadata": {
        "id": "ntU0agQprQ5b"
      },
      "source": [
        "Using _DISTINCT_ to count the number of unique POIs recorded in __week 40__ and the result indicates that all 1804 data entries are from different POIs, respectively."
      ]
    },
    {
      "cell_type": "markdown",
      "metadata": {
        "id": "qIH2GI3ErQ5b"
      },
      "source": [
        "## Choose data from week 40 to explore the POI's information \n",
        "### City"
      ]
    },
    {
      "cell_type": "code",
      "metadata": {
        "id": "yPvve-qDrQ5b",
        "outputId": "19fc533c-53e6-4b1a-eb7b-37fa8bda7123"
      },
      "source": [
        "QUERY = \"\"\"\n",
        "SELECT city, Count(1) as N_city\n",
        "FROM ironhacks-covid19-data.ironhacks_covid19_competition.weekly_patterns\n",
        "WHERE week_number = 40\n",
        "GROUP BY city\n",
        "ORDER BY N_city DESC\n",
        "\"\"\"\n",
        "query_job = bigquery_client.query(QUERY)\n",
        "week_40_city_count = query_job.to_dataframe()\n",
        "week_40_city_count"
      ],
      "execution_count": null,
      "outputs": [
        {
          "output_type": "execute_result",
          "data": {
            "text/html": [
              "<div>\n",
              "<style scoped>\n",
              "    .dataframe tbody tr th:only-of-type {\n",
              "        vertical-align: middle;\n",
              "    }\n",
              "\n",
              "    .dataframe tbody tr th {\n",
              "        vertical-align: top;\n",
              "    }\n",
              "\n",
              "    .dataframe thead th {\n",
              "        text-align: right;\n",
              "    }\n",
              "</style>\n",
              "<table border=\"1\" class=\"dataframe\">\n",
              "  <thead>\n",
              "    <tr style=\"text-align: right;\">\n",
              "      <th></th>\n",
              "      <th>city</th>\n",
              "      <th>N_city</th>\n",
              "    </tr>\n",
              "  </thead>\n",
              "  <tbody>\n",
              "    <tr>\n",
              "      <th>0</th>\n",
              "      <td>Lafayette</td>\n",
              "      <td>1254</td>\n",
              "    </tr>\n",
              "    <tr>\n",
              "      <th>1</th>\n",
              "      <td>West Lafayette</td>\n",
              "      <td>474</td>\n",
              "    </tr>\n",
              "    <tr>\n",
              "      <th>2</th>\n",
              "      <td>Battle Ground</td>\n",
              "      <td>20</td>\n",
              "    </tr>\n",
              "    <tr>\n",
              "      <th>3</th>\n",
              "      <td>Dayton</td>\n",
              "      <td>14</td>\n",
              "    </tr>\n",
              "    <tr>\n",
              "      <th>4</th>\n",
              "      <td>Shadeland</td>\n",
              "      <td>8</td>\n",
              "    </tr>\n",
              "    <tr>\n",
              "      <th>5</th>\n",
              "      <td>Romney</td>\n",
              "      <td>7</td>\n",
              "    </tr>\n",
              "    <tr>\n",
              "      <th>6</th>\n",
              "      <td>West Point</td>\n",
              "      <td>7</td>\n",
              "    </tr>\n",
              "    <tr>\n",
              "      <th>7</th>\n",
              "      <td>Stockwell</td>\n",
              "      <td>5</td>\n",
              "    </tr>\n",
              "    <tr>\n",
              "      <th>8</th>\n",
              "      <td>Americus</td>\n",
              "      <td>5</td>\n",
              "    </tr>\n",
              "    <tr>\n",
              "      <th>9</th>\n",
              "      <td>Clarks Hill</td>\n",
              "      <td>3</td>\n",
              "    </tr>\n",
              "    <tr>\n",
              "      <th>10</th>\n",
              "      <td>Buck Creek</td>\n",
              "      <td>2</td>\n",
              "    </tr>\n",
              "    <tr>\n",
              "      <th>11</th>\n",
              "      <td>Westpoint</td>\n",
              "      <td>2</td>\n",
              "    </tr>\n",
              "    <tr>\n",
              "      <th>12</th>\n",
              "      <td>W Lafayette</td>\n",
              "      <td>1</td>\n",
              "    </tr>\n",
              "    <tr>\n",
              "      <th>13</th>\n",
              "      <td>La Fayette</td>\n",
              "      <td>1</td>\n",
              "    </tr>\n",
              "    <tr>\n",
              "      <th>14</th>\n",
              "      <td>Otterbein</td>\n",
              "      <td>1</td>\n",
              "    </tr>\n",
              "  </tbody>\n",
              "</table>\n",
              "</div>"
            ],
            "text/plain": [
              "              city  N_city\n",
              "0        Lafayette    1254\n",
              "1   West Lafayette     474\n",
              "2    Battle Ground      20\n",
              "3           Dayton      14\n",
              "4        Shadeland       8\n",
              "5           Romney       7\n",
              "6       West Point       7\n",
              "7        Stockwell       5\n",
              "8         Americus       5\n",
              "9      Clarks Hill       3\n",
              "10      Buck Creek       2\n",
              "11       Westpoint       2\n",
              "12     W Lafayette       1\n",
              "13      La Fayette       1\n",
              "14       Otterbein       1"
            ]
          },
          "metadata": {
            "tags": []
          },
          "execution_count": 7
        }
      ]
    },
    {
      "cell_type": "code",
      "metadata": {
        "id": "sPylq4fVrQ5c"
      },
      "source": [
        "city_count = {}\n",
        "for i in range(len(week_40_city_count)):\n",
        "    if(week_40_city_count[\"city\"][i] == \"W Lafayette\"):\n",
        "        city_count[\"West Lafayette\"] += week_40_city_count[\"N_city\"][i]\n",
        "    elif(week_40_city_count[\"city\"][i] == \"La Fayette\"):\n",
        "        city_count[\"Lafayette\"] += week_40_city_count[\"N_city\"][i]\n",
        "    else:\n",
        "        city_count[week_40_city_count[\"city\"][i]] = week_40_city_count[\"N_city\"][i]"
      ],
      "execution_count": null,
      "outputs": []
    },
    {
      "cell_type": "code",
      "metadata": {
        "id": "WHVGOheirQ5c",
        "outputId": "4727daaa-c19b-4d5b-8371-69a795409864"
      },
      "source": [
        "city_label = list(city_count.keys())[::-1]\n",
        "city_poi_count = list(city_count.values())[::-1]\n",
        "plt.figure(figsize=(12,8))\n",
        "plt.barh(city_label, city_poi_count)\n",
        "plt.yticks(city_label)\n",
        "plt.ylabel(\"City\")\n",
        "plt.xlabel(\"Number of POIs\")\n",
        "for i, v in enumerate(city_poi_count):\n",
        "    plt.text(v + 10, i, str(v))\n",
        "plt.show()"
      ],
      "execution_count": null,
      "outputs": [
        {
          "output_type": "display_data",
          "data": {
            "image/png": "[encoded data removed]",
            "text/plain": [
              "<Figure size 864x576 with 1 Axes>"
            ]
          },
          "metadata": {
            "tags": [],
            "needs_background": "light"
          }
        }
      ]
    },
    {
      "cell_type": "markdown",
      "metadata": {
        "id": "TyxrsRCZrQ5c"
      },
      "source": [
        "By count the POI numbers inside each city, the bar plot result shows that Lafayette has the most number of POIs, which is 1255. West lafayette ranks second place with 475 POIs. Other cities fall far behind those two cities. This can be served as a __Categorical Feature__."
      ]
    },
    {
      "cell_type": "markdown",
      "metadata": {
        "id": "QAiACrKcrQ5c"
      },
      "source": [
        "### Postal_code"
      ]
    },
    {
      "cell_type": "code",
      "metadata": {
        "id": "AEuyyV2irQ5d",
        "outputId": "ba261181-4180-4434-c124-657731e5a1ec"
      },
      "source": [
        "QUERY = \"\"\"\n",
        "SELECT postal_code, Count(1) as N_postal\n",
        "FROM ironhacks-covid19-data.ironhacks_covid19_competition.weekly_patterns\n",
        "WHERE week_number = 40\n",
        "GROUP BY postal_code\n",
        "ORDER BY N_postal DESC\n",
        "\"\"\"\n",
        "query_job = bigquery_client.query(QUERY)\n",
        "week_40_post_code_count = query_job.to_dataframe()\n",
        "week_40_post_code_count"
      ],
      "execution_count": null,
      "outputs": [
        {
          "output_type": "execute_result",
          "data": {
            "text/html": [
              "<div>\n",
              "<style scoped>\n",
              "    .dataframe tbody tr th:only-of-type {\n",
              "        vertical-align: middle;\n",
              "    }\n",
              "\n",
              "    .dataframe tbody tr th {\n",
              "        vertical-align: top;\n",
              "    }\n",
              "\n",
              "    .dataframe thead th {\n",
              "        text-align: right;\n",
              "    }\n",
              "</style>\n",
              "<table border=\"1\" class=\"dataframe\">\n",
              "  <thead>\n",
              "    <tr style=\"text-align: right;\">\n",
              "      <th></th>\n",
              "      <th>postal_code</th>\n",
              "      <th>N_postal</th>\n",
              "    </tr>\n",
              "  </thead>\n",
              "  <tbody>\n",
              "    <tr>\n",
              "      <th>0</th>\n",
              "      <td>47905</td>\n",
              "      <td>651</td>\n",
              "    </tr>\n",
              "    <tr>\n",
              "      <th>1</th>\n",
              "      <td>47906</td>\n",
              "      <td>446</td>\n",
              "    </tr>\n",
              "    <tr>\n",
              "      <th>2</th>\n",
              "      <td>47904</td>\n",
              "      <td>296</td>\n",
              "    </tr>\n",
              "    <tr>\n",
              "      <th>3</th>\n",
              "      <td>47909</td>\n",
              "      <td>204</td>\n",
              "    </tr>\n",
              "    <tr>\n",
              "      <th>4</th>\n",
              "      <td>47901</td>\n",
              "      <td>126</td>\n",
              "    </tr>\n",
              "    <tr>\n",
              "      <th>5</th>\n",
              "      <td>47907</td>\n",
              "      <td>37</td>\n",
              "    </tr>\n",
              "    <tr>\n",
              "      <th>6</th>\n",
              "      <td>47920</td>\n",
              "      <td>13</td>\n",
              "    </tr>\n",
              "    <tr>\n",
              "      <th>7</th>\n",
              "      <td>47992</td>\n",
              "      <td>9</td>\n",
              "    </tr>\n",
              "    <tr>\n",
              "      <th>8</th>\n",
              "      <td>47941</td>\n",
              "      <td>8</td>\n",
              "    </tr>\n",
              "    <tr>\n",
              "      <th>9</th>\n",
              "      <td>47981</td>\n",
              "      <td>7</td>\n",
              "    </tr>\n",
              "    <tr>\n",
              "      <th>10</th>\n",
              "      <td>47930</td>\n",
              "      <td>3</td>\n",
              "    </tr>\n",
              "    <tr>\n",
              "      <th>11</th>\n",
              "      <td>47983</td>\n",
              "      <td>3</td>\n",
              "    </tr>\n",
              "    <tr>\n",
              "      <th>12</th>\n",
              "      <td>47924</td>\n",
              "      <td>1</td>\n",
              "    </tr>\n",
              "  </tbody>\n",
              "</table>\n",
              "</div>"
            ],
            "text/plain": [
              "    postal_code  N_postal\n",
              "0         47905       651\n",
              "1         47906       446\n",
              "2         47904       296\n",
              "3         47909       204\n",
              "4         47901       126\n",
              "5         47907        37\n",
              "6         47920        13\n",
              "7         47992         9\n",
              "8         47941         8\n",
              "9         47981         7\n",
              "10        47930         3\n",
              "11        47983         3\n",
              "12        47924         1"
            ]
          },
          "metadata": {
            "tags": []
          },
          "execution_count": 10
        }
      ]
    },
    {
      "cell_type": "code",
      "metadata": {
        "id": "3cUc6PyTrQ5d"
      },
      "source": [
        "post_code_count = {}\n",
        "for i in range(len(week_40_post_code_count)):\n",
        "        post_code_count[week_40_post_code_count[\"postal_code\"][i]] = week_40_post_code_count[\"N_postal\"][i]"
      ],
      "execution_count": null,
      "outputs": []
    },
    {
      "cell_type": "code",
      "metadata": {
        "id": "wV5GtJWfrQ5d",
        "outputId": "dfe858ec-93f0-4c63-857b-4fc4d5bee7c9"
      },
      "source": [
        "post_code_label = list(map(str, list(post_code_count.keys())[::-1]))\n",
        "post_code_value = list(post_code_count.values())[::-1]\n",
        "plt.figure(figsize=(12,8))\n",
        "plt.barh(post_code_label, post_code_value)\n",
        "plt.ylabel(\"Postal Code\")\n",
        "plt.xlabel(\"Number of POIs\")\n",
        "for i, v in enumerate(post_code_value):\n",
        "    plt.text(v + 5, i - 0.15, str(v))\n",
        "plt.show()"
      ],
      "execution_count": null,
      "outputs": [
        {
          "output_type": "display_data",
          "data": {
            "image/png": "[encoded data removed]",
            "text/plain": [
              "<Figure size 864x576 with 1 Axes>"
            ]
          },
          "metadata": {
            "tags": [],
            "needs_background": "light"
          }
        }
      ]
    },
    {
      "cell_type": "markdown",
      "metadata": {
        "id": "j7RbV9P_rQ5d"
      },
      "source": [
        "From the bar plot, postcode __47905__ has the most POIs. Also, __47905__ is located in Lafayette, which also aligns with the previous city result. This can be served as a __Categorical Feature__. Moreover, there are more postcodes that cities, which both represent the location information of the POIs. Thus, choose postcodes as a feature will show a more detailed location information than cities."
      ]
    },
    {
      "cell_type": "markdown",
      "metadata": {
        "id": "cri5cL7yrQ5e"
      },
      "source": [
        "### Top_category"
      ]
    },
    {
      "cell_type": "code",
      "metadata": {
        "id": "ElJpKBewrQ5e",
        "outputId": "7bab1d1c-c78c-4afb-b033-4b477e649994"
      },
      "source": [
        "QUERY = \"\"\"\n",
        "SELECT top_category, Count(1) as N_category\n",
        "FROM ironhacks-covid19-data.ironhacks_covid19_competition.weekly_patterns\n",
        "WHERE week_number = 40\n",
        "GROUP BY top_category\n",
        "ORDER BY N_category DESC\n",
        "\"\"\"\n",
        "query_job = bigquery_client.query(QUERY)\n",
        "week_40_category_count = query_job.to_dataframe()\n",
        "week_40_category_count.head(10)"
      ],
      "execution_count": null,
      "outputs": [
        {
          "output_type": "execute_result",
          "data": {
            "text/html": [
              "<div>\n",
              "<style scoped>\n",
              "    .dataframe tbody tr th:only-of-type {\n",
              "        vertical-align: middle;\n",
              "    }\n",
              "\n",
              "    .dataframe tbody tr th {\n",
              "        vertical-align: top;\n",
              "    }\n",
              "\n",
              "    .dataframe thead th {\n",
              "        text-align: right;\n",
              "    }\n",
              "</style>\n",
              "<table border=\"1\" class=\"dataframe\">\n",
              "  <thead>\n",
              "    <tr style=\"text-align: right;\">\n",
              "      <th></th>\n",
              "      <th>top_category</th>\n",
              "      <th>N_category</th>\n",
              "    </tr>\n",
              "  </thead>\n",
              "  <tbody>\n",
              "    <tr>\n",
              "      <th>0</th>\n",
              "      <td>Restaurants and Other Eating Places</td>\n",
              "      <td>351</td>\n",
              "    </tr>\n",
              "    <tr>\n",
              "      <th>1</th>\n",
              "      <td>Museums, Historical Sites, and Similar Institu...</td>\n",
              "      <td>107</td>\n",
              "    </tr>\n",
              "    <tr>\n",
              "      <th>2</th>\n",
              "      <td>Religious Organizations</td>\n",
              "      <td>83</td>\n",
              "    </tr>\n",
              "    <tr>\n",
              "      <th>3</th>\n",
              "      <td>Automotive Repair and Maintenance</td>\n",
              "      <td>63</td>\n",
              "    </tr>\n",
              "    <tr>\n",
              "      <th>4</th>\n",
              "      <td>Other Amusement and Recreation Industries</td>\n",
              "      <td>61</td>\n",
              "    </tr>\n",
              "    <tr>\n",
              "      <th>5</th>\n",
              "      <td>Offices of Physicians</td>\n",
              "      <td>56</td>\n",
              "    </tr>\n",
              "    <tr>\n",
              "      <th>6</th>\n",
              "      <td>Health and Personal Care Stores</td>\n",
              "      <td>49</td>\n",
              "    </tr>\n",
              "    <tr>\n",
              "      <th>7</th>\n",
              "      <td>Elementary and Secondary Schools</td>\n",
              "      <td>49</td>\n",
              "    </tr>\n",
              "    <tr>\n",
              "      <th>8</th>\n",
              "      <td>Offices of Dentists</td>\n",
              "      <td>48</td>\n",
              "    </tr>\n",
              "    <tr>\n",
              "      <th>9</th>\n",
              "      <td>Personal Care Services</td>\n",
              "      <td>48</td>\n",
              "    </tr>\n",
              "  </tbody>\n",
              "</table>\n",
              "</div>"
            ],
            "text/plain": [
              "                                        top_category  N_category\n",
              "0                Restaurants and Other Eating Places         351\n",
              "1  Museums, Historical Sites, and Similar Institu...         107\n",
              "2                            Religious Organizations          83\n",
              "3                  Automotive Repair and Maintenance          63\n",
              "4          Other Amusement and Recreation Industries          61\n",
              "5                              Offices of Physicians          56\n",
              "6                    Health and Personal Care Stores          49\n",
              "7                   Elementary and Secondary Schools          49\n",
              "8                                Offices of Dentists          48\n",
              "9                             Personal Care Services          48"
            ]
          },
          "metadata": {
            "tags": []
          },
          "execution_count": 13
        }
      ]
    },
    {
      "cell_type": "code",
      "metadata": {
        "id": "uvXEwsNDrQ5e"
      },
      "source": [
        "category_count = {}\n",
        "for i in range(len(week_40_category_count)):\n",
        "    if(week_40_category_count[\"top_category\"][i] is None):\n",
        "        category_count[\"None\"] = week_40_category_count[\"N_category\"][i]\n",
        "    else:\n",
        "        category_count[week_40_category_count[\"top_category\"][i]] = week_40_category_count[\"N_category\"][i]"
      ],
      "execution_count": null,
      "outputs": []
    },
    {
      "cell_type": "code",
      "metadata": {
        "id": "17SC073SrQ5e",
        "outputId": "6ac3ecf4-be5e-4e20-ad5c-38f8e0a74d4c"
      },
      "source": [
        "len(category_count)"
      ],
      "execution_count": null,
      "outputs": [
        {
          "output_type": "execute_result",
          "data": {
            "text/plain": [
              "105"
            ]
          },
          "metadata": {
            "tags": []
          },
          "execution_count": 15
        }
      ]
    },
    {
      "cell_type": "code",
      "metadata": {
        "id": "GgAH14DMrQ5e",
        "outputId": "a89098b9-5f14-477e-ea26-6a42cbe9d8b0"
      },
      "source": [
        "category_label = list(category_count.keys())[:40][::-1]\n",
        "category_value = list(category_count.values())[:40][::-1]\n",
        "plt.figure(figsize=(12,8))\n",
        "plt.barh(category_label, category_value)\n",
        "plt.ylabel(\"Top Category\")\n",
        "plt.xlabel(\"Number of POIs\")\n",
        "for i, v in enumerate(category_value):\n",
        "    plt.text(v + 5, i - 0.5, str(v))\n",
        "plt.show()"
      ],
      "execution_count": null,
      "outputs": [
        {
          "output_type": "display_data",
          "data": {
            "image/png": "[encoded data removed]",
            "text/plain": [
              "<Figure size 864x576 with 1 Axes>"
            ]
          },
          "metadata": {
            "tags": [],
            "needs_background": "light"
          }
        }
      ]
    },
    {
      "cell_type": "markdown",
      "metadata": {
        "id": "aGeyvsZSrQ5f"
      },
      "source": [
        "The summary of the top _40_ categories from the total of _105_ different categories in the listed POIs shows that \"Restaurants and Other Eating Places\" is the largest group of POIs. Total of 351 POIs is below this category. This can be served as a __Categorical Feature__. Notice that there are 9 POIs with a \"None\" category in the top 40 categories."
      ]
    },
    {
      "cell_type": "markdown",
      "metadata": {
        "id": "ff1I1CuOrQ5f"
      },
      "source": [
        "### Number of weeks in the database for each POI"
      ]
    },
    {
      "cell_type": "code",
      "metadata": {
        "id": "F7x7xynKrQ5f"
      },
      "source": [
        "QUERY = \"\"\"\n",
        "SELECT week_count, COUNT(week_count) as number_of_POI\n",
        "FROM (\n",
        "    SELECT poi_id, COUNT(week_number) as week_count\n",
        "    FROM ironhacks-covid19-data.ironhacks_covid19_competition.weekly_patterns\n",
        "    GROUP BY poi_id\n",
        "    ORDER BY week_count DESC\n",
        ")\n",
        "GROUP BY week_count\n",
        "ORDER BY number_of_POI\n",
        "\"\"\"\n",
        "query_job = bigquery_client.query(QUERY)\n",
        "poi_weeks = query_job.to_dataframe()"
      ],
      "execution_count": null,
      "outputs": []
    },
    {
      "cell_type": "code",
      "metadata": {
        "id": "MVx1TGz7rQ5f",
        "outputId": "ee88356b-a177-42a9-86bd-0d1fc3b65700"
      },
      "source": [
        "week_count_label = list(map(str, list(poi_weeks[\"week_count\"])))\n",
        "number_of_POI = list(poi_weeks[\"number_of_POI\"])\n",
        "plt.figure(figsize=(12,9))\n",
        "plt.barh(week_count_label, number_of_POI)\n",
        "plt.yticks(week_count_label)\n",
        "plt.ylabel(\"The number of weeks of data included\")\n",
        "plt.xlabel(\"Number of POIs\")\n",
        "for i, v in enumerate(number_of_POI):\n",
        "    plt.text(v + 15, i - 0.2, str(v))\n",
        "plt.show()"
      ],
      "execution_count": null,
      "outputs": [
        {
          "output_type": "display_data",
          "data": {
            "image/png": "[encoded data removed]",
            "text/plain": [
              "<Figure size 864x648 with 1 Axes>"
            ]
          },
          "metadata": {
            "tags": [],
            "needs_background": "light"
          }
        }
      ]
    },
    {
      "cell_type": "markdown",
      "metadata": {
        "id": "BT3xcBMkrQ5g"
      },
      "source": [
        "Considering there are two weeks of data missing, the dataset has 1360 POIs with all weeks POI visitor information. Analysis of the sample of those POIs' data may reveal some other information about the numerical features since it can be a continuous feature."
      ]
    },
    {
      "cell_type": "markdown",
      "metadata": {
        "id": "5PUJAvjyrQ5g"
      },
      "source": [
        "### Select 10 POIs with all weeks data"
      ]
    },
    {
      "cell_type": "code",
      "metadata": {
        "id": "pRLc3TDJrQ5g",
        "outputId": "41ae7e1b-0de7-4ce8-bf9c-50e65399ab35"
      },
      "source": [
        "# select 10 of 1360 POIs with all weeks' data and further explore the numerical variables\n",
        "QUERY = \"\"\"\n",
        "SELECT poi_id\n",
        "FROM (\n",
        "    SELECT poi_id, COUNT(week_number) as week_count\n",
        "    FROM ironhacks-covid19-data.ironhacks_covid19_competition.weekly_patterns\n",
        "    GROUP BY poi_id\n",
        ")\n",
        "WHERE week_count = 31\n",
        "LIMIT 10\n",
        "\"\"\"\n",
        "query_job = bigquery_client.query(QUERY)\n",
        "ten_poi_with_all_weeks = query_job.to_dataframe()\n",
        "ten_poi_with_all_weeks"
      ],
      "execution_count": null,
      "outputs": [
        {
          "output_type": "execute_result",
          "data": {
            "text/html": [
              "<div>\n",
              "<style scoped>\n",
              "    .dataframe tbody tr th:only-of-type {\n",
              "        vertical-align: middle;\n",
              "    }\n",
              "\n",
              "    .dataframe tbody tr th {\n",
              "        vertical-align: top;\n",
              "    }\n",
              "\n",
              "    .dataframe thead th {\n",
              "        text-align: right;\n",
              "    }\n",
              "</style>\n",
              "<table border=\"1\" class=\"dataframe\">\n",
              "  <thead>\n",
              "    <tr style=\"text-align: right;\">\n",
              "      <th></th>\n",
              "      <th>poi_id</th>\n",
              "    </tr>\n",
              "  </thead>\n",
              "  <tbody>\n",
              "    <tr>\n",
              "      <th>0</th>\n",
              "      <td>6a2d40f8-c477-49b6-a5d5-69c31f001afc</td>\n",
              "    </tr>\n",
              "    <tr>\n",
              "      <th>1</th>\n",
              "      <td>49636347-5a9d-4bf3-9d9a-c21a4ba7d8f1</td>\n",
              "    </tr>\n",
              "    <tr>\n",
              "      <th>2</th>\n",
              "      <td>d98b37cd-ed64-456c-b580-c2c299c9f6d6</td>\n",
              "    </tr>\n",
              "    <tr>\n",
              "      <th>3</th>\n",
              "      <td>16f4e696-2065-4854-8ba6-a8cab2b67bf7</td>\n",
              "    </tr>\n",
              "    <tr>\n",
              "      <th>4</th>\n",
              "      <td>156f82b5-cba9-4a2a-b8ac-4b5cb206d27d</td>\n",
              "    </tr>\n",
              "    <tr>\n",
              "      <th>5</th>\n",
              "      <td>7137f730-7aaa-4d32-9e05-fa02ba002055</td>\n",
              "    </tr>\n",
              "    <tr>\n",
              "      <th>6</th>\n",
              "      <td>439d8d34-4278-431a-bc0c-b648204d9129</td>\n",
              "    </tr>\n",
              "    <tr>\n",
              "      <th>7</th>\n",
              "      <td>eb699a93-f2b4-4656-a1d3-e7aee5db262b</td>\n",
              "    </tr>\n",
              "    <tr>\n",
              "      <th>8</th>\n",
              "      <td>7e1debba-8343-4e4b-846f-efff3fcbe516</td>\n",
              "    </tr>\n",
              "    <tr>\n",
              "      <th>9</th>\n",
              "      <td>c4f6ee6d-c1fd-49c9-9c3c-f359f19e6bfe</td>\n",
              "    </tr>\n",
              "  </tbody>\n",
              "</table>\n",
              "</div>"
            ],
            "text/plain": [
              "                                 poi_id\n",
              "0  6a2d40f8-c477-49b6-a5d5-69c31f001afc\n",
              "1  49636347-5a9d-4bf3-9d9a-c21a4ba7d8f1\n",
              "2  d98b37cd-ed64-456c-b580-c2c299c9f6d6\n",
              "3  16f4e696-2065-4854-8ba6-a8cab2b67bf7\n",
              "4  156f82b5-cba9-4a2a-b8ac-4b5cb206d27d\n",
              "5  7137f730-7aaa-4d32-9e05-fa02ba002055\n",
              "6  439d8d34-4278-431a-bc0c-b648204d9129\n",
              "7  eb699a93-f2b4-4656-a1d3-e7aee5db262b\n",
              "8  7e1debba-8343-4e4b-846f-efff3fcbe516\n",
              "9  c4f6ee6d-c1fd-49c9-9c3c-f359f19e6bfe"
            ]
          },
          "metadata": {
            "tags": []
          },
          "execution_count": 104
        }
      ]
    },
    {
      "cell_type": "code",
      "metadata": {
        "id": "39ecxGcNrQ5g"
      },
      "source": [
        "# query the 10 selected POI data and store them as a list of dataframe with all the data\n",
        "data_missing = []\n",
        "for poi_id in ten_poi_with_all_weeks[\"poi_id\"]:\n",
        "    QUERY=\"\"\"\n",
        "    SELECT poi_id, week_number, visits_concentration, distance_from_home, median_dwell, raw_visit_counts\n",
        "    FROM ironhacks-covid19-data.ironhacks_covid19_competition.weekly_patterns\n",
        "    WHERE poi_id=\"%s\"\n",
        "    \"\"\"%(poi_id)\n",
        "    query_job = bigquery_client.query(QUERY)\n",
        "    data_missing.append(query_job.to_dataframe())"
      ],
      "execution_count": null,
      "outputs": []
    },
    {
      "cell_type": "code",
      "metadata": {
        "id": "QJNENRGzrQ5h"
      },
      "source": [
        "# fill the missing weeks with 0\n",
        "data_fill = data_missing.copy()\n",
        "for i in range(len(data_fill)):\n",
        "    rows = pd.DataFrame([[data_fill[i][\"poi_id\"][0], 18, 0, 0, 0, 0], [data_fill[i][\"poi_id\"][0], 19, 0, 0, 0, 0]], columns=list(data_fill[i].columns))\n",
        "    data_fill[i] = data_fill[i].append(rows, ignore_index=True)\n",
        "    data_fill[i] = data_fill[i].sort_values(by=[\"week_number\"])\n",
        "    data_fill[i] = data_fill[i].reset_index(drop=True)"
      ],
      "execution_count": null,
      "outputs": []
    },
    {
      "cell_type": "code",
      "metadata": {
        "id": "U3S4iVharQ5h",
        "outputId": "1363b131-bc33-4a30-f691-b4eccfe85ef0"
      },
      "source": [
        "data_fill[0]"
      ],
      "execution_count": null,
      "outputs": [
        {
          "output_type": "execute_result",
          "data": {
            "text/html": [
              "<div>\n",
              "<style scoped>\n",
              "    .dataframe tbody tr th:only-of-type {\n",
              "        vertical-align: middle;\n",
              "    }\n",
              "\n",
              "    .dataframe tbody tr th {\n",
              "        vertical-align: top;\n",
              "    }\n",
              "\n",
              "    .dataframe thead th {\n",
              "        text-align: right;\n",
              "    }\n",
              "</style>\n",
              "<table border=\"1\" class=\"dataframe\">\n",
              "  <thead>\n",
              "    <tr style=\"text-align: right;\">\n",
              "      <th></th>\n",
              "      <th>poi_id</th>\n",
              "      <th>week_number</th>\n",
              "      <th>visits_concentration</th>\n",
              "      <th>distance_from_home</th>\n",
              "      <th>median_dwell</th>\n",
              "      <th>raw_visit_counts</th>\n",
              "    </tr>\n",
              "  </thead>\n",
              "  <tbody>\n",
              "    <tr>\n",
              "      <th>0</th>\n",
              "      <td>6a2d40f8-c477-49b6-a5d5-69c31f001afc</td>\n",
              "      <td>11</td>\n",
              "      <td>510.40</td>\n",
              "      <td>5834.0</td>\n",
              "      <td>109.0</td>\n",
              "      <td>23</td>\n",
              "    </tr>\n",
              "    <tr>\n",
              "      <th>1</th>\n",
              "      <td>6a2d40f8-c477-49b6-a5d5-69c31f001afc</td>\n",
              "      <td>12</td>\n",
              "      <td>844.44</td>\n",
              "      <td>12091.0</td>\n",
              "      <td>80.0</td>\n",
              "      <td>15</td>\n",
              "    </tr>\n",
              "    <tr>\n",
              "      <th>2</th>\n",
              "      <td>6a2d40f8-c477-49b6-a5d5-69c31f001afc</td>\n",
              "      <td>13</td>\n",
              "      <td>661.16</td>\n",
              "      <td>25415.0</td>\n",
              "      <td>31.0</td>\n",
              "      <td>22</td>\n",
              "    </tr>\n",
              "    <tr>\n",
              "      <th>3</th>\n",
              "      <td>6a2d40f8-c477-49b6-a5d5-69c31f001afc</td>\n",
              "      <td>14</td>\n",
              "      <td>666.67</td>\n",
              "      <td>4045.0</td>\n",
              "      <td>59.0</td>\n",
              "      <td>15</td>\n",
              "    </tr>\n",
              "    <tr>\n",
              "      <th>4</th>\n",
              "      <td>6a2d40f8-c477-49b6-a5d5-69c31f001afc</td>\n",
              "      <td>15</td>\n",
              "      <td>416.33</td>\n",
              "      <td>18115.0</td>\n",
              "      <td>61.0</td>\n",
              "      <td>35</td>\n",
              "    </tr>\n",
              "    <tr>\n",
              "      <th>5</th>\n",
              "      <td>6a2d40f8-c477-49b6-a5d5-69c31f001afc</td>\n",
              "      <td>16</td>\n",
              "      <td>528.00</td>\n",
              "      <td>24581.0</td>\n",
              "      <td>40.0</td>\n",
              "      <td>25</td>\n",
              "    </tr>\n",
              "    <tr>\n",
              "      <th>6</th>\n",
              "      <td>6a2d40f8-c477-49b6-a5d5-69c31f001afc</td>\n",
              "      <td>17</td>\n",
              "      <td>438.07</td>\n",
              "      <td>19384.0</td>\n",
              "      <td>61.0</td>\n",
              "      <td>43</td>\n",
              "    </tr>\n",
              "    <tr>\n",
              "      <th>7</th>\n",
              "      <td>6a2d40f8-c477-49b6-a5d5-69c31f001afc</td>\n",
              "      <td>18</td>\n",
              "      <td>0.00</td>\n",
              "      <td>0.0</td>\n",
              "      <td>0.0</td>\n",
              "      <td>0</td>\n",
              "    </tr>\n",
              "    <tr>\n",
              "      <th>8</th>\n",
              "      <td>6a2d40f8-c477-49b6-a5d5-69c31f001afc</td>\n",
              "      <td>19</td>\n",
              "      <td>0.00</td>\n",
              "      <td>0.0</td>\n",
              "      <td>0.0</td>\n",
              "      <td>0</td>\n",
              "    </tr>\n",
              "    <tr>\n",
              "      <th>9</th>\n",
              "      <td>6a2d40f8-c477-49b6-a5d5-69c31f001afc</td>\n",
              "      <td>20</td>\n",
              "      <td>269.59</td>\n",
              "      <td>14549.0</td>\n",
              "      <td>62.0</td>\n",
              "      <td>63</td>\n",
              "    </tr>\n",
              "    <tr>\n",
              "      <th>10</th>\n",
              "      <td>6a2d40f8-c477-49b6-a5d5-69c31f001afc</td>\n",
              "      <td>21</td>\n",
              "      <td>329.86</td>\n",
              "      <td>23359.0</td>\n",
              "      <td>39.5</td>\n",
              "      <td>48</td>\n",
              "    </tr>\n",
              "    <tr>\n",
              "      <th>11</th>\n",
              "      <td>6a2d40f8-c477-49b6-a5d5-69c31f001afc</td>\n",
              "      <td>22</td>\n",
              "      <td>351.54</td>\n",
              "      <td>28819.0</td>\n",
              "      <td>56.0</td>\n",
              "      <td>43</td>\n",
              "    </tr>\n",
              "    <tr>\n",
              "      <th>12</th>\n",
              "      <td>6a2d40f8-c477-49b6-a5d5-69c31f001afc</td>\n",
              "      <td>23</td>\n",
              "      <td>371.09</td>\n",
              "      <td>13749.0</td>\n",
              "      <td>35.5</td>\n",
              "      <td>32</td>\n",
              "    </tr>\n",
              "    <tr>\n",
              "      <th>13</th>\n",
              "      <td>6a2d40f8-c477-49b6-a5d5-69c31f001afc</td>\n",
              "      <td>24</td>\n",
              "      <td>487.51</td>\n",
              "      <td>17484.0</td>\n",
              "      <td>34.0</td>\n",
              "      <td>29</td>\n",
              "    </tr>\n",
              "    <tr>\n",
              "      <th>14</th>\n",
              "      <td>6a2d40f8-c477-49b6-a5d5-69c31f001afc</td>\n",
              "      <td>25</td>\n",
              "      <td>468.75</td>\n",
              "      <td>24259.0</td>\n",
              "      <td>55.0</td>\n",
              "      <td>32</td>\n",
              "    </tr>\n",
              "    <tr>\n",
              "      <th>15</th>\n",
              "      <td>6a2d40f8-c477-49b6-a5d5-69c31f001afc</td>\n",
              "      <td>26</td>\n",
              "      <td>659.72</td>\n",
              "      <td>32624.0</td>\n",
              "      <td>89.0</td>\n",
              "      <td>24</td>\n",
              "    </tr>\n",
              "    <tr>\n",
              "      <th>16</th>\n",
              "      <td>6a2d40f8-c477-49b6-a5d5-69c31f001afc</td>\n",
              "      <td>27</td>\n",
              "      <td>466.67</td>\n",
              "      <td>13047.0</td>\n",
              "      <td>52.0</td>\n",
              "      <td>30</td>\n",
              "    </tr>\n",
              "    <tr>\n",
              "      <th>17</th>\n",
              "      <td>6a2d40f8-c477-49b6-a5d5-69c31f001afc</td>\n",
              "      <td>28</td>\n",
              "      <td>1122.45</td>\n",
              "      <td>12676.0</td>\n",
              "      <td>48.5</td>\n",
              "      <td>14</td>\n",
              "    </tr>\n",
              "    <tr>\n",
              "      <th>18</th>\n",
              "      <td>6a2d40f8-c477-49b6-a5d5-69c31f001afc</td>\n",
              "      <td>29</td>\n",
              "      <td>429.69</td>\n",
              "      <td>33269.0</td>\n",
              "      <td>55.5</td>\n",
              "      <td>32</td>\n",
              "    </tr>\n",
              "    <tr>\n",
              "      <th>19</th>\n",
              "      <td>6a2d40f8-c477-49b6-a5d5-69c31f001afc</td>\n",
              "      <td>30</td>\n",
              "      <td>486.11</td>\n",
              "      <td>22483.0</td>\n",
              "      <td>98.0</td>\n",
              "      <td>24</td>\n",
              "    </tr>\n",
              "    <tr>\n",
              "      <th>20</th>\n",
              "      <td>6a2d40f8-c477-49b6-a5d5-69c31f001afc</td>\n",
              "      <td>31</td>\n",
              "      <td>449.22</td>\n",
              "      <td>7172.0</td>\n",
              "      <td>70.5</td>\n",
              "      <td>32</td>\n",
              "    </tr>\n",
              "    <tr>\n",
              "      <th>21</th>\n",
              "      <td>6a2d40f8-c477-49b6-a5d5-69c31f001afc</td>\n",
              "      <td>32</td>\n",
              "      <td>448.98</td>\n",
              "      <td>9004.0</td>\n",
              "      <td>80.0</td>\n",
              "      <td>35</td>\n",
              "    </tr>\n",
              "    <tr>\n",
              "      <th>22</th>\n",
              "      <td>6a2d40f8-c477-49b6-a5d5-69c31f001afc</td>\n",
              "      <td>33</td>\n",
              "      <td>509.89</td>\n",
              "      <td>22378.0</td>\n",
              "      <td>52.0</td>\n",
              "      <td>31</td>\n",
              "    </tr>\n",
              "    <tr>\n",
              "      <th>23</th>\n",
              "      <td>6a2d40f8-c477-49b6-a5d5-69c31f001afc</td>\n",
              "      <td>34</td>\n",
              "      <td>405.83</td>\n",
              "      <td>10231.0</td>\n",
              "      <td>30.0</td>\n",
              "      <td>31</td>\n",
              "    </tr>\n",
              "    <tr>\n",
              "      <th>24</th>\n",
              "      <td>6a2d40f8-c477-49b6-a5d5-69c31f001afc</td>\n",
              "      <td>35</td>\n",
              "      <td>637.12</td>\n",
              "      <td>6691.0</td>\n",
              "      <td>80.0</td>\n",
              "      <td>19</td>\n",
              "    </tr>\n",
              "    <tr>\n",
              "      <th>25</th>\n",
              "      <td>6a2d40f8-c477-49b6-a5d5-69c31f001afc</td>\n",
              "      <td>36</td>\n",
              "      <td>416.17</td>\n",
              "      <td>6691.0</td>\n",
              "      <td>20.0</td>\n",
              "      <td>29</td>\n",
              "    </tr>\n",
              "    <tr>\n",
              "      <th>26</th>\n",
              "      <td>6a2d40f8-c477-49b6-a5d5-69c31f001afc</td>\n",
              "      <td>37</td>\n",
              "      <td>572.32</td>\n",
              "      <td>17666.0</td>\n",
              "      <td>58.0</td>\n",
              "      <td>31</td>\n",
              "    </tr>\n",
              "    <tr>\n",
              "      <th>27</th>\n",
              "      <td>6a2d40f8-c477-49b6-a5d5-69c31f001afc</td>\n",
              "      <td>38</td>\n",
              "      <td>495.87</td>\n",
              "      <td>19441.0</td>\n",
              "      <td>37.0</td>\n",
              "      <td>22</td>\n",
              "    </tr>\n",
              "    <tr>\n",
              "      <th>28</th>\n",
              "      <td>6a2d40f8-c477-49b6-a5d5-69c31f001afc</td>\n",
              "      <td>39</td>\n",
              "      <td>466.67</td>\n",
              "      <td>21678.0</td>\n",
              "      <td>69.0</td>\n",
              "      <td>30</td>\n",
              "    </tr>\n",
              "    <tr>\n",
              "      <th>29</th>\n",
              "      <td>6a2d40f8-c477-49b6-a5d5-69c31f001afc</td>\n",
              "      <td>40</td>\n",
              "      <td>452.67</td>\n",
              "      <td>6519.0</td>\n",
              "      <td>51.0</td>\n",
              "      <td>27</td>\n",
              "    </tr>\n",
              "    <tr>\n",
              "      <th>30</th>\n",
              "      <td>6a2d40f8-c477-49b6-a5d5-69c31f001afc</td>\n",
              "      <td>41</td>\n",
              "      <td>486.11</td>\n",
              "      <td>7223.0</td>\n",
              "      <td>35.5</td>\n",
              "      <td>24</td>\n",
              "    </tr>\n",
              "    <tr>\n",
              "      <th>31</th>\n",
              "      <td>6a2d40f8-c477-49b6-a5d5-69c31f001afc</td>\n",
              "      <td>42</td>\n",
              "      <td>566.41</td>\n",
              "      <td>15415.0</td>\n",
              "      <td>47.5</td>\n",
              "      <td>32</td>\n",
              "    </tr>\n",
              "    <tr>\n",
              "      <th>32</th>\n",
              "      <td>6a2d40f8-c477-49b6-a5d5-69c31f001afc</td>\n",
              "      <td>43</td>\n",
              "      <td>459.18</td>\n",
              "      <td>3910.0</td>\n",
              "      <td>29.5</td>\n",
              "      <td>28</td>\n",
              "    </tr>\n",
              "  </tbody>\n",
              "</table>\n",
              "</div>"
            ],
            "text/plain": [
              "                                  poi_id  week_number  visits_concentration  \\\n",
              "0   6a2d40f8-c477-49b6-a5d5-69c31f001afc           11                510.40   \n",
              "1   6a2d40f8-c477-49b6-a5d5-69c31f001afc           12                844.44   \n",
              "2   6a2d40f8-c477-49b6-a5d5-69c31f001afc           13                661.16   \n",
              "3   6a2d40f8-c477-49b6-a5d5-69c31f001afc           14                666.67   \n",
              "4   6a2d40f8-c477-49b6-a5d5-69c31f001afc           15                416.33   \n",
              "5   6a2d40f8-c477-49b6-a5d5-69c31f001afc           16                528.00   \n",
              "6   6a2d40f8-c477-49b6-a5d5-69c31f001afc           17                438.07   \n",
              "7   6a2d40f8-c477-49b6-a5d5-69c31f001afc           18                  0.00   \n",
              "8   6a2d40f8-c477-49b6-a5d5-69c31f001afc           19                  0.00   \n",
              "9   6a2d40f8-c477-49b6-a5d5-69c31f001afc           20                269.59   \n",
              "10  6a2d40f8-c477-49b6-a5d5-69c31f001afc           21                329.86   \n",
              "11  6a2d40f8-c477-49b6-a5d5-69c31f001afc           22                351.54   \n",
              "12  6a2d40f8-c477-49b6-a5d5-69c31f001afc           23                371.09   \n",
              "13  6a2d40f8-c477-49b6-a5d5-69c31f001afc           24                487.51   \n",
              "14  6a2d40f8-c477-49b6-a5d5-69c31f001afc           25                468.75   \n",
              "15  6a2d40f8-c477-49b6-a5d5-69c31f001afc           26                659.72   \n",
              "16  6a2d40f8-c477-49b6-a5d5-69c31f001afc           27                466.67   \n",
              "17  6a2d40f8-c477-49b6-a5d5-69c31f001afc           28               1122.45   \n",
              "18  6a2d40f8-c477-49b6-a5d5-69c31f001afc           29                429.69   \n",
              "19  6a2d40f8-c477-49b6-a5d5-69c31f001afc           30                486.11   \n",
              "20  6a2d40f8-c477-49b6-a5d5-69c31f001afc           31                449.22   \n",
              "21  6a2d40f8-c477-49b6-a5d5-69c31f001afc           32                448.98   \n",
              "22  6a2d40f8-c477-49b6-a5d5-69c31f001afc           33                509.89   \n",
              "23  6a2d40f8-c477-49b6-a5d5-69c31f001afc           34                405.83   \n",
              "24  6a2d40f8-c477-49b6-a5d5-69c31f001afc           35                637.12   \n",
              "25  6a2d40f8-c477-49b6-a5d5-69c31f001afc           36                416.17   \n",
              "26  6a2d40f8-c477-49b6-a5d5-69c31f001afc           37                572.32   \n",
              "27  6a2d40f8-c477-49b6-a5d5-69c31f001afc           38                495.87   \n",
              "28  6a2d40f8-c477-49b6-a5d5-69c31f001afc           39                466.67   \n",
              "29  6a2d40f8-c477-49b6-a5d5-69c31f001afc           40                452.67   \n",
              "30  6a2d40f8-c477-49b6-a5d5-69c31f001afc           41                486.11   \n",
              "31  6a2d40f8-c477-49b6-a5d5-69c31f001afc           42                566.41   \n",
              "32  6a2d40f8-c477-49b6-a5d5-69c31f001afc           43                459.18   \n",
              "\n",
              "    distance_from_home  median_dwell  raw_visit_counts  \n",
              "0               5834.0         109.0                23  \n",
              "1              12091.0          80.0                15  \n",
              "2              25415.0          31.0                22  \n",
              "3               4045.0          59.0                15  \n",
              "4              18115.0          61.0                35  \n",
              "5              24581.0          40.0                25  \n",
              "6              19384.0          61.0                43  \n",
              "7                  0.0           0.0                 0  \n",
              "8                  0.0           0.0                 0  \n",
              "9              14549.0          62.0                63  \n",
              "10             23359.0          39.5                48  \n",
              "11             28819.0          56.0                43  \n",
              "12             13749.0          35.5                32  \n",
              "13             17484.0          34.0                29  \n",
              "14             24259.0          55.0                32  \n",
              "15             32624.0          89.0                24  \n",
              "16             13047.0          52.0                30  \n",
              "17             12676.0          48.5                14  \n",
              "18             33269.0          55.5                32  \n",
              "19             22483.0          98.0                24  \n",
              "20              7172.0          70.5                32  \n",
              "21              9004.0          80.0                35  \n",
              "22             22378.0          52.0                31  \n",
              "23             10231.0          30.0                31  \n",
              "24              6691.0          80.0                19  \n",
              "25              6691.0          20.0                29  \n",
              "26             17666.0          58.0                31  \n",
              "27             19441.0          37.0                22  \n",
              "28             21678.0          69.0                30  \n",
              "29              6519.0          51.0                27  \n",
              "30              7223.0          35.5                24  \n",
              "31             15415.0          47.5                32  \n",
              "32              3910.0          29.5                28  "
            ]
          },
          "metadata": {
            "tags": []
          },
          "execution_count": 107
        }
      ]
    },
    {
      "cell_type": "code",
      "metadata": {
        "id": "pdKz0brrrQ5h",
        "outputId": "7c1f3d5e-13e5-4676-df30-641f6dedf984"
      },
      "source": [
        "def plot_visit_count(data):\n",
        "    plt.figure(figsize=(15,8))\n",
        "    for i in range(len(data)):\n",
        "        plt.plot(list(map(str, data[i][\"week_number\"])), data[i][\"raw_visit_counts\"], \"o-\", label=data[i][\"poi_id\"][0])\n",
        "    plt.legend(bbox_to_anchor=(1.01, 1), loc='upper left', borderaxespad=0.)\n",
        "    plt.grid()\n",
        "    plt.show()\n",
        "plot_visit_count(data_missing)"
      ],
      "execution_count": null,
      "outputs": [
        {
          "output_type": "display_data",
          "data": {
            "image/png": "[encoded data removed]",
            "text/plain": [
              "<Figure size 1080x576 with 1 Axes>"
            ]
          },
          "metadata": {
            "tags": [],
            "needs_background": "light"
          }
        }
      ]
    },
    {
      "cell_type": "code",
      "metadata": {
        "id": "RxKdnZTXrQ5h"
      },
      "source": [
        "def plot_numerical_data(input_data):\n",
        "    for data in input_data:\n",
        "        x_time = list(map(str, data[\"week_number\"]))\n",
        "        y1 = data[\"visits_concentration\"]\n",
        "        y2 = data[\"distance_from_home\"]\n",
        "        y3 = data[\"median_dwell\"]\n",
        "        y = data[\"raw_visit_counts\"]\n",
        "\n",
        "        plt.figure(figsize=(8,4))\n",
        "        plt.title(data[\"poi_id\"][0])\n",
        "        plt.plot(x_time, y1 / 10, \"*-\", label=\"visits_concentration / 10\")\n",
        "        plt.plot(x_time, y2 / 300, \"^-\", label=\"distance_from_home / 300\")\n",
        "        plt.plot(x_time, y3, \"+-\", label=\"median_dwell\")\n",
        "        plt.plot(x_time, y, \"ro-\", label='raw_visit_counts')\n",
        "        plt.xticks(x_time)\n",
        "        plt.grid()\n",
        "        plt.legend()\n",
        "        plt.show()"
      ],
      "execution_count": null,
      "outputs": []
    },
    {
      "cell_type": "code",
      "metadata": {
        "id": "Xjdr0rshrQ5h"
      },
      "source": [
        "plot_numerical_data(data_missing)"
      ],
      "execution_count": null,
      "outputs": []
    },
    {
      "cell_type": "markdown",
      "metadata": {
        "id": "ayz-BlFlrQ5h"
      },
      "source": [
        "### Select POIs with no more than 5 weeks of data"
      ]
    },
    {
      "cell_type": "code",
      "metadata": {
        "id": "pf3JcMOzrQ5i"
      },
      "source": [
        "QUERY = \"\"\"\n",
        "SELECT poi_id\n",
        "FROM (\n",
        "    SELECT poi_id, COUNT(week_number) as week_count\n",
        "    FROM ironhacks-covid19-data.ironhacks_covid19_competition.weekly_patterns\n",
        "    GROUP BY poi_id\n",
        ")\n",
        "WHERE week_count <= 5\n",
        "\"\"\"\n",
        "query_job = bigquery_client.query(QUERY)\n",
        "week_40_poi_less_5_weeks = query_job.to_dataframe()"
      ],
      "execution_count": null,
      "outputs": []
    },
    {
      "cell_type": "code",
      "metadata": {
        "id": "8am_1xr9rQ5i"
      },
      "source": [
        "# select all POIs data with no more than 5 weeks of data\n",
        "data_less_5 = []\n",
        "for poi_id in week_40_poi_less_5_weeks[\"poi_id\"]:\n",
        "    QUERY=\"\"\"\n",
        "    SELECT *\n",
        "    FROM ironhacks-covid19-data.ironhacks_covid19_competition.weekly_patterns\n",
        "    WHERE poi_id=\"%s\"\n",
        "    \"\"\"%(poi_id)\n",
        "    query_job = bigquery_client.query(QUERY)\n",
        "    data_less_5.append(query_job.to_dataframe())"
      ],
      "execution_count": null,
      "outputs": []
    },
    {
      "cell_type": "code",
      "metadata": {
        "id": "O0d2DlQ8rQ5i"
      },
      "source": [
        "week_available = []\n",
        "for i in range(len(data_less_5)):\n",
        "    week_available.append(list(data_less_5[i][\"week_number\"]))"
      ],
      "execution_count": null,
      "outputs": []
    },
    {
      "cell_type": "code",
      "metadata": {
        "id": "tRuEVKxYrQ5i",
        "outputId": "4d549f01-69f8-4c49-bda4-836086c9970f"
      },
      "source": [
        "plt.figure(figsize=(4,3))\n",
        "plt.eventplot(week_available, linewidths=5)\n",
        "plt.grid()\n",
        "plt.show()"
      ],
      "execution_count": null,
      "outputs": [
        {
          "output_type": "display_data",
          "data": {
            "image/png": "[encoded data removed]",
            "text/plain": [
              "<Figure size 288x216 with 1 Axes>"
            ]
          },
          "metadata": {
            "tags": [],
            "needs_background": "light"
          }
        }
      ]
    },
    {
      "cell_type": "code",
      "metadata": {
        "id": "eu48tMhgrQ5i"
      },
      "source": [
        "plot_numerical_data(data_less_5)"
      ],
      "execution_count": null,
      "outputs": []
    },
    {
      "cell_type": "markdown",
      "metadata": {
        "id": "l_9-eLMGrQ5j"
      },
      "source": [
        "The histgram result shows what weeks are included in the POIs with less than 5 weeks of data. It indicates that most of them are the last four weeks."
      ]
    },
    {
      "cell_type": "markdown",
      "metadata": {
        "id": "3QBE71uYrQ5j"
      },
      "source": [
        "# Univariate models\n",
        "The first trail is to test models on univariate variable, which is the raw_visit_counts. Steps are:\n",
        "* Prepare the training data for each POI\n",
        "* Train each model seperately\n",
        "* Predict the upcoming week for each POI\n",
        "* (Possible) As for POIs with no more than 5 weeks data, take an average of existing data as the prediction result.\n",
        "* Calculate the MAE"
      ]
    },
    {
      "cell_type": "code",
      "metadata": {
        "id": "h0X2wrkKrQ5j"
      },
      "source": [
        "def mse_loss(y_true, y_pred):\n",
        "    \"\"\"\n",
        "    MSE loss function\n",
        "    Inputs param\n",
        "    -------------------------\n",
        "    y_true: list\n",
        "        The ground truth values\n",
        "    y_pred: list\n",
        "    The predicted values\n",
        "    -------------------------\n",
        "    return: number\n",
        "        mean square error of the two input lists\n",
        "    \"\"\"\n",
        "    if(len(y_true) != len(y_pred)):\n",
        "        print(\"True label len:\" + str(len(y_true)) + \", Predict label len: \" + str(len(y_pred)))\n",
        "        raise Exception(\"Input lists have different length\")\n",
        "    mse = np.mean(np.array(y_true) - np.array(y_pred))**2\n",
        "    return mse"
      ],
      "execution_count": null,
      "outputs": []
    },
    {
      "cell_type": "code",
      "metadata": {
        "id": "16c57FUerQ5j"
      },
      "source": [
        "def mae_loss(y_true, y_pred):\n",
        "    \"\"\"\n",
        "    MAE loss function\n",
        "    Inputs param\n",
        "    -------------------------\n",
        "    y_true: list\n",
        "        The ground truth values\n",
        "    y_pred: list\n",
        "    The predicted values\n",
        "    -------------------------\n",
        "    return: number\n",
        "        mean absolute error of the two input lists\n",
        "    \"\"\"\n",
        "    if(len(y_true) != len(y_pred)):\n",
        "        print(\"True label len:\" + str(len(y_true)) + \", Predict label len: \" + str(len(y_pred)))\n",
        "        raise Exception(\"Input lists have different length\")\n",
        "    mae = np.mean(np.absolute(np.array(y_true) - np.array(y_pred)))\n",
        "    return mae"
      ],
      "execution_count": null,
      "outputs": []
    },
    {
      "cell_type": "markdown",
      "metadata": {
        "id": "u0znqFvsrQ5j"
      },
      "source": [
        "### For the POIs with no more than 5 weeks of data\n",
        "Extract all weeks _raw_visit_counts_ data from the database"
      ]
    },
    {
      "cell_type": "code",
      "metadata": {
        "id": "zTS9jHaOrQ5j",
        "outputId": "76851b51-8442-4b25-e77a-3b9519c3a8a3"
      },
      "source": [
        "week_visit_less_5 = {} # dict stores all visit count grouped by week, example: week_visit_less_5[40] retrieves week 40's raw_visit_count of all selected POIs\n",
        "poi_ids_less_5 = [] # list stores all selected POIs' IDs\n",
        "for data in data_less_5:\n",
        "    poi_ids_less_5.append(data[\"poi_id\"][0])\n",
        "    if not week_visit_less_5:\n",
        "        for i in range(len(data[\"raw_visit_counts\"])):\n",
        "            week_visit_less_5[data[\"week_number\"][i]] = []\n",
        "    for i in range(len(data[\"raw_visit_counts\"])):\n",
        "        week_visit_less_5[data[\"week_number\"][i]].append(data[\"raw_visit_counts\"][i])\n",
        "print(poi_ids_less_5)\n",
        "print(week_visit_less_5)"
      ],
      "execution_count": null,
      "outputs": [
        {
          "output_type": "stream",
          "text": [
            "['d70a16ea-4982-4391-b7bd-6789f7018718', 'e71e79cd-71ae-4fd3-abf8-34f31a384702', '5576691b-4038-4b20-9736-4fc4c6e3a65f', '780472e8-9738-4832-a3d5-9736ed0a8f93', 'b5bbc683-775d-4fb5-b120-1c304302e136', '2d4ebc33-75c8-4822-a48d-57401f36ddfc', 'db4b221a-b849-4ffe-ac01-b26d46a15e57', 'e3a4fcba-f285-4113-81f5-dab8df7a4c41', '03e9a7b8-8502-4587-aef8-874041b57fd9', '77baea34-296d-4f0f-9b0b-1e191233101a', '48337bca-d4fd-46bf-b70a-9ada732d116a', '9ea86083-43d8-43b0-b014-3136616c32b7', '235937be-0295-4874-a3a7-7956e559a834', '67dfe851-d702-494b-9ee6-e68c836dcf84', 'a4ad5af3-ece6-4298-ac4a-e0a0af6329fb', '5919c7d1-c861-4d92-860e-3ef51f52f054', '72e0f3da-e654-43b9-8a4b-e21dba4101ef', '35644203-45ba-4f4a-9ee0-942a392927e8', 'a0d73d31-39d0-4753-8d12-edf8b44d31b2']\n",
            "{39: [526], 40: [342, 46, 9, 261, 396, 63, 1, 7, 2, 9, 159, 33, 78, 5, 18, 683, 118, 8, 8], 41: [304, 42, 9, 229, 390, 54, 2, 4, 5, 12, 157, 35, 80, 6, 18, 669, 83, 2, 8], 42: [312, 40, 6, 237, 377, 75, 3, 2, 3, 12, 104, 41, 74, 7, 22, 653, 193, 10, 8], 43: [330, 39, 17, 267, 363, 66, 5, 6, 3, 10, 84, 39, 48, 7, 22, 652, 51, 4, 7]}\n"
          ],
          "name": "stdout"
        }
      ]
    },
    {
      "cell_type": "markdown",
      "metadata": {
        "id": "RUN-taa0rQ5k"
      },
      "source": [
        "### Using average model\n",
        "Calculate the average _raw_visit_counts_ of the existing data as the prediction"
      ]
    },
    {
      "cell_type": "code",
      "metadata": {
        "id": "Kxfut76XrQ5k",
        "outputId": "00485889-4450-49a2-86f5-82b2fe5b13e4"
      },
      "source": [
        "average_predict_result_less_5 = []\n",
        "for data in data_less_5:\n",
        "    average_predict_result_less_5.append(np.rint(data[\"raw_visit_counts\"].sum() / len(data[\"raw_visit_counts\"])))\n",
        "\n",
        "sum_mae = 0\n",
        "for i in range(4):\n",
        "    mae = mae_loss(week_visit_less_5[i + 40], np.array(average_predict_result_less_5))\n",
        "    sum_mae += mae\n",
        "    print(\"MAE Loss for week \" + str(i + 40) + \" is: \" + str(mae))\n",
        "print(\"Average MAE is: \" + str(sum_mae / 4))"
      ],
      "execution_count": null,
      "outputs": [
        {
          "output_type": "stream",
          "text": [
            "MAE Loss for week 40 is: 7.2105263157894735\n",
            "MAE Loss for week 41 is: 9.68421052631579\n",
            "MAE Loss for week 42 is: 11.473684210526315\n",
            "MAE Loss for week 43 is: 12.157894736842104\n",
            "Average MAE is: 10.131578947368421\n"
          ],
          "name": "stdout"
        }
      ]
    },
    {
      "cell_type": "markdown",
      "metadata": {
        "id": "X4RFrag8rQ5k"
      },
      "source": [
        "### Linear regression model\n",
        "Fit a linear regression model and predict the result."
      ]
    },
    {
      "cell_type": "code",
      "metadata": {
        "id": "O2ihvLinrQ5k",
        "outputId": "b9c4b01e-d0f0-40cf-be5a-46077c2c4b64"
      },
      "source": [
        "from sklearn.linear_model import LinearRegression\n",
        "\n",
        "linear_predict_result_less_5 = []\n",
        "for data in data_less_5:\n",
        "    X = np.array(data[\"week_number\"]).reshape(-1, 1)\n",
        "    y = np.array(data[\"raw_visit_counts\"]).reshape(-1, 1)\n",
        "    model = LinearRegression()\n",
        "    model.fit(X, y)\n",
        "    pred = model.predict(np.array([40, 41, 42, 43, 44]).reshape(-1, 1))\n",
        "    linear_predict_result_less_5.append(np.rint(pred.reshape(1, -1)[0]))\n",
        "\n",
        "sum_mae = 0\n",
        "for i in range(np.array(linear_predict_result_less_5).shape[1] - 1):\n",
        "    mae = mae_loss(week_visit_less_5[i + 40], np.array(linear_predict_result_less_5)[:, i])\n",
        "    sum_mae += mae\n",
        "    print(\"MAE Loss for week \" + str(i + 40) + \" is: \" + str(mae))\n",
        "print(\"Average MAE is: \" + str(sum_mae / 4))"
      ],
      "execution_count": null,
      "outputs": [
        {
          "output_type": "stream",
          "text": [
            "MAE Loss for week 40 is: 6.052631578947368\n",
            "MAE Loss for week 41 is: 8.210526315789474\n",
            "MAE Loss for week 42 is: 8.31578947368421\n",
            "MAE Loss for week 43 is: 7.473684210526316\n",
            "Average MAE is: 7.5131578947368425\n"
          ],
          "name": "stdout"
        }
      ]
    },
    {
      "cell_type": "markdown",
      "metadata": {
        "id": "jBBglXw0rQ5k"
      },
      "source": [
        "### Support vector regression model (kernel='linear')\n",
        "Fit an SVR model and predict the result."
      ]
    },
    {
      "cell_type": "code",
      "metadata": {
        "id": "7v0YOpmTrQ5l",
        "outputId": "fdd58ea0-06a4-42b7-8605-4b35301e9bab"
      },
      "source": [
        "from sklearn.svm import SVR\n",
        "\n",
        "SVR_predict_result_less_5 = []\n",
        "for data in data_less_5:\n",
        "    X = np.array(data[\"week_number\"]).reshape(-1, 1)\n",
        "    y = np.array(data[\"raw_visit_counts\"]).reshape(-1, 1)\n",
        "    model = SVR(kernel='linear')\n",
        "    model.fit(X, y)\n",
        "    pred = model.predict(np.array([40, 41, 42, 43, 44]).reshape(-1, 1))\n",
        "    SVR_predict_result_less_5.append(list(np.rint(pred)))\n",
        "\n",
        "sum_mae = 0\n",
        "for i in range(np.array(SVR_predict_result_less_5).shape[1] - 1):\n",
        "    mae = mae_loss(week_visit_less_5[i + 40], np.array(SVR_predict_result_less_5)[:, i])\n",
        "    sum_mae += mae\n",
        "    print(\"MAE Loss for week \" + str(i + 40) + \" is: \" + str(mae))\n",
        "print(\"Average MAE is: \" + str(sum_mae / 4))"
      ],
      "execution_count": null,
      "outputs": [
        {
          "output_type": "stream",
          "text": [
            "MAE Loss for week 40 is: 4.157894736842105\n",
            "MAE Loss for week 41 is: 6.7894736842105265\n",
            "MAE Loss for week 42 is: 10.157894736842104\n",
            "MAE Loss for week 43 is: 8.263157894736842\n",
            "Average MAE is: 7.342105263157895\n"
          ],
          "name": "stdout"
        }
      ]
    },
    {
      "cell_type": "markdown",
      "metadata": {
        "id": "VHd6mXMLrQ5l"
      },
      "source": [
        "### KNN regression model (N = 2)\n",
        "Fit a KNN regression model and predict the result. n_neighbors = 2"
      ]
    },
    {
      "cell_type": "code",
      "metadata": {
        "id": "jen6fg1urQ5l",
        "outputId": "013646ba-3370-40fd-9852-8d02079073ef"
      },
      "source": [
        "from sklearn.neighbors import KNeighborsRegressor\n",
        "\n",
        "knn_predict_result_less_5 = []\n",
        "for data in data_less_5:\n",
        "    X = np.array(data[\"week_number\"]).reshape(-1, 1)\n",
        "    y = np.array(data[\"raw_visit_counts\"]).reshape(-1, 1)\n",
        "    model = KNeighborsRegressor(n_neighbors = 2)\n",
        "    model.fit(X, y)\n",
        "    pred = model.predict(np.array([40, 41, 42, 43, 44]).reshape(-1, 1))\n",
        "    knn_predict_result_less_5.append(list((np.rint(pred).reshape(1, -1)[0])))\n",
        "\n",
        "sum_mae = 0\n",
        "for i in range(np.array(knn_predict_result_less_5).shape[1] - 1):\n",
        "    mae = mae_loss(week_visit_less_5[i + 40], np.array(knn_predict_result_less_5)[:, i])\n",
        "    sum_mae += mae\n",
        "    print(\"MAE Loss for week \" + str(i + 40) + \" is: \" + str(mae))\n",
        "print(\"Average MAE is: \" + str(sum_mae / 4))"
      ],
      "execution_count": null,
      "outputs": [
        {
          "output_type": "stream",
          "text": [
            "MAE Loss for week 40 is: 8.157894736842104\n",
            "MAE Loss for week 41 is: 4.157894736842105\n",
            "MAE Loss for week 42 is: 7.052631578947368\n",
            "MAE Loss for week 43 is: 7.578947368421052\n",
            "Average MAE is: 6.736842105263157\n"
          ],
          "name": "stdout"
        }
      ]
    },
    {
      "cell_type": "markdown",
      "metadata": {
        "id": "D6ERsaHHrQ5l"
      },
      "source": [
        "### RandomForest regression model\n",
        "Fit a RandomForest regression model and predict the result."
      ]
    },
    {
      "cell_type": "code",
      "metadata": {
        "id": "2aKY8WIYrQ5l",
        "outputId": "d947b8b2-1e39-47ae-af8c-812ea83aac26"
      },
      "source": [
        "from sklearn.ensemble import RandomForestClassifier\n",
        "\n",
        "rf_predict_result_less_5 = []\n",
        "for data in data_less_5:\n",
        "    X = np.array(data[\"week_number\"]).reshape(-1, 1)\n",
        "    y = np.array(data[\"raw_visit_counts\"]).reshape(-1, 1)\n",
        "    model = RandomForestClassifier(max_features=None)\n",
        "    model.fit(X, y)\n",
        "    pred = model.predict(np.array([40, 41, 42, 43, 44]).reshape(-1, 1))\n",
        "    rf_predict_result_less_5.append(list((np.rint(pred).reshape(1, -1)[0])))\n",
        "\n",
        "sum_mae = 0\n",
        "for i in range(np.array(rf_predict_result_less_5).shape[1] - 1):\n",
        "    mae = mae_loss(week_visit_less_5[i + 40], np.array(rf_predict_result_less_5)[:, i])\n",
        "    sum_mae += mae\n",
        "    print(\"MAE Loss for week \" + str(i + 40) + \" is: \" + str(mae))\n",
        "print(\"Average MAE is: \" + str(sum_mae / 4))"
      ],
      "execution_count": null,
      "outputs": [
        {
          "output_type": "stream",
          "text": [
            "MAE Loss for week 40 is: 0.0\n",
            "MAE Loss for week 41 is: 0.0\n",
            "MAE Loss for week 42 is: 0.0\n",
            "MAE Loss for week 43 is: 0.0\n",
            "Average MAE is: 0.0\n"
          ],
          "name": "stdout"
        }
      ]
    },
    {
      "cell_type": "markdown",
      "metadata": {
        "id": "iyCLr9aVrQ5m"
      },
      "source": [
        "#### As the results shown above, KNN is selected to predict the POIs with no more than 5 weeks of data."
      ]
    },
    {
      "cell_type": "code",
      "metadata": {
        "id": "350q3-bvrQ5m",
        "outputId": "b755f3cf-11b2-48c9-c8c5-c94af0d1c7c6"
      },
      "source": [
        "poi_less_5_week_44_pred = {\"poi_id\": poi_ids_less_5, \"raw_visit_counts\": np.array(knn_predict_result_less_5)[:, -1]}\n",
        "poi_less_5_week_44_pred_df = pd.DataFrame.from_dict(poi_less_5_week_44_pred)\n",
        "poi_less_5_week_44_pred_df"
      ],
      "execution_count": null,
      "outputs": [
        {
          "output_type": "execute_result",
          "data": {
            "text/html": [
              "<div>\n",
              "<style scoped>\n",
              "    .dataframe tbody tr th:only-of-type {\n",
              "        vertical-align: middle;\n",
              "    }\n",
              "\n",
              "    .dataframe tbody tr th {\n",
              "        vertical-align: top;\n",
              "    }\n",
              "\n",
              "    .dataframe thead th {\n",
              "        text-align: right;\n",
              "    }\n",
              "</style>\n",
              "<table border=\"1\" class=\"dataframe\">\n",
              "  <thead>\n",
              "    <tr style=\"text-align: right;\">\n",
              "      <th></th>\n",
              "      <th>poi_id</th>\n",
              "      <th>raw_visit_counts</th>\n",
              "    </tr>\n",
              "  </thead>\n",
              "  <tbody>\n",
              "    <tr>\n",
              "      <th>0</th>\n",
              "      <td>d70a16ea-4982-4391-b7bd-6789f7018718</td>\n",
              "      <td>321.0</td>\n",
              "    </tr>\n",
              "    <tr>\n",
              "      <th>1</th>\n",
              "      <td>e71e79cd-71ae-4fd3-abf8-34f31a384702</td>\n",
              "      <td>40.0</td>\n",
              "    </tr>\n",
              "    <tr>\n",
              "      <th>2</th>\n",
              "      <td>5576691b-4038-4b20-9736-4fc4c6e3a65f</td>\n",
              "      <td>12.0</td>\n",
              "    </tr>\n",
              "    <tr>\n",
              "      <th>3</th>\n",
              "      <td>780472e8-9738-4832-a3d5-9736ed0a8f93</td>\n",
              "      <td>252.0</td>\n",
              "    </tr>\n",
              "    <tr>\n",
              "      <th>4</th>\n",
              "      <td>b5bbc683-775d-4fb5-b120-1c304302e136</td>\n",
              "      <td>370.0</td>\n",
              "    </tr>\n",
              "    <tr>\n",
              "      <th>5</th>\n",
              "      <td>2d4ebc33-75c8-4822-a48d-57401f36ddfc</td>\n",
              "      <td>70.0</td>\n",
              "    </tr>\n",
              "    <tr>\n",
              "      <th>6</th>\n",
              "      <td>db4b221a-b849-4ffe-ac01-b26d46a15e57</td>\n",
              "      <td>4.0</td>\n",
              "    </tr>\n",
              "    <tr>\n",
              "      <th>7</th>\n",
              "      <td>e3a4fcba-f285-4113-81f5-dab8df7a4c41</td>\n",
              "      <td>4.0</td>\n",
              "    </tr>\n",
              "    <tr>\n",
              "      <th>8</th>\n",
              "      <td>03e9a7b8-8502-4587-aef8-874041b57fd9</td>\n",
              "      <td>3.0</td>\n",
              "    </tr>\n",
              "    <tr>\n",
              "      <th>9</th>\n",
              "      <td>77baea34-296d-4f0f-9b0b-1e191233101a</td>\n",
              "      <td>11.0</td>\n",
              "    </tr>\n",
              "    <tr>\n",
              "      <th>10</th>\n",
              "      <td>48337bca-d4fd-46bf-b70a-9ada732d116a</td>\n",
              "      <td>94.0</td>\n",
              "    </tr>\n",
              "    <tr>\n",
              "      <th>11</th>\n",
              "      <td>9ea86083-43d8-43b0-b014-3136616c32b7</td>\n",
              "      <td>40.0</td>\n",
              "    </tr>\n",
              "    <tr>\n",
              "      <th>12</th>\n",
              "      <td>235937be-0295-4874-a3a7-7956e559a834</td>\n",
              "      <td>61.0</td>\n",
              "    </tr>\n",
              "    <tr>\n",
              "      <th>13</th>\n",
              "      <td>67dfe851-d702-494b-9ee6-e68c836dcf84</td>\n",
              "      <td>7.0</td>\n",
              "    </tr>\n",
              "    <tr>\n",
              "      <th>14</th>\n",
              "      <td>a4ad5af3-ece6-4298-ac4a-e0a0af6329fb</td>\n",
              "      <td>22.0</td>\n",
              "    </tr>\n",
              "    <tr>\n",
              "      <th>15</th>\n",
              "      <td>5919c7d1-c861-4d92-860e-3ef51f52f054</td>\n",
              "      <td>652.0</td>\n",
              "    </tr>\n",
              "    <tr>\n",
              "      <th>16</th>\n",
              "      <td>72e0f3da-e654-43b9-8a4b-e21dba4101ef</td>\n",
              "      <td>122.0</td>\n",
              "    </tr>\n",
              "    <tr>\n",
              "      <th>17</th>\n",
              "      <td>35644203-45ba-4f4a-9ee0-942a392927e8</td>\n",
              "      <td>7.0</td>\n",
              "    </tr>\n",
              "    <tr>\n",
              "      <th>18</th>\n",
              "      <td>a0d73d31-39d0-4753-8d12-edf8b44d31b2</td>\n",
              "      <td>8.0</td>\n",
              "    </tr>\n",
              "  </tbody>\n",
              "</table>\n",
              "</div>"
            ],
            "text/plain": [
              "                                  poi_id  raw_visit_counts\n",
              "0   d70a16ea-4982-4391-b7bd-6789f7018718             321.0\n",
              "1   e71e79cd-71ae-4fd3-abf8-34f31a384702              40.0\n",
              "2   5576691b-4038-4b20-9736-4fc4c6e3a65f              12.0\n",
              "3   780472e8-9738-4832-a3d5-9736ed0a8f93             252.0\n",
              "4   b5bbc683-775d-4fb5-b120-1c304302e136             370.0\n",
              "5   2d4ebc33-75c8-4822-a48d-57401f36ddfc              70.0\n",
              "6   db4b221a-b849-4ffe-ac01-b26d46a15e57               4.0\n",
              "7   e3a4fcba-f285-4113-81f5-dab8df7a4c41               4.0\n",
              "8   03e9a7b8-8502-4587-aef8-874041b57fd9               3.0\n",
              "9   77baea34-296d-4f0f-9b0b-1e191233101a              11.0\n",
              "10  48337bca-d4fd-46bf-b70a-9ada732d116a              94.0\n",
              "11  9ea86083-43d8-43b0-b014-3136616c32b7              40.0\n",
              "12  235937be-0295-4874-a3a7-7956e559a834              61.0\n",
              "13  67dfe851-d702-494b-9ee6-e68c836dcf84               7.0\n",
              "14  a4ad5af3-ece6-4298-ac4a-e0a0af6329fb              22.0\n",
              "15  5919c7d1-c861-4d92-860e-3ef51f52f054             652.0\n",
              "16  72e0f3da-e654-43b9-8a4b-e21dba4101ef             122.0\n",
              "17  35644203-45ba-4f4a-9ee0-942a392927e8               7.0\n",
              "18  a0d73d31-39d0-4753-8d12-edf8b44d31b2               8.0"
            ]
          },
          "metadata": {
            "tags": []
          },
          "execution_count": 98
        }
      ]
    },
    {
      "cell_type": "markdown",
      "metadata": {
        "id": "bU_ZTT-prQ5m"
      },
      "source": [
        "### _Just testing the KNN model for the entire dataset_"
      ]
    },
    {
      "cell_type": "code",
      "metadata": {
        "id": "wiRYVpJ-rQ5m"
      },
      "source": [
        "# select all POIs\n",
        "QUERY = \"\"\"\n",
        "SELECT poi_id\n",
        "FROM ironhacks-covid19-data.ironhacks_covid19_competition.prediction_list_poi\n",
        "\"\"\"\n",
        "query_job = bigquery_client.query(QUERY)\n",
        "all_poi_id = query_job.to_dataframe()"
      ],
      "execution_count": null,
      "outputs": []
    },
    {
      "cell_type": "code",
      "metadata": {
        "id": "bOwTHi5UrQ5n"
      },
      "source": [
        "data_all = []\n",
        "for poi_id in all_poi_id[\"poi_id\"]:\n",
        "    QUERY=\"\"\"\n",
        "    SELECT poi_id, week_number, raw_visit_counts\n",
        "    FROM ironhacks-covid19-data.ironhacks_covid19_competition.weekly_patterns\n",
        "    WHERE poi_id=\"%s\"\n",
        "    \"\"\"%(poi_id)\n",
        "    query_job = bigquery_client.query(QUERY)\n",
        "    data_all.append(query_job.to_dataframe())"
      ],
      "execution_count": null,
      "outputs": []
    },
    {
      "cell_type": "code",
      "metadata": {
        "id": "rM04y4QYrQ5n"
      },
      "source": [
        "week_all = {} # dict stores all visit count grouped by week\n",
        "poi_ids_all = all_poi_id[\"poi_id\"].tolist() # list stores all selected POIs' IDs\n",
        "for data in data_all:\n",
        "    for i in range(len(data[\"raw_visit_counts\"])):\n",
        "        week_all[data[\"week_number\"][i]] = []\n",
        "            \n",
        "for data in data_all:\n",
        "    for i in range(len(data[\"raw_visit_counts\"])):\n",
        "        week_all[data[\"week_number\"][i]].append(data[\"raw_visit_counts\"][i])"
      ],
      "execution_count": null,
      "outputs": []
    },
    {
      "cell_type": "code",
      "metadata": {
        "id": "FtwaMJDKrQ5n"
      },
      "source": [
        "knn_predict_all = []\n",
        "for data in data_all:\n",
        "    X = np.array(data[\"week_number\"]).reshape(-1, 1)\n",
        "    y = np.array(data[\"raw_visit_counts\"]).reshape(-1, 1)\n",
        "    model = KNeighborsRegressor(n_neighbors = 2)\n",
        "    model.fit(X, y)\n",
        "    pred = model.predict(np.array([40, 41, 42, 43, 44]).reshape(-1, 1))\n",
        "    knn_predict_all.append(list((np.rint(pred).reshape(1, -1)[0])))"
      ],
      "execution_count": null,
      "outputs": []
    },
    {
      "cell_type": "code",
      "metadata": {
        "id": "aPNyKWgrrQ5n",
        "outputId": "20c6032f-44f6-4d29-da25-af503dc646ff"
      },
      "source": [
        "sum_mae = 0\n",
        "for i in range(4):\n",
        "    mae = mae_loss(week_all[i + 40], np.array(knn_predict_all)[:, i])\n",
        "    sum_mae += mae\n",
        "    print(\"MAE Loss for week \" + str(i + 40) + \" is: \" + str(mae))\n",
        "print(\"Average MAE is: \" + str(sum_mae / 4))"
      ],
      "execution_count": null,
      "outputs": [
        {
          "output_type": "stream",
          "text": [
            "MAE Loss for week 40 is: 9.459534368070953\n",
            "MAE Loss for week 41 is: 6.42239467849224\n",
            "MAE Loss for week 42 is: 6.976164079822617\n",
            "MAE Loss for week 43 is: 7.635254988913526\n",
            "Average MAE is: 7.623337028824834\n"
          ],
          "name": "stdout"
        }
      ]
    },
    {
      "cell_type": "code",
      "metadata": {
        "id": "rxnB6fvfrQ5n",
        "outputId": "f91390b5-145b-4885-8a34-958eb2e72662"
      },
      "source": [
        "knn_all_poi_univariate_predict = {\"poi_id\": poi_ids_all, \"raw_visit_counts\": np.array(knn_predict_all)[:, -1]}\n",
        "knn_all_poi_univariate_predict_df = pd.DataFrame.from_dict(knn_all_poi_univariate_predict)\n",
        "knn_all_poi_univariate_predict_df"
      ],
      "execution_count": null,
      "outputs": [
        {
          "output_type": "execute_result",
          "data": {
            "text/html": [
              "<div>\n",
              "<style scoped>\n",
              "    .dataframe tbody tr th:only-of-type {\n",
              "        vertical-align: middle;\n",
              "    }\n",
              "\n",
              "    .dataframe tbody tr th {\n",
              "        vertical-align: top;\n",
              "    }\n",
              "\n",
              "    .dataframe thead th {\n",
              "        text-align: right;\n",
              "    }\n",
              "</style>\n",
              "<table border=\"1\" class=\"dataframe\">\n",
              "  <thead>\n",
              "    <tr style=\"text-align: right;\">\n",
              "      <th></th>\n",
              "      <th>poi_id</th>\n",
              "      <th>raw_visit_counts</th>\n",
              "    </tr>\n",
              "  </thead>\n",
              "  <tbody>\n",
              "    <tr>\n",
              "      <th>0</th>\n",
              "      <td>ad5fbefe-9e6a-47da-8011-8dadd9ad4cfe</td>\n",
              "      <td>4.0</td>\n",
              "    </tr>\n",
              "    <tr>\n",
              "      <th>1</th>\n",
              "      <td>0cd903d2-00a1-44ac-b262-fbc7475eb2bd</td>\n",
              "      <td>4.0</td>\n",
              "    </tr>\n",
              "    <tr>\n",
              "      <th>2</th>\n",
              "      <td>780472e8-9738-4832-a3d5-9736ed0a8f93</td>\n",
              "      <td>252.0</td>\n",
              "    </tr>\n",
              "    <tr>\n",
              "      <th>3</th>\n",
              "      <td>e9316e9d-8db6-4134-8a50-1c1da16fb9bc</td>\n",
              "      <td>44.0</td>\n",
              "    </tr>\n",
              "    <tr>\n",
              "      <th>4</th>\n",
              "      <td>5545ebf0-4f14-4f52-a499-8a5bdaa1df10</td>\n",
              "      <td>22.0</td>\n",
              "    </tr>\n",
              "    <tr>\n",
              "      <th>...</th>\n",
              "      <td>...</td>\n",
              "      <td>...</td>\n",
              "    </tr>\n",
              "    <tr>\n",
              "      <th>1799</th>\n",
              "      <td>8fb606bf-5918-4c16-af3c-1ab39ae46251</td>\n",
              "      <td>5.0</td>\n",
              "    </tr>\n",
              "    <tr>\n",
              "      <th>1800</th>\n",
              "      <td>801457d7-be9f-41c6-a87c-038ffd7f8b81</td>\n",
              "      <td>20.0</td>\n",
              "    </tr>\n",
              "    <tr>\n",
              "      <th>1801</th>\n",
              "      <td>a09953ae-81ed-4ed8-9dd5-be160e91297f</td>\n",
              "      <td>195.0</td>\n",
              "    </tr>\n",
              "    <tr>\n",
              "      <th>1802</th>\n",
              "      <td>45fe4a7f-30ec-4be2-ae71-34b833df2424</td>\n",
              "      <td>16.0</td>\n",
              "    </tr>\n",
              "    <tr>\n",
              "      <th>1803</th>\n",
              "      <td>097307c9-bc10-4b58-b27e-350acd49ff14</td>\n",
              "      <td>46.0</td>\n",
              "    </tr>\n",
              "  </tbody>\n",
              "</table>\n",
              "<p>1804 rows × 2 columns</p>\n",
              "</div>"
            ],
            "text/plain": [
              "                                    poi_id  raw_visit_counts\n",
              "0     ad5fbefe-9e6a-47da-8011-8dadd9ad4cfe               4.0\n",
              "1     0cd903d2-00a1-44ac-b262-fbc7475eb2bd               4.0\n",
              "2     780472e8-9738-4832-a3d5-9736ed0a8f93             252.0\n",
              "3     e9316e9d-8db6-4134-8a50-1c1da16fb9bc              44.0\n",
              "4     5545ebf0-4f14-4f52-a499-8a5bdaa1df10              22.0\n",
              "...                                    ...               ...\n",
              "1799  8fb606bf-5918-4c16-af3c-1ab39ae46251               5.0\n",
              "1800  801457d7-be9f-41c6-a87c-038ffd7f8b81              20.0\n",
              "1801  a09953ae-81ed-4ed8-9dd5-be160e91297f             195.0\n",
              "1802  45fe4a7f-30ec-4be2-ae71-34b833df2424              16.0\n",
              "1803  097307c9-bc10-4b58-b27e-350acd49ff14              46.0\n",
              "\n",
              "[1804 rows x 2 columns]"
            ]
          },
          "metadata": {
            "tags": []
          },
          "execution_count": 172
        }
      ]
    },
    {
      "cell_type": "markdown",
      "metadata": {
        "id": "pYGtiuWWrQ5o"
      },
      "source": [
        "### Statistic Model predict function\n",
        "Define the model function with the univariate models. Specificly, the selected models are\n",
        "- Autoregression (AR)\n",
        "- Moving Average (MA)\n",
        "- Autoregressive Moving-Average (ARMA)\n",
        "- Autoregressive Integrated Moving Average (ARIMA)\n",
        "- Seasonal Autoregressive Integrated Moving-Average (SARIMA)\n",
        "- Simple Exponential Smoothing (SES)\n",
        "- Holt Winter’s Exponential Smoothing (HWES)\n",
        "- Holt’s exponential smoothing (HOLT)"
      ]
    },
    {
      "cell_type": "code",
      "metadata": {
        "id": "-KEH6OJZrQ5o"
      },
      "source": [
        "from statsmodels.tsa.ar_model import AutoReg\n",
        "from statsmodels.tsa.arima.model import ARIMA\n",
        "from statsmodels.tsa.statespace.sarimax import SARIMAX\n",
        "from statsmodels.tsa.holtwinters import SimpleExpSmoothing\n",
        "from statsmodels.tsa.holtwinters import ExponentialSmoothing\n",
        "from statsmodels.tsa.holtwinters import Holt\n",
        "\n",
        "def univariate_model_predict(model_type, predict_week=44):\n",
        "    \"\"\"\n",
        "    univariate models prediction function.\n",
        "    param\n",
        "    -------------------\n",
        "    model_type : string\n",
        "        Select the univariate model that to be trained.\n",
        "    predict_week : number\n",
        "        Only 43 and 44. The week to be predicted. Default week is 44.\n",
        "    -------------------\n",
        "    return\n",
        "    predict : list\n",
        "        Return predicted result of all poi visit counts in a list.\n",
        "    model : object\n",
        "        Trained model.\n",
        "    \"\"\"\n",
        "    predict = []\n",
        "    for data in poi_visit_array:\n",
        "        if(predict_week == 43):\n",
        "            train_data = data[:-1]\n",
        "        elif(predict_week == 44):\n",
        "            train_data = data\n",
        "            \n",
        "        if(model_type == \"AR\"):\n",
        "            model = AutoReg(train_data, lags=1)\n",
        "        elif(model_type == \"MA\"):\n",
        "            model = ARIMA(train_data, order=(0, 0, 1))\n",
        "        elif(model_type == \"ARMA\"):\n",
        "            model = ARIMA(train_data, order=(2, 0, 1))\n",
        "        elif(model_type == \"ARIMA\"):\n",
        "            model = ARIMA(train_data, order=(1, 1, 1))\n",
        "        elif(model_type == \"SARIMA\"):\n",
        "            model = SARIMAX(train_data, order=(1, 1, 1), seasonal_order=(0, 0, 0, 0))\n",
        "        elif(model_type == \"SES\"):\n",
        "            model = SimpleExpSmoothing(train_data)\n",
        "        elif(model_type == \"HWES\"):\n",
        "            model = ExponentialSmoothing(train_data)\n",
        "        elif(model_type == \"HOLT\"):\n",
        "            model = Holt(train_data)\n",
        "            \n",
        "        if(model_type == \"SARIMA\"):\n",
        "            model_fit = model.fit(disp=False)\n",
        "        else:\n",
        "            model_fit = model.fit()\n",
        "        \n",
        "        if(model_type == \"ARIMA\"):\n",
        "            pred = model_fit.predict(len(train_data), len(train_data), typ=\"levels\")\n",
        "        else:\n",
        "            pred = model_fit.predict(len(train_data), len(train_data))\n",
        "        predict.append(np.rint(pred[0]))\n",
        "    return predict, model_fit\n",
        "    "
      ],
      "execution_count": null,
      "outputs": []
    },
    {
      "cell_type": "code",
      "metadata": {
        "id": "zOcX7WTDrQ5o",
        "outputId": "44d18eef-4c30-4a94-cee0-612de8c64a19"
      },
      "source": [
        "# AR model predict\n",
        "ar_pred, ar_model = univariate_model_predict(\"AR\", 43)\n",
        "ar_mae = mae_loss(week_43_true, ar_pred)\n",
        "print(\"AR predict MAE for week 43 is: \" + str(ar_mae))"
      ],
      "execution_count": null,
      "outputs": [
        {
          "output_type": "stream",
          "text": [
            "AR predict MAE for week 43 is: 14.932926829268293\n"
          ],
          "name": "stdout"
        }
      ]
    },
    {
      "cell_type": "code",
      "metadata": {
        "id": "swrGQeYOrQ5o",
        "outputId": "12060ee9-e073-4789-b8a8-ae4725a9ea68"
      },
      "source": [
        "# MA model predict\n",
        "ma_pred, ma_model = univariate_model_predict(\"MA\", 43)\n",
        "ma_mae = mae_loss(week_43_true, ma_pred)\n",
        "print(\"MA predict MSE for week 43 is: \" + str(ma_mae))"
      ],
      "execution_count": null,
      "outputs": [
        {
          "output_type": "stream",
          "text": [
            "MA predict MSE for week 43 is: 21.431818181818183\n"
          ],
          "name": "stdout"
        }
      ]
    },
    {
      "cell_type": "code",
      "metadata": {
        "id": "3LYj5S3yrQ5o",
        "outputId": "db049a72-8826-4947-b4cc-263f63cba98c"
      },
      "source": [
        "# ARMA model predict\n",
        "arma_pred, arma_model = univariate_model_predict(\"ARMA\", 43)\n",
        "arma_mae = mae_loss(week_43_true, arma_pred)\n",
        "print(\"ARMA predict MSE for week 43 is: \" + str(arma_mae))"
      ],
      "execution_count": null,
      "outputs": [
        {
          "output_type": "stream",
          "text": [
            "ARMA predict MSE for week 43 is: 15.05820399113082\n"
          ],
          "name": "stdout"
        }
      ]
    },
    {
      "cell_type": "code",
      "metadata": {
        "id": "qxEbil_XrQ5r",
        "outputId": "4ff8089f-7118-4aba-9d8d-92c2b3727104"
      },
      "source": [
        "# ARIMA model predict\n",
        "arima_pred, arima_model = univariate_model_predict(\"ARIMA\", 43)\n",
        "arima_mae = mae_loss(week_43_true, arima_pred)\n",
        "print(\"ARIMA predict MSE for week 43 is: \" + str(arima_mae))"
      ],
      "execution_count": null,
      "outputs": [
        {
          "output_type": "stream",
          "text": [
            "ARIMA predict MSE for week 43 is: 15.241130820399112\n"
          ],
          "name": "stdout"
        }
      ]
    },
    {
      "cell_type": "code",
      "metadata": {
        "id": "We6q9wyFrQ5s",
        "outputId": "45e9029f-35d5-4644-9067-44b895554b7e"
      },
      "source": [
        "# SARIMA model predict\n",
        "sarima_pred, sarima_model = univariate_model_predict(\"SARIMA\", 43)\n",
        "sarima_mae = mae_loss(week_43_true, sarima_pred)\n",
        "print(\"SARIMA predict MSE for week 43 is: \" + str(sarima_mae))"
      ],
      "execution_count": null,
      "outputs": [
        {
          "output_type": "stream",
          "text": [
            "SARIMA predict MSE for week 43 is: 15.241130820399112\n"
          ],
          "name": "stdout"
        }
      ]
    },
    {
      "cell_type": "code",
      "metadata": {
        "id": "J3ohzZ17rQ5s",
        "outputId": "0cfb7a18-fcb6-4bac-bbc7-d63fa0d49ecc"
      },
      "source": [
        "# SES model predict\n",
        "ses_pred, ses_model = univariate_model_predict(\"SES\", 43)\n",
        "ses_mae = mae_loss(week_43_true, ses_pred)\n",
        "print(\"SES predict MSE for week 43 is: \" + str(ses_mae))"
      ],
      "execution_count": null,
      "outputs": [
        {
          "output_type": "stream",
          "text": [
            "SES predict MSE for week 43 is: 14.394124168514413\n"
          ],
          "name": "stdout"
        }
      ]
    },
    {
      "cell_type": "code",
      "metadata": {
        "id": "0J_WHsEyrQ5s",
        "outputId": "57ad4f29-4ef3-44bb-a455-49591357d093"
      },
      "source": [
        "# HWES model predict\n",
        "hwes_pred, hwes_model = univariate_model_predict(\"HWES\", 43)\n",
        "hwes_mae = mae_loss(week_43_true, hwes_pred)\n",
        "print(\"HWES predict MSE for week 43 is: \" + str(hwes_mae))"
      ],
      "execution_count": null,
      "outputs": [
        {
          "output_type": "stream",
          "text": [
            "HWES predict MSE for week 43 is: 14.394124168514413\n"
          ],
          "name": "stdout"
        }
      ]
    },
    {
      "cell_type": "code",
      "metadata": {
        "id": "glPUYTM3rQ5s",
        "outputId": "44e12369-8dee-485f-c947-ee8a02ba41f0"
      },
      "source": [
        "# HOLT model predict\n",
        "holt_pred, holt_model = univariate_model_predict(\"HOLT\", 43)\n",
        "holt_mae = mae_loss(week_43_true, holt_pred)\n",
        "print(\"HOLT predict MSE for week 43 is: \" + str(holt_mae))"
      ],
      "execution_count": null,
      "outputs": [
        {
          "output_type": "stream",
          "text": [
            "HOLT predict MSE for week 43 is: 16.795454545454547\n"
          ],
          "name": "stdout"
        }
      ]
    },
    {
      "cell_type": "code",
      "metadata": {
        "id": "HFNZxAvSrQ5t",
        "outputId": "557a1b33-a73b-4e30-bad4-e9ae9a8a9bdb"
      },
      "source": [
        "# Select the best univariate model to predict week 44\n",
        "best_pred, best_model = univariate_model_predict(\"SES\")\n",
        "week_44 = {'poi_id':poi_pred_id, 'raw_visit_counts': best_pred}\n",
        "week_44_df = pd.DataFrame(week_44)\n",
        "week_44_df"
      ],
      "execution_count": null,
      "outputs": [
        {
          "output_type": "execute_result",
          "data": {
            "text/html": [
              "<div>\n",
              "<style scoped>\n",
              "    .dataframe tbody tr th:only-of-type {\n",
              "        vertical-align: middle;\n",
              "    }\n",
              "\n",
              "    .dataframe tbody tr th {\n",
              "        vertical-align: top;\n",
              "    }\n",
              "\n",
              "    .dataframe thead th {\n",
              "        text-align: right;\n",
              "    }\n",
              "</style>\n",
              "<table border=\"1\" class=\"dataframe\">\n",
              "  <thead>\n",
              "    <tr style=\"text-align: right;\">\n",
              "      <th></th>\n",
              "      <th>poi_id</th>\n",
              "      <th>raw_visit_counts</th>\n",
              "    </tr>\n",
              "  </thead>\n",
              "  <tbody>\n",
              "    <tr>\n",
              "      <th>0</th>\n",
              "      <td>00243ce2-6ecc-4c63-8d58-1138476289e4</td>\n",
              "      <td>6.0</td>\n",
              "    </tr>\n",
              "    <tr>\n",
              "      <th>1</th>\n",
              "      <td>00251e06-3f79-49f1-9e5a-7735e9b7836f</td>\n",
              "      <td>21.0</td>\n",
              "    </tr>\n",
              "    <tr>\n",
              "      <th>2</th>\n",
              "      <td>004e8d59-b91b-488a-b051-ed2769d8e8e3</td>\n",
              "      <td>193.0</td>\n",
              "    </tr>\n",
              "    <tr>\n",
              "      <th>3</th>\n",
              "      <td>00529b9c-54fe-4690-b319-48cf4c9eb226</td>\n",
              "      <td>30.0</td>\n",
              "    </tr>\n",
              "    <tr>\n",
              "      <th>4</th>\n",
              "      <td>005ec245-ca7b-4814-b706-8f0737c045b2</td>\n",
              "      <td>5.0</td>\n",
              "    </tr>\n",
              "    <tr>\n",
              "      <th>...</th>\n",
              "      <td>...</td>\n",
              "      <td>...</td>\n",
              "    </tr>\n",
              "    <tr>\n",
              "      <th>1799</th>\n",
              "      <td>ff017941-e5c5-4c3e-ad8e-51bee7a0d3f3</td>\n",
              "      <td>211.0</td>\n",
              "    </tr>\n",
              "    <tr>\n",
              "      <th>1800</th>\n",
              "      <td>ff047527-176f-4d9b-9d91-0d0ab8805a44</td>\n",
              "      <td>14.0</td>\n",
              "    </tr>\n",
              "    <tr>\n",
              "      <th>1801</th>\n",
              "      <td>ffa5b55e-5f61-4cd7-8f66-741f492c34c6</td>\n",
              "      <td>150.0</td>\n",
              "    </tr>\n",
              "    <tr>\n",
              "      <th>1802</th>\n",
              "      <td>ffdda836-f200-470e-9e9d-c8917a164043</td>\n",
              "      <td>9.0</td>\n",
              "    </tr>\n",
              "    <tr>\n",
              "      <th>1803</th>\n",
              "      <td>fffcc243-6692-466d-a427-4696a2f7ab61</td>\n",
              "      <td>11.0</td>\n",
              "    </tr>\n",
              "  </tbody>\n",
              "</table>\n",
              "<p>1804 rows × 2 columns</p>\n",
              "</div>"
            ],
            "text/plain": [
              "                                    poi_id  raw_visit_counts\n",
              "0     00243ce2-6ecc-4c63-8d58-1138476289e4               6.0\n",
              "1     00251e06-3f79-49f1-9e5a-7735e9b7836f              21.0\n",
              "2     004e8d59-b91b-488a-b051-ed2769d8e8e3             193.0\n",
              "3     00529b9c-54fe-4690-b319-48cf4c9eb226              30.0\n",
              "4     005ec245-ca7b-4814-b706-8f0737c045b2               5.0\n",
              "...                                    ...               ...\n",
              "1799  ff017941-e5c5-4c3e-ad8e-51bee7a0d3f3             211.0\n",
              "1800  ff047527-176f-4d9b-9d91-0d0ab8805a44              14.0\n",
              "1801  ffa5b55e-5f61-4cd7-8f66-741f492c34c6             150.0\n",
              "1802  ffdda836-f200-470e-9e9d-c8917a164043               9.0\n",
              "1803  fffcc243-6692-466d-a427-4696a2f7ab61              11.0\n",
              "\n",
              "[1804 rows x 2 columns]"
            ]
          },
          "metadata": {
            "tags": []
          },
          "execution_count": 18
        }
      ]
    },
    {
      "cell_type": "code",
      "metadata": {
        "id": "dkUGftM_rQ5t"
      },
      "source": [
        "week_44_df.to_csv(\"prediction_list_poi.csv\", index=False)"
      ],
      "execution_count": null,
      "outputs": []
    },
    {
      "cell_type": "code",
      "metadata": {
        "id": "CZClH-DFrQ5t"
      },
      "source": [
        "\n",
        "!pip install pmdarima"
      ],
      "execution_count": null,
      "outputs": []
    },
    {
      "cell_type": "markdown",
      "metadata": {
        "id": "vyPcqj1drQ5t"
      },
      "source": [
        "### Use auto_arima to select univariate models for each POI"
      ]
    },
    {
      "cell_type": "code",
      "metadata": {
        "id": "dyfRFvErrQ5t",
        "outputId": "895b236e-03cf-40b5-bb96-e7d9003953fc"
      },
      "source": [
        "from pmdarima import auto_arima\n",
        "def auto_univariate_predict(predict_week=44):\n",
        "    prediction = []\n",
        "    for data in poi_visit_array:\n",
        "        if(predict_week == 43):\n",
        "            train_data = data[:-1]\n",
        "        elif(predict_week == 44):\n",
        "            train_data = data\n",
        "        result = auto_arima(train_data, start_p=1, start_q=1, max_p=10, max_d=7,max_q=10, max_P=4, max_D=4,max_Q=4)\n",
        "        pred = np.around(result.fit_predict(train_data, n_periods=1))\n",
        "        prediction.append(pred)\n",
        "    return prediction\n",
        "\n",
        "auto_model_week_43_pred = auto_univariate_predict(predict_week=43)\n",
        "print(mae_loss(week_43_true, auto_model_week_43_pred))"
      ],
      "execution_count": null,
      "outputs": [
        {
          "output_type": "stream",
          "text": [
            "116.41370986376664\n"
          ],
          "name": "stdout"
        }
      ]
    },
    {
      "cell_type": "markdown",
      "metadata": {
        "id": "hYwyfSkprQ5t"
      },
      "source": [
        "## LSTM model"
      ]
    },
    {
      "cell_type": "code",
      "metadata": {
        "id": "DgzRkg7NrQ5u"
      },
      "source": [
        "\n",
        "!pip install keras\n",
        "!pip install tensorflow"
      ],
      "execution_count": null,
      "outputs": []
    },
    {
      "cell_type": "code",
      "metadata": {
        "id": "4Ev8__CMrQ5u"
      },
      "source": [
        "from keras.models import Sequential\n",
        "from keras.layers import Dense\n",
        "from keras.layers import LSTM\n",
        "\n",
        "def lstm_univariate_model(n_feature):\n",
        "    model = Sequential()\n",
        "#     model.add(Dense(10, activation=\"relu\"))\n",
        "    model.add(LSTM(4, input_shape=(1, n_feature)))\n",
        "    model.add(Dense(1))\n",
        "    model.compile(loss=\"mae\", optimizer=\"adam\", metrics=['accuracy'])\n",
        "    return model"
      ],
      "execution_count": null,
      "outputs": []
    },
    {
      "cell_type": "code",
      "metadata": {
        "id": "MKXqQ66JrQ5u"
      },
      "source": [
        "# split into train and test sets\n",
        "dataset = poi_visit_array[0][:-1]\n",
        "train_size = int(len(dataset) * 0.7)\n",
        "test_size = len(dataset) - train_size\n",
        "train, test = dataset[0:train_size], dataset[train_size:len(dataset)]\n",
        "print(train, test)\n",
        "\n",
        "# convert an array of values into a dataset matrix\n",
        "def create_dataset(dataset, look_back=1):\n",
        "    dataX, dataY = [], []\n",
        "    for i in range(len(dataset)-look_back-1):\n",
        "        a = dataset[i:(i+look_back)]\n",
        "        dataX.append(a)\n",
        "        dataY.append(dataset[i + look_back])\n",
        "    return np.array(dataX), np.array(dataY)\n",
        "\n",
        "look_back=2\n",
        "trainX, trainY = create_dataset(train, look_back)\n",
        "testX, testY = create_dataset(test, look_back)\n",
        "\n",
        "trainX = np.reshape(trainX, (trainX.shape[0], 1, trainX.shape[1]))\n",
        "testX = np.reshape(testX, (testX.shape[0], 1, testX.shape[1]))\n",
        "\n",
        "lstm_uni_model = lstm_univariate_model(look_back)\n",
        "lstm_uni_model.summary()\n",
        "lstm_uni_data = lstm_uni_model.fit(trainX, trainY, validation_data=(testX, testY), epochs=1000, batch_size=1, verbose=2)"
      ],
      "execution_count": null,
      "outputs": []
    },
    {
      "cell_type": "code",
      "metadata": {
        "id": "JJkeaBLyrQ5u",
        "outputId": "84572466-ae19-4e70-b0c6-502406de6c15"
      },
      "source": [
        "np.rint(lstm_uni_model.predict(testX)[-1])"
      ],
      "execution_count": null,
      "outputs": [
        {
          "output_type": "execute_result",
          "data": {
            "text/plain": [
              "array([4.], dtype=float32)"
            ]
          },
          "metadata": {
            "tags": []
          },
          "execution_count": 16
        }
      ]
    },
    {
      "cell_type": "code",
      "metadata": {
        "id": "4vO7R_hnrQ5u",
        "outputId": "9d667959-4e91-43c4-9dba-26a6503e1c8c"
      },
      "source": [
        "plt.figure()\n",
        "plt.plot(lstm_uni_data.history['loss'])\n",
        "plt.plot(lstm_uni_data.history['val_loss'])\n",
        "plt.title('LSTM Accuracy vs Epoch')\n",
        "plt.ylabel('Accuracy')\n",
        "plt.xlabel('Epoch')\n",
        "plt.legend(['train', 'test'], loc='upper left')"
      ],
      "execution_count": null,
      "outputs": [
        {
          "output_type": "execute_result",
          "data": {
            "text/plain": [
              "<matplotlib.legend.Legend at 0x7fbae6849750>"
            ]
          },
          "metadata": {
            "tags": []
          },
          "execution_count": 17
        },
        {
          "output_type": "display_data",
          "data": {
            "image/png": "[encoded data removed]",
            "text/plain": [
              "<Figure size 432x288 with 1 Axes>"
            ]
          },
          "metadata": {
            "tags": [],
            "needs_background": "light"
          }
        }
      ]
    },
    {
      "cell_type": "code",
      "metadata": {
        "id": "sKu1BcvvrQ5v"
      },
      "source": [
        "POI_CONCEN = {k:[] for k in POI_ID}\n",
        "POI_MED_DWELL = {k:[] for k in POI_ID}\n",
        "\n",
        "# init with all 0\n",
        "for k in POI_CONCEN:\n",
        "    for i in range(11,44):\n",
        "        POI_CONCEN[k].append({i:0})\n",
        "        POI_MED_DWELL[k].append({i:0})\n",
        "        \n",
        "for i in range(0,len(weekly_patterns_data)):\n",
        "    for week_concen, week_med_dwell in zip(POI_CONCEN[weekly_patterns_data[\"poi_id\"][i]], POI_MED_DWELL[weekly_patterns_data[\"poi_id\"][i]]):\n",
        "        if(weekly_patterns_data[\"week_number\"][i] in week_concen):\n",
        "                        week_concen[weekly_patterns_data[\"week_number\"][i]] = weekly_patterns_data[\"visits_concentration\"][i]\n",
        "                        week_med_dwell[weekly_patterns_data[\"week_number\"][i]] = weekly_patterns_data[\"median_dwell\"][i]\n",
        "poi_concen_df = pd.DataFrame.from_dict(POI_CONCEN)\n",
        "poi_dwell_df = pd.DataFrame.from_dict(POI_MED_DWELL)"
      ],
      "execution_count": null,
      "outputs": []
    },
    {
      "cell_type": "code",
      "metadata": {
        "id": "EJpHA55TrQ5v"
      },
      "source": [
        "for i in range(0, 33):\n",
        "    for j in range(0, 1804):\n",
        "        d1 = poi_concen_df.iloc[i,j]\n",
        "        d2 = poi_dwell_df.iloc[i,j]\n",
        "        poi_concen_df.iloc[i,j] = next(iter(d1.values()))\n",
        "        poi_dwell_df.iloc[i,j] = next(iter(d2.values()))"
      ],
      "execution_count": null,
      "outputs": []
    },
    {
      "cell_type": "code",
      "metadata": {
        "id": "xr94kRIVrQ5v"
      },
      "source": [
        "print(poi_visit_df.shape)\n",
        "print(poi_concen_df.shape)\n",
        "print(poi_dwell_df.shape)"
      ],
      "execution_count": null,
      "outputs": []
    },
    {
      "cell_type": "code",
      "metadata": {
        "id": "8Or6S-8TrQ5v"
      },
      "source": [
        "poi_concen_array = poi_concen_df.T.to_numpy()\n",
        "poi_dwell_array = poi_dwell_df.T.to_numpy()\n",
        "\n",
        "NUM_PLOTS = 1804\n",
        "for l1, l2 in zip(poi_concen_array, poi_dwell_array):\n",
        "    temp_sum1, temp_sum2 = 0, 0\n",
        "    for i in range(2,7):\n",
        "        temp_sum1 += l1[i]\n",
        "        temp_sum2 += l2[i]\n",
        "\n",
        "        if i == 6:\n",
        "            l1[i+1] = temp_sum1 / 5\n",
        "            l2[i+1] = temp_sum2 / 5\n",
        "            temp_sum1 += l1[i+1] - l1[2]\n",
        "            temp_sum2 += l2[i+1] - l2[2]\n",
        "            l1[i+2] = temp_sum1 / 5\n",
        "            l2[i+2] = temp_sum2 / 5\n",
        "            \n",
        "plt.figure(figsize=(15,5))\n",
        "for i in range(0, NUM_PLOTS):\n",
        "    plt.plot(poi_concen_array[i])\n",
        "    \n",
        "plt.figure(figsize=(15,5))\n",
        "for i in range(0, NUM_PLOTS):\n",
        "    plt.plot(poi_dwell_array[i])"
      ],
      "execution_count": null,
      "outputs": []
    },
    {
      "cell_type": "code",
      "metadata": {
        "id": "FO-BDqeUrQ5v",
        "outputId": "56e40c39-1c4f-4560-f79d-b799bf5d63f5"
      },
      "source": [
        "### TODO change it!!!!\n",
        "from statsmodels.tsa.vector_ar.var_model import VAR\n",
        "from random import random\n",
        "data = []\n",
        "for i in range(100):\n",
        "    v1 = i + random()\n",
        "    v2 = v1 + random()\n",
        "    v3 = v2 + random()\n",
        "    row = [v1, v2, v3]\n",
        "    data.append(row)\n",
        "model = VAR(data)\n",
        "model_fit = model.fit()\n",
        "# make prediction\n",
        "yhat = model_fit.forecast(model_fit.y, steps=10)\n",
        "print(yhat)"
      ],
      "execution_count": null,
      "outputs": [
        {
          "output_type": "stream",
          "text": [
            "[[100.33382282 100.80847979 101.17674311]\n",
            " [101.33181272 101.81319217 102.2230662 ]\n",
            " [102.32875227 102.81134276 103.21327589]\n",
            " [103.32584419 103.80897534 104.2099197 ]\n",
            " [104.32298401 104.80654484 105.20550124]\n",
            " [105.32019597 105.80417301 106.20128148]\n",
            " [106.31747797 106.80186901 107.19710928]\n",
            " [107.31483049 107.7996353  108.19301007]\n",
            " [108.31225351 108.79747207 109.18898079]\n",
            " [109.30974704 109.79537937 110.18502197]]\n"
          ],
          "name": "stdout"
        }
      ]
    },
    {
      "cell_type": "code",
      "metadata": {
        "id": "omuhXxAMrQ5v"
      },
      "source": [
        "# normal lstm\n",
        "print(poi_visit_array)\n",
        "print(poi_concen_array)\n",
        "print(poi_dwell_array)"
      ],
      "execution_count": null,
      "outputs": []
    },
    {
      "cell_type": "code",
      "metadata": {
        "id": "ZkHQ-d0-rQ5w"
      },
      "source": [
        "# look back steps\n",
        "# convert to [rows, columns] structure\n",
        "\n",
        "\n",
        "aaa = 0\n",
        "in_seq1 = poi_dwell_array[aaa][:-1].reshape((len(poi_dwell_array[aaa][:-1]), 1))\n",
        "in_seq2 = poi_concen_array[aaa][:-1].reshape((len(poi_concen_array[aaa][:-1]), 1))\n",
        "out_seq = poi_visit_array[aaa][:-1].reshape((len(poi_visit_array[aaa][:-1]), 1))\n",
        "in_seq1 = nor_seq(in_seq1)\n",
        "in_seq2 = nor_seq(in_seq2)\n",
        "\n",
        "# horizontally stack columns\n",
        "dataset = np.hstack((in_seq1, in_seq2, out_seq))\n",
        "# choose a number of time steps\n",
        "n_steps = 2\n",
        "# convert into input/output\n",
        "X, y = split_sequences(dataset, n_steps)\n",
        "print(X.shape, y.shape)\n",
        "# summarize the data\n",
        "for i in range(len(X)):\n",
        "    print(X[i], y[i])\n",
        "# print(np.array(in_seq1).astype(None))"
      ],
      "execution_count": null,
      "outputs": []
    },
    {
      "cell_type": "code",
      "metadata": {
        "id": "dQqUlgiqrQ5w",
        "outputId": "92afe365-606f-4ce4-86ac-3cc60b92df59"
      },
      "source": [
        "n_features = X.shape[2]\n",
        "x_input = []\n",
        "for n in range(n_steps):\n",
        "    x_input.append([in_seq1[n-n_steps], in_seq2[n-n_steps]])\n",
        "x_input = np.array(x_input).reshape((1, n_steps, n_features)).astype(None)\n",
        "print(x_input)"
      ],
      "execution_count": null,
      "outputs": [
        {
          "output_type": "stream",
          "text": [
            "[[[0.0501139  0.183673  ]\n",
            "  [0.64464692 0.5       ]]]\n"
          ],
          "name": "stdout"
        }
      ]
    },
    {
      "cell_type": "code",
      "metadata": {
        "id": "eWBx424PrQ5w",
        "outputId": "584f28be-1d85-4826-c616-0157f8c6a38b"
      },
      "source": [
        "n_features = X.shape[2]\n",
        "model = Sequential()\n",
        "model.add(LSTM(5, activation='relu', input_shape=(n_steps, n_features)))\n",
        "# model.add(Dense(8, activation='relu'))\n",
        "# model.add(Dense(32, activation='relu'))\n",
        "model.add(Dense(1))\n",
        "model.compile(optimizer='adam', loss='mae')\n",
        "model_data = model.fit(X, y, epochs=500, batch_size=8, verbose=0, shuffle=False)\n",
        "yhat = model.predict(x_input)\n",
        "print(np.rint(yhat).astype(int)[0][0])"
      ],
      "execution_count": null,
      "outputs": [
        {
          "output_type": "stream",
          "text": [
            "4\n"
          ],
          "name": "stdout"
        }
      ]
    },
    {
      "cell_type": "code",
      "metadata": {
        "id": "duzd8VyArQ5w",
        "outputId": "ec9768cd-22a9-435f-b274-f8227dc69d19"
      },
      "source": [
        "plt.plot(model_data.history['loss'])"
      ],
      "execution_count": null,
      "outputs": [
        {
          "output_type": "execute_result",
          "data": {
            "text/plain": [
              "[<matplotlib.lines.Line2D at 0x7fd2a31f4690>]"
            ]
          },
          "metadata": {
            "tags": []
          },
          "execution_count": 345
        },
        {
          "output_type": "display_data",
          "data": {
            "image/png": "[encoded data removed]",
            "text/plain": [
              "<Figure size 432x288 with 1 Axes>"
            ]
          },
          "metadata": {
            "tags": [],
            "needs_background": "light"
          }
        }
      ]
    },
    {
      "cell_type": "code",
      "metadata": {
        "id": "R2uhhpxrrQ5w"
      },
      "source": [
        "def multi_lstm(n_steps, n_features):\n",
        "    \"\"\"\n",
        "    Multivariate LSTM model\n",
        "    Input: param\n",
        "    ------------------------\n",
        "    n_steps: number\n",
        "        Number of LSTM look back steps\n",
        "    n_features: number\n",
        "        Number of features used as X\n",
        "    ------------------------\n",
        "    return: object\n",
        "        An LSTM model with input shape (n_steps, n_features)\n",
        "    \"\"\"\n",
        "    model = Sequential()\n",
        "    model.add(LSTM(5, activation='relu', input_shape=(n_steps, n_features)))\n",
        "    model.add(Dense(1))\n",
        "    model.compile(optimizer='adam', loss='mse')\n",
        "    return model\n",
        "\n",
        "def nor_seq(seq):\n",
        "    \"\"\"\n",
        "    Normalization function, normalize a list to 0~1 scale\n",
        "    Input param\n",
        "    ------------------------\n",
        "    seq: list\n",
        "        Input list to be normalized\n",
        "    ------------------------\n",
        "    return: list\n",
        "        Normalized list\n",
        "    \"\"\"\n",
        "    return [i/max(seq) for i in seq]\n",
        "\n",
        "def split_sequences(sequences, n_steps):\n",
        "    \"\"\"\n",
        "    split a multivariate sequence into samples\n",
        "    # https://machinelearningmastery.com/how-to-develop-lstm-models-for-time-series-forecasting/\n",
        "    Input param\n",
        "    ------------------------\n",
        "    sequences: array\n",
        "        Input array to be splited by looking back into features X and labels y\n",
        "    n_steps: number\n",
        "        Number of look back steps to generate the model formula\n",
        "    ------------------------\n",
        "    return\n",
        "    ------------------------\n",
        "    X: numpy array\n",
        "        X feature array\n",
        "    y: numpy array\n",
        "        y labels\n",
        "    \"\"\"\n",
        "    X, y = list(), list()\n",
        "    for i in range(len(sequences)):\n",
        "        # find the end of this pattern\n",
        "        end_ix = i + n_steps\n",
        "        # check if we are beyond the dataset\n",
        "        if end_ix >= len(sequences):\n",
        "            break\n",
        "        seq_x, seq_y = sequences[i:end_ix, :-1], sequences[end_ix, -1]\n",
        "        X.append(seq_x)\n",
        "        y.append(seq_y)\n",
        "    return np.array(X).astype(None), np.array(y).astype(None)"
      ],
      "execution_count": null,
      "outputs": []
    },
    {
      "cell_type": "code",
      "metadata": {
        "id": "pafhnz7JrQ5x"
      },
      "source": [
        "def train_multi_lstm(n_steps = 2, epochs=500):\n",
        "    \"\"\"\n",
        "    Use data to train individual LSTM models for each POI and predict.\n",
        "    Input param\n",
        "    -------------------------\n",
        "    n_steps: number\n",
        "        Number of LSTM look back steps, default 2\n",
        "    epochs: number\n",
        "        Training epochs, default 500\n",
        "    -------------------------\n",
        "    return: list, list\n",
        "        return the LSTM predict results of all POIs visit count for week 43 and 44\n",
        "    \"\"\"\n",
        "    predict_43 = []\n",
        "    predict_44 = []\n",
        "\n",
        "    for i in range(len(poi_visit_array)):\n",
        "        in_seq1 = poi_dwell_array[i].reshape((len(poi_dwell_array[i]), 1))\n",
        "        in_seq2 = poi_concen_array[i].reshape((len(poi_concen_array[i]), 1))\n",
        "        out_seq = poi_visit_array[i].reshape((len(poi_visit_array[i]), 1))\n",
        "        \n",
        "        # normalize input features\n",
        "        in_seq1 = nor_seq(in_seq1)\n",
        "        in_seq2 = nor_seq(in_seq2)\n",
        "\n",
        "        # horizontally stack columns\n",
        "        dataset = np.hstack((in_seq1, in_seq2, out_seq))\n",
        "        \n",
        "        # convert into input/output\n",
        "        X, y = split_sequences(dataset, n_steps)\n",
        "        \n",
        "        # create the LSTM model and train it\n",
        "        model = multi_lstm(n_steps, n_features = X.shape[2])\n",
        "        model.fit(X, y, epochs=epochs, batch_size=16, verbose=0, shuffle=False)\n",
        "        \n",
        "        # generate prediction features\n",
        "        x_input_43 = []\n",
        "        x_input_44 = []\n",
        "\n",
        "        for n in range(n_steps):\n",
        "            x_input_43.append([in_seq1[n-n_steps-1], in_seq2[n-n_steps-1]])\n",
        "            x_input_44.append([in_seq1[n-n_steps], in_seq2[n-n_steps]])\n",
        "\n",
        "        x_input_43 = np.array(x_input_43).reshape((1, n_steps, n_features)).astype(None)\n",
        "        x_input_44 = np.array(x_input_44).reshape((1, n_steps, n_features)).astype(None)\n",
        "\n",
        "        y_pred_43 = np.rint(model.predict(x_input_43)).astype(int)[0][0]\n",
        "        y_pred_44 = np.rint(model.predict(x_input_44)).astype(int)[0][0]\n",
        "\n",
        "        predict_43.append(y_pred_43)\n",
        "        predict_44.append(y_pred_44)\n",
        "\n",
        "        print(str(round(100*i/1804, 2))+\"% \"+str(y_pred_43)+\", \"+str(y_pred_44))\n",
        "    return predict_43, predict_44"
      ],
      "execution_count": null,
      "outputs": []
    },
    {
      "cell_type": "code",
      "metadata": {
        "id": "uac5Wr8zrQ5x"
      },
      "source": [
        "import os, logging, time, datetime\n",
        "os.environ[\"TF_CPP_MIN_LOG_LEVEL\"] = \"3\"\n",
        "logging.getLogger(\"tensorflow\").setLevel(logging.CRITICAL)\n",
        "logging.getLogger(\"tensorflow_hub\").setLevel(logging.CRITICAL)\n",
        "\n",
        "start_time = time.time()\n",
        "pred_43, pred_44 = train_multi_lstm()\n",
        "print(datetime.timedelta(seconds=(time.time() - start_time)))"
      ],
      "execution_count": null,
      "outputs": []
    },
    {
      "cell_type": "code",
      "metadata": {
        "id": "_w6CcqmSrQ5x",
        "outputId": "d31b114c-a4d3-48d6-9d73-49e2cca4c094"
      },
      "source": [
        "lstm_mae = mae_loss(week_43_true, pred_43)\n",
        "print(lstm_mae)\n",
        "week_44_lstm = {'poi_id':poi_pred_id, 'raw_visit_counts': pred_44}\n",
        "week_44_lstm_df = pd.DataFrame(week_44_lstm)\n",
        "week_44_lstm_df.to_csv(\"submission_prediction_output.csv\", index=False)\n",
        "week_44_lstm_df"
      ],
      "execution_count": null,
      "outputs": [
        {
          "output_type": "stream",
          "text": [
            "55.73115299334812\n"
          ],
          "name": "stdout"
        },
        {
          "output_type": "execute_result",
          "data": {
            "text/html": [
              "<div>\n",
              "<style scoped>\n",
              "    .dataframe tbody tr th:only-of-type {\n",
              "        vertical-align: middle;\n",
              "    }\n",
              "\n",
              "    .dataframe tbody tr th {\n",
              "        vertical-align: top;\n",
              "    }\n",
              "\n",
              "    .dataframe thead th {\n",
              "        text-align: right;\n",
              "    }\n",
              "</style>\n",
              "<table border=\"1\" class=\"dataframe\">\n",
              "  <thead>\n",
              "    <tr style=\"text-align: right;\">\n",
              "      <th></th>\n",
              "      <th>poi_id</th>\n",
              "      <th>raw_visit_counts</th>\n",
              "    </tr>\n",
              "  </thead>\n",
              "  <tbody>\n",
              "    <tr>\n",
              "      <th>0</th>\n",
              "      <td>00243ce2-6ecc-4c63-8d58-1138476289e4</td>\n",
              "      <td>6</td>\n",
              "    </tr>\n",
              "    <tr>\n",
              "      <th>1</th>\n",
              "      <td>00251e06-3f79-49f1-9e5a-7735e9b7836f</td>\n",
              "      <td>14</td>\n",
              "    </tr>\n",
              "    <tr>\n",
              "      <th>2</th>\n",
              "      <td>004e8d59-b91b-488a-b051-ed2769d8e8e3</td>\n",
              "      <td>1</td>\n",
              "    </tr>\n",
              "    <tr>\n",
              "      <th>3</th>\n",
              "      <td>00529b9c-54fe-4690-b319-48cf4c9eb226</td>\n",
              "      <td>36</td>\n",
              "    </tr>\n",
              "    <tr>\n",
              "      <th>4</th>\n",
              "      <td>005ec245-ca7b-4814-b706-8f0737c045b2</td>\n",
              "      <td>3</td>\n",
              "    </tr>\n",
              "    <tr>\n",
              "      <th>...</th>\n",
              "      <td>...</td>\n",
              "      <td>...</td>\n",
              "    </tr>\n",
              "    <tr>\n",
              "      <th>1799</th>\n",
              "      <td>ff017941-e5c5-4c3e-ad8e-51bee7a0d3f3</td>\n",
              "      <td>28</td>\n",
              "    </tr>\n",
              "    <tr>\n",
              "      <th>1800</th>\n",
              "      <td>ff047527-176f-4d9b-9d91-0d0ab8805a44</td>\n",
              "      <td>15</td>\n",
              "    </tr>\n",
              "    <tr>\n",
              "      <th>1801</th>\n",
              "      <td>ffa5b55e-5f61-4cd7-8f66-741f492c34c6</td>\n",
              "      <td>68</td>\n",
              "    </tr>\n",
              "    <tr>\n",
              "      <th>1802</th>\n",
              "      <td>ffdda836-f200-470e-9e9d-c8917a164043</td>\n",
              "      <td>10</td>\n",
              "    </tr>\n",
              "    <tr>\n",
              "      <th>1803</th>\n",
              "      <td>fffcc243-6692-466d-a427-4696a2f7ab61</td>\n",
              "      <td>13</td>\n",
              "    </tr>\n",
              "  </tbody>\n",
              "</table>\n",
              "<p>1804 rows × 2 columns</p>\n",
              "</div>"
            ],
            "text/plain": [
              "                                    poi_id  raw_visit_counts\n",
              "0     00243ce2-6ecc-4c63-8d58-1138476289e4                 6\n",
              "1     00251e06-3f79-49f1-9e5a-7735e9b7836f                14\n",
              "2     004e8d59-b91b-488a-b051-ed2769d8e8e3                 1\n",
              "3     00529b9c-54fe-4690-b319-48cf4c9eb226                36\n",
              "4     005ec245-ca7b-4814-b706-8f0737c045b2                 3\n",
              "...                                    ...               ...\n",
              "1799  ff017941-e5c5-4c3e-ad8e-51bee7a0d3f3                28\n",
              "1800  ff047527-176f-4d9b-9d91-0d0ab8805a44                15\n",
              "1801  ffa5b55e-5f61-4cd7-8f66-741f492c34c6                68\n",
              "1802  ffdda836-f200-470e-9e9d-c8917a164043                10\n",
              "1803  fffcc243-6692-466d-a427-4696a2f7ab61                13\n",
              "\n",
              "[1804 rows x 2 columns]"
            ]
          },
          "metadata": {
            "tags": []
          },
          "execution_count": 380
        }
      ]
    },
    {
      "cell_type": "markdown",
      "metadata": {
        "id": "kI0sd1eurQ5x"
      },
      "source": [
        "## CNN model"
      ]
    },
    {
      "cell_type": "code",
      "metadata": {
        "id": "8Pn3lBg2rQ5x"
      },
      "source": [
        "def cnn_model(n_steps=1, n_features=1):\n",
        "    model = Sequential()\n",
        "    model.add(Conv1D(filters=64, kernel_size=2, activation='relu', input_shape=(n_steps, n_features)))\n",
        "    model.add(Flatten())\n",
        "    model.add(Dense(50, activation='relu'))\n",
        "    model.add(Dense(1))\n",
        "    model.compile(optimizer='adam', loss='mae')\n",
        "    return model"
      ],
      "execution_count": null,
      "outputs": []
    },
    {
      "cell_type": "code",
      "metadata": {
        "id": "fKl6JiedrQ5y"
      },
      "source": [
        "import os\n",
        "os.environ['TF_CPP_MIN_LOG_LEVEL'] = '2' \n",
        "\n",
        "cnn_predit_all = []\n",
        "\n",
        "n_steps = 3\n",
        "n_features = 1\n",
        "i = 0\n",
        "for data in data_all:\n",
        "    X, y = create_dataset(data[\"raw_visit_counts\"], look_back = n_steps)\n",
        "    X = X.reshape((X.shape[0], X.shape[1], 1))\n",
        "    model = cnn_model(n_steps = n_steps, n_features = n_features)\n",
        "    model.fit(X, y, epochs=1000, verbose = 0)\n",
        "    input_x = np.array(data[\"raw_visit_counts\"][-3:]).reshape(1, n_steps, 1)\n",
        "    pred = np.rint(model.predict(input_x, verbose = 0))[0][0]\n",
        "    print(str(i + 1) + \"/1804: \" + str(pred))\n",
        "    i = i + 1\n",
        "    cnn_predit_all.append(pred)"
      ],
      "execution_count": null,
      "outputs": []
    },
    {
      "cell_type": "code",
      "metadata": {
        "id": "BuCXRUBErQ5y",
        "outputId": "5b8d2c5f-dd8e-40ad-8d16-f4c0bd702253"
      },
      "source": [
        "print(mae_loss(week_all[43], cnn_predit_all))"
      ],
      "execution_count": null,
      "outputs": [
        {
          "output_type": "stream",
          "text": [
            "9.512749445676276\n"
          ],
          "name": "stdout"
        }
      ]
    },
    {
      "cell_type": "code",
      "metadata": {
        "id": "Ir1OsdG9rQ5y",
        "outputId": "52886674-d418-4f5e-9538-fbeb1c965fb7"
      },
      "source": [
        "for i in range(len(cnn_predit_all)):\n",
        "    if(cnn_predit_all[i] < 0):\n",
        "        cnn_predit_all[i] = 0\n",
        "print(mae_loss(week_all[43], cnn_predit_all))"
      ],
      "execution_count": null,
      "outputs": [
        {
          "output_type": "stream",
          "text": [
            "9.240576496674057\n"
          ],
          "name": "stdout"
        }
      ]
    },
    {
      "cell_type": "code",
      "metadata": {
        "id": "o3NAfZ2MrQ5y",
        "outputId": "44ab6907-7781-4e86-ca6a-4a16ecba10fd"
      },
      "source": [
        "cnn_all_poi_univariate_predict = {\"poi_id\": poi_ids_all, \"raw_visit_counts\": np.array(cnn_predit_all)}\n",
        "cnn_all_poi_univariate_predict_df = pd.DataFrame.from_dict(cnn_all_poi_univariate_predict)\n",
        "cnn_all_poi_univariate_predict_df"
      ],
      "execution_count": null,
      "outputs": [
        {
          "output_type": "execute_result",
          "data": {
            "text/html": [
              "<div>\n",
              "<style scoped>\n",
              "    .dataframe tbody tr th:only-of-type {\n",
              "        vertical-align: middle;\n",
              "    }\n",
              "\n",
              "    .dataframe tbody tr th {\n",
              "        vertical-align: top;\n",
              "    }\n",
              "\n",
              "    .dataframe thead th {\n",
              "        text-align: right;\n",
              "    }\n",
              "</style>\n",
              "<table border=\"1\" class=\"dataframe\">\n",
              "  <thead>\n",
              "    <tr style=\"text-align: right;\">\n",
              "      <th></th>\n",
              "      <th>poi_id</th>\n",
              "      <th>raw_visit_counts</th>\n",
              "    </tr>\n",
              "  </thead>\n",
              "  <tbody>\n",
              "    <tr>\n",
              "      <th>0</th>\n",
              "      <td>ad5fbefe-9e6a-47da-8011-8dadd9ad4cfe</td>\n",
              "      <td>5.0</td>\n",
              "    </tr>\n",
              "    <tr>\n",
              "      <th>1</th>\n",
              "      <td>0cd903d2-00a1-44ac-b262-fbc7475eb2bd</td>\n",
              "      <td>2.0</td>\n",
              "    </tr>\n",
              "    <tr>\n",
              "      <th>2</th>\n",
              "      <td>780472e8-9738-4832-a3d5-9736ed0a8f93</td>\n",
              "      <td>266.0</td>\n",
              "    </tr>\n",
              "    <tr>\n",
              "      <th>3</th>\n",
              "      <td>e9316e9d-8db6-4134-8a50-1c1da16fb9bc</td>\n",
              "      <td>50.0</td>\n",
              "    </tr>\n",
              "    <tr>\n",
              "      <th>4</th>\n",
              "      <td>5545ebf0-4f14-4f52-a499-8a5bdaa1df10</td>\n",
              "      <td>23.0</td>\n",
              "    </tr>\n",
              "    <tr>\n",
              "      <th>...</th>\n",
              "      <td>...</td>\n",
              "      <td>...</td>\n",
              "    </tr>\n",
              "    <tr>\n",
              "      <th>1799</th>\n",
              "      <td>8fb606bf-5918-4c16-af3c-1ab39ae46251</td>\n",
              "      <td>8.0</td>\n",
              "    </tr>\n",
              "    <tr>\n",
              "      <th>1800</th>\n",
              "      <td>801457d7-be9f-41c6-a87c-038ffd7f8b81</td>\n",
              "      <td>13.0</td>\n",
              "    </tr>\n",
              "    <tr>\n",
              "      <th>1801</th>\n",
              "      <td>a09953ae-81ed-4ed8-9dd5-be160e91297f</td>\n",
              "      <td>189.0</td>\n",
              "    </tr>\n",
              "    <tr>\n",
              "      <th>1802</th>\n",
              "      <td>45fe4a7f-30ec-4be2-ae71-34b833df2424</td>\n",
              "      <td>16.0</td>\n",
              "    </tr>\n",
              "    <tr>\n",
              "      <th>1803</th>\n",
              "      <td>097307c9-bc10-4b58-b27e-350acd49ff14</td>\n",
              "      <td>57.0</td>\n",
              "    </tr>\n",
              "  </tbody>\n",
              "</table>\n",
              "<p>1804 rows × 2 columns</p>\n",
              "</div>"
            ],
            "text/plain": [
              "                                    poi_id  raw_visit_counts\n",
              "0     ad5fbefe-9e6a-47da-8011-8dadd9ad4cfe               5.0\n",
              "1     0cd903d2-00a1-44ac-b262-fbc7475eb2bd               2.0\n",
              "2     780472e8-9738-4832-a3d5-9736ed0a8f93             266.0\n",
              "3     e9316e9d-8db6-4134-8a50-1c1da16fb9bc              50.0\n",
              "4     5545ebf0-4f14-4f52-a499-8a5bdaa1df10              23.0\n",
              "...                                    ...               ...\n",
              "1799  8fb606bf-5918-4c16-af3c-1ab39ae46251               8.0\n",
              "1800  801457d7-be9f-41c6-a87c-038ffd7f8b81              13.0\n",
              "1801  a09953ae-81ed-4ed8-9dd5-be160e91297f             189.0\n",
              "1802  45fe4a7f-30ec-4be2-ae71-34b833df2424              16.0\n",
              "1803  097307c9-bc10-4b58-b27e-350acd49ff14              57.0\n",
              "\n",
              "[1804 rows x 2 columns]"
            ]
          },
          "metadata": {
            "tags": []
          },
          "execution_count": 269
        }
      ]
    }
  ]
}