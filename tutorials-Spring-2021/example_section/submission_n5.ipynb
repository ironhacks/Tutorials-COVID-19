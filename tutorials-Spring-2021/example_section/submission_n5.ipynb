{
  "nbformat": 4,
  "nbformat_minor": 0,
  "metadata": {
    "kernelspec": {
      "display_name": "Python 3",
      "language": "python",
      "name": "python3"
    },
    "language_info": {
      "codemirror_mode": {
        "name": "ipython",
        "version": 3
      },
      "file_extension": ".py",
      "mimetype": "text/x-python",
      "name": "python",
      "nbconvert_exporter": "python",
      "pygments_lexer": "ipython3",
      "version": "3.7.6"
    },
    "colab": {
      "name": "submission_prediction_output.ipynb",
      "provenance": []
    }
  },
  "cells": [
    {
      "cell_type": "markdown",
      "metadata": {
        "id": "b87f0H7PrxqI"
      },
      "source": [
        "## Setup\n",
        "---"
      ]
    },
    {
      "cell_type": "code",
      "metadata": {
        "id": "MLPQEtp8rxqO"
      },
      "source": [
        "\n",
        "%logstop\n",
        "%logstart -t -r -q ipython_command_log.py global\n",
        "\n",
        "#- IRONHACKS RESEARCH TRACKING CODE\n",
        "#----------------------------------\n",
        "# The following code is used to help our research team understand how you \n",
        "# our notebook environment. We do not collect any personal information with\n",
        "# the following code, it is used to measure when and how often you work on\n",
        "# your submission files.\n",
        "\n",
        "import os\n",
        "from datetime import datetime\n",
        "import IPython.core.history as history\n",
        "\n",
        "ha = history.HistoryAccessor()\n",
        "ha_tail = ha.get_tail(1)\n",
        "ha_cmd = next(ha_tail)\n",
        "session_id = str(ha_cmd[0])\n",
        "command_id = str(ha_cmd[1])\n",
        "timestamp = datetime.utcnow().isoformat()\n",
        "history_line = ','.join([session_id, command_id, timestamp]) + '\\n'\n",
        "logfile = open(os.environ['HOME']+'/ipython_session_log.csv', 'a')\n",
        "logfile.write(history_line)\n",
        "logfile.close()"
      ],
      "execution_count": null,
      "outputs": []
    },
    {
      "cell_type": "code",
      "metadata": {
        "id": "oogtuPaLrxqP"
      },
      "source": [
        "\n",
        "\n",
        "#- INSTALL ADDITIONAL LIBRARIES IF REQUIRED\n",
        "#------------------------------------------\n",
        "# This is normally not required. The hub environment comes preinstaled with \n",
        "# many packages that you can already use without setup. In case there is some\n",
        "# other library you would like to use that isn't on the list you run this command\n",
        "# once to install them.  If it is already installed this command has no effect.\n"
      ],
      "execution_count": null,
      "outputs": []
    },
    {
      "cell_type": "markdown",
      "metadata": {
        "id": "OsId2dkCrxqQ"
      },
      "source": [
        "### Imports"
      ]
    },
    {
      "cell_type": "code",
      "metadata": {
        "id": "ynCaE3hIrxqQ"
      },
      "source": [
        "#- IMPORT THE LIBRARIES YOU WILL USE\n",
        "#------------------------------------------\n",
        "# You only need to import packages one time per notebook session. To keep your\n",
        "# notebook clean and organized you can handle all imports at the top of your file.\n",
        "# The following are included for example purposed, feel free to modify or delete \n",
        "# anything in this section.\n",
        "\n",
        "import csv\n",
        "import pandas as pd\n",
        "import numpy as np\n",
        "from google.cloud import bigquery\n",
        "from google.oauth2 import service_account\n",
        "from google.cloud.bigquery import magics\n",
        "import tensorflow as tf\n",
        "from tensorflow import feature_column\n",
        "from tensorflow.keras import layers"
      ],
      "execution_count": null,
      "outputs": []
    },
    {
      "cell_type": "markdown",
      "metadata": {
        "id": "DIDRgO1urxqR"
      },
      "source": [
        "### Get data from BIGQUERY"
      ]
    },
    {
      "cell_type": "markdown",
      "metadata": {
        "id": "plHAsoE2rxqR"
      },
      "source": [
        "##### CONFIGURE THE BIGQUERY SETTINGS"
      ]
    },
    {
      "cell_type": "code",
      "metadata": {
        "id": "ZQG-qbtvrxqR"
      },
      "source": [
        "BIGQUERY_PROJECT = 'ironhacks-covid19-data'\n",
        "BIGQUERY_KEYPATH = '/home/jovyan/service-account.json'\n",
        "\n",
        "os.environ['GOOGLE_APPLICATION_CREDENTIALS'] = BIGQUERY_KEYPATH\n",
        "bigquery_client = bigquery.Client(project=BIGQUERY_PROJECT)"
      ],
      "execution_count": null,
      "outputs": []
    },
    {
      "cell_type": "markdown",
      "metadata": {
        "id": "WseSIhcIrxqR"
      },
      "source": [
        "##### SQL code"
      ]
    },
    {
      "cell_type": "code",
      "metadata": {
        "id": "JVUUMqn4rxqS"
      },
      "source": [
        "query = \"\"\"\n",
        "SELECT w.poi_id, w.week_number, w.visits_concentration, w.raw_visit_counts\n",
        "FROM `ironhacks_covid19_competition`.`weekly_patterns` w\n",
        "JOIN `ironhacks_covid19_competition`.`prediction_list_poi` pred ON pred.poi_id = w.poi_id\n",
        "ORDER BY poi_id, week_number;\n",
        "\"\"\""
      ],
      "execution_count": null,
      "outputs": []
    },
    {
      "cell_type": "code",
      "metadata": {
        "id": "OtyeyEH6rxqT"
      },
      "source": [
        "\n",
        "# QUERY THE DATA ONCE\n",
        "query_job = bigquery_client.query(query)\n",
        "in_test_data = query_job.to_dataframe()"
      ],
      "execution_count": null,
      "outputs": []
    },
    {
      "cell_type": "markdown",
      "metadata": {
        "id": "2dbw2BOKrxqT"
      },
      "source": [
        "##### Check Data"
      ]
    },
    {
      "cell_type": "code",
      "metadata": {
        "id": "jHTzATW5rxqT",
        "outputId": "6952283c-bf8c-4059-bbaa-5025ac6aed69"
      },
      "source": [
        "in_test_data.head()"
      ],
      "execution_count": null,
      "outputs": [
        {
          "output_type": "execute_result",
          "data": {
            "text/html": [
              "<div>\n",
              "<style scoped>\n",
              "    .dataframe tbody tr th:only-of-type {\n",
              "        vertical-align: middle;\n",
              "    }\n",
              "\n",
              "    .dataframe tbody tr th {\n",
              "        vertical-align: top;\n",
              "    }\n",
              "\n",
              "    .dataframe thead th {\n",
              "        text-align: right;\n",
              "    }\n",
              "</style>\n",
              "<table border=\"1\" class=\"dataframe\">\n",
              "  <thead>\n",
              "    <tr style=\"text-align: right;\">\n",
              "      <th></th>\n",
              "      <th>poi_id</th>\n",
              "      <th>week_number</th>\n",
              "      <th>visits_concentration</th>\n",
              "      <th>raw_visit_counts</th>\n",
              "    </tr>\n",
              "  </thead>\n",
              "  <tbody>\n",
              "    <tr>\n",
              "      <th>0</th>\n",
              "      <td>00243ce2-6ecc-4c63-8d58-1138476289e4</td>\n",
              "      <td>11</td>\n",
              "      <td>769.23</td>\n",
              "      <td>13</td>\n",
              "    </tr>\n",
              "    <tr>\n",
              "      <th>1</th>\n",
              "      <td>00243ce2-6ecc-4c63-8d58-1138476289e4</td>\n",
              "      <td>12</td>\n",
              "      <td>1570.25</td>\n",
              "      <td>11</td>\n",
              "    </tr>\n",
              "    <tr>\n",
              "      <th>2</th>\n",
              "      <td>00243ce2-6ecc-4c63-8d58-1138476289e4</td>\n",
              "      <td>13</td>\n",
              "      <td>2800.00</td>\n",
              "      <td>5</td>\n",
              "    </tr>\n",
              "    <tr>\n",
              "      <th>3</th>\n",
              "      <td>00243ce2-6ecc-4c63-8d58-1138476289e4</td>\n",
              "      <td>14</td>\n",
              "      <td>2000.00</td>\n",
              "      <td>5</td>\n",
              "    </tr>\n",
              "    <tr>\n",
              "      <th>4</th>\n",
              "      <td>00243ce2-6ecc-4c63-8d58-1138476289e4</td>\n",
              "      <td>15</td>\n",
              "      <td>2000.00</td>\n",
              "      <td>5</td>\n",
              "    </tr>\n",
              "  </tbody>\n",
              "</table>\n",
              "</div>"
            ],
            "text/plain": [
              "                                 poi_id  week_number  visits_concentration  \\\n",
              "0  00243ce2-6ecc-4c63-8d58-1138476289e4           11                769.23   \n",
              "1  00243ce2-6ecc-4c63-8d58-1138476289e4           12               1570.25   \n",
              "2  00243ce2-6ecc-4c63-8d58-1138476289e4           13               2800.00   \n",
              "3  00243ce2-6ecc-4c63-8d58-1138476289e4           14               2000.00   \n",
              "4  00243ce2-6ecc-4c63-8d58-1138476289e4           15               2000.00   \n",
              "\n",
              "   raw_visit_counts  \n",
              "0                13  \n",
              "1                11  \n",
              "2                 5  \n",
              "3                 5  \n",
              "4                 5  "
            ]
          },
          "metadata": {
            "tags": []
          },
          "execution_count": 7
        }
      ]
    },
    {
      "cell_type": "code",
      "metadata": {
        "id": "ZgRMMJ7UrxqU",
        "outputId": "c4eaacda-7787-4435-dbc7-0d36983bb8a3"
      },
      "source": [
        "in_test_data.dtypes"
      ],
      "execution_count": null,
      "outputs": [
        {
          "output_type": "execute_result",
          "data": {
            "text/plain": [
              "poi_id                   object\n",
              "week_number               int64\n",
              "visits_concentration    float64\n",
              "raw_visit_counts          int64\n",
              "dtype: object"
            ]
          },
          "metadata": {
            "tags": []
          },
          "execution_count": 8
        }
      ]
    },
    {
      "cell_type": "markdown",
      "metadata": {
        "id": "Cx0E5SrUrxqV"
      },
      "source": [
        "#### Data Checkpoint"
      ]
    },
    {
      "cell_type": "code",
      "metadata": {
        "id": "IL6VX6SZrxqV"
      },
      "source": [
        "checkpoint1 = in_test_data.copy()"
      ],
      "execution_count": null,
      "outputs": []
    },
    {
      "cell_type": "markdown",
      "metadata": {
        "id": "lMBl0TNnrxqV"
      },
      "source": [
        "---\n",
        "## Preprocess\n",
        "---"
      ]
    },
    {
      "cell_type": "code",
      "metadata": {
        "id": "A3sQqwGDrxqV"
      },
      "source": [
        "checkpoint1['poi_id'] = pd.Categorical(checkpoint1['poi_id'])\n",
        "checkpoint1['poi_id'] = checkpoint1.poi_id.cat.codes"
      ],
      "execution_count": null,
      "outputs": []
    },
    {
      "cell_type": "code",
      "metadata": {
        "id": "SbqRjVFIrxqV",
        "outputId": "98c7b3c3-e8d9-4af7-cc96-e7ff7f9daed8"
      },
      "source": [
        "checkpoint1.head()"
      ],
      "execution_count": null,
      "outputs": [
        {
          "output_type": "execute_result",
          "data": {
            "text/html": [
              "<div>\n",
              "<style scoped>\n",
              "    .dataframe tbody tr th:only-of-type {\n",
              "        vertical-align: middle;\n",
              "    }\n",
              "\n",
              "    .dataframe tbody tr th {\n",
              "        vertical-align: top;\n",
              "    }\n",
              "\n",
              "    .dataframe thead th {\n",
              "        text-align: right;\n",
              "    }\n",
              "</style>\n",
              "<table border=\"1\" class=\"dataframe\">\n",
              "  <thead>\n",
              "    <tr style=\"text-align: right;\">\n",
              "      <th></th>\n",
              "      <th>poi_id</th>\n",
              "      <th>week_number</th>\n",
              "      <th>visits_concentration</th>\n",
              "    </tr>\n",
              "  </thead>\n",
              "  <tbody>\n",
              "    <tr>\n",
              "      <th>0</th>\n",
              "      <td>0</td>\n",
              "      <td>11</td>\n",
              "      <td>769.23</td>\n",
              "    </tr>\n",
              "    <tr>\n",
              "      <th>1</th>\n",
              "      <td>0</td>\n",
              "      <td>12</td>\n",
              "      <td>1570.25</td>\n",
              "    </tr>\n",
              "    <tr>\n",
              "      <th>2</th>\n",
              "      <td>0</td>\n",
              "      <td>13</td>\n",
              "      <td>2800.00</td>\n",
              "    </tr>\n",
              "    <tr>\n",
              "      <th>3</th>\n",
              "      <td>0</td>\n",
              "      <td>14</td>\n",
              "      <td>2000.00</td>\n",
              "    </tr>\n",
              "    <tr>\n",
              "      <th>4</th>\n",
              "      <td>0</td>\n",
              "      <td>15</td>\n",
              "      <td>2000.00</td>\n",
              "    </tr>\n",
              "  </tbody>\n",
              "</table>\n",
              "</div>"
            ],
            "text/plain": [
              "   poi_id  week_number  visits_concentration\n",
              "0       0           11                769.23\n",
              "1       0           12               1570.25\n",
              "2       0           13               2800.00\n",
              "3       0           14               2000.00\n",
              "4       0           15               2000.00"
            ]
          },
          "metadata": {
            "tags": []
          },
          "execution_count": 13
        }
      ]
    },
    {
      "cell_type": "code",
      "metadata": {
        "id": "HZax8Lu7rxqW"
      },
      "source": [
        "target = checkpoint1.pop('raw_visit_counts')\n",
        "dataset = tf.data.Dataset.from_tensor_slices((checkpoint1.values, target.values))"
      ],
      "execution_count": null,
      "outputs": []
    },
    {
      "cell_type": "code",
      "metadata": {
        "id": "R1m-uVNirxqW"
      },
      "source": [
        "np.savez('data_train', inputs=checkpoint1, targets=target)"
      ],
      "execution_count": null,
      "outputs": []
    },
    {
      "cell_type": "markdown",
      "metadata": {
        "id": "8xinMSpprxqW"
      },
      "source": [
        "### Import NPZ data"
      ]
    },
    {
      "cell_type": "code",
      "metadata": {
        "id": "rrYKtSQfrxqW"
      },
      "source": [
        "npz = np.load('data_train.npz')"
      ],
      "execution_count": null,
      "outputs": []
    },
    {
      "cell_type": "code",
      "metadata": {
        "id": "3Y_Hoyw7rxqW"
      },
      "source": [
        "train_inputs = npz['inputs'].astype(np.float)"
      ],
      "execution_count": null,
      "outputs": []
    },
    {
      "cell_type": "code",
      "metadata": {
        "id": "YN5Bgtr9rxqX"
      },
      "source": [
        "train_targets = npz['targets'].astype(np.int)"
      ],
      "execution_count": null,
      "outputs": []
    },
    {
      "cell_type": "markdown",
      "metadata": {
        "id": "YJV7rsI_rxqX"
      },
      "source": [
        "data checkpoint"
      ]
    },
    {
      "cell_type": "code",
      "metadata": {
        "id": "FbPPowAUrxqX"
      },
      "source": [
        "input_size = 3\n",
        "output_size = 1\n",
        "hidden_layer_size = 500\n",
        "\n",
        "def get_compiled_model():\n",
        "    model = tf.keras.Sequential([\n",
        "        tf.keras.layers.Dense(hidden_layer_size, activation='relu'), \n",
        "        tf.keras.layers.Dense(hidden_layer_size, activation='relu'), \n",
        "        tf.keras.layers.Dense(output_size)\n",
        "    ])\n",
        "\n",
        "    model.compile(optimizer='adam', loss='mean_squared_error', metrics=['accuracy'])\n",
        "    return model"
      ],
      "execution_count": null,
      "outputs": []
    },
    {
      "cell_type": "markdown",
      "metadata": {
        "id": "aDbz_oJXrxqX"
      },
      "source": [
        "#### set the batch size"
      ]
    },
    {
      "cell_type": "code",
      "metadata": {
        "id": "0jO_iTCkrxqX"
      },
      "source": [
        "batch_size = 43\n",
        "\n",
        "# set a maximum number of training epochs\n",
        "max_epochs = 100\n",
        "\n",
        "early_stopping = tf.keras.callbacks.EarlyStopping(patience=2)"
      ],
      "execution_count": null,
      "outputs": []
    },
    {
      "cell_type": "code",
      "metadata": {
        "id": "-oimyE8MrxqX",
        "outputId": "32768b52-e3c8-4926-a0a9-a664dd8ed30b"
      },
      "source": [
        "model = get_compiled_model()\n",
        "model.fit(train_inputs, # train inputs\n",
        "          train_targets, # train targets\n",
        "          batch_size=batch_size, # batch size\n",
        "          epochs=max_epochs, # epochs that we will train for (assuming early stopping doesn't kick in)\n",
        "          # callbacks are functions called by a task when a task is completed\n",
        "          # task here is to check if val_loss is increasing\n",
        "          #callbacks=[early_stopping], # early stopping\n",
        "          #validation_data=(validation_inputs, validation_targets), # validation data\n",
        "          verbose = 2 # making sure we get enough information about the training process\n",
        "          )  "
      ],
      "execution_count": null,
      "outputs": [
        {
          "output_type": "stream",
          "text": [
            "Epoch 1/100\n",
            "1204/1204 - 4s - loss: 33433.4453 - accuracy: 0.0123\n",
            "Epoch 2/100\n",
            "1204/1204 - 5s - loss: 28439.1406 - accuracy: 0.0125\n",
            "Epoch 3/100\n",
            "1204/1204 - 4s - loss: 28394.6758 - accuracy: 0.0125\n",
            "Epoch 4/100\n",
            "1204/1204 - 4s - loss: 27895.1270 - accuracy: 0.0120\n",
            "Epoch 5/100\n",
            "1204/1204 - 5s - loss: 27710.4453 - accuracy: 0.0129\n",
            "Epoch 6/100\n",
            "1204/1204 - 4s - loss: 27136.5996 - accuracy: 0.0122\n",
            "Epoch 7/100\n",
            "1204/1204 - 4s - loss: 26841.5391 - accuracy: 0.0138\n",
            "Epoch 8/100\n",
            "1204/1204 - 4s - loss: 27066.3223 - accuracy: 0.0141\n",
            "Epoch 9/100\n",
            "1204/1204 - 5s - loss: 26568.0449 - accuracy: 0.0187\n",
            "Epoch 10/100\n",
            "1204/1204 - 4s - loss: 26670.1074 - accuracy: 0.0232\n",
            "Epoch 11/100\n",
            "1204/1204 - 4s - loss: 26426.6074 - accuracy: 0.0223\n",
            "Epoch 12/100\n",
            "1204/1204 - 4s - loss: 26542.1348 - accuracy: 0.0229\n",
            "Epoch 13/100\n",
            "1204/1204 - 5s - loss: 26193.0293 - accuracy: 0.0256\n",
            "Epoch 14/100\n",
            "1204/1204 - 4s - loss: 26023.9160 - accuracy: 0.0257\n",
            "Epoch 15/100\n",
            "1204/1204 - 4s - loss: 26282.7734 - accuracy: 0.0261\n",
            "Epoch 16/100\n",
            "1204/1204 - 4s - loss: 25977.1875 - accuracy: 0.0260\n",
            "Epoch 17/100\n",
            "1204/1204 - 4s - loss: 25619.1387 - accuracy: 0.0259\n",
            "Epoch 18/100\n",
            "1204/1204 - 4s - loss: 25992.6543 - accuracy: 0.0252\n",
            "Epoch 19/100\n",
            "1204/1204 - 4s - loss: 25491.0605 - accuracy: 0.0257\n",
            "Epoch 20/100\n",
            "1204/1204 - 4s - loss: 25447.5137 - accuracy: 0.0258\n",
            "Epoch 21/100\n",
            "1204/1204 - 4s - loss: 25605.8164 - accuracy: 0.0261\n",
            "Epoch 22/100\n",
            "1204/1204 - 4s - loss: 25466.5000 - accuracy: 0.0252\n",
            "Epoch 23/100\n",
            "1204/1204 - 4s - loss: 25637.3164 - accuracy: 0.0261\n",
            "Epoch 24/100\n",
            "1204/1204 - 4s - loss: 25088.5176 - accuracy: 0.0235\n",
            "Epoch 25/100\n",
            "1204/1204 - 4s - loss: 25183.4727 - accuracy: 0.0179\n",
            "Epoch 26/100\n",
            "1204/1204 - 4s - loss: 25011.3926 - accuracy: 0.0140\n",
            "Epoch 27/100\n",
            "1204/1204 - 4s - loss: 24734.3594 - accuracy: 0.0144\n",
            "Epoch 28/100\n",
            "1204/1204 - 5s - loss: 24610.2383 - accuracy: 0.0148\n",
            "Epoch 29/100\n",
            "1204/1204 - 4s - loss: 24741.1523 - accuracy: 0.0113\n",
            "Epoch 30/100\n",
            "1204/1204 - 4s - loss: 24384.9473 - accuracy: 0.0101\n",
            "Epoch 31/100\n",
            "1204/1204 - 4s - loss: 24356.2598 - accuracy: 0.0126\n",
            "Epoch 32/100\n",
            "1204/1204 - 4s - loss: 24358.7871 - accuracy: 0.0116\n",
            "Epoch 33/100\n",
            "1204/1204 - 4s - loss: 24246.5938 - accuracy: 0.0093\n",
            "Epoch 34/100\n",
            "1204/1204 - 5s - loss: 23902.9980 - accuracy: 0.0098\n",
            "Epoch 35/100\n",
            "1204/1204 - 5s - loss: 24032.0137 - accuracy: 0.0099\n",
            "Epoch 36/100\n",
            "1204/1204 - 5s - loss: 23880.4336 - accuracy: 0.0094\n",
            "Epoch 37/100\n",
            "1204/1204 - 5s - loss: 23725.7461 - accuracy: 0.0090\n",
            "Epoch 38/100\n",
            "1204/1204 - 5s - loss: 23497.9746 - accuracy: 0.0088\n",
            "Epoch 39/100\n",
            "1204/1204 - 5s - loss: 23505.6680 - accuracy: 0.0093\n",
            "Epoch 40/100\n",
            "1204/1204 - 4s - loss: 23056.5527 - accuracy: 0.0082\n",
            "Epoch 41/100\n",
            "1204/1204 - 4s - loss: 22931.7773 - accuracy: 0.0078\n",
            "Epoch 42/100\n",
            "1204/1204 - 4s - loss: 22667.9980 - accuracy: 0.0087\n",
            "Epoch 43/100\n",
            "1204/1204 - 4s - loss: 23023.9492 - accuracy: 0.0086\n",
            "Epoch 44/100\n",
            "1204/1204 - 4s - loss: 22654.2832 - accuracy: 0.0071\n",
            "Epoch 45/100\n",
            "1204/1204 - 4s - loss: 22526.4902 - accuracy: 0.0077\n",
            "Epoch 46/100\n",
            "1204/1204 - 4s - loss: 22206.1680 - accuracy: 0.0073\n",
            "Epoch 47/100\n",
            "1204/1204 - 5s - loss: 22312.6230 - accuracy: 0.0071\n",
            "Epoch 48/100\n",
            "1204/1204 - 4s - loss: 22152.0957 - accuracy: 0.0066\n",
            "Epoch 49/100\n",
            "1204/1204 - 4s - loss: 21662.9863 - accuracy: 0.0072\n",
            "Epoch 50/100\n",
            "1204/1204 - 5s - loss: 21642.6230 - accuracy: 0.0076\n",
            "Epoch 51/100\n",
            "1204/1204 - 4s - loss: 21665.2852 - accuracy: 0.0077\n",
            "Epoch 52/100\n",
            "1204/1204 - 4s - loss: 21533.0801 - accuracy: 0.0071\n",
            "Epoch 53/100\n",
            "1204/1204 - 5s - loss: 21496.1934 - accuracy: 0.0068\n",
            "Epoch 54/100\n",
            "1204/1204 - 5s - loss: 21179.0176 - accuracy: 0.0064\n",
            "Epoch 55/100\n",
            "1204/1204 - 4s - loss: 21312.9414 - accuracy: 0.0070\n",
            "Epoch 56/100\n",
            "1204/1204 - 4s - loss: 21062.1328 - accuracy: 0.0055\n",
            "Epoch 57/100\n",
            "1204/1204 - 4s - loss: 20934.1816 - accuracy: 0.0064\n",
            "Epoch 58/100\n",
            "1204/1204 - 4s - loss: 21394.2227 - accuracy: 0.0062\n",
            "Epoch 59/100\n",
            "1204/1204 - 5s - loss: 21140.2344 - accuracy: 0.0066\n",
            "Epoch 60/100\n",
            "1204/1204 - 4s - loss: 20792.8340 - accuracy: 0.0074\n",
            "Epoch 61/100\n",
            "1204/1204 - 5s - loss: 20770.0391 - accuracy: 0.0072\n",
            "Epoch 62/100\n",
            "1204/1204 - 4s - loss: 20588.5566 - accuracy: 0.0069\n",
            "Epoch 63/100\n",
            "1204/1204 - 4s - loss: 21032.4980 - accuracy: 0.0073\n",
            "Epoch 64/100\n",
            "1204/1204 - 5s - loss: 20661.7227 - accuracy: 0.0071\n",
            "Epoch 65/100\n",
            "1204/1204 - 5s - loss: 20110.9297 - accuracy: 0.0068\n",
            "Epoch 66/100\n",
            "1204/1204 - 5s - loss: 20717.9434 - accuracy: 0.0081\n",
            "Epoch 67/100\n",
            "1204/1204 - 4s - loss: 20219.0410 - accuracy: 0.0069\n",
            "Epoch 68/100\n",
            "1204/1204 - 4s - loss: 20096.8477 - accuracy: 0.0057\n",
            "Epoch 69/100\n",
            "1204/1204 - 4s - loss: 20296.5918 - accuracy: 0.0062\n",
            "Epoch 70/100\n",
            "1204/1204 - 4s - loss: 20502.1992 - accuracy: 0.0065\n",
            "Epoch 71/100\n",
            "1204/1204 - 4s - loss: 20125.3398 - accuracy: 0.0066\n",
            "Epoch 72/100\n",
            "1204/1204 - 4s - loss: 20278.6777 - accuracy: 0.0074\n",
            "Epoch 73/100\n",
            "1204/1204 - 4s - loss: 20376.0176 - accuracy: 0.0070\n",
            "Epoch 74/100\n",
            "1204/1204 - 4s - loss: 20526.5293 - accuracy: 0.0059\n",
            "Epoch 75/100\n",
            "1204/1204 - 4s - loss: 20830.4980 - accuracy: 0.0056\n",
            "Epoch 76/100\n",
            "1204/1204 - 4s - loss: 20953.8066 - accuracy: 0.0058\n",
            "Epoch 77/100\n",
            "1204/1204 - 4s - loss: 20626.2715 - accuracy: 0.0049\n",
            "Epoch 78/100\n",
            "1204/1204 - 4s - loss: 20554.3359 - accuracy: 0.0058\n",
            "Epoch 79/100\n",
            "1204/1204 - 4s - loss: 20403.5137 - accuracy: 0.0051\n",
            "Epoch 80/100\n",
            "1204/1204 - 5s - loss: 20328.8301 - accuracy: 0.0058\n",
            "Epoch 81/100\n",
            "1204/1204 - 4s - loss: 20037.7383 - accuracy: 0.0061\n",
            "Epoch 82/100\n",
            "1204/1204 - 5s - loss: 20161.1445 - accuracy: 0.0056\n",
            "Epoch 83/100\n",
            "1204/1204 - 5s - loss: 20094.6230 - accuracy: 0.0053\n",
            "Epoch 84/100\n",
            "1204/1204 - 4s - loss: 19874.2070 - accuracy: 0.0052\n",
            "Epoch 85/100\n",
            "1204/1204 - 4s - loss: 19730.9551 - accuracy: 0.0055\n",
            "Epoch 86/100\n",
            "1204/1204 - 4s - loss: 19960.7383 - accuracy: 0.0053\n",
            "Epoch 87/100\n",
            "1204/1204 - 5s - loss: 19894.2480 - accuracy: 0.0047\n",
            "Epoch 88/100\n",
            "1204/1204 - 5s - loss: 19693.5234 - accuracy: 0.0040\n",
            "Epoch 89/100\n",
            "1204/1204 - 4s - loss: 19893.4121 - accuracy: 0.0042\n",
            "Epoch 90/100\n",
            "1204/1204 - 4s - loss: 20336.3164 - accuracy: 0.0051\n",
            "Epoch 91/100\n",
            "1204/1204 - 5s - loss: 19995.7344 - accuracy: 0.0042\n",
            "Epoch 92/100\n",
            "1204/1204 - 4s - loss: 19863.5996 - accuracy: 0.0040\n",
            "Epoch 93/100\n",
            "1204/1204 - 5s - loss: 19636.9668 - accuracy: 0.0047\n",
            "Epoch 94/100\n",
            "1204/1204 - 5s - loss: 19488.6211 - accuracy: 0.0037\n",
            "Epoch 95/100\n",
            "1204/1204 - 5s - loss: 19555.8711 - accuracy: 0.0049\n",
            "Epoch 96/100\n",
            "1204/1204 - 5s - loss: 19507.6680 - accuracy: 0.0047\n",
            "Epoch 97/100\n",
            "1204/1204 - 5s - loss: 19285.4941 - accuracy: 0.0045\n",
            "Epoch 98/100\n",
            "1204/1204 - 5s - loss: 19418.4941 - accuracy: 0.0042\n",
            "Epoch 99/100\n",
            "1204/1204 - 5s - loss: 19339.4160 - accuracy: 0.0035\n",
            "Epoch 100/100\n",
            "1204/1204 - 4s - loss: 19399.0879 - accuracy: 0.0053\n"
          ],
          "name": "stdout"
        },
        {
          "output_type": "execute_result",
          "data": {
            "text/plain": [
              "<tensorflow.python.keras.callbacks.History at 0x7f8a1442cb50>"
            ]
          },
          "metadata": {
            "tags": []
          },
          "execution_count": 37
        }
      ]
    },
    {
      "cell_type": "code",
      "metadata": {
        "id": "28Ct9CZKrxqY"
      },
      "source": [
        "temp = np.array([i for i in range(0, 1804)])"
      ],
      "execution_count": null,
      "outputs": []
    },
    {
      "cell_type": "code",
      "metadata": {
        "id": "1K12kZ3krxqY"
      },
      "source": [
        "temp1 = np.array([44 for i in range(0, 1804)])"
      ],
      "execution_count": null,
      "outputs": []
    },
    {
      "cell_type": "code",
      "metadata": {
        "id": "RoImEsPVrxqZ"
      },
      "source": [
        "temp2 = np.array([1000 for i in range(0, 1804)])"
      ],
      "execution_count": null,
      "outputs": []
    },
    {
      "cell_type": "code",
      "metadata": {
        "id": "pnlsBnoMrxqZ"
      },
      "source": [
        "predict_data = np.stack((temp, temp1, temp2))"
      ],
      "execution_count": null,
      "outputs": []
    },
    {
      "cell_type": "code",
      "metadata": {
        "id": "2SKL7g6ErxqZ"
      },
      "source": [
        "predict_data = predict_data.transpose()"
      ],
      "execution_count": null,
      "outputs": []
    },
    {
      "cell_type": "code",
      "metadata": {
        "id": "lB2XFbrprxqZ"
      },
      "source": [
        "predict_df = pd.DataFrame(data=predict_data, columns=['poi_id', 'week_number','visits_concentration']).astype(np.float)"
      ],
      "execution_count": null,
      "outputs": []
    },
    {
      "cell_type": "code",
      "metadata": {
        "id": "jQp6Cm70rxqZ",
        "outputId": "c648a2da-9f5e-43f8-9e8a-23a4c877601e"
      },
      "source": [
        "print(predict_df)"
      ],
      "execution_count": null,
      "outputs": [
        {
          "output_type": "stream",
          "text": [
            "      poi_id  week_number  visits_concentration\n",
            "0        0.0         44.0                1000.0\n",
            "1        1.0         44.0                1000.0\n",
            "2        2.0         44.0                1000.0\n",
            "3        3.0         44.0                1000.0\n",
            "4        4.0         44.0                1000.0\n",
            "...      ...          ...                   ...\n",
            "1799  1799.0         44.0                1000.0\n",
            "1800  1800.0         44.0                1000.0\n",
            "1801  1801.0         44.0                1000.0\n",
            "1802  1802.0         44.0                1000.0\n",
            "1803  1803.0         44.0                1000.0\n",
            "\n",
            "[1804 rows x 3 columns]\n"
          ],
          "name": "stdout"
        }
      ]
    },
    {
      "cell_type": "code",
      "metadata": {
        "id": "QYwbWaLsrxqa"
      },
      "source": [
        "result = model.predict(predict_data)"
      ],
      "execution_count": null,
      "outputs": []
    },
    {
      "cell_type": "code",
      "metadata": {
        "id": "Ph6T3dvOrxqa",
        "outputId": "d1a01d77-495f-4ec4-ffcb-5ba6969d812f"
      },
      "source": [
        "result.to_csv(r'\\submission_prediction_output.csv', index = False)"
      ],
      "execution_count": null,
      "outputs": [
        {
          "output_type": "error",
          "ename": "AttributeError",
          "evalue": "'numpy.ndarray' object has no attribute 'to_csv'",
          "traceback": [
            "\u001b[0;31m---------------------------------------------------------------------------\u001b[0m",
            "\u001b[0;31mAttributeError\u001b[0m                            Traceback (most recent call last)",
            "\u001b[0;32m<ipython-input-112-ba8399e539fb>\u001b[0m in \u001b[0;36m<module>\u001b[0;34m\u001b[0m\n\u001b[0;32m----> 1\u001b[0;31m \u001b[0mresult\u001b[0m\u001b[0;34m.\u001b[0m\u001b[0mto_csv\u001b[0m\u001b[0;34m(\u001b[0m\u001b[0;34mr'\\submission_prediction_output.csv'\u001b[0m\u001b[0;34m,\u001b[0m \u001b[0mindex\u001b[0m \u001b[0;34m=\u001b[0m \u001b[0;32mFalse\u001b[0m\u001b[0;34m)\u001b[0m\u001b[0;34m\u001b[0m\u001b[0;34m\u001b[0m\u001b[0m\n\u001b[0m",
            "\u001b[0;31mAttributeError\u001b[0m: 'numpy.ndarray' object has no attribute 'to_csv'"
          ]
        }
      ]
    },
    {
      "cell_type": "code",
      "metadata": {
        "id": "wLnRTbMXrxqa"
      },
      "source": [],
      "execution_count": null,
      "outputs": []
    }
  ]
}